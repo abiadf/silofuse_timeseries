{
 "cells": [
  {
   "cell_type": "code",
   "execution_count": 1,
   "metadata": {
    "ExecuteTime": {
     "end_time": "2025-03-20T13:30:20.077373Z",
     "start_time": "2025-03-20T13:30:20.001071Z"
    }
   },
   "outputs": [
    {
     "name": "stderr",
     "output_type": "stream",
     "text": [
      "/home/fouadabiad/miniconda3/envs/silofuse_env/lib/python3.10/site-packages/tslearn/bases/bases.py:15: UserWarning: h5py not installed, hdf5 features will not be supported.\n",
      "Install h5py to use hdf5 features: http://docs.h5py.org/\n",
      "  warn(h5py_msg)\n"
     ]
    }
   ],
   "source": [
    "import os\n",
    "import sys\n",
    "import yaml\n",
    "sys.path.append(os.path.abspath('.')) # to run files that are away\n",
    "os.environ[\"WANDB_SILENT\"] = \"true\"  # Suppress WandB logs\n",
    "\n",
    "libraries = [\"torch\", \"numpy\", \"polars\"]\n",
    "modules   = {lib: sys.modules.get(lib) for lib in libraries}\n",
    "\n",
    "if not modules[\"torch\"]:\n",
    "    import torch\n",
    "if not modules[\"numpy\"]:\n",
    "    import numpy as np\n",
    "if not modules[\"polars\"]:\n",
    "    import polars as pl\n",
    "\n",
    "import matplotlib.pyplot as plt\n",
    "import pandas as pd\n",
    "from sklearn.preprocessing import MinMaxScaler\n",
    "from torch.utils.data import DataLoader, TensorDataset, random_split\n",
    "\n",
    "from utils import compute_reconstruction_loss\n",
    "\n"
   ]
  },
  {
   "cell_type": "code",
   "execution_count": 2,
   "metadata": {},
   "outputs": [
    {
     "name": "stdout",
     "output_type": "stream",
     "text": [
      "(19735, 28)\n"
     ]
    }
   ],
   "source": [
    "\"\"\"Loading the data\"\"\"\n",
    "\n",
    "with open('params.yaml', 'r') as file:\n",
    "    yaml_config = yaml.safe_load(file)\n",
    "\n",
    "data_file  = f\"./datasets/{yaml_config['dataset']['filename']}\"\n",
    "df         = pd.read_csv(data_file)\n",
    "\n",
    "X_scaled   = MinMaxScaler().fit_transform(df.values)\n",
    "print(X_scaled.shape)\n",
    "X_tensor   = torch.tensor(X_scaled, dtype=torch.float32)\n",
    "# X_tensor_reshaped = X_tensor.transpose(0, 1)\n",
    "# dataset    = TensorDataset(X_tensor_reshaped, X_tensor_reshaped)\n",
    "dataset    = TensorDataset(X_tensor, X_tensor)  # Autoencoder reconstructs the input\n",
    "\n",
    "num_time_series = len(dataset)\n",
    "# train_size = int(yaml_config['dataset']['train_valid_split'] * len(df))\n",
    "train_size = int(yaml_config['dataset']['train_valid_split'] * num_time_series)\n",
    "# valid_size = len(df) - train_size\n",
    "valid_size = num_time_series - train_size\n",
    "train_dataset, val_dataset = random_split(dataset, [train_size, valid_size])\n"
   ]
  },
  {
   "cell_type": "code",
   "execution_count": 3,
   "metadata": {},
   "outputs": [
    {
     "name": "stdout",
     "output_type": "stream",
     "text": [
      "Using device: cuda\n",
      "Using device from module: cuda\n",
      "Epoch [1/30], training loss: 0.1166\n",
      "Validation loss: 0.0217\n",
      "Epoch [2/30], training loss: 0.0408\n",
      "Validation loss: 0.0069\n",
      "Epoch [3/30], training loss: 0.0211\n",
      "Validation loss: 0.0030\n",
      "Epoch [4/30], training loss: 0.0129\n",
      "Validation loss: 0.0015\n",
      "Epoch [5/30], training loss: 0.0085\n",
      "Validation loss: 0.0009\n",
      "Epoch [6/30], training loss: 0.0057\n",
      "Validation loss: 0.0006\n",
      "Epoch [7/30], training loss: 0.0040\n",
      "Validation loss: 0.0004\n",
      "Epoch [8/30], training loss: 0.0026\n",
      "Validation loss: 0.0002\n",
      "Epoch [9/30], training loss: 0.0018\n",
      "Validation loss: 0.0001\n",
      "Epoch [10/30], training loss: 0.0012\n",
      "Validation loss: 0.0001\n",
      "Epoch [11/30], training loss: 0.0008\n",
      "Validation loss: 0.0001\n",
      "Epoch [12/30], training loss: 0.0005\n",
      "Validation loss: 0.0000\n",
      "Epoch [13/30], training loss: 0.0003\n",
      "Validation loss: 0.0000\n",
      "Epoch [14/30], training loss: 0.0002\n",
      "Validation loss: 0.0000\n",
      "Epoch [15/30], training loss: 0.0001\n",
      "Validation loss: 0.0000\n",
      "Epoch [16/30], training loss: 0.0001\n",
      "Validation loss: 0.0000\n",
      "Epoch [17/30], training loss: 0.0000\n",
      "Validation loss: 0.0000\n",
      "Epoch [18/30], training loss: 0.0000\n",
      "Validation loss: 0.0000\n",
      "Epoch [19/30], training loss: 0.0000\n",
      "Validation loss: 0.0000\n",
      "Epoch [20/30], training loss: 0.0000\n",
      "Validation loss: 0.0000\n",
      "Epoch [21/30], training loss: 0.0000\n",
      "Validation loss: 0.0000\n",
      "Epoch [22/30], training loss: 0.0000\n",
      "Validation loss: 0.0000\n",
      "Epoch [23/30], training loss: 0.0000\n",
      "Validation loss: 0.0000\n",
      "Epoch [24/30], training loss: 0.0000\n",
      "Validation loss: 0.0000\n",
      "Epoch [25/30], training loss: 0.0000\n",
      "Validation loss: 0.0000\n",
      "Epoch [26/30], training loss: 0.0000\n",
      "Validation loss: 0.0000\n",
      "Epoch [27/30], training loss: 0.0000\n",
      "Validation loss: 0.0000\n",
      "Epoch [28/30], training loss: 0.0000\n",
      "Validation loss: 0.0000\n",
      "Epoch [29/30], training loss: 0.0000\n",
      "Validation loss: 0.0000\n",
      "Epoch [30/30], training loss: 0.0000\n",
      "Validation loss: 0.0000\n"
     ]
    }
   ],
   "source": [
    "\"\"\"Autoencoder training\"\"\"\n",
    "\n",
    "import autoencoder as ae\n",
    "\n",
    "hidden_dim        = yaml_config['autoencoder_design']['hidden_dim']\n",
    "encoding_dim      = yaml_config['autoencoder_design']['encoding_dim']\n",
    "latent_dim        = yaml_config['autoencoder_design']['latent_dim']\n",
    "dropout_prob      = yaml_config['autoencoder_design']['dropout_prob']\n",
    "training_epochs   = yaml_config['autoencoder_training']['training_epochs']\n",
    "batch_size        = yaml_config['autoencoder_training']['batch_size']\n",
    "optimizer_lr      = yaml_config['autoencoder_training']['optimizer_lr']\n",
    "weight_decay      = yaml_config['autoencoder_training']['weight_decay']\n",
    "training_patience = yaml_config['autoencoder_training']['training_patience']\n",
    "scheduler_patience= yaml_config['autoencoder_training']['scheduler_patience']\n",
    "scheduler_mode    = yaml_config['autoencoder_training']['scheduler_mode']\n",
    "scheduler_factor  = yaml_config['autoencoder_training']['scheduler_factor']\n",
    "\n",
    "device = ae.device\n",
    "print(f\"Using device from module: {device}\")\n",
    "\n",
    "# Create DataLoader objects for train and validation datasets\n",
    "input_size   = X_scaled.shape[1]\n",
    "train_loader = DataLoader(train_dataset, batch_size=batch_size, shuffle=True)\n",
    "val_loader   = DataLoader(val_dataset, batch_size=batch_size, shuffle=False)\n",
    "\n",
    "autoencoder  = ae.Autoencoder(input_size, hidden_dim, encoding_dim, latent_dim, dropout_prob)\n",
    "optimizer    = torch.optim.AdamW(autoencoder.parameters(), lr=optimizer_lr, weight_decay=weight_decay)\n",
    "scheduler    = torch.optim.lr_scheduler.ReduceLROnPlateau(optimizer, scheduler_mode, patience=scheduler_patience, factor=scheduler_factor)\n",
    "\n",
    "ae.train_autoencoder(device, autoencoder, training_epochs, train_loader, optimizer, scheduler,\n",
    "                     validation_loader=val_loader, patience = training_patience)\n"
   ]
  },
  {
   "cell_type": "code",
   "execution_count": 4,
   "metadata": {},
   "outputs": [
    {
     "data": {
      "text/plain": [
       "[<matplotlib.lines.Line2D at 0x76d29da89e10>]"
      ]
     },
     "execution_count": 4,
     "metadata": {},
     "output_type": "execute_result"
    },
    {
     "data": {
      "image/png": "[encoded data removed]",
      "text/plain": [
       "<Figure size 640x480 with 1 Axes>"
      ]
     },
     "metadata": {},
     "output_type": "display_data"
    }
   ],
   "source": [
    "\"\"\"Run AE on dataset for reconstruction, anomaly detection, feature extraction, classification\"\"\"\n",
    "\n",
    "autoencoder.eval()\n",
    "autoencoder.to(device)\n",
    "\n",
    "with torch.no_grad():\n",
    "    X_input = X_tensor.to(device)\n",
    "    X_reconstructed = autoencoder(X_input).cpu().numpy()\n",
    "\n",
    "variate_to_plot = 9\n",
    "plt.plot(X_scaled[:300, variate_to_plot])\n",
    "plt.plot(X_reconstructed[:300, variate_to_plot])\n"
   ]
  },
  {
   "cell_type": "code",
   "execution_count": 5,
   "metadata": {},
   "outputs": [
    {
     "data": {
      "text/plain": [
       "'Evaluate AE reconstruction'"
      ]
     },
     "execution_count": 5,
     "metadata": {},
     "output_type": "execute_result"
    }
   ],
   "source": [
    "\"\"\"Evaluate AE reconstruction\"\"\"\n",
    "\n",
    "# from utils import evaluate_and_plot_autoencoder_metrics\n",
    "\n",
    "# should_we_plot = 1\n",
    "# ks_stats, wasserstein_dists, real_acfs, generated_acfs, dtw_distances = evaluate_and_plot_autoencoder_metrics(X_scaled, X_reconstructed, should_we_plot)\n",
    "\n"
   ]
  },
  {
   "cell_type": "code",
   "execution_count": null,
   "metadata": {},
   "outputs": [
    {
     "name": "stdout",
     "output_type": "stream",
     "text": [
      "Using device: cuda\n",
      "Using device from module: cuda\n",
      "conv_block: in_channels = 28, out_channels = 64\n",
      "conv_block: in_channels = 64, out_channels = 128\n",
      "conv_block: in_channels = 128, out_channels = 256\n",
      "conv_block: in_channels = 256, out_channels = 256\n",
      "conv_block: in_channels = 256, out_channels = 128\n",
      "conv_block: in_channels = 128, out_channels = 64\n",
      "Epoch [1/100], loss: 0.8318, Validation loss: 0.7563\n",
      "Epoch [2/100], loss: 0.7573, Validation loss: 0.7293\n",
      "Epoch [3/100], loss: 0.7393, Validation loss: 0.7283\n",
      "Epoch [4/100], loss: 0.7293, Validation loss: 0.7188\n",
      "Epoch [5/100], loss: 0.7198, Validation loss: 0.6993\n",
      "Epoch [6/100], loss: 0.7134, Validation loss: 0.7069\n",
      "Epoch [7/100], loss: 0.7111, Validation loss: 0.6997\n",
      "Epoch [8/100], loss: 0.7113, Validation loss: 0.7059\n",
      "Epoch [9/100], loss: 0.7099, Validation loss: 0.6939\n",
      "Epoch [10/100], loss: 0.7081, Validation loss: 0.6920\n",
      "Epoch [11/100], loss: 0.7093, Validation loss: 0.6875\n",
      "Epoch [12/100], loss: 0.7066, Validation loss: 0.6832\n",
      "Epoch [13/100], loss: 0.7031, Validation loss: 0.6943\n",
      "Epoch [14/100], loss: 0.7032, Validation loss: 0.6830\n",
      "Epoch [15/100], loss: 0.7009, Validation loss: 0.6775\n",
      "Epoch [16/100], loss: 0.6992, Validation loss: 0.6753\n",
      "Epoch [17/100], loss: 0.6945, Validation loss: 0.6691\n",
      "Epoch [18/100], loss: 0.6903, Validation loss: 0.6687\n",
      "Epoch [19/100], loss: 0.6860, Validation loss: 0.6569\n",
      "Epoch [20/100], loss: 0.6876, Validation loss: 0.6693\n",
      "Epoch [21/100], loss: 0.6842, Validation loss: 0.6659\n",
      "Epoch [22/100], loss: 0.6840, Validation loss: 0.6626\n",
      "Epoch [23/100], loss: 0.6843, Validation loss: 0.6559\n",
      "Epoch [24/100], loss: 0.6824, Validation loss: 0.6644\n",
      "Epoch [25/100], loss: 0.6829, Validation loss: 0.6600\n",
      "Epoch [26/100], loss: 0.6835, Validation loss: 0.6609\n",
      "Epoch [27/100], loss: 0.6811, Validation loss: 0.6612\n",
      "Epoch [28/100], loss: 0.6809, Validation loss: 0.6532\n",
      "Epoch [29/100], loss: 0.6766, Validation loss: 0.6537\n",
      "Epoch [30/100], loss: 0.6766, Validation loss: 0.6493\n",
      "Epoch [31/100], loss: 0.6756, Validation loss: 0.6557\n",
      "Epoch [32/100], loss: 0.6751, Validation loss: 0.6515\n",
      "Epoch [33/100], loss: 0.6739, Validation loss: 0.6582\n",
      "Epoch [34/100], loss: 0.6736, Validation loss: 0.6658\n",
      "Epoch [35/100], loss: 0.6717, Validation loss: 0.6542\n",
      "Epoch [36/100], loss: 0.6716, Validation loss: 0.6513\n",
      "Epoch [37/100], loss: 0.6705, Validation loss: 0.6526\n",
      "Epoch [38/100], loss: 0.6700, Validation loss: 0.6566\n",
      "Epoch [39/100], loss: 0.6695, Validation loss: 0.6513\n",
      "Epoch [40/100], loss: 0.6676, Validation loss: 0.6639\n",
      "Early stopping triggered!\n"
     ]
    }
   ],
   "source": [
    "\"\"\"Diffusion training\"\"\"\n",
    "\n",
    "import diffusion_model as diff\n",
    "from diffusion_model import Diffusion\n",
    "from torch.utils.data import Dataset, DataLoader\n",
    "\n",
    "diff_steps        = yaml_config['diffusion_design']['diff_steps']\n",
    "cos_start_offset  = yaml_config['noise_scheduler']['cos_start_offset']\n",
    "noise_profile     = yaml_config['noise_scheduler']['noise_profile']\n",
    "start_noise_val   = yaml_config['noise_scheduler']['start_noise_val']\n",
    "end_noise_val     = yaml_config['noise_scheduler']['end_noise_val']\n",
    "train_epochs      = yaml_config['diffusion_training']['train_epochs']\n",
    "training_patience = yaml_config['diffusion_training']['training_patience']\n",
    "optimizer_lr      = yaml_config['diffusion_training']['optimizer_lr']\n",
    "weight_decay      = yaml_config['diffusion_training']['weight_decay']\n",
    "scheduler_patience= yaml_config['diffusion_training']['scheduler_patience']\n",
    "scheduler_mode    = yaml_config['diffusion_training']['scheduler_mode']\n",
    "scheduler_factor  = yaml_config['diffusion_training']['scheduler_factor']\n",
    "dropout_prob      = yaml_config['Unet_design']['dropout_prob']\n",
    "base_channels     = yaml_config['Unet_design']['base_channels']\n",
    "embedding_dim     = yaml_config['Unet_design']['embedding_dim']\n",
    "\n",
    "device = diff.device\n",
    "print(f\"Using device from module: {device}\")\n",
    "\n",
    "sequence_length = 1231 #what is this?\n",
    "\n",
    "class TimeSeriesDataset(Dataset):\n",
    "    def __init__(self, data, sequence_length):\n",
    "        self.data = torch.tensor(data, dtype=torch.float32)\n",
    "        self.sequence_length = sequence_length\n",
    "        self.num_sequences = len(data) - sequence_length\n",
    "\n",
    "    def __len__(self):\n",
    "        return self.num_sequences\n",
    "\n",
    "    def __getitem__(self, idx):\n",
    "        start_idx = idx\n",
    "        end_idx = start_idx + self.sequence_length\n",
    "        segment = self.data[start_idx:end_idx].T  # Shape: (features, sequence_length)\n",
    "        return segment\n",
    "\n",
    "train_dataset_diffusion = TimeSeriesDataset(X_scaled[:train_size], sequence_length)\n",
    "train_loader_diffusion  = DataLoader(train_dataset_diffusion, batch_size=batch_size, shuffle=True, drop_last=True)\n",
    "\n",
    "val_dataset_diffusion = TimeSeriesDataset(X_scaled[train_size:], sequence_length)\n",
    "val_loader_diffusion  = DataLoader(val_dataset_diffusion, batch_size=batch_size, shuffle=False, drop_last=True)\n",
    "\n",
    "betas = Diffusion.get_noise_schedule(start_val=start_noise_val, end_val=end_noise_val, diff_steps=diff_steps,\n",
    "                                cos_start_offset=cos_start_offset, noise_profile=noise_profile)\n",
    "# diffusion_model = diff.UNet(X_scaled.shape[1], dropout_prob, base_channels) # in_channels = num_features\n",
    "# diffusion_model = diff.UNet(X_scaled.shape[1], dropout_prob, embedding_dim=128) # Explicitly set embedding_dim\n",
    "diffusion_model = diff.UNet(X_scaled.shape[1], dropout_prob, embedding_dim=embedding_dim, base_channels=base_channels)\n",
    "\n",
    "optimizer       = torch.optim.AdamW(diffusion_model.parameters(), lr=optimizer_lr, weight_decay=weight_decay)\n",
    "scheduler       = torch.optim.lr_scheduler.CosineAnnealingLR(optimizer, T_max=train_epochs)\n",
    "\n",
    "diff.train_diffusion(device, diffusion_model, train_loader_diffusion, optimizer, scheduler, betas,\n",
    "                     diff_steps, train_epochs, val_loader_diffusion, training_patience)\n"
   ]
  },
  {
   "cell_type": "code",
   "execution_count": 7,
   "metadata": {},
   "outputs": [
    {
     "name": "stderr",
     "output_type": "stream",
     "text": [
      "/home/fouadabiad/projects/silofuse_timeseries/diffusion_model.py:41: UserWarning: To copy construct from a tensor, it is recommended to use sourceTensor.detach().clone() or sourceTensor.detach().clone().requires_grad_(True), rather than torch.tensor(sourceTensor).\n",
      "  betas      = torch.tensor(betas, device=x_t.device)\n"
     ]
    },
    {
     "name": "stdout",
     "output_type": "stream",
     "text": [
      "Generated samples shape: torch.Size([1, 28, 128])\n"
     ]
    },
    {
     "data": {
      "text/plain": [
       "torch.Size([1, 28, 128])"
      ]
     },
     "execution_count": 7,
     "metadata": {},
     "output_type": "execute_result"
    }
   ],
   "source": [
    "\"\"\"Generate new samples from diffusion\"\"\"\n",
    "\n",
    "diffusion_model.eval()\n",
    "diffusion_model.to(device)\n",
    "\n",
    "with torch.no_grad():\n",
    "    sample_shape      = (1, X_scaled.shape[1], 128)\n",
    "    generated_samples = diff.sample_new_data(diffusion_model, betas, diff_steps, sample_shape)\n",
    "    print(f\"Generated samples shape: {generated_samples.shape}\")\n",
    "\n",
    "    generated_array = generated_samples.cpu().squeeze(0).numpy() # Move to CPU then convert to NumPy\n",
    "    num_features    = generated_array.shape[0]\n",
    "    time_steps      = generated_array.shape[1]\n",
    "\n",
    "generated_samples.shape"
   ]
  },
  {
   "cell_type": "code",
   "execution_count": 8,
   "metadata": {},
   "outputs": [
    {
     "ename": "TypeError",
     "evalue": "UNet.forward() missing 1 required positional argument: 't'",
     "output_type": "error",
     "traceback": [
      "\u001b[0;31m---------------------------------------------------------------------------\u001b[0m",
      "\u001b[0;31mTypeError\u001b[0m                                 Traceback (most recent call last)",
      "Cell \u001b[0;32mIn[8], line 12\u001b[0m\n\u001b[1;32m      9\u001b[0m     latent \u001b[38;5;241m=\u001b[39m ae\u001b[38;5;241m.\u001b[39mAutoencoder\u001b[38;5;241m.\u001b[39mencode_to_latent\n\u001b[1;32m     10\u001b[0m     latents\u001b[38;5;241m.\u001b[39mappend(latent)\n\u001b[0;32m---> 12\u001b[0m synth_latents \u001b[38;5;241m=\u001b[39m \u001b[43mdiffusion_model\u001b[49m\u001b[38;5;241;43m.\u001b[39;49m\u001b[43mforward\u001b[49m\u001b[43m(\u001b[49m\u001b[43mlatents\u001b[49m\u001b[43m)\u001b[49m\n\u001b[1;32m     13\u001b[0m synth_client_latents \u001b[38;5;241m=\u001b[39m split(synth_latents)\n\u001b[1;32m     15\u001b[0m \u001b[38;5;28;01mfor\u001b[39;00m latent_data \u001b[38;5;129;01min\u001b[39;00m synth_latents:\n",
      "\u001b[0;31mTypeError\u001b[0m: UNet.forward() missing 1 required positional argument: 't'"
     ]
    }
   ],
   "source": [
    "\"\"\"Making LDM\"\"\"\n",
    "\n",
    "# Silofuse\n",
    "num_clients = 3\n",
    "clients_data= [X_scaled[:,1], X_scaled[:,2], X_scaled[:,3]]\n",
    "\n",
    "latents = []\n",
    "for data in clients_data:\n",
    "    latent = ae.Autoencoder.encode_to_latent\n",
    "    latents.append(latent)\n",
    "\n",
    "synth_latents = diffusion_model.forward(latents)\n",
    "synth_client_latents = split(synth_latents)\n",
    "\n",
    "for latent_data in synth_latents:\n",
    "    synth_data = ae.Autoencoder.decode_from_latent(latent_data)\n",
    "\n"
   ]
  }
 ],
 "metadata": {
  "kernelspec": {
   "display_name": "silofuse_env",
   "language": "python",
   "name": "python3"
  },
  "language_info": {
   "codemirror_mode": {
    "name": "ipython",
    "version": 3
   },
   "file_extension": ".py",
   "mimetype": "text/x-python",
   "name": "python",
   "nbconvert_exporter": "python",
   "pygments_lexer": "ipython3",
   "version": "3.10.11"
  }
 },
 "nbformat": 4,
 "nbformat_minor": 4
}

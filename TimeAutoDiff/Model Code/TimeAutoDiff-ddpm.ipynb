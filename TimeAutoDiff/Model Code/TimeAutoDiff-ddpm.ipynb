{
 "cells": [
  {
   "cell_type": "code",
   "execution_count": 1,
   "id": "7babac4d",
   "metadata": {},
   "outputs": [],
   "source": [
    "import itertools\n",
    "import torch\n",
    "import matplotlib.pyplot as plt\n",
    "import numpy as np\n",
    "import pandas as pd\n",
    "import DP as dp\n",
    "import parameters as param\n",
    "import process_edited as pce\n",
    "import timeautoencoder as tae\n",
    "import timediffusion as tdf\n"
   ]
  },
  {
   "cell_type": "code",
   "execution_count": 2,
   "id": "99cf5330",
   "metadata": {},
   "outputs": [
    {
     "name": "stdout",
     "output_type": "stream",
     "text": [
      "/Users/fouadabiad/Projects/TimeAutoDiff/Dataset/Single-Sequence/Hurricane.csv\n"
     ]
    },
    {
     "name": "stderr",
     "output_type": "stream",
     "text": [
      "/Users/fouadabiad/Projects/TimeAutoDiff/Model Code/DP.py:150: UserWarning: Creating a tensor from a list of numpy.ndarrays is extremely slow. Please consider converting the list to a single numpy.ndarray with numpy.array() before converting to a tensor. (Triggered internally at /Users/runner/work/pytorch/pytorch/pytorch/torch/csrc/utils/tensor_new.cpp:257.)\n",
      "  data = torch.tensor(temp_data)\n"
     ]
    },
    {
     "data": {
      "application/vnd.jupyter.widget-view+json": {
       "model_id": "af6596db00cf4951a75296b7a7f30922",
       "version_major": 2,
       "version_minor": 0
      },
      "text/plain": [
       "Output()"
      ]
     },
     "metadata": {},
     "output_type": "display_data"
    },
    {
     "data": {
      "text/html": [
       "<pre style=\"white-space:pre;overflow-x:auto;line-height:normal;font-family:Menlo,'DejaVu Sans Mono',consolas,'Courier New',monospace\"></pre>\n"
      ],
      "text/plain": []
     },
     "metadata": {},
     "output_type": "display_data"
    }
   ],
   "source": [
    "data     = 'Hurricane'\n",
    "filename = f'/Users/fouadabiad/Projects/TimeAutoDiff/Dataset/Single-Sequence/Hurricane.csv'\n",
    "\n",
    "# Read dataframe\n",
    "print(filename)\n",
    "real_df  = pd.read_csv(filename)\n",
    "real_df1 = real_df.drop('date', axis=1).iloc[0:2000,:]\n",
    "real_df2 = real_df.iloc[0:2000,:]\n",
    "\n",
    "# Pre-processing Data\n",
    "threshold = 1\n",
    "device    = torch.device('cuda' if torch.cuda.is_available() else 'cpu')\n",
    "column_to_partition = 'Symbol'\n",
    "#processed_data, time_info = dp.partition_multi_seq(real_df, threshold, column_to_partition);\n",
    "\n",
    "processed_data= dp.splitData(real_df1, 24, threshold)\n",
    "time_info     = dp.splitTimeData(real_df2, processed_data.shape[1]).to(device)\n",
    "\n",
    "\n",
    "# commented out the following to make room for hyperparameter search\n",
    "# Auto-encoder Training\n",
    "n_epochs    = param.n_epochs\n",
    "eps         = param.eps\n",
    "weight_decay= param.weight_decay\n",
    "lr          = param.lr\n",
    "hidden_size = param.hidden_size\n",
    "num_layers  = param.num_layers\n",
    "batch_size  = param.batch_size\n",
    "channels    = param.channels\n",
    "min_beta    = param.min_beta\n",
    "max_beta    = param.max_beta\n",
    "emb_dim     = param.emb_dim\n",
    "time_dim    = param.time_dim\n",
    "lat_dim     = param.lat_dim\n",
    "seq_col     = param.seq_col\n",
    "\n",
    "# real_df1 = real_df1.drop(column_to_partition, axis=1)\n",
    "\n",
    "# ds = tae.train_autoencoder(real_df1, processed_data, time_info.to(device), channels, hidden_size, num_layers, lr, weight_decay, n_epochs, \\\n",
    "#                            batch_size, threshold,  min_beta, max_beta, emb_dim, time_dim, lat_dim, device)\n",
    "\n",
    "ds = tae.train_autoencoder(real_df1, processed_data, channels, hidden_size, num_layers, lr, weight_decay, n_epochs, batch_size, threshold, \\\n",
    "                           min_beta, max_beta, emb_dim, time_dim, lat_dim, device)\n"
   ]
  },
  {
   "cell_type": "code",
   "execution_count": null,
   "id": "447730a1",
   "metadata": {},
   "outputs": [
    {
     "data": {
      "application/vnd.jupyter.widget-view+json": {
       "model_id": "4f1c9c5494a942f9b2353e31148ea073",
       "version_major": 2,
       "version_minor": 0
      },
      "text/plain": [
       "Output()"
      ]
     },
     "metadata": {},
     "output_type": "display_data"
    },
    {
     "name": "stdout",
     "output_type": "stream",
     "text": [
      "\n",
      "============================== Running Trial 1/288 ==============================\n",
      "Current Parameter Combination: lat_dim: 5, hidden_size: 150, lr: 0.0001, num_layers: 1, emb_dim: 64, weight_decay: 1e-06, batch_size: 32\n"
     ]
    },
    {
     "data": {
      "text/html": [
       "<pre style=\"white-space:pre;overflow-x:auto;line-height:normal;font-family:Menlo,'DejaVu Sans Mono',consolas,'Courier New',monospace\"></pre>\n"
      ],
      "text/plain": []
     },
     "metadata": {},
     "output_type": "display_data"
    },
    {
     "data": {
      "application/vnd.jupyter.widget-view+json": {
       "model_id": "89fa525ea3034108bf63390a6d7e5483",
       "version_major": 2,
       "version_minor": 0
      },
      "text/plain": [
       "Output()"
      ]
     },
     "metadata": {},
     "output_type": "display_data"
    },
    {
     "name": "stdout",
     "output_type": "stream",
     "text": [
      "Trial 1 finished. Final Reconstruction Loss: 0.8827\n",
      "\n",
      "============================== Running Trial 2/288 ==============================\n",
      "Current Parameter Combination: lat_dim: 5, hidden_size: 150, lr: 0.0001, num_layers: 1, emb_dim: 64, weight_decay: 1e-06, batch_size: 50\n"
     ]
    },
    {
     "data": {
      "text/html": [
       "<pre style=\"white-space:pre;overflow-x:auto;line-height:normal;font-family:Menlo,'DejaVu Sans Mono',consolas,'Courier New',monospace\"></pre>\n"
      ],
      "text/plain": []
     },
     "metadata": {},
     "output_type": "display_data"
    },
    {
     "data": {
      "application/vnd.jupyter.widget-view+json": {
       "model_id": "09f7ad745c1f4b1cab2e4fe3f2b8fbd4",
       "version_major": 2,
       "version_minor": 0
      },
      "text/plain": [
       "Output()"
      ]
     },
     "metadata": {},
     "output_type": "display_data"
    },
    {
     "name": "stdout",
     "output_type": "stream",
     "text": [
      "Trial 2 finished. Final Reconstruction Loss: 0.5619\n",
      "\n",
      "============================== Running Trial 3/288 ==============================\n",
      "Current Parameter Combination: lat_dim: 5, hidden_size: 150, lr: 0.0001, num_layers: 1, emb_dim: 64, weight_decay: 1e-05, batch_size: 32\n"
     ]
    },
    {
     "data": {
      "text/html": [
       "<pre style=\"white-space:pre;overflow-x:auto;line-height:normal;font-family:Menlo,'DejaVu Sans Mono',consolas,'Courier New',monospace\"></pre>\n"
      ],
      "text/plain": []
     },
     "metadata": {},
     "output_type": "display_data"
    },
    {
     "data": {
      "application/vnd.jupyter.widget-view+json": {
       "model_id": "42d748805f4d4a46bc2efc6b5c085944",
       "version_major": 2,
       "version_minor": 0
      },
      "text/plain": [
       "Output()"
      ]
     },
     "metadata": {},
     "output_type": "display_data"
    },
    {
     "name": "stdout",
     "output_type": "stream",
     "text": [
      "Trial 3 finished. Final Reconstruction Loss: 1.0074\n",
      "\n",
      "============================== Running Trial 4/288 ==============================\n",
      "Current Parameter Combination: lat_dim: 5, hidden_size: 150, lr: 0.0001, num_layers: 1, emb_dim: 64, weight_decay: 1e-05, batch_size: 50\n"
     ]
    },
    {
     "data": {
      "text/html": [
       "<pre style=\"white-space:pre;overflow-x:auto;line-height:normal;font-family:Menlo,'DejaVu Sans Mono',consolas,'Courier New',monospace\"></pre>\n"
      ],
      "text/plain": []
     },
     "metadata": {},
     "output_type": "display_data"
    },
    {
     "data": {
      "application/vnd.jupyter.widget-view+json": {
       "model_id": "30002bb670ba497f911e831dbc351705",
       "version_major": 2,
       "version_minor": 0
      },
      "text/plain": [
       "Output()"
      ]
     },
     "metadata": {},
     "output_type": "display_data"
    },
    {
     "name": "stdout",
     "output_type": "stream",
     "text": [
      "Trial 4 finished. Final Reconstruction Loss: 1.0033\n",
      "\n",
      "============================== Running Trial 5/288 ==============================\n",
      "Current Parameter Combination: lat_dim: 5, hidden_size: 150, lr: 0.0001, num_layers: 1, emb_dim: 128, weight_decay: 1e-06, batch_size: 32\n"
     ]
    },
    {
     "data": {
      "text/html": [
       "<pre style=\"white-space:pre;overflow-x:auto;line-height:normal;font-family:Menlo,'DejaVu Sans Mono',consolas,'Courier New',monospace\"></pre>\n"
      ],
      "text/plain": []
     },
     "metadata": {},
     "output_type": "display_data"
    },
    {
     "data": {
      "application/vnd.jupyter.widget-view+json": {
       "model_id": "c225894130d8437daf6b758cf6963760",
       "version_major": 2,
       "version_minor": 0
      },
      "text/plain": [
       "Output()"
      ]
     },
     "metadata": {},
     "output_type": "display_data"
    },
    {
     "name": "stdout",
     "output_type": "stream",
     "text": [
      "Trial 5 finished. Final Reconstruction Loss: 0.7371\n",
      "\n",
      "============================== Running Trial 6/288 ==============================\n",
      "Current Parameter Combination: lat_dim: 5, hidden_size: 150, lr: 0.0001, num_layers: 1, emb_dim: 128, weight_decay: 1e-06, batch_size: 50\n"
     ]
    },
    {
     "data": {
      "text/html": [
       "<pre style=\"white-space:pre;overflow-x:auto;line-height:normal;font-family:Menlo,'DejaVu Sans Mono',consolas,'Courier New',monospace\"></pre>\n"
      ],
      "text/plain": []
     },
     "metadata": {},
     "output_type": "display_data"
    },
    {
     "data": {
      "application/vnd.jupyter.widget-view+json": {
       "model_id": "91d2ee0bc0854dd09c311d6bb2ad996d",
       "version_major": 2,
       "version_minor": 0
      },
      "text/plain": [
       "Output()"
      ]
     },
     "metadata": {},
     "output_type": "display_data"
    },
    {
     "name": "stdout",
     "output_type": "stream",
     "text": [
      "Trial 6 finished. Final Reconstruction Loss: 0.6432\n",
      "\n",
      "============================== Running Trial 7/288 ==============================\n",
      "Current Parameter Combination: lat_dim: 5, hidden_size: 150, lr: 0.0001, num_layers: 1, emb_dim: 128, weight_decay: 1e-05, batch_size: 32\n"
     ]
    },
    {
     "data": {
      "text/html": [
       "<pre style=\"white-space:pre;overflow-x:auto;line-height:normal;font-family:Menlo,'DejaVu Sans Mono',consolas,'Courier New',monospace\"></pre>\n"
      ],
      "text/plain": []
     },
     "metadata": {},
     "output_type": "display_data"
    },
    {
     "data": {
      "application/vnd.jupyter.widget-view+json": {
       "model_id": "b7b64f736c5448a8b562e9ac575531b9",
       "version_major": 2,
       "version_minor": 0
      },
      "text/plain": [
       "Output()"
      ]
     },
     "metadata": {},
     "output_type": "display_data"
    },
    {
     "name": "stdout",
     "output_type": "stream",
     "text": [
      "Trial 7 finished. Final Reconstruction Loss: 0.6576\n",
      "\n",
      "============================== Running Trial 8/288 ==============================\n",
      "Current Parameter Combination: lat_dim: 5, hidden_size: 150, lr: 0.0001, num_layers: 1, emb_dim: 128, weight_decay: 1e-05, batch_size: 50\n"
     ]
    },
    {
     "data": {
      "text/html": [
       "<pre style=\"white-space:pre;overflow-x:auto;line-height:normal;font-family:Menlo,'DejaVu Sans Mono',consolas,'Courier New',monospace\"></pre>\n"
      ],
      "text/plain": []
     },
     "metadata": {},
     "output_type": "display_data"
    },
    {
     "data": {
      "application/vnd.jupyter.widget-view+json": {
       "model_id": "3b8624e43aec45fb99f0b6b4c7a0d8ee",
       "version_major": 2,
       "version_minor": 0
      },
      "text/plain": [
       "Output()"
      ]
     },
     "metadata": {},
     "output_type": "display_data"
    },
    {
     "name": "stdout",
     "output_type": "stream",
     "text": [
      "Trial 8 finished. Final Reconstruction Loss: 0.9042\n",
      "\n",
      "============================== Running Trial 9/288 ==============================\n",
      "Current Parameter Combination: lat_dim: 5, hidden_size: 150, lr: 0.0001, num_layers: 2, emb_dim: 64, weight_decay: 1e-06, batch_size: 32\n"
     ]
    },
    {
     "data": {
      "text/html": [
       "<pre style=\"white-space:pre;overflow-x:auto;line-height:normal;font-family:Menlo,'DejaVu Sans Mono',consolas,'Courier New',monospace\"></pre>\n"
      ],
      "text/plain": []
     },
     "metadata": {},
     "output_type": "display_data"
    },
    {
     "data": {
      "application/vnd.jupyter.widget-view+json": {
       "model_id": "613b0617aaed43c087cff57fc124fb20",
       "version_major": 2,
       "version_minor": 0
      },
      "text/plain": [
       "Output()"
      ]
     },
     "metadata": {},
     "output_type": "display_data"
    },
    {
     "name": "stdout",
     "output_type": "stream",
     "text": [
      "Trial 9 finished. Final Reconstruction Loss: 0.9689\n",
      "\n",
      "============================== Running Trial 10/288 ==============================\n",
      "Current Parameter Combination: lat_dim: 5, hidden_size: 150, lr: 0.0001, num_layers: 2, emb_dim: 64, weight_decay: 1e-06, batch_size: 50\n"
     ]
    },
    {
     "data": {
      "text/html": [
       "<pre style=\"white-space:pre;overflow-x:auto;line-height:normal;font-family:Menlo,'DejaVu Sans Mono',consolas,'Courier New',monospace\"></pre>\n"
      ],
      "text/plain": []
     },
     "metadata": {},
     "output_type": "display_data"
    },
    {
     "data": {
      "application/vnd.jupyter.widget-view+json": {
       "model_id": "d824532f353042ddb12df84806f6c0a4",
       "version_major": 2,
       "version_minor": 0
      },
      "text/plain": [
       "Output()"
      ]
     },
     "metadata": {},
     "output_type": "display_data"
    },
    {
     "name": "stdout",
     "output_type": "stream",
     "text": [
      "Trial 10 finished. Final Reconstruction Loss: 0.9898\n",
      "\n",
      "============================== Running Trial 11/288 ==============================\n",
      "Current Parameter Combination: lat_dim: 5, hidden_size: 150, lr: 0.0001, num_layers: 2, emb_dim: 64, weight_decay: 1e-05, batch_size: 32\n"
     ]
    },
    {
     "data": {
      "text/html": [
       "<pre style=\"white-space:pre;overflow-x:auto;line-height:normal;font-family:Menlo,'DejaVu Sans Mono',consolas,'Courier New',monospace\"></pre>\n"
      ],
      "text/plain": []
     },
     "metadata": {},
     "output_type": "display_data"
    },
    {
     "data": {
      "application/vnd.jupyter.widget-view+json": {
       "model_id": "9e678b18e9554e17a5fde57370fd68ba",
       "version_major": 2,
       "version_minor": 0
      },
      "text/plain": [
       "Output()"
      ]
     },
     "metadata": {},
     "output_type": "display_data"
    },
    {
     "name": "stdout",
     "output_type": "stream",
     "text": [
      "Trial 11 finished. Final Reconstruction Loss: 0.8059\n",
      "\n",
      "============================== Running Trial 12/288 ==============================\n",
      "Current Parameter Combination: lat_dim: 5, hidden_size: 150, lr: 0.0001, num_layers: 2, emb_dim: 64, weight_decay: 1e-05, batch_size: 50\n"
     ]
    },
    {
     "data": {
      "text/html": [
       "<pre style=\"white-space:pre;overflow-x:auto;line-height:normal;font-family:Menlo,'DejaVu Sans Mono',consolas,'Courier New',monospace\"></pre>\n"
      ],
      "text/plain": []
     },
     "metadata": {},
     "output_type": "display_data"
    },
    {
     "data": {
      "application/vnd.jupyter.widget-view+json": {
       "model_id": "5a548c11065f4a1c94a5539437e9a330",
       "version_major": 2,
       "version_minor": 0
      },
      "text/plain": [
       "Output()"
      ]
     },
     "metadata": {},
     "output_type": "display_data"
    },
    {
     "name": "stdout",
     "output_type": "stream",
     "text": [
      "Trial 12 finished. Final Reconstruction Loss: 0.8553\n",
      "\n",
      "============================== Running Trial 13/288 ==============================\n",
      "Current Parameter Combination: lat_dim: 5, hidden_size: 150, lr: 0.0001, num_layers: 2, emb_dim: 128, weight_decay: 1e-06, batch_size: 32\n"
     ]
    },
    {
     "data": {
      "text/html": [
       "<pre style=\"white-space:pre;overflow-x:auto;line-height:normal;font-family:Menlo,'DejaVu Sans Mono',consolas,'Courier New',monospace\"></pre>\n"
      ],
      "text/plain": []
     },
     "metadata": {},
     "output_type": "display_data"
    },
    {
     "data": {
      "application/vnd.jupyter.widget-view+json": {
       "model_id": "5b9c010560464aadb1a7860258d65a0f",
       "version_major": 2,
       "version_minor": 0
      },
      "text/plain": [
       "Output()"
      ]
     },
     "metadata": {},
     "output_type": "display_data"
    },
    {
     "name": "stdout",
     "output_type": "stream",
     "text": [
      "Trial 13 finished. Final Reconstruction Loss: 0.6792\n",
      "\n",
      "============================== Running Trial 14/288 ==============================\n",
      "Current Parameter Combination: lat_dim: 5, hidden_size: 150, lr: 0.0001, num_layers: 2, emb_dim: 128, weight_decay: 1e-06, batch_size: 50\n"
     ]
    },
    {
     "data": {
      "text/html": [
       "<pre style=\"white-space:pre;overflow-x:auto;line-height:normal;font-family:Menlo,'DejaVu Sans Mono',consolas,'Courier New',monospace\"></pre>\n"
      ],
      "text/plain": []
     },
     "metadata": {},
     "output_type": "display_data"
    },
    {
     "data": {
      "application/vnd.jupyter.widget-view+json": {
       "model_id": "3534f00e50f0409186df3e36a041d4b6",
       "version_major": 2,
       "version_minor": 0
      },
      "text/plain": [
       "Output()"
      ]
     },
     "metadata": {},
     "output_type": "display_data"
    },
    {
     "name": "stdout",
     "output_type": "stream",
     "text": [
      "Trial 14 finished. Final Reconstruction Loss: 0.9340\n",
      "\n",
      "============================== Running Trial 15/288 ==============================\n",
      "Current Parameter Combination: lat_dim: 5, hidden_size: 150, lr: 0.0001, num_layers: 2, emb_dim: 128, weight_decay: 1e-05, batch_size: 32\n"
     ]
    },
    {
     "data": {
      "text/html": [
       "<pre style=\"white-space:pre;overflow-x:auto;line-height:normal;font-family:Menlo,'DejaVu Sans Mono',consolas,'Courier New',monospace\"></pre>\n"
      ],
      "text/plain": []
     },
     "metadata": {},
     "output_type": "display_data"
    },
    {
     "data": {
      "application/vnd.jupyter.widget-view+json": {
       "model_id": "38808cc054094d2ab97dcd3d814b0235",
       "version_major": 2,
       "version_minor": 0
      },
      "text/plain": [
       "Output()"
      ]
     },
     "metadata": {},
     "output_type": "display_data"
    },
    {
     "name": "stdout",
     "output_type": "stream",
     "text": [
      "Trial 15 finished. Final Reconstruction Loss: 0.7630\n",
      "\n",
      "============================== Running Trial 16/288 ==============================\n",
      "Current Parameter Combination: lat_dim: 5, hidden_size: 150, lr: 0.0001, num_layers: 2, emb_dim: 128, weight_decay: 1e-05, batch_size: 50\n"
     ]
    },
    {
     "data": {
      "text/html": [
       "<pre style=\"white-space:pre;overflow-x:auto;line-height:normal;font-family:Menlo,'DejaVu Sans Mono',consolas,'Courier New',monospace\"></pre>\n"
      ],
      "text/plain": []
     },
     "metadata": {},
     "output_type": "display_data"
    },
    {
     "data": {
      "application/vnd.jupyter.widget-view+json": {
       "model_id": "8f1bbb741f344179a5964b9347e67ce4",
       "version_major": 2,
       "version_minor": 0
      },
      "text/plain": [
       "Output()"
      ]
     },
     "metadata": {},
     "output_type": "display_data"
    },
    {
     "name": "stdout",
     "output_type": "stream",
     "text": [
      "Trial 16 finished. Final Reconstruction Loss: 0.9912\n",
      "\n",
      "============================== Running Trial 17/288 ==============================\n",
      "Current Parameter Combination: lat_dim: 5, hidden_size: 150, lr: 0.0005, num_layers: 1, emb_dim: 64, weight_decay: 1e-06, batch_size: 32\n"
     ]
    },
    {
     "data": {
      "text/html": [
       "<pre style=\"white-space:pre;overflow-x:auto;line-height:normal;font-family:Menlo,'DejaVu Sans Mono',consolas,'Courier New',monospace\"></pre>\n"
      ],
      "text/plain": []
     },
     "metadata": {},
     "output_type": "display_data"
    },
    {
     "data": {
      "application/vnd.jupyter.widget-view+json": {
       "model_id": "8cf61a119a4e4c8eac3b1f9e8aaf876d",
       "version_major": 2,
       "version_minor": 0
      },
      "text/plain": [
       "Output()"
      ]
     },
     "metadata": {},
     "output_type": "display_data"
    },
    {
     "name": "stdout",
     "output_type": "stream",
     "text": [
      "Trial 17 finished. Final Reconstruction Loss: 0.0141\n",
      "\n",
      "============================== Running Trial 18/288 ==============================\n",
      "Current Parameter Combination: lat_dim: 5, hidden_size: 150, lr: 0.0005, num_layers: 1, emb_dim: 64, weight_decay: 1e-06, batch_size: 50\n"
     ]
    },
    {
     "data": {
      "text/html": [
       "<pre style=\"white-space:pre;overflow-x:auto;line-height:normal;font-family:Menlo,'DejaVu Sans Mono',consolas,'Courier New',monospace\"></pre>\n"
      ],
      "text/plain": []
     },
     "metadata": {},
     "output_type": "display_data"
    },
    {
     "data": {
      "application/vnd.jupyter.widget-view+json": {
       "model_id": "342df40002204713b25a7ffaaed5f6ac",
       "version_major": 2,
       "version_minor": 0
      },
      "text/plain": [
       "Output()"
      ]
     },
     "metadata": {},
     "output_type": "display_data"
    },
    {
     "name": "stdout",
     "output_type": "stream",
     "text": [
      "Trial 18 finished. Final Reconstruction Loss: 0.0262\n",
      "\n",
      "============================== Running Trial 19/288 ==============================\n",
      "Current Parameter Combination: lat_dim: 5, hidden_size: 150, lr: 0.0005, num_layers: 1, emb_dim: 64, weight_decay: 1e-05, batch_size: 32\n"
     ]
    },
    {
     "data": {
      "text/html": [
       "<pre style=\"white-space:pre;overflow-x:auto;line-height:normal;font-family:Menlo,'DejaVu Sans Mono',consolas,'Courier New',monospace\"></pre>\n"
      ],
      "text/plain": []
     },
     "metadata": {},
     "output_type": "display_data"
    },
    {
     "data": {
      "application/vnd.jupyter.widget-view+json": {
       "model_id": "3abf3db069274988a0ef3fc99de859aa",
       "version_major": 2,
       "version_minor": 0
      },
      "text/plain": [
       "Output()"
      ]
     },
     "metadata": {},
     "output_type": "display_data"
    },
    {
     "name": "stdout",
     "output_type": "stream",
     "text": [
      "Trial 19 finished. Final Reconstruction Loss: 0.0301\n",
      "\n",
      "============================== Running Trial 20/288 ==============================\n",
      "Current Parameter Combination: lat_dim: 5, hidden_size: 150, lr: 0.0005, num_layers: 1, emb_dim: 64, weight_decay: 1e-05, batch_size: 50\n"
     ]
    },
    {
     "data": {
      "text/html": [
       "<pre style=\"white-space:pre;overflow-x:auto;line-height:normal;font-family:Menlo,'DejaVu Sans Mono',consolas,'Courier New',monospace\"></pre>\n"
      ],
      "text/plain": []
     },
     "metadata": {},
     "output_type": "display_data"
    },
    {
     "data": {
      "application/vnd.jupyter.widget-view+json": {
       "model_id": "f63b7e32a3fc4ecf92effe1bf1a97458",
       "version_major": 2,
       "version_minor": 0
      },
      "text/plain": [
       "Output()"
      ]
     },
     "metadata": {},
     "output_type": "display_data"
    },
    {
     "name": "stdout",
     "output_type": "stream",
     "text": [
      "Trial 20 finished. Final Reconstruction Loss: 0.0132\n",
      "\n",
      "============================== Running Trial 21/288 ==============================\n",
      "Current Parameter Combination: lat_dim: 5, hidden_size: 150, lr: 0.0005, num_layers: 1, emb_dim: 128, weight_decay: 1e-06, batch_size: 32\n"
     ]
    },
    {
     "data": {
      "text/html": [
       "<pre style=\"white-space:pre;overflow-x:auto;line-height:normal;font-family:Menlo,'DejaVu Sans Mono',consolas,'Courier New',monospace\"></pre>\n"
      ],
      "text/plain": []
     },
     "metadata": {},
     "output_type": "display_data"
    },
    {
     "data": {
      "application/vnd.jupyter.widget-view+json": {
       "model_id": "52061a2818064c908cd6c05a2673d18c",
       "version_major": 2,
       "version_minor": 0
      },
      "text/plain": [
       "Output()"
      ]
     },
     "metadata": {},
     "output_type": "display_data"
    },
    {
     "name": "stdout",
     "output_type": "stream",
     "text": [
      "Trial 21 finished. Final Reconstruction Loss: 0.0136\n",
      "\n",
      "============================== Running Trial 22/288 ==============================\n",
      "Current Parameter Combination: lat_dim: 5, hidden_size: 150, lr: 0.0005, num_layers: 1, emb_dim: 128, weight_decay: 1e-06, batch_size: 50\n"
     ]
    },
    {
     "data": {
      "text/html": [
       "<pre style=\"white-space:pre;overflow-x:auto;line-height:normal;font-family:Menlo,'DejaVu Sans Mono',consolas,'Courier New',monospace\"></pre>\n"
      ],
      "text/plain": []
     },
     "metadata": {},
     "output_type": "display_data"
    },
    {
     "data": {
      "application/vnd.jupyter.widget-view+json": {
       "model_id": "72c4b5c18676440082b310ec7952d2fb",
       "version_major": 2,
       "version_minor": 0
      },
      "text/plain": [
       "Output()"
      ]
     },
     "metadata": {},
     "output_type": "display_data"
    },
    {
     "name": "stdout",
     "output_type": "stream",
     "text": [
      "Trial 22 finished. Final Reconstruction Loss: 0.0105\n",
      "\n",
      "============================== Running Trial 23/288 ==============================\n",
      "Current Parameter Combination: lat_dim: 5, hidden_size: 150, lr: 0.0005, num_layers: 1, emb_dim: 128, weight_decay: 1e-05, batch_size: 32\n"
     ]
    },
    {
     "data": {
      "text/html": [
       "<pre style=\"white-space:pre;overflow-x:auto;line-height:normal;font-family:Menlo,'DejaVu Sans Mono',consolas,'Courier New',monospace\"></pre>\n"
      ],
      "text/plain": []
     },
     "metadata": {},
     "output_type": "display_data"
    },
    {
     "data": {
      "application/vnd.jupyter.widget-view+json": {
       "model_id": "c93d2063e8424329b56012ba010105ca",
       "version_major": 2,
       "version_minor": 0
      },
      "text/plain": [
       "Output()"
      ]
     },
     "metadata": {},
     "output_type": "display_data"
    },
    {
     "name": "stdout",
     "output_type": "stream",
     "text": [
      "Trial 23 finished. Final Reconstruction Loss: 0.0102\n",
      "\n",
      "============================== Running Trial 24/288 ==============================\n",
      "Current Parameter Combination: lat_dim: 5, hidden_size: 150, lr: 0.0005, num_layers: 1, emb_dim: 128, weight_decay: 1e-05, batch_size: 50\n"
     ]
    },
    {
     "data": {
      "text/html": [
       "<pre style=\"white-space:pre;overflow-x:auto;line-height:normal;font-family:Menlo,'DejaVu Sans Mono',consolas,'Courier New',monospace\"></pre>\n"
      ],
      "text/plain": []
     },
     "metadata": {},
     "output_type": "display_data"
    },
    {
     "data": {
      "application/vnd.jupyter.widget-view+json": {
       "model_id": "ce3cbf277b224476be732407229f7caa",
       "version_major": 2,
       "version_minor": 0
      },
      "text/plain": [
       "Output()"
      ]
     },
     "metadata": {},
     "output_type": "display_data"
    },
    {
     "name": "stdout",
     "output_type": "stream",
     "text": [
      "Trial 24 finished. Final Reconstruction Loss: 0.0174\n",
      "\n",
      "============================== Running Trial 25/288 ==============================\n",
      "Current Parameter Combination: lat_dim: 5, hidden_size: 150, lr: 0.0005, num_layers: 2, emb_dim: 64, weight_decay: 1e-06, batch_size: 32\n"
     ]
    },
    {
     "data": {
      "text/html": [
       "<pre style=\"white-space:pre;overflow-x:auto;line-height:normal;font-family:Menlo,'DejaVu Sans Mono',consolas,'Courier New',monospace\"></pre>\n"
      ],
      "text/plain": []
     },
     "metadata": {},
     "output_type": "display_data"
    },
    {
     "data": {
      "application/vnd.jupyter.widget-view+json": {
       "model_id": "3570637acbd846ba96ce177a70a5185e",
       "version_major": 2,
       "version_minor": 0
      },
      "text/plain": [
       "Output()"
      ]
     },
     "metadata": {},
     "output_type": "display_data"
    },
    {
     "name": "stdout",
     "output_type": "stream",
     "text": [
      "Trial 25 finished. Final Reconstruction Loss: 0.0752\n",
      "\n",
      "============================== Running Trial 26/288 ==============================\n",
      "Current Parameter Combination: lat_dim: 5, hidden_size: 150, lr: 0.0005, num_layers: 2, emb_dim: 64, weight_decay: 1e-06, batch_size: 50\n"
     ]
    },
    {
     "data": {
      "text/html": [
       "<pre style=\"white-space:pre;overflow-x:auto;line-height:normal;font-family:Menlo,'DejaVu Sans Mono',consolas,'Courier New',monospace\"></pre>\n"
      ],
      "text/plain": []
     },
     "metadata": {},
     "output_type": "display_data"
    },
    {
     "data": {
      "application/vnd.jupyter.widget-view+json": {
       "model_id": "79f6c2f27eb64f4bbea1687794080af8",
       "version_major": 2,
       "version_minor": 0
      },
      "text/plain": [
       "Output()"
      ]
     },
     "metadata": {},
     "output_type": "display_data"
    },
    {
     "name": "stdout",
     "output_type": "stream",
     "text": [
      "Trial 26 finished. Final Reconstruction Loss: 0.0130\n",
      "\n",
      "============================== Running Trial 27/288 ==============================\n",
      "Current Parameter Combination: lat_dim: 5, hidden_size: 150, lr: 0.0005, num_layers: 2, emb_dim: 64, weight_decay: 1e-05, batch_size: 32\n"
     ]
    },
    {
     "data": {
      "text/html": [
       "<pre style=\"white-space:pre;overflow-x:auto;line-height:normal;font-family:Menlo,'DejaVu Sans Mono',consolas,'Courier New',monospace\"></pre>\n"
      ],
      "text/plain": []
     },
     "metadata": {},
     "output_type": "display_data"
    },
    {
     "data": {
      "application/vnd.jupyter.widget-view+json": {
       "model_id": "111a73396e8448cb8b65b79aa6a938e1",
       "version_major": 2,
       "version_minor": 0
      },
      "text/plain": [
       "Output()"
      ]
     },
     "metadata": {},
     "output_type": "display_data"
    },
    {
     "name": "stdout",
     "output_type": "stream",
     "text": [
      "Trial 27 finished. Final Reconstruction Loss: 0.0457\n",
      "\n",
      "============================== Running Trial 28/288 ==============================\n",
      "Current Parameter Combination: lat_dim: 5, hidden_size: 150, lr: 0.0005, num_layers: 2, emb_dim: 64, weight_decay: 1e-05, batch_size: 50\n"
     ]
    },
    {
     "data": {
      "text/html": [
       "<pre style=\"white-space:pre;overflow-x:auto;line-height:normal;font-family:Menlo,'DejaVu Sans Mono',consolas,'Courier New',monospace\"></pre>\n"
      ],
      "text/plain": []
     },
     "metadata": {},
     "output_type": "display_data"
    },
    {
     "data": {
      "application/vnd.jupyter.widget-view+json": {
       "model_id": "97b9db0b469f47f3b71d317af15f72ce",
       "version_major": 2,
       "version_minor": 0
      },
      "text/plain": [
       "Output()"
      ]
     },
     "metadata": {},
     "output_type": "display_data"
    },
    {
     "name": "stdout",
     "output_type": "stream",
     "text": [
      "Trial 28 finished. Final Reconstruction Loss: 0.0100\n",
      "\n",
      "============================== Running Trial 29/288 ==============================\n",
      "Current Parameter Combination: lat_dim: 5, hidden_size: 150, lr: 0.0005, num_layers: 2, emb_dim: 128, weight_decay: 1e-06, batch_size: 32\n"
     ]
    },
    {
     "data": {
      "text/html": [
       "<pre style=\"white-space:pre;overflow-x:auto;line-height:normal;font-family:Menlo,'DejaVu Sans Mono',consolas,'Courier New',monospace\"></pre>\n"
      ],
      "text/plain": []
     },
     "metadata": {},
     "output_type": "display_data"
    },
    {
     "data": {
      "application/vnd.jupyter.widget-view+json": {
       "model_id": "08dcce528e924614b3428dd931046851",
       "version_major": 2,
       "version_minor": 0
      },
      "text/plain": [
       "Output()"
      ]
     },
     "metadata": {},
     "output_type": "display_data"
    },
    {
     "name": "stdout",
     "output_type": "stream",
     "text": [
      "Trial 29 finished. Final Reconstruction Loss: 0.0137\n",
      "\n",
      "============================== Running Trial 30/288 ==============================\n",
      "Current Parameter Combination: lat_dim: 5, hidden_size: 150, lr: 0.0005, num_layers: 2, emb_dim: 128, weight_decay: 1e-06, batch_size: 50\n"
     ]
    },
    {
     "data": {
      "text/html": [
       "<pre style=\"white-space:pre;overflow-x:auto;line-height:normal;font-family:Menlo,'DejaVu Sans Mono',consolas,'Courier New',monospace\"></pre>\n"
      ],
      "text/plain": []
     },
     "metadata": {},
     "output_type": "display_data"
    },
    {
     "data": {
      "application/vnd.jupyter.widget-view+json": {
       "model_id": "2dd3037486414d3984fd092b444bac0f",
       "version_major": 2,
       "version_minor": 0
      },
      "text/plain": [
       "Output()"
      ]
     },
     "metadata": {},
     "output_type": "display_data"
    },
    {
     "name": "stdout",
     "output_type": "stream",
     "text": [
      "Trial 30 finished. Final Reconstruction Loss: 0.0235\n",
      "\n",
      "============================== Running Trial 31/288 ==============================\n",
      "Current Parameter Combination: lat_dim: 5, hidden_size: 150, lr: 0.0005, num_layers: 2, emb_dim: 128, weight_decay: 1e-05, batch_size: 32\n"
     ]
    },
    {
     "data": {
      "text/html": [
       "<pre style=\"white-space:pre;overflow-x:auto;line-height:normal;font-family:Menlo,'DejaVu Sans Mono',consolas,'Courier New',monospace\"></pre>\n"
      ],
      "text/plain": []
     },
     "metadata": {},
     "output_type": "display_data"
    },
    {
     "data": {
      "application/vnd.jupyter.widget-view+json": {
       "model_id": "368241402d8d4bb181b065150a836663",
       "version_major": 2,
       "version_minor": 0
      },
      "text/plain": [
       "Output()"
      ]
     },
     "metadata": {},
     "output_type": "display_data"
    },
    {
     "name": "stdout",
     "output_type": "stream",
     "text": [
      "Trial 31 finished. Final Reconstruction Loss: 0.1596\n",
      "\n",
      "============================== Running Trial 32/288 ==============================\n",
      "Current Parameter Combination: lat_dim: 5, hidden_size: 150, lr: 0.0005, num_layers: 2, emb_dim: 128, weight_decay: 1e-05, batch_size: 50\n"
     ]
    },
    {
     "data": {
      "text/html": [
       "<pre style=\"white-space:pre;overflow-x:auto;line-height:normal;font-family:Menlo,'DejaVu Sans Mono',consolas,'Courier New',monospace\"></pre>\n"
      ],
      "text/plain": []
     },
     "metadata": {},
     "output_type": "display_data"
    },
    {
     "data": {
      "application/vnd.jupyter.widget-view+json": {
       "model_id": "c2d66a4ff16c4ec78ff411e4bd61e881",
       "version_major": 2,
       "version_minor": 0
      },
      "text/plain": [
       "Output()"
      ]
     },
     "metadata": {},
     "output_type": "display_data"
    },
    {
     "name": "stdout",
     "output_type": "stream",
     "text": [
      "Trial 32 finished. Final Reconstruction Loss: 0.0145\n",
      "\n",
      "============================== Running Trial 33/288 ==============================\n",
      "Current Parameter Combination: lat_dim: 5, hidden_size: 200, lr: 0.0001, num_layers: 1, emb_dim: 64, weight_decay: 1e-06, batch_size: 32\n"
     ]
    },
    {
     "data": {
      "text/html": [
       "<pre style=\"white-space:pre;overflow-x:auto;line-height:normal;font-family:Menlo,'DejaVu Sans Mono',consolas,'Courier New',monospace\"></pre>\n"
      ],
      "text/plain": []
     },
     "metadata": {},
     "output_type": "display_data"
    },
    {
     "data": {
      "application/vnd.jupyter.widget-view+json": {
       "model_id": "5bdb99486757441698bd7d8d218865b2",
       "version_major": 2,
       "version_minor": 0
      },
      "text/plain": [
       "Output()"
      ]
     },
     "metadata": {},
     "output_type": "display_data"
    },
    {
     "name": "stdout",
     "output_type": "stream",
     "text": [
      "Trial 33 finished. Final Reconstruction Loss: 0.7377\n",
      "\n",
      "============================== Running Trial 34/288 ==============================\n",
      "Current Parameter Combination: lat_dim: 5, hidden_size: 200, lr: 0.0001, num_layers: 1, emb_dim: 64, weight_decay: 1e-06, batch_size: 50\n"
     ]
    },
    {
     "data": {
      "text/html": [
       "<pre style=\"white-space:pre;overflow-x:auto;line-height:normal;font-family:Menlo,'DejaVu Sans Mono',consolas,'Courier New',monospace\"></pre>\n"
      ],
      "text/plain": []
     },
     "metadata": {},
     "output_type": "display_data"
    },
    {
     "data": {
      "application/vnd.jupyter.widget-view+json": {
       "model_id": "4c124eb8dcbe439aad13c5caac3d7b42",
       "version_major": 2,
       "version_minor": 0
      },
      "text/plain": [
       "Output()"
      ]
     },
     "metadata": {},
     "output_type": "display_data"
    },
    {
     "name": "stdout",
     "output_type": "stream",
     "text": [
      "Trial 34 finished. Final Reconstruction Loss: 0.7232\n",
      "\n",
      "============================== Running Trial 35/288 ==============================\n",
      "Current Parameter Combination: lat_dim: 5, hidden_size: 200, lr: 0.0001, num_layers: 1, emb_dim: 64, weight_decay: 1e-05, batch_size: 32\n"
     ]
    },
    {
     "data": {
      "text/html": [
       "<pre style=\"white-space:pre;overflow-x:auto;line-height:normal;font-family:Menlo,'DejaVu Sans Mono',consolas,'Courier New',monospace\"></pre>\n"
      ],
      "text/plain": []
     },
     "metadata": {},
     "output_type": "display_data"
    },
    {
     "data": {
      "application/vnd.jupyter.widget-view+json": {
       "model_id": "0bb3b9cce45148538329419c77948073",
       "version_major": 2,
       "version_minor": 0
      },
      "text/plain": [
       "Output()"
      ]
     },
     "metadata": {},
     "output_type": "display_data"
    },
    {
     "name": "stdout",
     "output_type": "stream",
     "text": [
      "Trial 35 finished. Final Reconstruction Loss: 0.6118\n",
      "\n",
      "============================== Running Trial 36/288 ==============================\n",
      "Current Parameter Combination: lat_dim: 5, hidden_size: 200, lr: 0.0001, num_layers: 1, emb_dim: 64, weight_decay: 1e-05, batch_size: 50\n"
     ]
    },
    {
     "data": {
      "text/html": [
       "<pre style=\"white-space:pre;overflow-x:auto;line-height:normal;font-family:Menlo,'DejaVu Sans Mono',consolas,'Courier New',monospace\"></pre>\n"
      ],
      "text/plain": []
     },
     "metadata": {},
     "output_type": "display_data"
    },
    {
     "data": {
      "application/vnd.jupyter.widget-view+json": {
       "model_id": "5338bd965eb1462283f5c3d72278a67b",
       "version_major": 2,
       "version_minor": 0
      },
      "text/plain": [
       "Output()"
      ]
     },
     "metadata": {},
     "output_type": "display_data"
    },
    {
     "name": "stdout",
     "output_type": "stream",
     "text": [
      "Trial 36 finished. Final Reconstruction Loss: 0.5944\n",
      "\n",
      "============================== Running Trial 37/288 ==============================\n",
      "Current Parameter Combination: lat_dim: 5, hidden_size: 200, lr: 0.0001, num_layers: 1, emb_dim: 128, weight_decay: 1e-06, batch_size: 32\n"
     ]
    },
    {
     "data": {
      "text/html": [
       "<pre style=\"white-space:pre;overflow-x:auto;line-height:normal;font-family:Menlo,'DejaVu Sans Mono',consolas,'Courier New',monospace\"></pre>\n"
      ],
      "text/plain": []
     },
     "metadata": {},
     "output_type": "display_data"
    },
    {
     "data": {
      "application/vnd.jupyter.widget-view+json": {
       "model_id": "e01c9e10706543ee8fe9b6cbf3d2b4ba",
       "version_major": 2,
       "version_minor": 0
      },
      "text/plain": [
       "Output()"
      ]
     },
     "metadata": {},
     "output_type": "display_data"
    },
    {
     "name": "stdout",
     "output_type": "stream",
     "text": [
      "Trial 37 finished. Final Reconstruction Loss: 0.4641\n",
      "\n",
      "============================== Running Trial 38/288 ==============================\n",
      "Current Parameter Combination: lat_dim: 5, hidden_size: 200, lr: 0.0001, num_layers: 1, emb_dim: 128, weight_decay: 1e-06, batch_size: 50\n"
     ]
    },
    {
     "data": {
      "text/html": [
       "<pre style=\"white-space:pre;overflow-x:auto;line-height:normal;font-family:Menlo,'DejaVu Sans Mono',consolas,'Courier New',monospace\"></pre>\n"
      ],
      "text/plain": []
     },
     "metadata": {},
     "output_type": "display_data"
    },
    {
     "data": {
      "application/vnd.jupyter.widget-view+json": {
       "model_id": "c67e751ce6c940199bbc30b39657b9b4",
       "version_major": 2,
       "version_minor": 0
      },
      "text/plain": [
       "Output()"
      ]
     },
     "metadata": {},
     "output_type": "display_data"
    },
    {
     "name": "stdout",
     "output_type": "stream",
     "text": [
      "Trial 38 finished. Final Reconstruction Loss: 0.4390\n",
      "\n",
      "============================== Running Trial 39/288 ==============================\n",
      "Current Parameter Combination: lat_dim: 5, hidden_size: 200, lr: 0.0001, num_layers: 1, emb_dim: 128, weight_decay: 1e-05, batch_size: 32\n"
     ]
    },
    {
     "data": {
      "text/html": [
       "<pre style=\"white-space:pre;overflow-x:auto;line-height:normal;font-family:Menlo,'DejaVu Sans Mono',consolas,'Courier New',monospace\"></pre>\n"
      ],
      "text/plain": []
     },
     "metadata": {},
     "output_type": "display_data"
    },
    {
     "data": {
      "application/vnd.jupyter.widget-view+json": {
       "model_id": "ebe16427af4d432fb3df32feadc88323",
       "version_major": 2,
       "version_minor": 0
      },
      "text/plain": [
       "Output()"
      ]
     },
     "metadata": {},
     "output_type": "display_data"
    },
    {
     "name": "stdout",
     "output_type": "stream",
     "text": [
      "Trial 39 finished. Final Reconstruction Loss: 0.4460\n",
      "\n",
      "============================== Running Trial 40/288 ==============================\n",
      "Current Parameter Combination: lat_dim: 5, hidden_size: 200, lr: 0.0001, num_layers: 1, emb_dim: 128, weight_decay: 1e-05, batch_size: 50\n"
     ]
    },
    {
     "data": {
      "text/html": [
       "<pre style=\"white-space:pre;overflow-x:auto;line-height:normal;font-family:Menlo,'DejaVu Sans Mono',consolas,'Courier New',monospace\"></pre>\n"
      ],
      "text/plain": []
     },
     "metadata": {},
     "output_type": "display_data"
    },
    {
     "data": {
      "application/vnd.jupyter.widget-view+json": {
       "model_id": "77cddeb1ea5346cba089adf4975362b9",
       "version_major": 2,
       "version_minor": 0
      },
      "text/plain": [
       "Output()"
      ]
     },
     "metadata": {},
     "output_type": "display_data"
    },
    {
     "name": "stdout",
     "output_type": "stream",
     "text": [
      "Trial 40 finished. Final Reconstruction Loss: 0.3662\n",
      "\n",
      "============================== Running Trial 41/288 ==============================\n",
      "Current Parameter Combination: lat_dim: 5, hidden_size: 200, lr: 0.0001, num_layers: 2, emb_dim: 64, weight_decay: 1e-06, batch_size: 32\n"
     ]
    },
    {
     "data": {
      "text/html": [
       "<pre style=\"white-space:pre;overflow-x:auto;line-height:normal;font-family:Menlo,'DejaVu Sans Mono',consolas,'Courier New',monospace\"></pre>\n"
      ],
      "text/plain": []
     },
     "metadata": {},
     "output_type": "display_data"
    },
    {
     "data": {
      "application/vnd.jupyter.widget-view+json": {
       "model_id": "32051af833e542d88453f7b9548f6035",
       "version_major": 2,
       "version_minor": 0
      },
      "text/plain": [
       "Output()"
      ]
     },
     "metadata": {},
     "output_type": "display_data"
    },
    {
     "name": "stdout",
     "output_type": "stream",
     "text": [
      "Trial 41 finished. Final Reconstruction Loss: 0.8142\n",
      "\n",
      "============================== Running Trial 42/288 ==============================\n",
      "Current Parameter Combination: lat_dim: 5, hidden_size: 200, lr: 0.0001, num_layers: 2, emb_dim: 64, weight_decay: 1e-06, batch_size: 50\n"
     ]
    },
    {
     "data": {
      "text/html": [
       "<pre style=\"white-space:pre;overflow-x:auto;line-height:normal;font-family:Menlo,'DejaVu Sans Mono',consolas,'Courier New',monospace\"></pre>\n"
      ],
      "text/plain": []
     },
     "metadata": {},
     "output_type": "display_data"
    },
    {
     "data": {
      "application/vnd.jupyter.widget-view+json": {
       "model_id": "4ef19bab5e7647fa90cb9c020d5cdd97",
       "version_major": 2,
       "version_minor": 0
      },
      "text/plain": [
       "Output()"
      ]
     },
     "metadata": {},
     "output_type": "display_data"
    },
    {
     "name": "stdout",
     "output_type": "stream",
     "text": [
      "Trial 42 finished. Final Reconstruction Loss: 0.6092\n",
      "\n",
      "============================== Running Trial 43/288 ==============================\n",
      "Current Parameter Combination: lat_dim: 5, hidden_size: 200, lr: 0.0001, num_layers: 2, emb_dim: 64, weight_decay: 1e-05, batch_size: 32\n"
     ]
    },
    {
     "data": {
      "text/html": [
       "<pre style=\"white-space:pre;overflow-x:auto;line-height:normal;font-family:Menlo,'DejaVu Sans Mono',consolas,'Courier New',monospace\"></pre>\n"
      ],
      "text/plain": []
     },
     "metadata": {},
     "output_type": "display_data"
    },
    {
     "data": {
      "application/vnd.jupyter.widget-view+json": {
       "model_id": "6eaa6d21488f434a993d2ab36472bd08",
       "version_major": 2,
       "version_minor": 0
      },
      "text/plain": [
       "Output()"
      ]
     },
     "metadata": {},
     "output_type": "display_data"
    },
    {
     "name": "stdout",
     "output_type": "stream",
     "text": [
      "Trial 43 finished. Final Reconstruction Loss: 0.7107\n",
      "\n",
      "============================== Running Trial 44/288 ==============================\n",
      "Current Parameter Combination: lat_dim: 5, hidden_size: 200, lr: 0.0001, num_layers: 2, emb_dim: 64, weight_decay: 1e-05, batch_size: 50\n"
     ]
    },
    {
     "data": {
      "text/html": [
       "<pre style=\"white-space:pre;overflow-x:auto;line-height:normal;font-family:Menlo,'DejaVu Sans Mono',consolas,'Courier New',monospace\"></pre>\n"
      ],
      "text/plain": []
     },
     "metadata": {},
     "output_type": "display_data"
    },
    {
     "data": {
      "application/vnd.jupyter.widget-view+json": {
       "model_id": "77d8b7e13386440890cc4b8973ab4bdf",
       "version_major": 2,
       "version_minor": 0
      },
      "text/plain": [
       "Output()"
      ]
     },
     "metadata": {},
     "output_type": "display_data"
    },
    {
     "name": "stdout",
     "output_type": "stream",
     "text": [
      "Trial 44 finished. Final Reconstruction Loss: 0.5657\n",
      "\n",
      "============================== Running Trial 45/288 ==============================\n",
      "Current Parameter Combination: lat_dim: 5, hidden_size: 200, lr: 0.0001, num_layers: 2, emb_dim: 128, weight_decay: 1e-06, batch_size: 32\n"
     ]
    },
    {
     "data": {
      "text/html": [
       "<pre style=\"white-space:pre;overflow-x:auto;line-height:normal;font-family:Menlo,'DejaVu Sans Mono',consolas,'Courier New',monospace\"></pre>\n"
      ],
      "text/plain": []
     },
     "metadata": {},
     "output_type": "display_data"
    },
    {
     "data": {
      "application/vnd.jupyter.widget-view+json": {
       "model_id": "7c9fb91263b741c2849fe4eb573b86b9",
       "version_major": 2,
       "version_minor": 0
      },
      "text/plain": [
       "Output()"
      ]
     },
     "metadata": {},
     "output_type": "display_data"
    },
    {
     "name": "stdout",
     "output_type": "stream",
     "text": [
      "Trial 45 finished. Final Reconstruction Loss: 0.5475\n",
      "\n",
      "============================== Running Trial 46/288 ==============================\n",
      "Current Parameter Combination: lat_dim: 5, hidden_size: 200, lr: 0.0001, num_layers: 2, emb_dim: 128, weight_decay: 1e-06, batch_size: 50\n"
     ]
    },
    {
     "data": {
      "text/html": [
       "<pre style=\"white-space:pre;overflow-x:auto;line-height:normal;font-family:Menlo,'DejaVu Sans Mono',consolas,'Courier New',monospace\"></pre>\n"
      ],
      "text/plain": []
     },
     "metadata": {},
     "output_type": "display_data"
    },
    {
     "data": {
      "application/vnd.jupyter.widget-view+json": {
       "model_id": "6cf2b02886a346e3b1d29fd39092c3f2",
       "version_major": 2,
       "version_minor": 0
      },
      "text/plain": [
       "Output()"
      ]
     },
     "metadata": {},
     "output_type": "display_data"
    },
    {
     "name": "stdout",
     "output_type": "stream",
     "text": [
      "Trial 46 finished. Final Reconstruction Loss: 0.4332\n",
      "\n",
      "============================== Running Trial 47/288 ==============================\n",
      "Current Parameter Combination: lat_dim: 5, hidden_size: 200, lr: 0.0001, num_layers: 2, emb_dim: 128, weight_decay: 1e-05, batch_size: 32\n"
     ]
    },
    {
     "data": {
      "text/html": [
       "<pre style=\"white-space:pre;overflow-x:auto;line-height:normal;font-family:Menlo,'DejaVu Sans Mono',consolas,'Courier New',monospace\"></pre>\n"
      ],
      "text/plain": []
     },
     "metadata": {},
     "output_type": "display_data"
    },
    {
     "data": {
      "application/vnd.jupyter.widget-view+json": {
       "model_id": "9aae2ab59f4343b1816ab1e9210b54d2",
       "version_major": 2,
       "version_minor": 0
      },
      "text/plain": [
       "Output()"
      ]
     },
     "metadata": {},
     "output_type": "display_data"
    },
    {
     "name": "stdout",
     "output_type": "stream",
     "text": [
      "Trial 47 finished. Final Reconstruction Loss: 0.5774\n",
      "\n",
      "============================== Running Trial 48/288 ==============================\n",
      "Current Parameter Combination: lat_dim: 5, hidden_size: 200, lr: 0.0001, num_layers: 2, emb_dim: 128, weight_decay: 1e-05, batch_size: 50\n"
     ]
    },
    {
     "data": {
      "text/html": [
       "<pre style=\"white-space:pre;overflow-x:auto;line-height:normal;font-family:Menlo,'DejaVu Sans Mono',consolas,'Courier New',monospace\"></pre>\n"
      ],
      "text/plain": []
     },
     "metadata": {},
     "output_type": "display_data"
    },
    {
     "data": {
      "application/vnd.jupyter.widget-view+json": {
       "model_id": "a8577fbb29d94709888bec02aeb7b2f9",
       "version_major": 2,
       "version_minor": 0
      },
      "text/plain": [
       "Output()"
      ]
     },
     "metadata": {},
     "output_type": "display_data"
    },
    {
     "name": "stdout",
     "output_type": "stream",
     "text": [
      "Trial 48 finished. Final Reconstruction Loss: 0.5813\n",
      "\n",
      "============================== Running Trial 49/288 ==============================\n",
      "Current Parameter Combination: lat_dim: 5, hidden_size: 200, lr: 0.0005, num_layers: 1, emb_dim: 64, weight_decay: 1e-06, batch_size: 32\n"
     ]
    },
    {
     "data": {
      "text/html": [
       "<pre style=\"white-space:pre;overflow-x:auto;line-height:normal;font-family:Menlo,'DejaVu Sans Mono',consolas,'Courier New',monospace\"></pre>\n"
      ],
      "text/plain": []
     },
     "metadata": {},
     "output_type": "display_data"
    },
    {
     "data": {
      "application/vnd.jupyter.widget-view+json": {
       "model_id": "a6464d97277f4638ba75d18013dff603",
       "version_major": 2,
       "version_minor": 0
      },
      "text/plain": [
       "Output()"
      ]
     },
     "metadata": {},
     "output_type": "display_data"
    },
    {
     "name": "stdout",
     "output_type": "stream",
     "text": [
      "Trial 49 finished. Final Reconstruction Loss: 0.0120\n",
      "\n",
      "============================== Running Trial 50/288 ==============================\n",
      "Current Parameter Combination: lat_dim: 5, hidden_size: 200, lr: 0.0005, num_layers: 1, emb_dim: 64, weight_decay: 1e-06, batch_size: 50\n"
     ]
    },
    {
     "data": {
      "text/html": [
       "<pre style=\"white-space:pre;overflow-x:auto;line-height:normal;font-family:Menlo,'DejaVu Sans Mono',consolas,'Courier New',monospace\"></pre>\n"
      ],
      "text/plain": []
     },
     "metadata": {},
     "output_type": "display_data"
    },
    {
     "data": {
      "application/vnd.jupyter.widget-view+json": {
       "model_id": "b240594c23184def809f57b2c6a4aa14",
       "version_major": 2,
       "version_minor": 0
      },
      "text/plain": [
       "Output()"
      ]
     },
     "metadata": {},
     "output_type": "display_data"
    },
    {
     "name": "stdout",
     "output_type": "stream",
     "text": [
      "Trial 50 finished. Final Reconstruction Loss: 0.0118\n",
      "\n",
      "============================== Running Trial 51/288 ==============================\n",
      "Current Parameter Combination: lat_dim: 5, hidden_size: 200, lr: 0.0005, num_layers: 1, emb_dim: 64, weight_decay: 1e-05, batch_size: 32\n"
     ]
    },
    {
     "data": {
      "text/html": [
       "<pre style=\"white-space:pre;overflow-x:auto;line-height:normal;font-family:Menlo,'DejaVu Sans Mono',consolas,'Courier New',monospace\"></pre>\n"
      ],
      "text/plain": []
     },
     "metadata": {},
     "output_type": "display_data"
    },
    {
     "data": {
      "application/vnd.jupyter.widget-view+json": {
       "model_id": "bdfdd05b9dc442a4a997168b61e22fb3",
       "version_major": 2,
       "version_minor": 0
      },
      "text/plain": [
       "Output()"
      ]
     },
     "metadata": {},
     "output_type": "display_data"
    },
    {
     "name": "stdout",
     "output_type": "stream",
     "text": [
      "Trial 51 finished. Final Reconstruction Loss: 0.0098\n",
      "\n",
      "============================== Running Trial 52/288 ==============================\n",
      "Current Parameter Combination: lat_dim: 5, hidden_size: 200, lr: 0.0005, num_layers: 1, emb_dim: 64, weight_decay: 1e-05, batch_size: 50\n"
     ]
    },
    {
     "data": {
      "text/html": [
       "<pre style=\"white-space:pre;overflow-x:auto;line-height:normal;font-family:Menlo,'DejaVu Sans Mono',consolas,'Courier New',monospace\"></pre>\n"
      ],
      "text/plain": []
     },
     "metadata": {},
     "output_type": "display_data"
    },
    {
     "data": {
      "application/vnd.jupyter.widget-view+json": {
       "model_id": "25a6b733bc164a688f46335897896891",
       "version_major": 2,
       "version_minor": 0
      },
      "text/plain": [
       "Output()"
      ]
     },
     "metadata": {},
     "output_type": "display_data"
    },
    {
     "name": "stdout",
     "output_type": "stream",
     "text": [
      "Trial 52 finished. Final Reconstruction Loss: 0.0123\n",
      "\n",
      "============================== Running Trial 53/288 ==============================\n",
      "Current Parameter Combination: lat_dim: 5, hidden_size: 200, lr: 0.0005, num_layers: 1, emb_dim: 128, weight_decay: 1e-06, batch_size: 32\n"
     ]
    },
    {
     "data": {
      "text/html": [
       "<pre style=\"white-space:pre;overflow-x:auto;line-height:normal;font-family:Menlo,'DejaVu Sans Mono',consolas,'Courier New',monospace\"></pre>\n"
      ],
      "text/plain": []
     },
     "metadata": {},
     "output_type": "display_data"
    },
    {
     "data": {
      "application/vnd.jupyter.widget-view+json": {
       "model_id": "2db60d0ab7074dcfb281bf1afad0ceec",
       "version_major": 2,
       "version_minor": 0
      },
      "text/plain": [
       "Output()"
      ]
     },
     "metadata": {},
     "output_type": "display_data"
    },
    {
     "name": "stdout",
     "output_type": "stream",
     "text": [
      "Trial 53 finished. Final Reconstruction Loss: 0.0118\n",
      "\n",
      "============================== Running Trial 54/288 ==============================\n",
      "Current Parameter Combination: lat_dim: 5, hidden_size: 200, lr: 0.0005, num_layers: 1, emb_dim: 128, weight_decay: 1e-06, batch_size: 50\n"
     ]
    },
    {
     "data": {
      "text/html": [
       "<pre style=\"white-space:pre;overflow-x:auto;line-height:normal;font-family:Menlo,'DejaVu Sans Mono',consolas,'Courier New',monospace\"></pre>\n"
      ],
      "text/plain": []
     },
     "metadata": {},
     "output_type": "display_data"
    },
    {
     "data": {
      "application/vnd.jupyter.widget-view+json": {
       "model_id": "4b00a3e6933b492bb987f334db5ae4f0",
       "version_major": 2,
       "version_minor": 0
      },
      "text/plain": [
       "Output()"
      ]
     },
     "metadata": {},
     "output_type": "display_data"
    },
    {
     "name": "stdout",
     "output_type": "stream",
     "text": [
      "Trial 54 finished. Final Reconstruction Loss: 0.0084\n",
      "\n",
      "============================== Running Trial 55/288 ==============================\n",
      "Current Parameter Combination: lat_dim: 5, hidden_size: 200, lr: 0.0005, num_layers: 1, emb_dim: 128, weight_decay: 1e-05, batch_size: 32\n"
     ]
    },
    {
     "data": {
      "text/html": [
       "<pre style=\"white-space:pre;overflow-x:auto;line-height:normal;font-family:Menlo,'DejaVu Sans Mono',consolas,'Courier New',monospace\"></pre>\n"
      ],
      "text/plain": []
     },
     "metadata": {},
     "output_type": "display_data"
    },
    {
     "data": {
      "application/vnd.jupyter.widget-view+json": {
       "model_id": "5c3cac0412504bed873c32a2b196a7ca",
       "version_major": 2,
       "version_minor": 0
      },
      "text/plain": [
       "Output()"
      ]
     },
     "metadata": {},
     "output_type": "display_data"
    },
    {
     "name": "stdout",
     "output_type": "stream",
     "text": [
      "Trial 55 finished. Final Reconstruction Loss: 0.0124\n",
      "\n",
      "============================== Running Trial 56/288 ==============================\n",
      "Current Parameter Combination: lat_dim: 5, hidden_size: 200, lr: 0.0005, num_layers: 1, emb_dim: 128, weight_decay: 1e-05, batch_size: 50\n"
     ]
    },
    {
     "data": {
      "text/html": [
       "<pre style=\"white-space:pre;overflow-x:auto;line-height:normal;font-family:Menlo,'DejaVu Sans Mono',consolas,'Courier New',monospace\"></pre>\n"
      ],
      "text/plain": []
     },
     "metadata": {},
     "output_type": "display_data"
    },
    {
     "data": {
      "application/vnd.jupyter.widget-view+json": {
       "model_id": "e36d4a9a0e8b44bc864d92d0a640dd56",
       "version_major": 2,
       "version_minor": 0
      },
      "text/plain": [
       "Output()"
      ]
     },
     "metadata": {},
     "output_type": "display_data"
    },
    {
     "name": "stdout",
     "output_type": "stream",
     "text": [
      "Trial 56 finished. Final Reconstruction Loss: 0.0046\n",
      "\n",
      "============================== Running Trial 57/288 ==============================\n",
      "Current Parameter Combination: lat_dim: 5, hidden_size: 200, lr: 0.0005, num_layers: 2, emb_dim: 64, weight_decay: 1e-06, batch_size: 32\n"
     ]
    },
    {
     "data": {
      "text/html": [
       "<pre style=\"white-space:pre;overflow-x:auto;line-height:normal;font-family:Menlo,'DejaVu Sans Mono',consolas,'Courier New',monospace\"></pre>\n"
      ],
      "text/plain": []
     },
     "metadata": {},
     "output_type": "display_data"
    },
    {
     "data": {
      "application/vnd.jupyter.widget-view+json": {
       "model_id": "43896202bc2f4a85a1f7d1a59cc293d7",
       "version_major": 2,
       "version_minor": 0
      },
      "text/plain": [
       "Output()"
      ]
     },
     "metadata": {},
     "output_type": "display_data"
    },
    {
     "name": "stdout",
     "output_type": "stream",
     "text": [
      "Trial 57 finished. Final Reconstruction Loss: 0.0153\n",
      "\n",
      "============================== Running Trial 58/288 ==============================\n",
      "Current Parameter Combination: lat_dim: 5, hidden_size: 200, lr: 0.0005, num_layers: 2, emb_dim: 64, weight_decay: 1e-06, batch_size: 50\n"
     ]
    },
    {
     "data": {
      "text/html": [
       "<pre style=\"white-space:pre;overflow-x:auto;line-height:normal;font-family:Menlo,'DejaVu Sans Mono',consolas,'Courier New',monospace\"></pre>\n"
      ],
      "text/plain": []
     },
     "metadata": {},
     "output_type": "display_data"
    },
    {
     "data": {
      "application/vnd.jupyter.widget-view+json": {
       "model_id": "4b9996f80d16440eaadeb897bd21e3fc",
       "version_major": 2,
       "version_minor": 0
      },
      "text/plain": [
       "Output()"
      ]
     },
     "metadata": {},
     "output_type": "display_data"
    },
    {
     "name": "stdout",
     "output_type": "stream",
     "text": [
      "Trial 58 finished. Final Reconstruction Loss: 0.0106\n",
      "\n",
      "============================== Running Trial 59/288 ==============================\n",
      "Current Parameter Combination: lat_dim: 5, hidden_size: 200, lr: 0.0005, num_layers: 2, emb_dim: 64, weight_decay: 1e-05, batch_size: 32\n"
     ]
    },
    {
     "data": {
      "text/html": [
       "<pre style=\"white-space:pre;overflow-x:auto;line-height:normal;font-family:Menlo,'DejaVu Sans Mono',consolas,'Courier New',monospace\"></pre>\n"
      ],
      "text/plain": []
     },
     "metadata": {},
     "output_type": "display_data"
    },
    {
     "data": {
      "application/vnd.jupyter.widget-view+json": {
       "model_id": "54371927601d45c88de88ad8e99d60e4",
       "version_major": 2,
       "version_minor": 0
      },
      "text/plain": [
       "Output()"
      ]
     },
     "metadata": {},
     "output_type": "display_data"
    },
    {
     "name": "stdout",
     "output_type": "stream",
     "text": [
      "Trial 59 finished. Final Reconstruction Loss: 0.0118\n",
      "\n",
      "============================== Running Trial 60/288 ==============================\n",
      "Current Parameter Combination: lat_dim: 5, hidden_size: 200, lr: 0.0005, num_layers: 2, emb_dim: 64, weight_decay: 1e-05, batch_size: 50\n"
     ]
    },
    {
     "data": {
      "text/html": [
       "<pre style=\"white-space:pre;overflow-x:auto;line-height:normal;font-family:Menlo,'DejaVu Sans Mono',consolas,'Courier New',monospace\"></pre>\n"
      ],
      "text/plain": []
     },
     "metadata": {},
     "output_type": "display_data"
    },
    {
     "data": {
      "application/vnd.jupyter.widget-view+json": {
       "model_id": "ec755cfa09d8425bb8b92878dd1533fd",
       "version_major": 2,
       "version_minor": 0
      },
      "text/plain": [
       "Output()"
      ]
     },
     "metadata": {},
     "output_type": "display_data"
    },
    {
     "name": "stdout",
     "output_type": "stream",
     "text": [
      "Trial 60 finished. Final Reconstruction Loss: 0.0132\n",
      "\n",
      "============================== Running Trial 61/288 ==============================\n",
      "Current Parameter Combination: lat_dim: 5, hidden_size: 200, lr: 0.0005, num_layers: 2, emb_dim: 128, weight_decay: 1e-06, batch_size: 32\n"
     ]
    },
    {
     "data": {
      "text/html": [
       "<pre style=\"white-space:pre;overflow-x:auto;line-height:normal;font-family:Menlo,'DejaVu Sans Mono',consolas,'Courier New',monospace\"></pre>\n"
      ],
      "text/plain": []
     },
     "metadata": {},
     "output_type": "display_data"
    },
    {
     "data": {
      "application/vnd.jupyter.widget-view+json": {
       "model_id": "3ddb2a2444764a36b4a8a8de39ab1ff6",
       "version_major": 2,
       "version_minor": 0
      },
      "text/plain": [
       "Output()"
      ]
     },
     "metadata": {},
     "output_type": "display_data"
    },
    {
     "name": "stdout",
     "output_type": "stream",
     "text": [
      "Trial 61 finished. Final Reconstruction Loss: 0.0117\n",
      "\n",
      "============================== Running Trial 62/288 ==============================\n",
      "Current Parameter Combination: lat_dim: 5, hidden_size: 200, lr: 0.0005, num_layers: 2, emb_dim: 128, weight_decay: 1e-06, batch_size: 50\n"
     ]
    },
    {
     "data": {
      "text/html": [
       "<pre style=\"white-space:pre;overflow-x:auto;line-height:normal;font-family:Menlo,'DejaVu Sans Mono',consolas,'Courier New',monospace\"></pre>\n"
      ],
      "text/plain": []
     },
     "metadata": {},
     "output_type": "display_data"
    },
    {
     "data": {
      "application/vnd.jupyter.widget-view+json": {
       "model_id": "7088111d9ae94518a13e20d4debf6e3b",
       "version_major": 2,
       "version_minor": 0
      },
      "text/plain": [
       "Output()"
      ]
     },
     "metadata": {},
     "output_type": "display_data"
    },
    {
     "name": "stdout",
     "output_type": "stream",
     "text": [
      "Trial 62 finished. Final Reconstruction Loss: 0.0141\n",
      "\n",
      "============================== Running Trial 63/288 ==============================\n",
      "Current Parameter Combination: lat_dim: 5, hidden_size: 200, lr: 0.0005, num_layers: 2, emb_dim: 128, weight_decay: 1e-05, batch_size: 32\n"
     ]
    },
    {
     "data": {
      "text/html": [
       "<pre style=\"white-space:pre;overflow-x:auto;line-height:normal;font-family:Menlo,'DejaVu Sans Mono',consolas,'Courier New',monospace\"></pre>\n"
      ],
      "text/plain": []
     },
     "metadata": {},
     "output_type": "display_data"
    },
    {
     "data": {
      "application/vnd.jupyter.widget-view+json": {
       "model_id": "73011ef703504867903779d46706825e",
       "version_major": 2,
       "version_minor": 0
      },
      "text/plain": [
       "Output()"
      ]
     },
     "metadata": {},
     "output_type": "display_data"
    },
    {
     "name": "stdout",
     "output_type": "stream",
     "text": [
      "Trial 63 finished. Final Reconstruction Loss: 0.0108\n",
      "\n",
      "============================== Running Trial 64/288 ==============================\n",
      "Current Parameter Combination: lat_dim: 5, hidden_size: 200, lr: 0.0005, num_layers: 2, emb_dim: 128, weight_decay: 1e-05, batch_size: 50\n"
     ]
    },
    {
     "data": {
      "text/html": [
       "<pre style=\"white-space:pre;overflow-x:auto;line-height:normal;font-family:Menlo,'DejaVu Sans Mono',consolas,'Courier New',monospace\"></pre>\n"
      ],
      "text/plain": []
     },
     "metadata": {},
     "output_type": "display_data"
    },
    {
     "data": {
      "application/vnd.jupyter.widget-view+json": {
       "model_id": "45024f632c42424da1d1f8b0198997df",
       "version_major": 2,
       "version_minor": 0
      },
      "text/plain": [
       "Output()"
      ]
     },
     "metadata": {},
     "output_type": "display_data"
    },
    {
     "name": "stdout",
     "output_type": "stream",
     "text": [
      "Trial 64 finished. Final Reconstruction Loss: 0.0126\n",
      "\n",
      "============================== Running Trial 65/288 ==============================\n",
      "Current Parameter Combination: lat_dim: 5, hidden_size: 250, lr: 0.0001, num_layers: 1, emb_dim: 64, weight_decay: 1e-06, batch_size: 32\n"
     ]
    },
    {
     "data": {
      "text/html": [
       "<pre style=\"white-space:pre;overflow-x:auto;line-height:normal;font-family:Menlo,'DejaVu Sans Mono',consolas,'Courier New',monospace\"></pre>\n"
      ],
      "text/plain": []
     },
     "metadata": {},
     "output_type": "display_data"
    },
    {
     "data": {
      "application/vnd.jupyter.widget-view+json": {
       "model_id": "840bcb286c4f416cade7674d14d5b821",
       "version_major": 2,
       "version_minor": 0
      },
      "text/plain": [
       "Output()"
      ]
     },
     "metadata": {},
     "output_type": "display_data"
    },
    {
     "name": "stdout",
     "output_type": "stream",
     "text": [
      "Trial 65 finished. Final Reconstruction Loss: 0.5631\n",
      "\n",
      "============================== Running Trial 66/288 ==============================\n",
      "Current Parameter Combination: lat_dim: 5, hidden_size: 250, lr: 0.0001, num_layers: 1, emb_dim: 64, weight_decay: 1e-06, batch_size: 50\n"
     ]
    },
    {
     "data": {
      "text/html": [
       "<pre style=\"white-space:pre;overflow-x:auto;line-height:normal;font-family:Menlo,'DejaVu Sans Mono',consolas,'Courier New',monospace\"></pre>\n"
      ],
      "text/plain": []
     },
     "metadata": {},
     "output_type": "display_data"
    },
    {
     "data": {
      "application/vnd.jupyter.widget-view+json": {
       "model_id": "7fbff57e314d4fbfa6328f74d94ad109",
       "version_major": 2,
       "version_minor": 0
      },
      "text/plain": [
       "Output()"
      ]
     },
     "metadata": {},
     "output_type": "display_data"
    },
    {
     "name": "stdout",
     "output_type": "stream",
     "text": [
      "Trial 66 finished. Final Reconstruction Loss: 0.4672\n",
      "\n",
      "============================== Running Trial 67/288 ==============================\n",
      "Current Parameter Combination: lat_dim: 5, hidden_size: 250, lr: 0.0001, num_layers: 1, emb_dim: 64, weight_decay: 1e-05, batch_size: 32\n"
     ]
    },
    {
     "data": {
      "text/html": [
       "<pre style=\"white-space:pre;overflow-x:auto;line-height:normal;font-family:Menlo,'DejaVu Sans Mono',consolas,'Courier New',monospace\"></pre>\n"
      ],
      "text/plain": []
     },
     "metadata": {},
     "output_type": "display_data"
    },
    {
     "data": {
      "application/vnd.jupyter.widget-view+json": {
       "model_id": "7be0f7852c8d430482d6b2bbdc56a8ec",
       "version_major": 2,
       "version_minor": 0
      },
      "text/plain": [
       "Output()"
      ]
     },
     "metadata": {},
     "output_type": "display_data"
    },
    {
     "name": "stdout",
     "output_type": "stream",
     "text": [
      "Trial 67 finished. Final Reconstruction Loss: 0.7808\n",
      "\n",
      "============================== Running Trial 68/288 ==============================\n",
      "Current Parameter Combination: lat_dim: 5, hidden_size: 250, lr: 0.0001, num_layers: 1, emb_dim: 64, weight_decay: 1e-05, batch_size: 50\n"
     ]
    },
    {
     "data": {
      "text/html": [
       "<pre style=\"white-space:pre;overflow-x:auto;line-height:normal;font-family:Menlo,'DejaVu Sans Mono',consolas,'Courier New',monospace\"></pre>\n"
      ],
      "text/plain": []
     },
     "metadata": {},
     "output_type": "display_data"
    },
    {
     "data": {
      "application/vnd.jupyter.widget-view+json": {
       "model_id": "07cf3b9f36f94926aa0d08fb5df39261",
       "version_major": 2,
       "version_minor": 0
      },
      "text/plain": [
       "Output()"
      ]
     },
     "metadata": {},
     "output_type": "display_data"
    },
    {
     "name": "stdout",
     "output_type": "stream",
     "text": [
      "Trial 68 finished. Final Reconstruction Loss: 0.5912\n",
      "\n",
      "============================== Running Trial 69/288 ==============================\n",
      "Current Parameter Combination: lat_dim: 5, hidden_size: 250, lr: 0.0001, num_layers: 1, emb_dim: 128, weight_decay: 1e-06, batch_size: 32\n"
     ]
    },
    {
     "data": {
      "text/html": [
       "<pre style=\"white-space:pre;overflow-x:auto;line-height:normal;font-family:Menlo,'DejaVu Sans Mono',consolas,'Courier New',monospace\"></pre>\n"
      ],
      "text/plain": []
     },
     "metadata": {},
     "output_type": "display_data"
    },
    {
     "data": {
      "application/vnd.jupyter.widget-view+json": {
       "model_id": "c8765bb009b74b2ba116633ae5b17e59",
       "version_major": 2,
       "version_minor": 0
      },
      "text/plain": [
       "Output()"
      ]
     },
     "metadata": {},
     "output_type": "display_data"
    },
    {
     "name": "stdout",
     "output_type": "stream",
     "text": [
      "Trial 69 finished. Final Reconstruction Loss: 0.4200\n",
      "\n",
      "============================== Running Trial 70/288 ==============================\n",
      "Current Parameter Combination: lat_dim: 5, hidden_size: 250, lr: 0.0001, num_layers: 1, emb_dim: 128, weight_decay: 1e-06, batch_size: 50\n"
     ]
    },
    {
     "data": {
      "text/html": [
       "<pre style=\"white-space:pre;overflow-x:auto;line-height:normal;font-family:Menlo,'DejaVu Sans Mono',consolas,'Courier New',monospace\"></pre>\n"
      ],
      "text/plain": []
     },
     "metadata": {},
     "output_type": "display_data"
    },
    {
     "data": {
      "application/vnd.jupyter.widget-view+json": {
       "model_id": "eede8785a06847cc802d924411f0d21c",
       "version_major": 2,
       "version_minor": 0
      },
      "text/plain": [
       "Output()"
      ]
     },
     "metadata": {},
     "output_type": "display_data"
    },
    {
     "name": "stdout",
     "output_type": "stream",
     "text": [
      "Trial 70 finished. Final Reconstruction Loss: 0.3005\n",
      "\n",
      "============================== Running Trial 71/288 ==============================\n",
      "Current Parameter Combination: lat_dim: 5, hidden_size: 250, lr: 0.0001, num_layers: 1, emb_dim: 128, weight_decay: 1e-05, batch_size: 32\n"
     ]
    },
    {
     "data": {
      "text/html": [
       "<pre style=\"white-space:pre;overflow-x:auto;line-height:normal;font-family:Menlo,'DejaVu Sans Mono',consolas,'Courier New',monospace\"></pre>\n"
      ],
      "text/plain": []
     },
     "metadata": {},
     "output_type": "display_data"
    },
    {
     "data": {
      "application/vnd.jupyter.widget-view+json": {
       "model_id": "82d7e1be42a34b8db7259c6f96bebef7",
       "version_major": 2,
       "version_minor": 0
      },
      "text/plain": [
       "Output()"
      ]
     },
     "metadata": {},
     "output_type": "display_data"
    },
    {
     "name": "stdout",
     "output_type": "stream",
     "text": [
      "Trial 71 finished. Final Reconstruction Loss: 0.6045\n",
      "\n",
      "============================== Running Trial 72/288 ==============================\n",
      "Current Parameter Combination: lat_dim: 5, hidden_size: 250, lr: 0.0001, num_layers: 1, emb_dim: 128, weight_decay: 1e-05, batch_size: 50\n"
     ]
    },
    {
     "data": {
      "text/html": [
       "<pre style=\"white-space:pre;overflow-x:auto;line-height:normal;font-family:Menlo,'DejaVu Sans Mono',consolas,'Courier New',monospace\"></pre>\n"
      ],
      "text/plain": []
     },
     "metadata": {},
     "output_type": "display_data"
    },
    {
     "data": {
      "application/vnd.jupyter.widget-view+json": {
       "model_id": "1238507bf8744841826b052c0e5a7367",
       "version_major": 2,
       "version_minor": 0
      },
      "text/plain": [
       "Output()"
      ]
     },
     "metadata": {},
     "output_type": "display_data"
    },
    {
     "name": "stdout",
     "output_type": "stream",
     "text": [
      "Trial 72 finished. Final Reconstruction Loss: 0.1513\n",
      "\n",
      "============================== Running Trial 73/288 ==============================\n",
      "Current Parameter Combination: lat_dim: 5, hidden_size: 250, lr: 0.0001, num_layers: 2, emb_dim: 64, weight_decay: 1e-06, batch_size: 32\n"
     ]
    },
    {
     "data": {
      "text/html": [
       "<pre style=\"white-space:pre;overflow-x:auto;line-height:normal;font-family:Menlo,'DejaVu Sans Mono',consolas,'Courier New',monospace\"></pre>\n"
      ],
      "text/plain": []
     },
     "metadata": {},
     "output_type": "display_data"
    },
    {
     "data": {
      "application/vnd.jupyter.widget-view+json": {
       "model_id": "13c69db6514d49c7ae25eb55e799fbaa",
       "version_major": 2,
       "version_minor": 0
      },
      "text/plain": [
       "Output()"
      ]
     },
     "metadata": {},
     "output_type": "display_data"
    },
    {
     "name": "stdout",
     "output_type": "stream",
     "text": [
      "Trial 73 finished. Final Reconstruction Loss: 0.4094\n",
      "\n",
      "============================== Running Trial 74/288 ==============================\n",
      "Current Parameter Combination: lat_dim: 5, hidden_size: 250, lr: 0.0001, num_layers: 2, emb_dim: 64, weight_decay: 1e-06, batch_size: 50\n"
     ]
    },
    {
     "data": {
      "text/html": [
       "<pre style=\"white-space:pre;overflow-x:auto;line-height:normal;font-family:Menlo,'DejaVu Sans Mono',consolas,'Courier New',monospace\"></pre>\n"
      ],
      "text/plain": []
     },
     "metadata": {},
     "output_type": "display_data"
    },
    {
     "data": {
      "application/vnd.jupyter.widget-view+json": {
       "model_id": "2004ad1bb3824c7c9ac8568e87c4054c",
       "version_major": 2,
       "version_minor": 0
      },
      "text/plain": [
       "Output()"
      ]
     },
     "metadata": {},
     "output_type": "display_data"
    },
    {
     "name": "stdout",
     "output_type": "stream",
     "text": [
      "Trial 74 finished. Final Reconstruction Loss: 0.4472\n",
      "\n",
      "============================== Running Trial 75/288 ==============================\n",
      "Current Parameter Combination: lat_dim: 5, hidden_size: 250, lr: 0.0001, num_layers: 2, emb_dim: 64, weight_decay: 1e-05, batch_size: 32\n"
     ]
    },
    {
     "data": {
      "text/html": [
       "<pre style=\"white-space:pre;overflow-x:auto;line-height:normal;font-family:Menlo,'DejaVu Sans Mono',consolas,'Courier New',monospace\"></pre>\n"
      ],
      "text/plain": []
     },
     "metadata": {},
     "output_type": "display_data"
    },
    {
     "data": {
      "application/vnd.jupyter.widget-view+json": {
       "model_id": "ba17645885ca4716a4c46b5f3f4ecd91",
       "version_major": 2,
       "version_minor": 0
      },
      "text/plain": [
       "Output()"
      ]
     },
     "metadata": {},
     "output_type": "display_data"
    },
    {
     "name": "stdout",
     "output_type": "stream",
     "text": [
      "Trial 75 finished. Final Reconstruction Loss: 0.5579\n",
      "\n",
      "============================== Running Trial 76/288 ==============================\n",
      "Current Parameter Combination: lat_dim: 5, hidden_size: 250, lr: 0.0001, num_layers: 2, emb_dim: 64, weight_decay: 1e-05, batch_size: 50\n"
     ]
    },
    {
     "data": {
      "text/html": [
       "<pre style=\"white-space:pre;overflow-x:auto;line-height:normal;font-family:Menlo,'DejaVu Sans Mono',consolas,'Courier New',monospace\"></pre>\n"
      ],
      "text/plain": []
     },
     "metadata": {},
     "output_type": "display_data"
    },
    {
     "data": {
      "application/vnd.jupyter.widget-view+json": {
       "model_id": "8d01dfb601cd40a2a5f822d1e8140551",
       "version_major": 2,
       "version_minor": 0
      },
      "text/plain": [
       "Output()"
      ]
     },
     "metadata": {},
     "output_type": "display_data"
    },
    {
     "name": "stdout",
     "output_type": "stream",
     "text": [
      "Trial 76 finished. Final Reconstruction Loss: 0.4612\n",
      "\n",
      "============================== Running Trial 77/288 ==============================\n",
      "Current Parameter Combination: lat_dim: 5, hidden_size: 250, lr: 0.0001, num_layers: 2, emb_dim: 128, weight_decay: 1e-06, batch_size: 32\n"
     ]
    },
    {
     "data": {
      "text/html": [
       "<pre style=\"white-space:pre;overflow-x:auto;line-height:normal;font-family:Menlo,'DejaVu Sans Mono',consolas,'Courier New',monospace\"></pre>\n"
      ],
      "text/plain": []
     },
     "metadata": {},
     "output_type": "display_data"
    },
    {
     "data": {
      "application/vnd.jupyter.widget-view+json": {
       "model_id": "1168274b3c8048baa5e5834fb9d5bec1",
       "version_major": 2,
       "version_minor": 0
      },
      "text/plain": [
       "Output()"
      ]
     },
     "metadata": {},
     "output_type": "display_data"
    },
    {
     "name": "stdout",
     "output_type": "stream",
     "text": [
      "Trial 77 finished. Final Reconstruction Loss: 0.1789\n",
      "\n",
      "============================== Running Trial 78/288 ==============================\n",
      "Current Parameter Combination: lat_dim: 5, hidden_size: 250, lr: 0.0001, num_layers: 2, emb_dim: 128, weight_decay: 1e-06, batch_size: 50\n"
     ]
    },
    {
     "data": {
      "text/html": [
       "<pre style=\"white-space:pre;overflow-x:auto;line-height:normal;font-family:Menlo,'DejaVu Sans Mono',consolas,'Courier New',monospace\"></pre>\n"
      ],
      "text/plain": []
     },
     "metadata": {},
     "output_type": "display_data"
    },
    {
     "data": {
      "application/vnd.jupyter.widget-view+json": {
       "model_id": "f5d73bb3105a498794d7a00561ce420f",
       "version_major": 2,
       "version_minor": 0
      },
      "text/plain": [
       "Output()"
      ]
     },
     "metadata": {},
     "output_type": "display_data"
    },
    {
     "name": "stdout",
     "output_type": "stream",
     "text": [
      "Trial 78 finished. Final Reconstruction Loss: 0.1864\n",
      "\n",
      "============================== Running Trial 79/288 ==============================\n",
      "Current Parameter Combination: lat_dim: 5, hidden_size: 250, lr: 0.0001, num_layers: 2, emb_dim: 128, weight_decay: 1e-05, batch_size: 32\n"
     ]
    },
    {
     "data": {
      "text/html": [
       "<pre style=\"white-space:pre;overflow-x:auto;line-height:normal;font-family:Menlo,'DejaVu Sans Mono',consolas,'Courier New',monospace\"></pre>\n"
      ],
      "text/plain": []
     },
     "metadata": {},
     "output_type": "display_data"
    },
    {
     "data": {
      "application/vnd.jupyter.widget-view+json": {
       "model_id": "cba78bf1f8df4cd284508efb79dc76be",
       "version_major": 2,
       "version_minor": 0
      },
      "text/plain": [
       "Output()"
      ]
     },
     "metadata": {},
     "output_type": "display_data"
    },
    {
     "name": "stdout",
     "output_type": "stream",
     "text": [
      "Trial 79 finished. Final Reconstruction Loss: 0.2576\n",
      "\n",
      "============================== Running Trial 80/288 ==============================\n",
      "Current Parameter Combination: lat_dim: 5, hidden_size: 250, lr: 0.0001, num_layers: 2, emb_dim: 128, weight_decay: 1e-05, batch_size: 50\n"
     ]
    },
    {
     "data": {
      "text/html": [
       "<pre style=\"white-space:pre;overflow-x:auto;line-height:normal;font-family:Menlo,'DejaVu Sans Mono',consolas,'Courier New',monospace\"></pre>\n"
      ],
      "text/plain": []
     },
     "metadata": {},
     "output_type": "display_data"
    },
    {
     "data": {
      "application/vnd.jupyter.widget-view+json": {
       "model_id": "d166bad83fe44a57b544529d6bfc7f43",
       "version_major": 2,
       "version_minor": 0
      },
      "text/plain": [
       "Output()"
      ]
     },
     "metadata": {},
     "output_type": "display_data"
    },
    {
     "name": "stdout",
     "output_type": "stream",
     "text": [
      "Trial 80 finished. Final Reconstruction Loss: 0.4255\n",
      "\n",
      "============================== Running Trial 81/288 ==============================\n",
      "Current Parameter Combination: lat_dim: 5, hidden_size: 250, lr: 0.0005, num_layers: 1, emb_dim: 64, weight_decay: 1e-06, batch_size: 32\n"
     ]
    },
    {
     "data": {
      "text/html": [
       "<pre style=\"white-space:pre;overflow-x:auto;line-height:normal;font-family:Menlo,'DejaVu Sans Mono',consolas,'Courier New',monospace\"></pre>\n"
      ],
      "text/plain": []
     },
     "metadata": {},
     "output_type": "display_data"
    },
    {
     "data": {
      "application/vnd.jupyter.widget-view+json": {
       "model_id": "bbe40a3d7a0c487bb322fc05bdba2b44",
       "version_major": 2,
       "version_minor": 0
      },
      "text/plain": [
       "Output()"
      ]
     },
     "metadata": {},
     "output_type": "display_data"
    },
    {
     "name": "stdout",
     "output_type": "stream",
     "text": [
      "Trial 81 finished. Final Reconstruction Loss: 0.0122\n",
      "\n",
      "============================== Running Trial 82/288 ==============================\n",
      "Current Parameter Combination: lat_dim: 5, hidden_size: 250, lr: 0.0005, num_layers: 1, emb_dim: 64, weight_decay: 1e-06, batch_size: 50\n"
     ]
    },
    {
     "data": {
      "text/html": [
       "<pre style=\"white-space:pre;overflow-x:auto;line-height:normal;font-family:Menlo,'DejaVu Sans Mono',consolas,'Courier New',monospace\"></pre>\n"
      ],
      "text/plain": []
     },
     "metadata": {},
     "output_type": "display_data"
    },
    {
     "data": {
      "application/vnd.jupyter.widget-view+json": {
       "model_id": "15ce2e63900f46c1a40d18e2b21e93fd",
       "version_major": 2,
       "version_minor": 0
      },
      "text/plain": [
       "Output()"
      ]
     },
     "metadata": {},
     "output_type": "display_data"
    },
    {
     "name": "stdout",
     "output_type": "stream",
     "text": [
      "Trial 82 finished. Final Reconstruction Loss: 0.0119\n",
      "\n",
      "============================== Running Trial 83/288 ==============================\n",
      "Current Parameter Combination: lat_dim: 5, hidden_size: 250, lr: 0.0005, num_layers: 1, emb_dim: 64, weight_decay: 1e-05, batch_size: 32\n"
     ]
    },
    {
     "data": {
      "text/html": [
       "<pre style=\"white-space:pre;overflow-x:auto;line-height:normal;font-family:Menlo,'DejaVu Sans Mono',consolas,'Courier New',monospace\"></pre>\n"
      ],
      "text/plain": []
     },
     "metadata": {},
     "output_type": "display_data"
    },
    {
     "data": {
      "application/vnd.jupyter.widget-view+json": {
       "model_id": "9bd3970c797b40189106a8931edb2006",
       "version_major": 2,
       "version_minor": 0
      },
      "text/plain": [
       "Output()"
      ]
     },
     "metadata": {},
     "output_type": "display_data"
    },
    {
     "name": "stdout",
     "output_type": "stream",
     "text": [
      "Trial 83 finished. Final Reconstruction Loss: 0.0130\n",
      "\n",
      "============================== Running Trial 84/288 ==============================\n",
      "Current Parameter Combination: lat_dim: 5, hidden_size: 250, lr: 0.0005, num_layers: 1, emb_dim: 64, weight_decay: 1e-05, batch_size: 50\n"
     ]
    },
    {
     "data": {
      "text/html": [
       "<pre style=\"white-space:pre;overflow-x:auto;line-height:normal;font-family:Menlo,'DejaVu Sans Mono',consolas,'Courier New',monospace\"></pre>\n"
      ],
      "text/plain": []
     },
     "metadata": {},
     "output_type": "display_data"
    },
    {
     "data": {
      "application/vnd.jupyter.widget-view+json": {
       "model_id": "a31a98c7219b4319b29623290c4ccb0b",
       "version_major": 2,
       "version_minor": 0
      },
      "text/plain": [
       "Output()"
      ]
     },
     "metadata": {},
     "output_type": "display_data"
    },
    {
     "name": "stdout",
     "output_type": "stream",
     "text": [
      "Trial 84 finished. Final Reconstruction Loss: 0.0096\n",
      "\n",
      "============================== Running Trial 85/288 ==============================\n",
      "Current Parameter Combination: lat_dim: 5, hidden_size: 250, lr: 0.0005, num_layers: 1, emb_dim: 128, weight_decay: 1e-06, batch_size: 32\n"
     ]
    },
    {
     "data": {
      "text/html": [
       "<pre style=\"white-space:pre;overflow-x:auto;line-height:normal;font-family:Menlo,'DejaVu Sans Mono',consolas,'Courier New',monospace\"></pre>\n"
      ],
      "text/plain": []
     },
     "metadata": {},
     "output_type": "display_data"
    },
    {
     "data": {
      "application/vnd.jupyter.widget-view+json": {
       "model_id": "e27a15d30d9f480bb38a5e04c2fce479",
       "version_major": 2,
       "version_minor": 0
      },
      "text/plain": [
       "Output()"
      ]
     },
     "metadata": {},
     "output_type": "display_data"
    },
    {
     "name": "stdout",
     "output_type": "stream",
     "text": [
      "Trial 85 finished. Final Reconstruction Loss: 0.0164\n",
      "\n",
      "============================== Running Trial 86/288 ==============================\n",
      "Current Parameter Combination: lat_dim: 5, hidden_size: 250, lr: 0.0005, num_layers: 1, emb_dim: 128, weight_decay: 1e-06, batch_size: 50\n"
     ]
    },
    {
     "data": {
      "text/html": [
       "<pre style=\"white-space:pre;overflow-x:auto;line-height:normal;font-family:Menlo,'DejaVu Sans Mono',consolas,'Courier New',monospace\"></pre>\n"
      ],
      "text/plain": []
     },
     "metadata": {},
     "output_type": "display_data"
    },
    {
     "data": {
      "application/vnd.jupyter.widget-view+json": {
       "model_id": "7eb56f38376c4f71a5d19427141d32ed",
       "version_major": 2,
       "version_minor": 0
      },
      "text/plain": [
       "Output()"
      ]
     },
     "metadata": {},
     "output_type": "display_data"
    },
    {
     "name": "stdout",
     "output_type": "stream",
     "text": [
      "Trial 86 finished. Final Reconstruction Loss: 0.0083\n",
      "\n",
      "============================== Running Trial 87/288 ==============================\n",
      "Current Parameter Combination: lat_dim: 5, hidden_size: 250, lr: 0.0005, num_layers: 1, emb_dim: 128, weight_decay: 1e-05, batch_size: 32\n"
     ]
    },
    {
     "data": {
      "text/html": [
       "<pre style=\"white-space:pre;overflow-x:auto;line-height:normal;font-family:Menlo,'DejaVu Sans Mono',consolas,'Courier New',monospace\"></pre>\n"
      ],
      "text/plain": []
     },
     "metadata": {},
     "output_type": "display_data"
    },
    {
     "data": {
      "application/vnd.jupyter.widget-view+json": {
       "model_id": "7c1512aefb8c49019b7900bfd6dda74c",
       "version_major": 2,
       "version_minor": 0
      },
      "text/plain": [
       "Output()"
      ]
     },
     "metadata": {},
     "output_type": "display_data"
    },
    {
     "name": "stdout",
     "output_type": "stream",
     "text": [
      "Trial 87 finished. Final Reconstruction Loss: 0.0072\n",
      "\n",
      "============================== Running Trial 88/288 ==============================\n",
      "Current Parameter Combination: lat_dim: 5, hidden_size: 250, lr: 0.0005, num_layers: 1, emb_dim: 128, weight_decay: 1e-05, batch_size: 50\n"
     ]
    },
    {
     "data": {
      "text/html": [
       "<pre style=\"white-space:pre;overflow-x:auto;line-height:normal;font-family:Menlo,'DejaVu Sans Mono',consolas,'Courier New',monospace\"></pre>\n"
      ],
      "text/plain": []
     },
     "metadata": {},
     "output_type": "display_data"
    },
    {
     "data": {
      "application/vnd.jupyter.widget-view+json": {
       "model_id": "d6ac178f6aaf4243b998944c06ed498b",
       "version_major": 2,
       "version_minor": 0
      },
      "text/plain": [
       "Output()"
      ]
     },
     "metadata": {},
     "output_type": "display_data"
    },
    {
     "name": "stdout",
     "output_type": "stream",
     "text": [
      "Trial 88 finished. Final Reconstruction Loss: 0.0136\n",
      "\n",
      "============================== Running Trial 89/288 ==============================\n",
      "Current Parameter Combination: lat_dim: 5, hidden_size: 250, lr: 0.0005, num_layers: 2, emb_dim: 64, weight_decay: 1e-06, batch_size: 32\n"
     ]
    },
    {
     "data": {
      "text/html": [
       "<pre style=\"white-space:pre;overflow-x:auto;line-height:normal;font-family:Menlo,'DejaVu Sans Mono',consolas,'Courier New',monospace\"></pre>\n"
      ],
      "text/plain": []
     },
     "metadata": {},
     "output_type": "display_data"
    },
    {
     "data": {
      "application/vnd.jupyter.widget-view+json": {
       "model_id": "d0440d4d693b4988ab313c32a1a1505f",
       "version_major": 2,
       "version_minor": 0
      },
      "text/plain": [
       "Output()"
      ]
     },
     "metadata": {},
     "output_type": "display_data"
    },
    {
     "name": "stdout",
     "output_type": "stream",
     "text": [
      "Trial 89 finished. Final Reconstruction Loss: 0.0146\n",
      "\n",
      "============================== Running Trial 90/288 ==============================\n",
      "Current Parameter Combination: lat_dim: 5, hidden_size: 250, lr: 0.0005, num_layers: 2, emb_dim: 64, weight_decay: 1e-06, batch_size: 50\n"
     ]
    },
    {
     "data": {
      "text/html": [
       "<pre style=\"white-space:pre;overflow-x:auto;line-height:normal;font-family:Menlo,'DejaVu Sans Mono',consolas,'Courier New',monospace\"></pre>\n"
      ],
      "text/plain": []
     },
     "metadata": {},
     "output_type": "display_data"
    },
    {
     "data": {
      "application/vnd.jupyter.widget-view+json": {
       "model_id": "5e0f325fc5be4d26bcec943e6e06081b",
       "version_major": 2,
       "version_minor": 0
      },
      "text/plain": [
       "Output()"
      ]
     },
     "metadata": {},
     "output_type": "display_data"
    },
    {
     "name": "stdout",
     "output_type": "stream",
     "text": [
      "Trial 90 finished. Final Reconstruction Loss: 0.0180\n",
      "\n",
      "============================== Running Trial 91/288 ==============================\n",
      "Current Parameter Combination: lat_dim: 5, hidden_size: 250, lr: 0.0005, num_layers: 2, emb_dim: 64, weight_decay: 1e-05, batch_size: 32\n"
     ]
    },
    {
     "data": {
      "text/html": [
       "<pre style=\"white-space:pre;overflow-x:auto;line-height:normal;font-family:Menlo,'DejaVu Sans Mono',consolas,'Courier New',monospace\"></pre>\n"
      ],
      "text/plain": []
     },
     "metadata": {},
     "output_type": "display_data"
    },
    {
     "data": {
      "application/vnd.jupyter.widget-view+json": {
       "model_id": "4d692f38d6b24381a485ca8879811257",
       "version_major": 2,
       "version_minor": 0
      },
      "text/plain": [
       "Output()"
      ]
     },
     "metadata": {},
     "output_type": "display_data"
    },
    {
     "name": "stdout",
     "output_type": "stream",
     "text": [
      "Trial 91 finished. Final Reconstruction Loss: 0.0076\n",
      "\n",
      "============================== Running Trial 92/288 ==============================\n",
      "Current Parameter Combination: lat_dim: 5, hidden_size: 250, lr: 0.0005, num_layers: 2, emb_dim: 64, weight_decay: 1e-05, batch_size: 50\n"
     ]
    },
    {
     "data": {
      "text/html": [
       "<pre style=\"white-space:pre;overflow-x:auto;line-height:normal;font-family:Menlo,'DejaVu Sans Mono',consolas,'Courier New',monospace\"></pre>\n"
      ],
      "text/plain": []
     },
     "metadata": {},
     "output_type": "display_data"
    },
    {
     "data": {
      "application/vnd.jupyter.widget-view+json": {
       "model_id": "ddc2070b00474c9fa085c2b03190863b",
       "version_major": 2,
       "version_minor": 0
      },
      "text/plain": [
       "Output()"
      ]
     },
     "metadata": {},
     "output_type": "display_data"
    },
    {
     "name": "stdout",
     "output_type": "stream",
     "text": [
      "Trial 92 finished. Final Reconstruction Loss: 0.0099\n",
      "\n",
      "============================== Running Trial 93/288 ==============================\n",
      "Current Parameter Combination: lat_dim: 5, hidden_size: 250, lr: 0.0005, num_layers: 2, emb_dim: 128, weight_decay: 1e-06, batch_size: 32\n"
     ]
    },
    {
     "data": {
      "text/html": [
       "<pre style=\"white-space:pre;overflow-x:auto;line-height:normal;font-family:Menlo,'DejaVu Sans Mono',consolas,'Courier New',monospace\"></pre>\n"
      ],
      "text/plain": []
     },
     "metadata": {},
     "output_type": "display_data"
    },
    {
     "data": {
      "application/vnd.jupyter.widget-view+json": {
       "model_id": "556fffbe39454ba3a9cb4c0d12406972",
       "version_major": 2,
       "version_minor": 0
      },
      "text/plain": [
       "Output()"
      ]
     },
     "metadata": {},
     "output_type": "display_data"
    },
    {
     "name": "stdout",
     "output_type": "stream",
     "text": [
      "Trial 93 finished. Final Reconstruction Loss: 0.0124\n",
      "\n",
      "============================== Running Trial 94/288 ==============================\n",
      "Current Parameter Combination: lat_dim: 5, hidden_size: 250, lr: 0.0005, num_layers: 2, emb_dim: 128, weight_decay: 1e-06, batch_size: 50\n"
     ]
    },
    {
     "data": {
      "text/html": [
       "<pre style=\"white-space:pre;overflow-x:auto;line-height:normal;font-family:Menlo,'DejaVu Sans Mono',consolas,'Courier New',monospace\"></pre>\n"
      ],
      "text/plain": []
     },
     "metadata": {},
     "output_type": "display_data"
    },
    {
     "data": {
      "application/vnd.jupyter.widget-view+json": {
       "model_id": "e7926e17df514235995d4f41c4c757ec",
       "version_major": 2,
       "version_minor": 0
      },
      "text/plain": [
       "Output()"
      ]
     },
     "metadata": {},
     "output_type": "display_data"
    },
    {
     "name": "stdout",
     "output_type": "stream",
     "text": [
      "Trial 94 finished. Final Reconstruction Loss: 0.0093\n",
      "\n",
      "============================== Running Trial 95/288 ==============================\n",
      "Current Parameter Combination: lat_dim: 5, hidden_size: 250, lr: 0.0005, num_layers: 2, emb_dim: 128, weight_decay: 1e-05, batch_size: 32\n"
     ]
    },
    {
     "data": {
      "text/html": [
       "<pre style=\"white-space:pre;overflow-x:auto;line-height:normal;font-family:Menlo,'DejaVu Sans Mono',consolas,'Courier New',monospace\"></pre>\n"
      ],
      "text/plain": []
     },
     "metadata": {},
     "output_type": "display_data"
    },
    {
     "data": {
      "application/vnd.jupyter.widget-view+json": {
       "model_id": "ba6fa04ed34f4044a30a3e458e812b26",
       "version_major": 2,
       "version_minor": 0
      },
      "text/plain": [
       "Output()"
      ]
     },
     "metadata": {},
     "output_type": "display_data"
    },
    {
     "name": "stdout",
     "output_type": "stream",
     "text": [
      "Trial 95 finished. Final Reconstruction Loss: 0.0149\n",
      "\n",
      "============================== Running Trial 96/288 ==============================\n",
      "Current Parameter Combination: lat_dim: 5, hidden_size: 250, lr: 0.0005, num_layers: 2, emb_dim: 128, weight_decay: 1e-05, batch_size: 50\n"
     ]
    },
    {
     "data": {
      "text/html": [
       "<pre style=\"white-space:pre;overflow-x:auto;line-height:normal;font-family:Menlo,'DejaVu Sans Mono',consolas,'Courier New',monospace\"></pre>\n"
      ],
      "text/plain": []
     },
     "metadata": {},
     "output_type": "display_data"
    },
    {
     "data": {
      "application/vnd.jupyter.widget-view+json": {
       "model_id": "1527e1a3ab144f77a6ebe4a9a1f7ae63",
       "version_major": 2,
       "version_minor": 0
      },
      "text/plain": [
       "Output()"
      ]
     },
     "metadata": {},
     "output_type": "display_data"
    },
    {
     "name": "stdout",
     "output_type": "stream",
     "text": [
      "Trial 96 finished. Final Reconstruction Loss: 0.0115\n",
      "\n",
      "============================== Running Trial 97/288 ==============================\n",
      "Current Parameter Combination: lat_dim: 7, hidden_size: 150, lr: 0.0001, num_layers: 1, emb_dim: 64, weight_decay: 1e-06, batch_size: 32\n"
     ]
    },
    {
     "data": {
      "text/html": [
       "<pre style=\"white-space:pre;overflow-x:auto;line-height:normal;font-family:Menlo,'DejaVu Sans Mono',consolas,'Courier New',monospace\"></pre>\n"
      ],
      "text/plain": []
     },
     "metadata": {},
     "output_type": "display_data"
    },
    {
     "data": {
      "application/vnd.jupyter.widget-view+json": {
       "model_id": "69a2ff1dda9a415eb3a08d61052221a9",
       "version_major": 2,
       "version_minor": 0
      },
      "text/plain": [
       "Output()"
      ]
     },
     "metadata": {},
     "output_type": "display_data"
    },
    {
     "name": "stdout",
     "output_type": "stream",
     "text": [
      "Trial 97 finished. Final Reconstruction Loss: 0.9141\n",
      "\n",
      "============================== Running Trial 98/288 ==============================\n",
      "Current Parameter Combination: lat_dim: 7, hidden_size: 150, lr: 0.0001, num_layers: 1, emb_dim: 64, weight_decay: 1e-06, batch_size: 50\n"
     ]
    },
    {
     "data": {
      "text/html": [
       "<pre style=\"white-space:pre;overflow-x:auto;line-height:normal;font-family:Menlo,'DejaVu Sans Mono',consolas,'Courier New',monospace\"></pre>\n"
      ],
      "text/plain": []
     },
     "metadata": {},
     "output_type": "display_data"
    },
    {
     "data": {
      "application/vnd.jupyter.widget-view+json": {
       "model_id": "6adacfaf0e7d419b9cb733bce134a679",
       "version_major": 2,
       "version_minor": 0
      },
      "text/plain": [
       "Output()"
      ]
     },
     "metadata": {},
     "output_type": "display_data"
    },
    {
     "name": "stdout",
     "output_type": "stream",
     "text": [
      "Trial 98 finished. Final Reconstruction Loss: 0.8228\n",
      "\n",
      "============================== Running Trial 99/288 ==============================\n",
      "Current Parameter Combination: lat_dim: 7, hidden_size: 150, lr: 0.0001, num_layers: 1, emb_dim: 64, weight_decay: 1e-05, batch_size: 32\n"
     ]
    },
    {
     "data": {
      "text/html": [
       "<pre style=\"white-space:pre;overflow-x:auto;line-height:normal;font-family:Menlo,'DejaVu Sans Mono',consolas,'Courier New',monospace\"></pre>\n"
      ],
      "text/plain": []
     },
     "metadata": {},
     "output_type": "display_data"
    },
    {
     "data": {
      "application/vnd.jupyter.widget-view+json": {
       "model_id": "bbecc6d7899040a2a212711477051c05",
       "version_major": 2,
       "version_minor": 0
      },
      "text/plain": [
       "Output()"
      ]
     },
     "metadata": {},
     "output_type": "display_data"
    },
    {
     "name": "stdout",
     "output_type": "stream",
     "text": [
      "Trial 99 finished. Final Reconstruction Loss: 0.9305\n",
      "\n",
      "============================== Running Trial 100/288 ==============================\n",
      "Current Parameter Combination: lat_dim: 7, hidden_size: 150, lr: 0.0001, num_layers: 1, emb_dim: 64, weight_decay: 1e-05, batch_size: 50\n"
     ]
    },
    {
     "data": {
      "text/html": [
       "<pre style=\"white-space:pre;overflow-x:auto;line-height:normal;font-family:Menlo,'DejaVu Sans Mono',consolas,'Courier New',monospace\"></pre>\n"
      ],
      "text/plain": []
     },
     "metadata": {},
     "output_type": "display_data"
    },
    {
     "data": {
      "application/vnd.jupyter.widget-view+json": {
       "model_id": "d7d01c3be53944fdbeff7d8c90891bee",
       "version_major": 2,
       "version_minor": 0
      },
      "text/plain": [
       "Output()"
      ]
     },
     "metadata": {},
     "output_type": "display_data"
    },
    {
     "name": "stdout",
     "output_type": "stream",
     "text": [
      "Trial 100 finished. Final Reconstruction Loss: 0.9414\n",
      "\n",
      "============================== Running Trial 101/288 ==============================\n",
      "Current Parameter Combination: lat_dim: 7, hidden_size: 150, lr: 0.0001, num_layers: 1, emb_dim: 128, weight_decay: 1e-06, batch_size: 32\n"
     ]
    },
    {
     "data": {
      "text/html": [
       "<pre style=\"white-space:pre;overflow-x:auto;line-height:normal;font-family:Menlo,'DejaVu Sans Mono',consolas,'Courier New',monospace\"></pre>\n"
      ],
      "text/plain": []
     },
     "metadata": {},
     "output_type": "display_data"
    },
    {
     "data": {
      "application/vnd.jupyter.widget-view+json": {
       "model_id": "e12844c6732a4b4181dbb40800b63d7b",
       "version_major": 2,
       "version_minor": 0
      },
      "text/plain": [
       "Output()"
      ]
     },
     "metadata": {},
     "output_type": "display_data"
    },
    {
     "name": "stdout",
     "output_type": "stream",
     "text": [
      "Trial 101 finished. Final Reconstruction Loss: 0.8933\n",
      "\n",
      "============================== Running Trial 102/288 ==============================\n",
      "Current Parameter Combination: lat_dim: 7, hidden_size: 150, lr: 0.0001, num_layers: 1, emb_dim: 128, weight_decay: 1e-06, batch_size: 50\n"
     ]
    },
    {
     "data": {
      "text/html": [
       "<pre style=\"white-space:pre;overflow-x:auto;line-height:normal;font-family:Menlo,'DejaVu Sans Mono',consolas,'Courier New',monospace\"></pre>\n"
      ],
      "text/plain": []
     },
     "metadata": {},
     "output_type": "display_data"
    },
    {
     "data": {
      "application/vnd.jupyter.widget-view+json": {
       "model_id": "4e351d1bb1124382a41453663c18ec48",
       "version_major": 2,
       "version_minor": 0
      },
      "text/plain": [
       "Output()"
      ]
     },
     "metadata": {},
     "output_type": "display_data"
    },
    {
     "name": "stdout",
     "output_type": "stream",
     "text": [
      "Trial 102 finished. Final Reconstruction Loss: 0.5429\n",
      "\n",
      "============================== Running Trial 103/288 ==============================\n",
      "Current Parameter Combination: lat_dim: 7, hidden_size: 150, lr: 0.0001, num_layers: 1, emb_dim: 128, weight_decay: 1e-05, batch_size: 32\n"
     ]
    },
    {
     "data": {
      "text/html": [
       "<pre style=\"white-space:pre;overflow-x:auto;line-height:normal;font-family:Menlo,'DejaVu Sans Mono',consolas,'Courier New',monospace\"></pre>\n"
      ],
      "text/plain": []
     },
     "metadata": {},
     "output_type": "display_data"
    },
    {
     "data": {
      "application/vnd.jupyter.widget-view+json": {
       "model_id": "e6c5f6c53065415c8c5e2c0edb99a92c",
       "version_major": 2,
       "version_minor": 0
      },
      "text/plain": [
       "Output()"
      ]
     },
     "metadata": {},
     "output_type": "display_data"
    },
    {
     "name": "stdout",
     "output_type": "stream",
     "text": [
      "Trial 103 finished. Final Reconstruction Loss: 0.3320\n",
      "\n",
      "============================== Running Trial 104/288 ==============================\n",
      "Current Parameter Combination: lat_dim: 7, hidden_size: 150, lr: 0.0001, num_layers: 1, emb_dim: 128, weight_decay: 1e-05, batch_size: 50\n"
     ]
    },
    {
     "data": {
      "text/html": [
       "<pre style=\"white-space:pre;overflow-x:auto;line-height:normal;font-family:Menlo,'DejaVu Sans Mono',consolas,'Courier New',monospace\"></pre>\n"
      ],
      "text/plain": []
     },
     "metadata": {},
     "output_type": "display_data"
    },
    {
     "data": {
      "application/vnd.jupyter.widget-view+json": {
       "model_id": "3e5c3f34a82840d69b7bd6ba1216250f",
       "version_major": 2,
       "version_minor": 0
      },
      "text/plain": [
       "Output()"
      ]
     },
     "metadata": {},
     "output_type": "display_data"
    },
    {
     "name": "stdout",
     "output_type": "stream",
     "text": [
      "Trial 104 finished. Final Reconstruction Loss: 0.7035\n",
      "\n",
      "============================== Running Trial 105/288 ==============================\n",
      "Current Parameter Combination: lat_dim: 7, hidden_size: 150, lr: 0.0001, num_layers: 2, emb_dim: 64, weight_decay: 1e-06, batch_size: 32\n"
     ]
    },
    {
     "data": {
      "text/html": [
       "<pre style=\"white-space:pre;overflow-x:auto;line-height:normal;font-family:Menlo,'DejaVu Sans Mono',consolas,'Courier New',monospace\"></pre>\n"
      ],
      "text/plain": []
     },
     "metadata": {},
     "output_type": "display_data"
    },
    {
     "data": {
      "application/vnd.jupyter.widget-view+json": {
       "model_id": "379eb3c9365b4f4d8475fe9ac43a03bd",
       "version_major": 2,
       "version_minor": 0
      },
      "text/plain": [
       "Output()"
      ]
     },
     "metadata": {},
     "output_type": "display_data"
    },
    {
     "name": "stdout",
     "output_type": "stream",
     "text": [
      "Trial 105 finished. Final Reconstruction Loss: 1.0188\n",
      "\n",
      "============================== Running Trial 106/288 ==============================\n",
      "Current Parameter Combination: lat_dim: 7, hidden_size: 150, lr: 0.0001, num_layers: 2, emb_dim: 64, weight_decay: 1e-06, batch_size: 50\n"
     ]
    },
    {
     "data": {
      "text/html": [
       "<pre style=\"white-space:pre;overflow-x:auto;line-height:normal;font-family:Menlo,'DejaVu Sans Mono',consolas,'Courier New',monospace\"></pre>\n"
      ],
      "text/plain": []
     },
     "metadata": {},
     "output_type": "display_data"
    },
    {
     "data": {
      "application/vnd.jupyter.widget-view+json": {
       "model_id": "3e6e80e18b8048e0960c9ea3436530ff",
       "version_major": 2,
       "version_minor": 0
      },
      "text/plain": [
       "Output()"
      ]
     },
     "metadata": {},
     "output_type": "display_data"
    },
    {
     "name": "stdout",
     "output_type": "stream",
     "text": [
      "Trial 106 finished. Final Reconstruction Loss: 0.9719\n",
      "\n",
      "============================== Running Trial 107/288 ==============================\n",
      "Current Parameter Combination: lat_dim: 7, hidden_size: 150, lr: 0.0001, num_layers: 2, emb_dim: 64, weight_decay: 1e-05, batch_size: 32\n"
     ]
    },
    {
     "data": {
      "text/html": [
       "<pre style=\"white-space:pre;overflow-x:auto;line-height:normal;font-family:Menlo,'DejaVu Sans Mono',consolas,'Courier New',monospace\"></pre>\n"
      ],
      "text/plain": []
     },
     "metadata": {},
     "output_type": "display_data"
    },
    {
     "data": {
      "application/vnd.jupyter.widget-view+json": {
       "model_id": "4e66cbd22a384da498a0a44adcc5f5c2",
       "version_major": 2,
       "version_minor": 0
      },
      "text/plain": [
       "Output()"
      ]
     },
     "metadata": {},
     "output_type": "display_data"
    },
    {
     "name": "stdout",
     "output_type": "stream",
     "text": [
      "Trial 107 finished. Final Reconstruction Loss: 1.0939\n",
      "\n",
      "============================== Running Trial 108/288 ==============================\n",
      "Current Parameter Combination: lat_dim: 7, hidden_size: 150, lr: 0.0001, num_layers: 2, emb_dim: 64, weight_decay: 1e-05, batch_size: 50\n"
     ]
    },
    {
     "data": {
      "text/html": [
       "<pre style=\"white-space:pre;overflow-x:auto;line-height:normal;font-family:Menlo,'DejaVu Sans Mono',consolas,'Courier New',monospace\"></pre>\n"
      ],
      "text/plain": []
     },
     "metadata": {},
     "output_type": "display_data"
    },
    {
     "data": {
      "application/vnd.jupyter.widget-view+json": {
       "model_id": "ea363104de0244e2ae63135aa4c26b06",
       "version_major": 2,
       "version_minor": 0
      },
      "text/plain": [
       "Output()"
      ]
     },
     "metadata": {},
     "output_type": "display_data"
    },
    {
     "name": "stdout",
     "output_type": "stream",
     "text": [
      "Trial 108 finished. Final Reconstruction Loss: 0.7282\n",
      "\n",
      "============================== Running Trial 109/288 ==============================\n",
      "Current Parameter Combination: lat_dim: 7, hidden_size: 150, lr: 0.0001, num_layers: 2, emb_dim: 128, weight_decay: 1e-06, batch_size: 32\n"
     ]
    },
    {
     "data": {
      "text/html": [
       "<pre style=\"white-space:pre;overflow-x:auto;line-height:normal;font-family:Menlo,'DejaVu Sans Mono',consolas,'Courier New',monospace\"></pre>\n"
      ],
      "text/plain": []
     },
     "metadata": {},
     "output_type": "display_data"
    },
    {
     "data": {
      "application/vnd.jupyter.widget-view+json": {
       "model_id": "c2ce6ab809204fdca683a095b769343a",
       "version_major": 2,
       "version_minor": 0
      },
      "text/plain": [
       "Output()"
      ]
     },
     "metadata": {},
     "output_type": "display_data"
    },
    {
     "name": "stdout",
     "output_type": "stream",
     "text": [
      "Trial 109 finished. Final Reconstruction Loss: 0.6997\n",
      "\n",
      "============================== Running Trial 110/288 ==============================\n",
      "Current Parameter Combination: lat_dim: 7, hidden_size: 150, lr: 0.0001, num_layers: 2, emb_dim: 128, weight_decay: 1e-06, batch_size: 50\n"
     ]
    },
    {
     "data": {
      "text/html": [
       "<pre style=\"white-space:pre;overflow-x:auto;line-height:normal;font-family:Menlo,'DejaVu Sans Mono',consolas,'Courier New',monospace\"></pre>\n"
      ],
      "text/plain": []
     },
     "metadata": {},
     "output_type": "display_data"
    },
    {
     "data": {
      "application/vnd.jupyter.widget-view+json": {
       "model_id": "90f155d8ed5a4593b245e2a9a0b21ed4",
       "version_major": 2,
       "version_minor": 0
      },
      "text/plain": [
       "Output()"
      ]
     },
     "metadata": {},
     "output_type": "display_data"
    },
    {
     "name": "stdout",
     "output_type": "stream",
     "text": [
      "Trial 110 finished. Final Reconstruction Loss: 0.6077\n",
      "\n",
      "============================== Running Trial 111/288 ==============================\n",
      "Current Parameter Combination: lat_dim: 7, hidden_size: 150, lr: 0.0001, num_layers: 2, emb_dim: 128, weight_decay: 1e-05, batch_size: 32\n"
     ]
    },
    {
     "data": {
      "text/html": [
       "<pre style=\"white-space:pre;overflow-x:auto;line-height:normal;font-family:Menlo,'DejaVu Sans Mono',consolas,'Courier New',monospace\"></pre>\n"
      ],
      "text/plain": []
     },
     "metadata": {},
     "output_type": "display_data"
    },
    {
     "data": {
      "application/vnd.jupyter.widget-view+json": {
       "model_id": "2e376341abe645128538027dd059be68",
       "version_major": 2,
       "version_minor": 0
      },
      "text/plain": [
       "Output()"
      ]
     },
     "metadata": {},
     "output_type": "display_data"
    },
    {
     "name": "stdout",
     "output_type": "stream",
     "text": [
      "Trial 111 finished. Final Reconstruction Loss: 0.9162\n",
      "\n",
      "============================== Running Trial 112/288 ==============================\n",
      "Current Parameter Combination: lat_dim: 7, hidden_size: 150, lr: 0.0001, num_layers: 2, emb_dim: 128, weight_decay: 1e-05, batch_size: 50\n"
     ]
    },
    {
     "data": {
      "text/html": [
       "<pre style=\"white-space:pre;overflow-x:auto;line-height:normal;font-family:Menlo,'DejaVu Sans Mono',consolas,'Courier New',monospace\"></pre>\n"
      ],
      "text/plain": []
     },
     "metadata": {},
     "output_type": "display_data"
    },
    {
     "data": {
      "application/vnd.jupyter.widget-view+json": {
       "model_id": "0075b472093d4826b18fc4efff3f7120",
       "version_major": 2,
       "version_minor": 0
      },
      "text/plain": [
       "Output()"
      ]
     },
     "metadata": {},
     "output_type": "display_data"
    },
    {
     "name": "stdout",
     "output_type": "stream",
     "text": [
      "Trial 112 finished. Final Reconstruction Loss: 0.8534\n",
      "\n",
      "============================== Running Trial 113/288 ==============================\n",
      "Current Parameter Combination: lat_dim: 7, hidden_size: 150, lr: 0.0005, num_layers: 1, emb_dim: 64, weight_decay: 1e-06, batch_size: 32\n"
     ]
    },
    {
     "data": {
      "text/html": [
       "<pre style=\"white-space:pre;overflow-x:auto;line-height:normal;font-family:Menlo,'DejaVu Sans Mono',consolas,'Courier New',monospace\"></pre>\n"
      ],
      "text/plain": []
     },
     "metadata": {},
     "output_type": "display_data"
    },
    {
     "data": {
      "application/vnd.jupyter.widget-view+json": {
       "model_id": "568d07e97e984ce3aa339f9be5f70b1d",
       "version_major": 2,
       "version_minor": 0
      },
      "text/plain": [
       "Output()"
      ]
     },
     "metadata": {},
     "output_type": "display_data"
    },
    {
     "name": "stdout",
     "output_type": "stream",
     "text": [
      "Trial 113 finished. Final Reconstruction Loss: 0.0159\n",
      "\n",
      "============================== Running Trial 114/288 ==============================\n",
      "Current Parameter Combination: lat_dim: 7, hidden_size: 150, lr: 0.0005, num_layers: 1, emb_dim: 64, weight_decay: 1e-06, batch_size: 50\n"
     ]
    },
    {
     "data": {
      "text/html": [
       "<pre style=\"white-space:pre;overflow-x:auto;line-height:normal;font-family:Menlo,'DejaVu Sans Mono',consolas,'Courier New',monospace\"></pre>\n"
      ],
      "text/plain": []
     },
     "metadata": {},
     "output_type": "display_data"
    },
    {
     "data": {
      "application/vnd.jupyter.widget-view+json": {
       "model_id": "7be53a83e2e84acebf839db7b082b871",
       "version_major": 2,
       "version_minor": 0
      },
      "text/plain": [
       "Output()"
      ]
     },
     "metadata": {},
     "output_type": "display_data"
    },
    {
     "name": "stdout",
     "output_type": "stream",
     "text": [
      "Trial 114 finished. Final Reconstruction Loss: 0.0127\n",
      "\n",
      "============================== Running Trial 115/288 ==============================\n",
      "Current Parameter Combination: lat_dim: 7, hidden_size: 150, lr: 0.0005, num_layers: 1, emb_dim: 64, weight_decay: 1e-05, batch_size: 32\n"
     ]
    },
    {
     "data": {
      "text/html": [
       "<pre style=\"white-space:pre;overflow-x:auto;line-height:normal;font-family:Menlo,'DejaVu Sans Mono',consolas,'Courier New',monospace\"></pre>\n"
      ],
      "text/plain": []
     },
     "metadata": {},
     "output_type": "display_data"
    },
    {
     "data": {
      "application/vnd.jupyter.widget-view+json": {
       "model_id": "6a8b07fa569243cbaa82997ae1424850",
       "version_major": 2,
       "version_minor": 0
      },
      "text/plain": [
       "Output()"
      ]
     },
     "metadata": {},
     "output_type": "display_data"
    },
    {
     "name": "stdout",
     "output_type": "stream",
     "text": [
      "Trial 115 finished. Final Reconstruction Loss: 0.0162\n",
      "\n",
      "============================== Running Trial 116/288 ==============================\n",
      "Current Parameter Combination: lat_dim: 7, hidden_size: 150, lr: 0.0005, num_layers: 1, emb_dim: 64, weight_decay: 1e-05, batch_size: 50\n"
     ]
    },
    {
     "data": {
      "text/html": [
       "<pre style=\"white-space:pre;overflow-x:auto;line-height:normal;font-family:Menlo,'DejaVu Sans Mono',consolas,'Courier New',monospace\"></pre>\n"
      ],
      "text/plain": []
     },
     "metadata": {},
     "output_type": "display_data"
    },
    {
     "data": {
      "application/vnd.jupyter.widget-view+json": {
       "model_id": "85b0f2513ae94f6a843ee8d18c5a3e5f",
       "version_major": 2,
       "version_minor": 0
      },
      "text/plain": [
       "Output()"
      ]
     },
     "metadata": {},
     "output_type": "display_data"
    },
    {
     "name": "stdout",
     "output_type": "stream",
     "text": [
      "Trial 116 finished. Final Reconstruction Loss: 0.0119\n",
      "\n",
      "============================== Running Trial 117/288 ==============================\n",
      "Current Parameter Combination: lat_dim: 7, hidden_size: 150, lr: 0.0005, num_layers: 1, emb_dim: 128, weight_decay: 1e-06, batch_size: 32\n"
     ]
    },
    {
     "data": {
      "text/html": [
       "<pre style=\"white-space:pre;overflow-x:auto;line-height:normal;font-family:Menlo,'DejaVu Sans Mono',consolas,'Courier New',monospace\"></pre>\n"
      ],
      "text/plain": []
     },
     "metadata": {},
     "output_type": "display_data"
    },
    {
     "data": {
      "application/vnd.jupyter.widget-view+json": {
       "model_id": "a28083191db64cf3a5c8a0b2840a0b4c",
       "version_major": 2,
       "version_minor": 0
      },
      "text/plain": [
       "Output()"
      ]
     },
     "metadata": {},
     "output_type": "display_data"
    },
    {
     "name": "stdout",
     "output_type": "stream",
     "text": [
      "Trial 117 finished. Final Reconstruction Loss: 0.0117\n",
      "\n",
      "============================== Running Trial 118/288 ==============================\n",
      "Current Parameter Combination: lat_dim: 7, hidden_size: 150, lr: 0.0005, num_layers: 1, emb_dim: 128, weight_decay: 1e-06, batch_size: 50\n"
     ]
    },
    {
     "data": {
      "text/html": [
       "<pre style=\"white-space:pre;overflow-x:auto;line-height:normal;font-family:Menlo,'DejaVu Sans Mono',consolas,'Courier New',monospace\"></pre>\n"
      ],
      "text/plain": []
     },
     "metadata": {},
     "output_type": "display_data"
    },
    {
     "data": {
      "application/vnd.jupyter.widget-view+json": {
       "model_id": "2ea48620b6964c6cb0c8b6f67475db9b",
       "version_major": 2,
       "version_minor": 0
      },
      "text/plain": [
       "Output()"
      ]
     },
     "metadata": {},
     "output_type": "display_data"
    },
    {
     "name": "stdout",
     "output_type": "stream",
     "text": [
      "Trial 118 finished. Final Reconstruction Loss: 0.0098\n",
      "\n",
      "============================== Running Trial 119/288 ==============================\n",
      "Current Parameter Combination: lat_dim: 7, hidden_size: 150, lr: 0.0005, num_layers: 1, emb_dim: 128, weight_decay: 1e-05, batch_size: 32\n"
     ]
    },
    {
     "data": {
      "text/html": [
       "<pre style=\"white-space:pre;overflow-x:auto;line-height:normal;font-family:Menlo,'DejaVu Sans Mono',consolas,'Courier New',monospace\"></pre>\n"
      ],
      "text/plain": []
     },
     "metadata": {},
     "output_type": "display_data"
    },
    {
     "data": {
      "application/vnd.jupyter.widget-view+json": {
       "model_id": "2fce7290634c40aab57a2b3adcb4cb8b",
       "version_major": 2,
       "version_minor": 0
      },
      "text/plain": [
       "Output()"
      ]
     },
     "metadata": {},
     "output_type": "display_data"
    },
    {
     "name": "stdout",
     "output_type": "stream",
     "text": [
      "Trial 119 finished. Final Reconstruction Loss: 0.0122\n",
      "\n",
      "============================== Running Trial 120/288 ==============================\n",
      "Current Parameter Combination: lat_dim: 7, hidden_size: 150, lr: 0.0005, num_layers: 1, emb_dim: 128, weight_decay: 1e-05, batch_size: 50\n"
     ]
    },
    {
     "data": {
      "text/html": [
       "<pre style=\"white-space:pre;overflow-x:auto;line-height:normal;font-family:Menlo,'DejaVu Sans Mono',consolas,'Courier New',monospace\"></pre>\n"
      ],
      "text/plain": []
     },
     "metadata": {},
     "output_type": "display_data"
    },
    {
     "data": {
      "application/vnd.jupyter.widget-view+json": {
       "model_id": "340e332422104dbb921c767c1176285f",
       "version_major": 2,
       "version_minor": 0
      },
      "text/plain": [
       "Output()"
      ]
     },
     "metadata": {},
     "output_type": "display_data"
    },
    {
     "name": "stdout",
     "output_type": "stream",
     "text": [
      "Trial 120 finished. Final Reconstruction Loss: 0.0068\n",
      "\n",
      "============================== Running Trial 121/288 ==============================\n",
      "Current Parameter Combination: lat_dim: 7, hidden_size: 150, lr: 0.0005, num_layers: 2, emb_dim: 64, weight_decay: 1e-06, batch_size: 32\n"
     ]
    },
    {
     "data": {
      "text/html": [
       "<pre style=\"white-space:pre;overflow-x:auto;line-height:normal;font-family:Menlo,'DejaVu Sans Mono',consolas,'Courier New',monospace\"></pre>\n"
      ],
      "text/plain": []
     },
     "metadata": {},
     "output_type": "display_data"
    },
    {
     "data": {
      "application/vnd.jupyter.widget-view+json": {
       "model_id": "ddbfd4638fd74e2591429c5048983adf",
       "version_major": 2,
       "version_minor": 0
      },
      "text/plain": [
       "Output()"
      ]
     },
     "metadata": {},
     "output_type": "display_data"
    },
    {
     "name": "stdout",
     "output_type": "stream",
     "text": [
      "Trial 121 finished. Final Reconstruction Loss: 0.0131\n",
      "\n",
      "============================== Running Trial 122/288 ==============================\n",
      "Current Parameter Combination: lat_dim: 7, hidden_size: 150, lr: 0.0005, num_layers: 2, emb_dim: 64, weight_decay: 1e-06, batch_size: 50\n"
     ]
    },
    {
     "data": {
      "text/html": [
       "<pre style=\"white-space:pre;overflow-x:auto;line-height:normal;font-family:Menlo,'DejaVu Sans Mono',consolas,'Courier New',monospace\"></pre>\n"
      ],
      "text/plain": []
     },
     "metadata": {},
     "output_type": "display_data"
    },
    {
     "data": {
      "application/vnd.jupyter.widget-view+json": {
       "model_id": "98cc5aaa7ca84858a7cb996a693bf116",
       "version_major": 2,
       "version_minor": 0
      },
      "text/plain": [
       "Output()"
      ]
     },
     "metadata": {},
     "output_type": "display_data"
    },
    {
     "name": "stdout",
     "output_type": "stream",
     "text": [
      "Trial 122 finished. Final Reconstruction Loss: 0.0135\n",
      "\n",
      "============================== Running Trial 123/288 ==============================\n",
      "Current Parameter Combination: lat_dim: 7, hidden_size: 150, lr: 0.0005, num_layers: 2, emb_dim: 64, weight_decay: 1e-05, batch_size: 32\n"
     ]
    },
    {
     "data": {
      "text/html": [
       "<pre style=\"white-space:pre;overflow-x:auto;line-height:normal;font-family:Menlo,'DejaVu Sans Mono',consolas,'Courier New',monospace\"></pre>\n"
      ],
      "text/plain": []
     },
     "metadata": {},
     "output_type": "display_data"
    },
    {
     "data": {
      "application/vnd.jupyter.widget-view+json": {
       "model_id": "95e4906dd1bc4593b56f3b8b5b59036c",
       "version_major": 2,
       "version_minor": 0
      },
      "text/plain": [
       "Output()"
      ]
     },
     "metadata": {},
     "output_type": "display_data"
    },
    {
     "name": "stdout",
     "output_type": "stream",
     "text": [
      "Trial 123 finished. Final Reconstruction Loss: 0.0344\n",
      "\n",
      "============================== Running Trial 124/288 ==============================\n",
      "Current Parameter Combination: lat_dim: 7, hidden_size: 150, lr: 0.0005, num_layers: 2, emb_dim: 64, weight_decay: 1e-05, batch_size: 50\n"
     ]
    },
    {
     "data": {
      "text/html": [
       "<pre style=\"white-space:pre;overflow-x:auto;line-height:normal;font-family:Menlo,'DejaVu Sans Mono',consolas,'Courier New',monospace\"></pre>\n"
      ],
      "text/plain": []
     },
     "metadata": {},
     "output_type": "display_data"
    },
    {
     "data": {
      "application/vnd.jupyter.widget-view+json": {
       "model_id": "5abcf90cc06e40b18aa3c19b454e4150",
       "version_major": 2,
       "version_minor": 0
      },
      "text/plain": [
       "Output()"
      ]
     },
     "metadata": {},
     "output_type": "display_data"
    },
    {
     "name": "stdout",
     "output_type": "stream",
     "text": [
      "Trial 124 finished. Final Reconstruction Loss: 0.0175\n",
      "\n",
      "============================== Running Trial 125/288 ==============================\n",
      "Current Parameter Combination: lat_dim: 7, hidden_size: 150, lr: 0.0005, num_layers: 2, emb_dim: 128, weight_decay: 1e-06, batch_size: 32\n"
     ]
    },
    {
     "data": {
      "text/html": [
       "<pre style=\"white-space:pre;overflow-x:auto;line-height:normal;font-family:Menlo,'DejaVu Sans Mono',consolas,'Courier New',monospace\"></pre>\n"
      ],
      "text/plain": []
     },
     "metadata": {},
     "output_type": "display_data"
    },
    {
     "data": {
      "application/vnd.jupyter.widget-view+json": {
       "model_id": "2d875b3ebab5412b942bd70119ffcb44",
       "version_major": 2,
       "version_minor": 0
      },
      "text/plain": [
       "Output()"
      ]
     },
     "metadata": {},
     "output_type": "display_data"
    },
    {
     "name": "stdout",
     "output_type": "stream",
     "text": [
      "Trial 125 finished. Final Reconstruction Loss: 0.0141\n",
      "\n",
      "============================== Running Trial 126/288 ==============================\n",
      "Current Parameter Combination: lat_dim: 7, hidden_size: 150, lr: 0.0005, num_layers: 2, emb_dim: 128, weight_decay: 1e-06, batch_size: 50\n"
     ]
    },
    {
     "data": {
      "text/html": [
       "<pre style=\"white-space:pre;overflow-x:auto;line-height:normal;font-family:Menlo,'DejaVu Sans Mono',consolas,'Courier New',monospace\"></pre>\n"
      ],
      "text/plain": []
     },
     "metadata": {},
     "output_type": "display_data"
    },
    {
     "data": {
      "application/vnd.jupyter.widget-view+json": {
       "model_id": "cd44df945f8b4215a37c42ac8e191736",
       "version_major": 2,
       "version_minor": 0
      },
      "text/plain": [
       "Output()"
      ]
     },
     "metadata": {},
     "output_type": "display_data"
    },
    {
     "name": "stdout",
     "output_type": "stream",
     "text": [
      "Trial 126 finished. Final Reconstruction Loss: 0.0145\n",
      "\n",
      "============================== Running Trial 127/288 ==============================\n",
      "Current Parameter Combination: lat_dim: 7, hidden_size: 150, lr: 0.0005, num_layers: 2, emb_dim: 128, weight_decay: 1e-05, batch_size: 32\n"
     ]
    },
    {
     "data": {
      "text/html": [
       "<pre style=\"white-space:pre;overflow-x:auto;line-height:normal;font-family:Menlo,'DejaVu Sans Mono',consolas,'Courier New',monospace\"></pre>\n"
      ],
      "text/plain": []
     },
     "metadata": {},
     "output_type": "display_data"
    },
    {
     "data": {
      "application/vnd.jupyter.widget-view+json": {
       "model_id": "743bdf7a9dbd43acab2cdbebb47c16b8",
       "version_major": 2,
       "version_minor": 0
      },
      "text/plain": [
       "Output()"
      ]
     },
     "metadata": {},
     "output_type": "display_data"
    },
    {
     "name": "stdout",
     "output_type": "stream",
     "text": [
      "Trial 127 finished. Final Reconstruction Loss: 0.0149\n",
      "\n",
      "============================== Running Trial 128/288 ==============================\n",
      "Current Parameter Combination: lat_dim: 7, hidden_size: 150, lr: 0.0005, num_layers: 2, emb_dim: 128, weight_decay: 1e-05, batch_size: 50\n"
     ]
    },
    {
     "data": {
      "text/html": [
       "<pre style=\"white-space:pre;overflow-x:auto;line-height:normal;font-family:Menlo,'DejaVu Sans Mono',consolas,'Courier New',monospace\"></pre>\n"
      ],
      "text/plain": []
     },
     "metadata": {},
     "output_type": "display_data"
    },
    {
     "data": {
      "application/vnd.jupyter.widget-view+json": {
       "model_id": "24ed92910f684fab9fff6a75c5da9ebe",
       "version_major": 2,
       "version_minor": 0
      },
      "text/plain": [
       "Output()"
      ]
     },
     "metadata": {},
     "output_type": "display_data"
    },
    {
     "name": "stdout",
     "output_type": "stream",
     "text": [
      "Trial 128 finished. Final Reconstruction Loss: 0.0111\n",
      "\n",
      "============================== Running Trial 129/288 ==============================\n",
      "Current Parameter Combination: lat_dim: 7, hidden_size: 200, lr: 0.0001, num_layers: 1, emb_dim: 64, weight_decay: 1e-06, batch_size: 32\n"
     ]
    },
    {
     "data": {
      "text/html": [
       "<pre style=\"white-space:pre;overflow-x:auto;line-height:normal;font-family:Menlo,'DejaVu Sans Mono',consolas,'Courier New',monospace\"></pre>\n"
      ],
      "text/plain": []
     },
     "metadata": {},
     "output_type": "display_data"
    },
    {
     "data": {
      "application/vnd.jupyter.widget-view+json": {
       "model_id": "499e930e4e564340bcc11e84e66cc678",
       "version_major": 2,
       "version_minor": 0
      },
      "text/plain": [
       "Output()"
      ]
     },
     "metadata": {},
     "output_type": "display_data"
    },
    {
     "name": "stdout",
     "output_type": "stream",
     "text": [
      "Trial 129 finished. Final Reconstruction Loss: 0.6040\n",
      "\n",
      "============================== Running Trial 130/288 ==============================\n",
      "Current Parameter Combination: lat_dim: 7, hidden_size: 200, lr: 0.0001, num_layers: 1, emb_dim: 64, weight_decay: 1e-06, batch_size: 50\n"
     ]
    },
    {
     "data": {
      "text/html": [
       "<pre style=\"white-space:pre;overflow-x:auto;line-height:normal;font-family:Menlo,'DejaVu Sans Mono',consolas,'Courier New',monospace\"></pre>\n"
      ],
      "text/plain": []
     },
     "metadata": {},
     "output_type": "display_data"
    },
    {
     "data": {
      "application/vnd.jupyter.widget-view+json": {
       "model_id": "9e0ae5d016494ec0ba87435816008aad",
       "version_major": 2,
       "version_minor": 0
      },
      "text/plain": [
       "Output()"
      ]
     },
     "metadata": {},
     "output_type": "display_data"
    },
    {
     "name": "stdout",
     "output_type": "stream",
     "text": [
      "Trial 130 finished. Final Reconstruction Loss: 0.6106\n",
      "\n",
      "============================== Running Trial 131/288 ==============================\n",
      "Current Parameter Combination: lat_dim: 7, hidden_size: 200, lr: 0.0001, num_layers: 1, emb_dim: 64, weight_decay: 1e-05, batch_size: 32\n"
     ]
    },
    {
     "data": {
      "text/html": [
       "<pre style=\"white-space:pre;overflow-x:auto;line-height:normal;font-family:Menlo,'DejaVu Sans Mono',consolas,'Courier New',monospace\"></pre>\n"
      ],
      "text/plain": []
     },
     "metadata": {},
     "output_type": "display_data"
    },
    {
     "data": {
      "application/vnd.jupyter.widget-view+json": {
       "model_id": "e633fca48d4642e58aa8f5a18fa96c8e",
       "version_major": 2,
       "version_minor": 0
      },
      "text/plain": [
       "Output()"
      ]
     },
     "metadata": {},
     "output_type": "display_data"
    },
    {
     "name": "stdout",
     "output_type": "stream",
     "text": [
      "Trial 131 finished. Final Reconstruction Loss: 0.6589\n",
      "\n",
      "============================== Running Trial 132/288 ==============================\n",
      "Current Parameter Combination: lat_dim: 7, hidden_size: 200, lr: 0.0001, num_layers: 1, emb_dim: 64, weight_decay: 1e-05, batch_size: 50\n"
     ]
    },
    {
     "data": {
      "text/html": [
       "<pre style=\"white-space:pre;overflow-x:auto;line-height:normal;font-family:Menlo,'DejaVu Sans Mono',consolas,'Courier New',monospace\"></pre>\n"
      ],
      "text/plain": []
     },
     "metadata": {},
     "output_type": "display_data"
    },
    {
     "data": {
      "application/vnd.jupyter.widget-view+json": {
       "model_id": "ba72ad37a7924932b162f17e36284630",
       "version_major": 2,
       "version_minor": 0
      },
      "text/plain": [
       "Output()"
      ]
     },
     "metadata": {},
     "output_type": "display_data"
    },
    {
     "name": "stdout",
     "output_type": "stream",
     "text": [
      "Trial 132 finished. Final Reconstruction Loss: 0.3188\n",
      "\n",
      "============================== Running Trial 133/288 ==============================\n",
      "Current Parameter Combination: lat_dim: 7, hidden_size: 200, lr: 0.0001, num_layers: 1, emb_dim: 128, weight_decay: 1e-06, batch_size: 32\n"
     ]
    },
    {
     "data": {
      "text/html": [
       "<pre style=\"white-space:pre;overflow-x:auto;line-height:normal;font-family:Menlo,'DejaVu Sans Mono',consolas,'Courier New',monospace\"></pre>\n"
      ],
      "text/plain": []
     },
     "metadata": {},
     "output_type": "display_data"
    },
    {
     "data": {
      "application/vnd.jupyter.widget-view+json": {
       "model_id": "2c8e464268104b2bab1b6c6ece3e932f",
       "version_major": 2,
       "version_minor": 0
      },
      "text/plain": [
       "Output()"
      ]
     },
     "metadata": {},
     "output_type": "display_data"
    },
    {
     "name": "stdout",
     "output_type": "stream",
     "text": [
      "Trial 133 finished. Final Reconstruction Loss: 0.3816\n",
      "\n",
      "============================== Running Trial 134/288 ==============================\n",
      "Current Parameter Combination: lat_dim: 7, hidden_size: 200, lr: 0.0001, num_layers: 1, emb_dim: 128, weight_decay: 1e-06, batch_size: 50\n"
     ]
    },
    {
     "data": {
      "text/html": [
       "<pre style=\"white-space:pre;overflow-x:auto;line-height:normal;font-family:Menlo,'DejaVu Sans Mono',consolas,'Courier New',monospace\"></pre>\n"
      ],
      "text/plain": []
     },
     "metadata": {},
     "output_type": "display_data"
    },
    {
     "data": {
      "application/vnd.jupyter.widget-view+json": {
       "model_id": "76fde63bd02946b28d38848353e663be",
       "version_major": 2,
       "version_minor": 0
      },
      "text/plain": [
       "Output()"
      ]
     },
     "metadata": {},
     "output_type": "display_data"
    },
    {
     "name": "stdout",
     "output_type": "stream",
     "text": [
      "Trial 134 finished. Final Reconstruction Loss: 0.0748\n",
      "\n",
      "============================== Running Trial 135/288 ==============================\n",
      "Current Parameter Combination: lat_dim: 7, hidden_size: 200, lr: 0.0001, num_layers: 1, emb_dim: 128, weight_decay: 1e-05, batch_size: 32\n"
     ]
    },
    {
     "data": {
      "text/html": [
       "<pre style=\"white-space:pre;overflow-x:auto;line-height:normal;font-family:Menlo,'DejaVu Sans Mono',consolas,'Courier New',monospace\"></pre>\n"
      ],
      "text/plain": []
     },
     "metadata": {},
     "output_type": "display_data"
    },
    {
     "data": {
      "application/vnd.jupyter.widget-view+json": {
       "model_id": "db902476128d420fa8a1ce8f5e9ac29a",
       "version_major": 2,
       "version_minor": 0
      },
      "text/plain": [
       "Output()"
      ]
     },
     "metadata": {},
     "output_type": "display_data"
    },
    {
     "name": "stdout",
     "output_type": "stream",
     "text": [
      "Trial 135 finished. Final Reconstruction Loss: 0.3866\n",
      "\n",
      "============================== Running Trial 136/288 ==============================\n",
      "Current Parameter Combination: lat_dim: 7, hidden_size: 200, lr: 0.0001, num_layers: 1, emb_dim: 128, weight_decay: 1e-05, batch_size: 50\n"
     ]
    },
    {
     "data": {
      "text/html": [
       "<pre style=\"white-space:pre;overflow-x:auto;line-height:normal;font-family:Menlo,'DejaVu Sans Mono',consolas,'Courier New',monospace\"></pre>\n"
      ],
      "text/plain": []
     },
     "metadata": {},
     "output_type": "display_data"
    },
    {
     "data": {
      "application/vnd.jupyter.widget-view+json": {
       "model_id": "298730fff9ad4aa0bafec39a5c1971e8",
       "version_major": 2,
       "version_minor": 0
      },
      "text/plain": [
       "Output()"
      ]
     },
     "metadata": {},
     "output_type": "display_data"
    },
    {
     "name": "stdout",
     "output_type": "stream",
     "text": [
      "Trial 136 finished. Final Reconstruction Loss: 0.2424\n",
      "\n",
      "============================== Running Trial 137/288 ==============================\n",
      "Current Parameter Combination: lat_dim: 7, hidden_size: 200, lr: 0.0001, num_layers: 2, emb_dim: 64, weight_decay: 1e-06, batch_size: 32\n"
     ]
    },
    {
     "data": {
      "text/html": [
       "<pre style=\"white-space:pre;overflow-x:auto;line-height:normal;font-family:Menlo,'DejaVu Sans Mono',consolas,'Courier New',monospace\"></pre>\n"
      ],
      "text/plain": []
     },
     "metadata": {},
     "output_type": "display_data"
    },
    {
     "data": {
      "application/vnd.jupyter.widget-view+json": {
       "model_id": "a40867585ff3431b900e3a076c59fc35",
       "version_major": 2,
       "version_minor": 0
      },
      "text/plain": [
       "Output()"
      ]
     },
     "metadata": {},
     "output_type": "display_data"
    },
    {
     "name": "stdout",
     "output_type": "stream",
     "text": [
      "Trial 137 finished. Final Reconstruction Loss: 0.5607\n",
      "\n",
      "============================== Running Trial 138/288 ==============================\n",
      "Current Parameter Combination: lat_dim: 7, hidden_size: 200, lr: 0.0001, num_layers: 2, emb_dim: 64, weight_decay: 1e-06, batch_size: 50\n"
     ]
    },
    {
     "data": {
      "text/html": [
       "<pre style=\"white-space:pre;overflow-x:auto;line-height:normal;font-family:Menlo,'DejaVu Sans Mono',consolas,'Courier New',monospace\"></pre>\n"
      ],
      "text/plain": []
     },
     "metadata": {},
     "output_type": "display_data"
    },
    {
     "data": {
      "application/vnd.jupyter.widget-view+json": {
       "model_id": "5583f92a8ea844f7b6bd680c6b711744",
       "version_major": 2,
       "version_minor": 0
      },
      "text/plain": [
       "Output()"
      ]
     },
     "metadata": {},
     "output_type": "display_data"
    },
    {
     "name": "stdout",
     "output_type": "stream",
     "text": [
      "Trial 138 finished. Final Reconstruction Loss: 0.5894\n",
      "\n",
      "============================== Running Trial 139/288 ==============================\n",
      "Current Parameter Combination: lat_dim: 7, hidden_size: 200, lr: 0.0001, num_layers: 2, emb_dim: 64, weight_decay: 1e-05, batch_size: 32\n"
     ]
    },
    {
     "data": {
      "text/html": [
       "<pre style=\"white-space:pre;overflow-x:auto;line-height:normal;font-family:Menlo,'DejaVu Sans Mono',consolas,'Courier New',monospace\"></pre>\n"
      ],
      "text/plain": []
     },
     "metadata": {},
     "output_type": "display_data"
    },
    {
     "data": {
      "application/vnd.jupyter.widget-view+json": {
       "model_id": "14872af33e304a9eae26599e68c13ae6",
       "version_major": 2,
       "version_minor": 0
      },
      "text/plain": [
       "Output()"
      ]
     },
     "metadata": {},
     "output_type": "display_data"
    },
    {
     "name": "stdout",
     "output_type": "stream",
     "text": [
      "Trial 139 finished. Final Reconstruction Loss: 0.7290\n",
      "\n",
      "============================== Running Trial 140/288 ==============================\n",
      "Current Parameter Combination: lat_dim: 7, hidden_size: 200, lr: 0.0001, num_layers: 2, emb_dim: 64, weight_decay: 1e-05, batch_size: 50\n"
     ]
    },
    {
     "data": {
      "text/html": [
       "<pre style=\"white-space:pre;overflow-x:auto;line-height:normal;font-family:Menlo,'DejaVu Sans Mono',consolas,'Courier New',monospace\"></pre>\n"
      ],
      "text/plain": []
     },
     "metadata": {},
     "output_type": "display_data"
    },
    {
     "data": {
      "application/vnd.jupyter.widget-view+json": {
       "model_id": "14396624d99640e59f938def6a77c656",
       "version_major": 2,
       "version_minor": 0
      },
      "text/plain": [
       "Output()"
      ]
     },
     "metadata": {},
     "output_type": "display_data"
    },
    {
     "name": "stdout",
     "output_type": "stream",
     "text": [
      "Trial 140 finished. Final Reconstruction Loss: 0.8860\n",
      "\n",
      "============================== Running Trial 141/288 ==============================\n",
      "Current Parameter Combination: lat_dim: 7, hidden_size: 200, lr: 0.0001, num_layers: 2, emb_dim: 128, weight_decay: 1e-06, batch_size: 32\n"
     ]
    },
    {
     "data": {
      "text/html": [
       "<pre style=\"white-space:pre;overflow-x:auto;line-height:normal;font-family:Menlo,'DejaVu Sans Mono',consolas,'Courier New',monospace\"></pre>\n"
      ],
      "text/plain": []
     },
     "metadata": {},
     "output_type": "display_data"
    },
    {
     "data": {
      "application/vnd.jupyter.widget-view+json": {
       "model_id": "bfcbe3a82b8c477892718480fd0b2c08",
       "version_major": 2,
       "version_minor": 0
      },
      "text/plain": [
       "Output()"
      ]
     },
     "metadata": {},
     "output_type": "display_data"
    },
    {
     "name": "stdout",
     "output_type": "stream",
     "text": [
      "Trial 141 finished. Final Reconstruction Loss: 0.4825\n",
      "\n",
      "============================== Running Trial 142/288 ==============================\n",
      "Current Parameter Combination: lat_dim: 7, hidden_size: 200, lr: 0.0001, num_layers: 2, emb_dim: 128, weight_decay: 1e-06, batch_size: 50\n"
     ]
    },
    {
     "data": {
      "text/html": [
       "<pre style=\"white-space:pre;overflow-x:auto;line-height:normal;font-family:Menlo,'DejaVu Sans Mono',consolas,'Courier New',monospace\"></pre>\n"
      ],
      "text/plain": []
     },
     "metadata": {},
     "output_type": "display_data"
    },
    {
     "data": {
      "application/vnd.jupyter.widget-view+json": {
       "model_id": "1a1ece03ba8640abae124f580dec8207",
       "version_major": 2,
       "version_minor": 0
      },
      "text/plain": [
       "Output()"
      ]
     },
     "metadata": {},
     "output_type": "display_data"
    },
    {
     "name": "stdout",
     "output_type": "stream",
     "text": [
      "Trial 142 finished. Final Reconstruction Loss: 0.4048\n",
      "\n",
      "============================== Running Trial 143/288 ==============================\n",
      "Current Parameter Combination: lat_dim: 7, hidden_size: 200, lr: 0.0001, num_layers: 2, emb_dim: 128, weight_decay: 1e-05, batch_size: 32\n"
     ]
    },
    {
     "data": {
      "text/html": [
       "<pre style=\"white-space:pre;overflow-x:auto;line-height:normal;font-family:Menlo,'DejaVu Sans Mono',consolas,'Courier New',monospace\"></pre>\n"
      ],
      "text/plain": []
     },
     "metadata": {},
     "output_type": "display_data"
    },
    {
     "data": {
      "application/vnd.jupyter.widget-view+json": {
       "model_id": "00ea1b92376245538785c56d5ff665c8",
       "version_major": 2,
       "version_minor": 0
      },
      "text/plain": [
       "Output()"
      ]
     },
     "metadata": {},
     "output_type": "display_data"
    },
    {
     "name": "stdout",
     "output_type": "stream",
     "text": [
      "Trial 143 finished. Final Reconstruction Loss: 0.1245\n",
      "\n",
      "============================== Running Trial 144/288 ==============================\n",
      "Current Parameter Combination: lat_dim: 7, hidden_size: 200, lr: 0.0001, num_layers: 2, emb_dim: 128, weight_decay: 1e-05, batch_size: 50\n"
     ]
    },
    {
     "data": {
      "text/html": [
       "<pre style=\"white-space:pre;overflow-x:auto;line-height:normal;font-family:Menlo,'DejaVu Sans Mono',consolas,'Courier New',monospace\"></pre>\n"
      ],
      "text/plain": []
     },
     "metadata": {},
     "output_type": "display_data"
    },
    {
     "data": {
      "application/vnd.jupyter.widget-view+json": {
       "model_id": "f7b526870a9148d394614c5535c7bc9e",
       "version_major": 2,
       "version_minor": 0
      },
      "text/plain": [
       "Output()"
      ]
     },
     "metadata": {},
     "output_type": "display_data"
    },
    {
     "name": "stdout",
     "output_type": "stream",
     "text": [
      "Trial 144 finished. Final Reconstruction Loss: 0.4206\n",
      "\n",
      "============================== Running Trial 145/288 ==============================\n",
      "Current Parameter Combination: lat_dim: 7, hidden_size: 200, lr: 0.0005, num_layers: 1, emb_dim: 64, weight_decay: 1e-06, batch_size: 32\n"
     ]
    },
    {
     "data": {
      "text/html": [
       "<pre style=\"white-space:pre;overflow-x:auto;line-height:normal;font-family:Menlo,'DejaVu Sans Mono',consolas,'Courier New',monospace\"></pre>\n"
      ],
      "text/plain": []
     },
     "metadata": {},
     "output_type": "display_data"
    },
    {
     "data": {
      "application/vnd.jupyter.widget-view+json": {
       "model_id": "dac94a0345fa45a99673ad620557ac9a",
       "version_major": 2,
       "version_minor": 0
      },
      "text/plain": [
       "Output()"
      ]
     },
     "metadata": {},
     "output_type": "display_data"
    },
    {
     "name": "stdout",
     "output_type": "stream",
     "text": [
      "Trial 145 finished. Final Reconstruction Loss: 0.0149\n",
      "\n",
      "============================== Running Trial 146/288 ==============================\n",
      "Current Parameter Combination: lat_dim: 7, hidden_size: 200, lr: 0.0005, num_layers: 1, emb_dim: 64, weight_decay: 1e-06, batch_size: 50\n"
     ]
    },
    {
     "data": {
      "text/html": [
       "<pre style=\"white-space:pre;overflow-x:auto;line-height:normal;font-family:Menlo,'DejaVu Sans Mono',consolas,'Courier New',monospace\"></pre>\n"
      ],
      "text/plain": []
     },
     "metadata": {},
     "output_type": "display_data"
    },
    {
     "data": {
      "application/vnd.jupyter.widget-view+json": {
       "model_id": "952859c7737b40a5b68fc287aa7f3b41",
       "version_major": 2,
       "version_minor": 0
      },
      "text/plain": [
       "Output()"
      ]
     },
     "metadata": {},
     "output_type": "display_data"
    },
    {
     "name": "stdout",
     "output_type": "stream",
     "text": [
      "Trial 146 finished. Final Reconstruction Loss: 0.0101\n",
      "\n",
      "============================== Running Trial 147/288 ==============================\n",
      "Current Parameter Combination: lat_dim: 7, hidden_size: 200, lr: 0.0005, num_layers: 1, emb_dim: 64, weight_decay: 1e-05, batch_size: 32\n"
     ]
    },
    {
     "data": {
      "text/html": [
       "<pre style=\"white-space:pre;overflow-x:auto;line-height:normal;font-family:Menlo,'DejaVu Sans Mono',consolas,'Courier New',monospace\"></pre>\n"
      ],
      "text/plain": []
     },
     "metadata": {},
     "output_type": "display_data"
    },
    {
     "data": {
      "application/vnd.jupyter.widget-view+json": {
       "model_id": "16d02c17e2cd46d0ae54f50246ebc3e8",
       "version_major": 2,
       "version_minor": 0
      },
      "text/plain": [
       "Output()"
      ]
     },
     "metadata": {},
     "output_type": "display_data"
    },
    {
     "name": "stdout",
     "output_type": "stream",
     "text": [
      "Trial 147 finished. Final Reconstruction Loss: 0.0147\n",
      "\n",
      "============================== Running Trial 148/288 ==============================\n",
      "Current Parameter Combination: lat_dim: 7, hidden_size: 200, lr: 0.0005, num_layers: 1, emb_dim: 64, weight_decay: 1e-05, batch_size: 50\n"
     ]
    },
    {
     "data": {
      "text/html": [
       "<pre style=\"white-space:pre;overflow-x:auto;line-height:normal;font-family:Menlo,'DejaVu Sans Mono',consolas,'Courier New',monospace\"></pre>\n"
      ],
      "text/plain": []
     },
     "metadata": {},
     "output_type": "display_data"
    },
    {
     "data": {
      "application/vnd.jupyter.widget-view+json": {
       "model_id": "91add626b50f44a69501e5a0e92cb321",
       "version_major": 2,
       "version_minor": 0
      },
      "text/plain": [
       "Output()"
      ]
     },
     "metadata": {},
     "output_type": "display_data"
    },
    {
     "name": "stdout",
     "output_type": "stream",
     "text": [
      "Trial 148 finished. Final Reconstruction Loss: 0.0104\n",
      "\n",
      "============================== Running Trial 149/288 ==============================\n",
      "Current Parameter Combination: lat_dim: 7, hidden_size: 200, lr: 0.0005, num_layers: 1, emb_dim: 128, weight_decay: 1e-06, batch_size: 32\n"
     ]
    },
    {
     "data": {
      "text/html": [
       "<pre style=\"white-space:pre;overflow-x:auto;line-height:normal;font-family:Menlo,'DejaVu Sans Mono',consolas,'Courier New',monospace\"></pre>\n"
      ],
      "text/plain": []
     },
     "metadata": {},
     "output_type": "display_data"
    },
    {
     "data": {
      "application/vnd.jupyter.widget-view+json": {
       "model_id": "ecd370bbe7ef43fb996a160f2a244601",
       "version_major": 2,
       "version_minor": 0
      },
      "text/plain": [
       "Output()"
      ]
     },
     "metadata": {},
     "output_type": "display_data"
    },
    {
     "name": "stdout",
     "output_type": "stream",
     "text": [
      "Trial 149 finished. Final Reconstruction Loss: 0.0170\n",
      "\n",
      "============================== Running Trial 150/288 ==============================\n",
      "Current Parameter Combination: lat_dim: 7, hidden_size: 200, lr: 0.0005, num_layers: 1, emb_dim: 128, weight_decay: 1e-06, batch_size: 50\n"
     ]
    },
    {
     "data": {
      "text/html": [
       "<pre style=\"white-space:pre;overflow-x:auto;line-height:normal;font-family:Menlo,'DejaVu Sans Mono',consolas,'Courier New',monospace\"></pre>\n"
      ],
      "text/plain": []
     },
     "metadata": {},
     "output_type": "display_data"
    },
    {
     "data": {
      "application/vnd.jupyter.widget-view+json": {
       "model_id": "0bff1d1be4ab4062a70aa993a26212e9",
       "version_major": 2,
       "version_minor": 0
      },
      "text/plain": [
       "Output()"
      ]
     },
     "metadata": {},
     "output_type": "display_data"
    },
    {
     "name": "stdout",
     "output_type": "stream",
     "text": [
      "Trial 150 finished. Final Reconstruction Loss: 0.0113\n",
      "\n",
      "============================== Running Trial 151/288 ==============================\n",
      "Current Parameter Combination: lat_dim: 7, hidden_size: 200, lr: 0.0005, num_layers: 1, emb_dim: 128, weight_decay: 1e-05, batch_size: 32\n"
     ]
    },
    {
     "data": {
      "text/html": [
       "<pre style=\"white-space:pre;overflow-x:auto;line-height:normal;font-family:Menlo,'DejaVu Sans Mono',consolas,'Courier New',monospace\"></pre>\n"
      ],
      "text/plain": []
     },
     "metadata": {},
     "output_type": "display_data"
    },
    {
     "data": {
      "application/vnd.jupyter.widget-view+json": {
       "model_id": "cb0119f7fdbd418987bc7a3056fef429",
       "version_major": 2,
       "version_minor": 0
      },
      "text/plain": [
       "Output()"
      ]
     },
     "metadata": {},
     "output_type": "display_data"
    },
    {
     "name": "stdout",
     "output_type": "stream",
     "text": [
      "Trial 151 finished. Final Reconstruction Loss: 0.0111\n",
      "\n",
      "============================== Running Trial 152/288 ==============================\n",
      "Current Parameter Combination: lat_dim: 7, hidden_size: 200, lr: 0.0005, num_layers: 1, emb_dim: 128, weight_decay: 1e-05, batch_size: 50\n"
     ]
    },
    {
     "data": {
      "text/html": [
       "<pre style=\"white-space:pre;overflow-x:auto;line-height:normal;font-family:Menlo,'DejaVu Sans Mono',consolas,'Courier New',monospace\"></pre>\n"
      ],
      "text/plain": []
     },
     "metadata": {},
     "output_type": "display_data"
    },
    {
     "data": {
      "application/vnd.jupyter.widget-view+json": {
       "model_id": "a428416827814dc792c42b46c4c69079",
       "version_major": 2,
       "version_minor": 0
      },
      "text/plain": [
       "Output()"
      ]
     },
     "metadata": {},
     "output_type": "display_data"
    },
    {
     "name": "stdout",
     "output_type": "stream",
     "text": [
      "Trial 152 finished. Final Reconstruction Loss: 0.0070\n",
      "\n",
      "============================== Running Trial 153/288 ==============================\n",
      "Current Parameter Combination: lat_dim: 7, hidden_size: 200, lr: 0.0005, num_layers: 2, emb_dim: 64, weight_decay: 1e-06, batch_size: 32\n"
     ]
    },
    {
     "data": {
      "text/html": [
       "<pre style=\"white-space:pre;overflow-x:auto;line-height:normal;font-family:Menlo,'DejaVu Sans Mono',consolas,'Courier New',monospace\"></pre>\n"
      ],
      "text/plain": []
     },
     "metadata": {},
     "output_type": "display_data"
    },
    {
     "data": {
      "application/vnd.jupyter.widget-view+json": {
       "model_id": "c47a311111a1462ab18bcd0ce4eba839",
       "version_major": 2,
       "version_minor": 0
      },
      "text/plain": [
       "Output()"
      ]
     },
     "metadata": {},
     "output_type": "display_data"
    },
    {
     "name": "stdout",
     "output_type": "stream",
     "text": [
      "Trial 153 finished. Final Reconstruction Loss: 0.0119\n",
      "\n",
      "============================== Running Trial 154/288 ==============================\n",
      "Current Parameter Combination: lat_dim: 7, hidden_size: 200, lr: 0.0005, num_layers: 2, emb_dim: 64, weight_decay: 1e-06, batch_size: 50\n"
     ]
    },
    {
     "data": {
      "text/html": [
       "<pre style=\"white-space:pre;overflow-x:auto;line-height:normal;font-family:Menlo,'DejaVu Sans Mono',consolas,'Courier New',monospace\"></pre>\n"
      ],
      "text/plain": []
     },
     "metadata": {},
     "output_type": "display_data"
    },
    {
     "data": {
      "application/vnd.jupyter.widget-view+json": {
       "model_id": "5a4db92caea248e2bd54799baae29f31",
       "version_major": 2,
       "version_minor": 0
      },
      "text/plain": [
       "Output()"
      ]
     },
     "metadata": {},
     "output_type": "display_data"
    },
    {
     "name": "stdout",
     "output_type": "stream",
     "text": [
      "Trial 154 finished. Final Reconstruction Loss: 0.0128\n",
      "\n",
      "============================== Running Trial 155/288 ==============================\n",
      "Current Parameter Combination: lat_dim: 7, hidden_size: 200, lr: 0.0005, num_layers: 2, emb_dim: 64, weight_decay: 1e-05, batch_size: 32\n"
     ]
    },
    {
     "data": {
      "text/html": [
       "<pre style=\"white-space:pre;overflow-x:auto;line-height:normal;font-family:Menlo,'DejaVu Sans Mono',consolas,'Courier New',monospace\"></pre>\n"
      ],
      "text/plain": []
     },
     "metadata": {},
     "output_type": "display_data"
    },
    {
     "data": {
      "application/vnd.jupyter.widget-view+json": {
       "model_id": "bd41cea0c70a42b7aaef5cb3a5f0f1ce",
       "version_major": 2,
       "version_minor": 0
      },
      "text/plain": [
       "Output()"
      ]
     },
     "metadata": {},
     "output_type": "display_data"
    },
    {
     "name": "stdout",
     "output_type": "stream",
     "text": [
      "Trial 155 finished. Final Reconstruction Loss: 0.0149\n",
      "\n",
      "============================== Running Trial 156/288 ==============================\n",
      "Current Parameter Combination: lat_dim: 7, hidden_size: 200, lr: 0.0005, num_layers: 2, emb_dim: 64, weight_decay: 1e-05, batch_size: 50\n"
     ]
    },
    {
     "data": {
      "text/html": [
       "<pre style=\"white-space:pre;overflow-x:auto;line-height:normal;font-family:Menlo,'DejaVu Sans Mono',consolas,'Courier New',monospace\"></pre>\n"
      ],
      "text/plain": []
     },
     "metadata": {},
     "output_type": "display_data"
    },
    {
     "data": {
      "application/vnd.jupyter.widget-view+json": {
       "model_id": "35a6a08717dd42798b4ca1c5e11122d7",
       "version_major": 2,
       "version_minor": 0
      },
      "text/plain": [
       "Output()"
      ]
     },
     "metadata": {},
     "output_type": "display_data"
    },
    {
     "name": "stdout",
     "output_type": "stream",
     "text": [
      "Trial 156 finished. Final Reconstruction Loss: 0.0146\n",
      "\n",
      "============================== Running Trial 157/288 ==============================\n",
      "Current Parameter Combination: lat_dim: 7, hidden_size: 200, lr: 0.0005, num_layers: 2, emb_dim: 128, weight_decay: 1e-06, batch_size: 32\n"
     ]
    },
    {
     "data": {
      "text/html": [
       "<pre style=\"white-space:pre;overflow-x:auto;line-height:normal;font-family:Menlo,'DejaVu Sans Mono',consolas,'Courier New',monospace\"></pre>\n"
      ],
      "text/plain": []
     },
     "metadata": {},
     "output_type": "display_data"
    },
    {
     "data": {
      "application/vnd.jupyter.widget-view+json": {
       "model_id": "2f8bd6b37d7b40a49b9b1364714df514",
       "version_major": 2,
       "version_minor": 0
      },
      "text/plain": [
       "Output()"
      ]
     },
     "metadata": {},
     "output_type": "display_data"
    },
    {
     "name": "stdout",
     "output_type": "stream",
     "text": [
      "Trial 157 finished. Final Reconstruction Loss: 0.0109\n",
      "\n",
      "============================== Running Trial 158/288 ==============================\n",
      "Current Parameter Combination: lat_dim: 7, hidden_size: 200, lr: 0.0005, num_layers: 2, emb_dim: 128, weight_decay: 1e-06, batch_size: 50\n"
     ]
    },
    {
     "data": {
      "text/html": [
       "<pre style=\"white-space:pre;overflow-x:auto;line-height:normal;font-family:Menlo,'DejaVu Sans Mono',consolas,'Courier New',monospace\"></pre>\n"
      ],
      "text/plain": []
     },
     "metadata": {},
     "output_type": "display_data"
    },
    {
     "data": {
      "application/vnd.jupyter.widget-view+json": {
       "model_id": "515ebc5a89b8477fbfa2cd11c81ff6ed",
       "version_major": 2,
       "version_minor": 0
      },
      "text/plain": [
       "Output()"
      ]
     },
     "metadata": {},
     "output_type": "display_data"
    },
    {
     "name": "stdout",
     "output_type": "stream",
     "text": [
      "Trial 158 finished. Final Reconstruction Loss: 0.0097\n",
      "\n",
      "============================== Running Trial 159/288 ==============================\n",
      "Current Parameter Combination: lat_dim: 7, hidden_size: 200, lr: 0.0005, num_layers: 2, emb_dim: 128, weight_decay: 1e-05, batch_size: 32\n"
     ]
    },
    {
     "data": {
      "text/html": [
       "<pre style=\"white-space:pre;overflow-x:auto;line-height:normal;font-family:Menlo,'DejaVu Sans Mono',consolas,'Courier New',monospace\"></pre>\n"
      ],
      "text/plain": []
     },
     "metadata": {},
     "output_type": "display_data"
    },
    {
     "data": {
      "application/vnd.jupyter.widget-view+json": {
       "model_id": "3ac9bcaffe454cfc83f91de7e6f66ba0",
       "version_major": 2,
       "version_minor": 0
      },
      "text/plain": [
       "Output()"
      ]
     },
     "metadata": {},
     "output_type": "display_data"
    },
    {
     "name": "stdout",
     "output_type": "stream",
     "text": [
      "Trial 159 finished. Final Reconstruction Loss: 0.0092\n",
      "\n",
      "============================== Running Trial 160/288 ==============================\n",
      "Current Parameter Combination: lat_dim: 7, hidden_size: 200, lr: 0.0005, num_layers: 2, emb_dim: 128, weight_decay: 1e-05, batch_size: 50\n"
     ]
    },
    {
     "data": {
      "text/html": [
       "<pre style=\"white-space:pre;overflow-x:auto;line-height:normal;font-family:Menlo,'DejaVu Sans Mono',consolas,'Courier New',monospace\"></pre>\n"
      ],
      "text/plain": []
     },
     "metadata": {},
     "output_type": "display_data"
    },
    {
     "data": {
      "application/vnd.jupyter.widget-view+json": {
       "model_id": "40cf0f5dd8694c5bb4e4604aa67d6237",
       "version_major": 2,
       "version_minor": 0
      },
      "text/plain": [
       "Output()"
      ]
     },
     "metadata": {},
     "output_type": "display_data"
    },
    {
     "name": "stdout",
     "output_type": "stream",
     "text": [
      "Trial 160 finished. Final Reconstruction Loss: 0.0124\n",
      "\n",
      "============================== Running Trial 161/288 ==============================\n",
      "Current Parameter Combination: lat_dim: 7, hidden_size: 250, lr: 0.0001, num_layers: 1, emb_dim: 64, weight_decay: 1e-06, batch_size: 32\n"
     ]
    },
    {
     "data": {
      "text/html": [
       "<pre style=\"white-space:pre;overflow-x:auto;line-height:normal;font-family:Menlo,'DejaVu Sans Mono',consolas,'Courier New',monospace\"></pre>\n"
      ],
      "text/plain": []
     },
     "metadata": {},
     "output_type": "display_data"
    },
    {
     "data": {
      "application/vnd.jupyter.widget-view+json": {
       "model_id": "89e3e85ef66a4e27b429e815465a7cc5",
       "version_major": 2,
       "version_minor": 0
      },
      "text/plain": [
       "Output()"
      ]
     },
     "metadata": {},
     "output_type": "display_data"
    },
    {
     "name": "stdout",
     "output_type": "stream",
     "text": [
      "Trial 161 finished. Final Reconstruction Loss: 0.6221\n",
      "\n",
      "============================== Running Trial 162/288 ==============================\n",
      "Current Parameter Combination: lat_dim: 7, hidden_size: 250, lr: 0.0001, num_layers: 1, emb_dim: 64, weight_decay: 1e-06, batch_size: 50\n"
     ]
    },
    {
     "data": {
      "text/html": [
       "<pre style=\"white-space:pre;overflow-x:auto;line-height:normal;font-family:Menlo,'DejaVu Sans Mono',consolas,'Courier New',monospace\"></pre>\n"
      ],
      "text/plain": []
     },
     "metadata": {},
     "output_type": "display_data"
    },
    {
     "data": {
      "application/vnd.jupyter.widget-view+json": {
       "model_id": "05888808579947e4a5ccb46bf027c803",
       "version_major": 2,
       "version_minor": 0
      },
      "text/plain": [
       "Output()"
      ]
     },
     "metadata": {},
     "output_type": "display_data"
    },
    {
     "name": "stdout",
     "output_type": "stream",
     "text": [
      "Trial 162 finished. Final Reconstruction Loss: 0.5121\n",
      "\n",
      "============================== Running Trial 163/288 ==============================\n",
      "Current Parameter Combination: lat_dim: 7, hidden_size: 250, lr: 0.0001, num_layers: 1, emb_dim: 64, weight_decay: 1e-05, batch_size: 32\n"
     ]
    },
    {
     "data": {
      "text/html": [
       "<pre style=\"white-space:pre;overflow-x:auto;line-height:normal;font-family:Menlo,'DejaVu Sans Mono',consolas,'Courier New',monospace\"></pre>\n"
      ],
      "text/plain": []
     },
     "metadata": {},
     "output_type": "display_data"
    },
    {
     "data": {
      "application/vnd.jupyter.widget-view+json": {
       "model_id": "cd2ead1697504761b6d142d58171fa22",
       "version_major": 2,
       "version_minor": 0
      },
      "text/plain": [
       "Output()"
      ]
     },
     "metadata": {},
     "output_type": "display_data"
    },
    {
     "name": "stdout",
     "output_type": "stream",
     "text": [
      "Trial 163 finished. Final Reconstruction Loss: 0.6275\n",
      "\n",
      "============================== Running Trial 164/288 ==============================\n",
      "Current Parameter Combination: lat_dim: 7, hidden_size: 250, lr: 0.0001, num_layers: 1, emb_dim: 64, weight_decay: 1e-05, batch_size: 50\n"
     ]
    },
    {
     "data": {
      "text/html": [
       "<pre style=\"white-space:pre;overflow-x:auto;line-height:normal;font-family:Menlo,'DejaVu Sans Mono',consolas,'Courier New',monospace\"></pre>\n"
      ],
      "text/plain": []
     },
     "metadata": {},
     "output_type": "display_data"
    },
    {
     "data": {
      "application/vnd.jupyter.widget-view+json": {
       "model_id": "0cc912d2eec44ef2a227a7346f85a603",
       "version_major": 2,
       "version_minor": 0
      },
      "text/plain": [
       "Output()"
      ]
     },
     "metadata": {},
     "output_type": "display_data"
    },
    {
     "name": "stdout",
     "output_type": "stream",
     "text": [
      "Trial 164 finished. Final Reconstruction Loss: 0.4253\n",
      "\n",
      "============================== Running Trial 165/288 ==============================\n",
      "Current Parameter Combination: lat_dim: 7, hidden_size: 250, lr: 0.0001, num_layers: 1, emb_dim: 128, weight_decay: 1e-06, batch_size: 32\n"
     ]
    },
    {
     "data": {
      "text/html": [
       "<pre style=\"white-space:pre;overflow-x:auto;line-height:normal;font-family:Menlo,'DejaVu Sans Mono',consolas,'Courier New',monospace\"></pre>\n"
      ],
      "text/plain": []
     },
     "metadata": {},
     "output_type": "display_data"
    },
    {
     "data": {
      "application/vnd.jupyter.widget-view+json": {
       "model_id": "6f5ed402af754ee5abc59c0866c4dcb2",
       "version_major": 2,
       "version_minor": 0
      },
      "text/plain": [
       "Output()"
      ]
     },
     "metadata": {},
     "output_type": "display_data"
    },
    {
     "name": "stdout",
     "output_type": "stream",
     "text": [
      "Trial 165 finished. Final Reconstruction Loss: 0.1412\n",
      "\n",
      "============================== Running Trial 166/288 ==============================\n",
      "Current Parameter Combination: lat_dim: 7, hidden_size: 250, lr: 0.0001, num_layers: 1, emb_dim: 128, weight_decay: 1e-06, batch_size: 50\n"
     ]
    },
    {
     "data": {
      "text/html": [
       "<pre style=\"white-space:pre;overflow-x:auto;line-height:normal;font-family:Menlo,'DejaVu Sans Mono',consolas,'Courier New',monospace\"></pre>\n"
      ],
      "text/plain": []
     },
     "metadata": {},
     "output_type": "display_data"
    },
    {
     "data": {
      "application/vnd.jupyter.widget-view+json": {
       "model_id": "6ab34ed575cd4ad1a8c821faa98c2314",
       "version_major": 2,
       "version_minor": 0
      },
      "text/plain": [
       "Output()"
      ]
     },
     "metadata": {},
     "output_type": "display_data"
    },
    {
     "name": "stdout",
     "output_type": "stream",
     "text": [
      "Trial 166 finished. Final Reconstruction Loss: 0.2991\n",
      "\n",
      "============================== Running Trial 167/288 ==============================\n",
      "Current Parameter Combination: lat_dim: 7, hidden_size: 250, lr: 0.0001, num_layers: 1, emb_dim: 128, weight_decay: 1e-05, batch_size: 32\n"
     ]
    },
    {
     "data": {
      "text/html": [
       "<pre style=\"white-space:pre;overflow-x:auto;line-height:normal;font-family:Menlo,'DejaVu Sans Mono',consolas,'Courier New',monospace\"></pre>\n"
      ],
      "text/plain": []
     },
     "metadata": {},
     "output_type": "display_data"
    },
    {
     "data": {
      "application/vnd.jupyter.widget-view+json": {
       "model_id": "36841998380f42d9b3c24864a6f09d57",
       "version_major": 2,
       "version_minor": 0
      },
      "text/plain": [
       "Output()"
      ]
     },
     "metadata": {},
     "output_type": "display_data"
    },
    {
     "name": "stdout",
     "output_type": "stream",
     "text": [
      "Trial 167 finished. Final Reconstruction Loss: 0.1763\n",
      "\n",
      "============================== Running Trial 168/288 ==============================\n",
      "Current Parameter Combination: lat_dim: 7, hidden_size: 250, lr: 0.0001, num_layers: 1, emb_dim: 128, weight_decay: 1e-05, batch_size: 50\n"
     ]
    },
    {
     "data": {
      "text/html": [
       "<pre style=\"white-space:pre;overflow-x:auto;line-height:normal;font-family:Menlo,'DejaVu Sans Mono',consolas,'Courier New',monospace\"></pre>\n"
      ],
      "text/plain": []
     },
     "metadata": {},
     "output_type": "display_data"
    },
    {
     "data": {
      "application/vnd.jupyter.widget-view+json": {
       "model_id": "51eb41df8c0f473ca9edd3b931ff53e0",
       "version_major": 2,
       "version_minor": 0
      },
      "text/plain": [
       "Output()"
      ]
     },
     "metadata": {},
     "output_type": "display_data"
    },
    {
     "name": "stdout",
     "output_type": "stream",
     "text": [
      "Trial 168 finished. Final Reconstruction Loss: 0.2545\n",
      "\n",
      "============================== Running Trial 169/288 ==============================\n",
      "Current Parameter Combination: lat_dim: 7, hidden_size: 250, lr: 0.0001, num_layers: 2, emb_dim: 64, weight_decay: 1e-06, batch_size: 32\n"
     ]
    },
    {
     "data": {
      "text/html": [
       "<pre style=\"white-space:pre;overflow-x:auto;line-height:normal;font-family:Menlo,'DejaVu Sans Mono',consolas,'Courier New',monospace\"></pre>\n"
      ],
      "text/plain": []
     },
     "metadata": {},
     "output_type": "display_data"
    },
    {
     "data": {
      "application/vnd.jupyter.widget-view+json": {
       "model_id": "6ab9d069faff4013a0a1fa15cf0c56bf",
       "version_major": 2,
       "version_minor": 0
      },
      "text/plain": [
       "Output()"
      ]
     },
     "metadata": {},
     "output_type": "display_data"
    },
    {
     "name": "stdout",
     "output_type": "stream",
     "text": [
      "Trial 169 finished. Final Reconstruction Loss: 0.4821\n",
      "\n",
      "============================== Running Trial 170/288 ==============================\n",
      "Current Parameter Combination: lat_dim: 7, hidden_size: 250, lr: 0.0001, num_layers: 2, emb_dim: 64, weight_decay: 1e-06, batch_size: 50\n"
     ]
    },
    {
     "data": {
      "text/html": [
       "<pre style=\"white-space:pre;overflow-x:auto;line-height:normal;font-family:Menlo,'DejaVu Sans Mono',consolas,'Courier New',monospace\"></pre>\n"
      ],
      "text/plain": []
     },
     "metadata": {},
     "output_type": "display_data"
    },
    {
     "data": {
      "application/vnd.jupyter.widget-view+json": {
       "model_id": "69e86711556e4ddca1fef81de3d0c9cb",
       "version_major": 2,
       "version_minor": 0
      },
      "text/plain": [
       "Output()"
      ]
     },
     "metadata": {},
     "output_type": "display_data"
    },
    {
     "name": "stdout",
     "output_type": "stream",
     "text": [
      "Trial 170 finished. Final Reconstruction Loss: 0.3751\n",
      "\n",
      "============================== Running Trial 171/288 ==============================\n",
      "Current Parameter Combination: lat_dim: 7, hidden_size: 250, lr: 0.0001, num_layers: 2, emb_dim: 64, weight_decay: 1e-05, batch_size: 32\n"
     ]
    },
    {
     "data": {
      "text/html": [
       "<pre style=\"white-space:pre;overflow-x:auto;line-height:normal;font-family:Menlo,'DejaVu Sans Mono',consolas,'Courier New',monospace\"></pre>\n"
      ],
      "text/plain": []
     },
     "metadata": {},
     "output_type": "display_data"
    },
    {
     "data": {
      "application/vnd.jupyter.widget-view+json": {
       "model_id": "fdc9ebe646b54f97b97d3810ada73e0b",
       "version_major": 2,
       "version_minor": 0
      },
      "text/plain": [
       "Output()"
      ]
     },
     "metadata": {},
     "output_type": "display_data"
    },
    {
     "name": "stdout",
     "output_type": "stream",
     "text": [
      "Trial 171 finished. Final Reconstruction Loss: 0.4863\n",
      "\n",
      "============================== Running Trial 172/288 ==============================\n",
      "Current Parameter Combination: lat_dim: 7, hidden_size: 250, lr: 0.0001, num_layers: 2, emb_dim: 64, weight_decay: 1e-05, batch_size: 50\n"
     ]
    },
    {
     "data": {
      "text/html": [
       "<pre style=\"white-space:pre;overflow-x:auto;line-height:normal;font-family:Menlo,'DejaVu Sans Mono',consolas,'Courier New',monospace\"></pre>\n"
      ],
      "text/plain": []
     },
     "metadata": {},
     "output_type": "display_data"
    },
    {
     "data": {
      "application/vnd.jupyter.widget-view+json": {
       "model_id": "9293fdde8c184fca89ea2a4dced50b5b",
       "version_major": 2,
       "version_minor": 0
      },
      "text/plain": [
       "Output()"
      ]
     },
     "metadata": {},
     "output_type": "display_data"
    },
    {
     "name": "stdout",
     "output_type": "stream",
     "text": [
      "Trial 172 finished. Final Reconstruction Loss: 0.3563\n",
      "\n",
      "============================== Running Trial 173/288 ==============================\n",
      "Current Parameter Combination: lat_dim: 7, hidden_size: 250, lr: 0.0001, num_layers: 2, emb_dim: 128, weight_decay: 1e-06, batch_size: 32\n"
     ]
    },
    {
     "data": {
      "text/html": [
       "<pre style=\"white-space:pre;overflow-x:auto;line-height:normal;font-family:Menlo,'DejaVu Sans Mono',consolas,'Courier New',monospace\"></pre>\n"
      ],
      "text/plain": []
     },
     "metadata": {},
     "output_type": "display_data"
    },
    {
     "data": {
      "application/vnd.jupyter.widget-view+json": {
       "model_id": "41dece53ea454d0eb8931396311cd781",
       "version_major": 2,
       "version_minor": 0
      },
      "text/plain": [
       "Output()"
      ]
     },
     "metadata": {},
     "output_type": "display_data"
    },
    {
     "name": "stdout",
     "output_type": "stream",
     "text": [
      "Trial 173 finished. Final Reconstruction Loss: 0.3631\n",
      "\n",
      "============================== Running Trial 174/288 ==============================\n",
      "Current Parameter Combination: lat_dim: 7, hidden_size: 250, lr: 0.0001, num_layers: 2, emb_dim: 128, weight_decay: 1e-06, batch_size: 50\n"
     ]
    },
    {
     "data": {
      "text/html": [
       "<pre style=\"white-space:pre;overflow-x:auto;line-height:normal;font-family:Menlo,'DejaVu Sans Mono',consolas,'Courier New',monospace\"></pre>\n"
      ],
      "text/plain": []
     },
     "metadata": {},
     "output_type": "display_data"
    },
    {
     "data": {
      "application/vnd.jupyter.widget-view+json": {
       "model_id": "fb1679c0f09c49aca8355625c2b0d291",
       "version_major": 2,
       "version_minor": 0
      },
      "text/plain": [
       "Output()"
      ]
     },
     "metadata": {},
     "output_type": "display_data"
    },
    {
     "name": "stdout",
     "output_type": "stream",
     "text": [
      "Trial 174 finished. Final Reconstruction Loss: 0.3191\n",
      "\n",
      "============================== Running Trial 175/288 ==============================\n",
      "Current Parameter Combination: lat_dim: 7, hidden_size: 250, lr: 0.0001, num_layers: 2, emb_dim: 128, weight_decay: 1e-05, batch_size: 32\n"
     ]
    },
    {
     "data": {
      "text/html": [
       "<pre style=\"white-space:pre;overflow-x:auto;line-height:normal;font-family:Menlo,'DejaVu Sans Mono',consolas,'Courier New',monospace\"></pre>\n"
      ],
      "text/plain": []
     },
     "metadata": {},
     "output_type": "display_data"
    },
    {
     "data": {
      "application/vnd.jupyter.widget-view+json": {
       "model_id": "ef80927c21fb48078502e8e9762f4d80",
       "version_major": 2,
       "version_minor": 0
      },
      "text/plain": [
       "Output()"
      ]
     },
     "metadata": {},
     "output_type": "display_data"
    },
    {
     "name": "stdout",
     "output_type": "stream",
     "text": [
      "Trial 175 finished. Final Reconstruction Loss: 0.4467\n",
      "\n",
      "============================== Running Trial 176/288 ==============================\n",
      "Current Parameter Combination: lat_dim: 7, hidden_size: 250, lr: 0.0001, num_layers: 2, emb_dim: 128, weight_decay: 1e-05, batch_size: 50\n"
     ]
    },
    {
     "data": {
      "text/html": [
       "<pre style=\"white-space:pre;overflow-x:auto;line-height:normal;font-family:Menlo,'DejaVu Sans Mono',consolas,'Courier New',monospace\"></pre>\n"
      ],
      "text/plain": []
     },
     "metadata": {},
     "output_type": "display_data"
    },
    {
     "data": {
      "application/vnd.jupyter.widget-view+json": {
       "model_id": "778ff2ee51f44095bde092fbe1e38384",
       "version_major": 2,
       "version_minor": 0
      },
      "text/plain": [
       "Output()"
      ]
     },
     "metadata": {},
     "output_type": "display_data"
    },
    {
     "name": "stdout",
     "output_type": "stream",
     "text": [
      "Trial 176 finished. Final Reconstruction Loss: 0.1632\n",
      "\n",
      "============================== Running Trial 177/288 ==============================\n",
      "Current Parameter Combination: lat_dim: 7, hidden_size: 250, lr: 0.0005, num_layers: 1, emb_dim: 64, weight_decay: 1e-06, batch_size: 32\n"
     ]
    },
    {
     "data": {
      "text/html": [
       "<pre style=\"white-space:pre;overflow-x:auto;line-height:normal;font-family:Menlo,'DejaVu Sans Mono',consolas,'Courier New',monospace\"></pre>\n"
      ],
      "text/plain": []
     },
     "metadata": {},
     "output_type": "display_data"
    },
    {
     "data": {
      "application/vnd.jupyter.widget-view+json": {
       "model_id": "805dc535b3af4924b01517f355a23a04",
       "version_major": 2,
       "version_minor": 0
      },
      "text/plain": [
       "Output()"
      ]
     },
     "metadata": {},
     "output_type": "display_data"
    },
    {
     "name": "stdout",
     "output_type": "stream",
     "text": [
      "Trial 177 finished. Final Reconstruction Loss: 0.0133\n",
      "\n",
      "============================== Running Trial 178/288 ==============================\n",
      "Current Parameter Combination: lat_dim: 7, hidden_size: 250, lr: 0.0005, num_layers: 1, emb_dim: 64, weight_decay: 1e-06, batch_size: 50\n"
     ]
    },
    {
     "data": {
      "text/html": [
       "<pre style=\"white-space:pre;overflow-x:auto;line-height:normal;font-family:Menlo,'DejaVu Sans Mono',consolas,'Courier New',monospace\"></pre>\n"
      ],
      "text/plain": []
     },
     "metadata": {},
     "output_type": "display_data"
    },
    {
     "data": {
      "application/vnd.jupyter.widget-view+json": {
       "model_id": "f23da7dab08941fab2b6c7e546f02d29",
       "version_major": 2,
       "version_minor": 0
      },
      "text/plain": [
       "Output()"
      ]
     },
     "metadata": {},
     "output_type": "display_data"
    },
    {
     "name": "stdout",
     "output_type": "stream",
     "text": [
      "Trial 178 finished. Final Reconstruction Loss: 0.0116\n",
      "\n",
      "============================== Running Trial 179/288 ==============================\n",
      "Current Parameter Combination: lat_dim: 7, hidden_size: 250, lr: 0.0005, num_layers: 1, emb_dim: 64, weight_decay: 1e-05, batch_size: 32\n"
     ]
    },
    {
     "data": {
      "text/html": [
       "<pre style=\"white-space:pre;overflow-x:auto;line-height:normal;font-family:Menlo,'DejaVu Sans Mono',consolas,'Courier New',monospace\"></pre>\n"
      ],
      "text/plain": []
     },
     "metadata": {},
     "output_type": "display_data"
    },
    {
     "data": {
      "application/vnd.jupyter.widget-view+json": {
       "model_id": "3a050065b8534fef8a536b57dbadd1e8",
       "version_major": 2,
       "version_minor": 0
      },
      "text/plain": [
       "Output()"
      ]
     },
     "metadata": {},
     "output_type": "display_data"
    },
    {
     "name": "stdout",
     "output_type": "stream",
     "text": [
      "Trial 179 finished. Final Reconstruction Loss: 0.0094\n",
      "\n",
      "============================== Running Trial 180/288 ==============================\n",
      "Current Parameter Combination: lat_dim: 7, hidden_size: 250, lr: 0.0005, num_layers: 1, emb_dim: 64, weight_decay: 1e-05, batch_size: 50\n"
     ]
    },
    {
     "data": {
      "text/html": [
       "<pre style=\"white-space:pre;overflow-x:auto;line-height:normal;font-family:Menlo,'DejaVu Sans Mono',consolas,'Courier New',monospace\"></pre>\n"
      ],
      "text/plain": []
     },
     "metadata": {},
     "output_type": "display_data"
    },
    {
     "data": {
      "application/vnd.jupyter.widget-view+json": {
       "model_id": "7fbf6e73e43a4a4a82956dfb38674800",
       "version_major": 2,
       "version_minor": 0
      },
      "text/plain": [
       "Output()"
      ]
     },
     "metadata": {},
     "output_type": "display_data"
    },
    {
     "name": "stdout",
     "output_type": "stream",
     "text": [
      "Trial 180 finished. Final Reconstruction Loss: 0.0102\n",
      "\n",
      "============================== Running Trial 181/288 ==============================\n",
      "Current Parameter Combination: lat_dim: 7, hidden_size: 250, lr: 0.0005, num_layers: 1, emb_dim: 128, weight_decay: 1e-06, batch_size: 32\n"
     ]
    },
    {
     "data": {
      "text/html": [
       "<pre style=\"white-space:pre;overflow-x:auto;line-height:normal;font-family:Menlo,'DejaVu Sans Mono',consolas,'Courier New',monospace\"></pre>\n"
      ],
      "text/plain": []
     },
     "metadata": {},
     "output_type": "display_data"
    },
    {
     "data": {
      "application/vnd.jupyter.widget-view+json": {
       "model_id": "8fb2b7ba6cef4855a6e45456e8a51228",
       "version_major": 2,
       "version_minor": 0
      },
      "text/plain": [
       "Output()"
      ]
     },
     "metadata": {},
     "output_type": "display_data"
    },
    {
     "name": "stdout",
     "output_type": "stream",
     "text": [
      "Trial 181 finished. Final Reconstruction Loss: 0.0066\n",
      "\n",
      "============================== Running Trial 182/288 ==============================\n",
      "Current Parameter Combination: lat_dim: 7, hidden_size: 250, lr: 0.0005, num_layers: 1, emb_dim: 128, weight_decay: 1e-06, batch_size: 50\n"
     ]
    },
    {
     "data": {
      "text/html": [
       "<pre style=\"white-space:pre;overflow-x:auto;line-height:normal;font-family:Menlo,'DejaVu Sans Mono',consolas,'Courier New',monospace\"></pre>\n"
      ],
      "text/plain": []
     },
     "metadata": {},
     "output_type": "display_data"
    },
    {
     "data": {
      "application/vnd.jupyter.widget-view+json": {
       "model_id": "2434bdc0b8af430faf1ac717ca9382b3",
       "version_major": 2,
       "version_minor": 0
      },
      "text/plain": [
       "Output()"
      ]
     },
     "metadata": {},
     "output_type": "display_data"
    },
    {
     "name": "stdout",
     "output_type": "stream",
     "text": [
      "Trial 182 finished. Final Reconstruction Loss: 0.0049\n",
      "\n",
      "============================== Running Trial 183/288 ==============================\n",
      "Current Parameter Combination: lat_dim: 7, hidden_size: 250, lr: 0.0005, num_layers: 1, emb_dim: 128, weight_decay: 1e-05, batch_size: 32\n"
     ]
    },
    {
     "data": {
      "text/html": [
       "<pre style=\"white-space:pre;overflow-x:auto;line-height:normal;font-family:Menlo,'DejaVu Sans Mono',consolas,'Courier New',monospace\"></pre>\n"
      ],
      "text/plain": []
     },
     "metadata": {},
     "output_type": "display_data"
    },
    {
     "data": {
      "application/vnd.jupyter.widget-view+json": {
       "model_id": "75ef7e1205914e45b702c255a41977b9",
       "version_major": 2,
       "version_minor": 0
      },
      "text/plain": [
       "Output()"
      ]
     },
     "metadata": {},
     "output_type": "display_data"
    },
    {
     "name": "stdout",
     "output_type": "stream",
     "text": [
      "Trial 183 finished. Final Reconstruction Loss: 0.0110\n",
      "\n",
      "============================== Running Trial 184/288 ==============================\n",
      "Current Parameter Combination: lat_dim: 7, hidden_size: 250, lr: 0.0005, num_layers: 1, emb_dim: 128, weight_decay: 1e-05, batch_size: 50\n"
     ]
    },
    {
     "data": {
      "text/html": [
       "<pre style=\"white-space:pre;overflow-x:auto;line-height:normal;font-family:Menlo,'DejaVu Sans Mono',consolas,'Courier New',monospace\"></pre>\n"
      ],
      "text/plain": []
     },
     "metadata": {},
     "output_type": "display_data"
    },
    {
     "data": {
      "application/vnd.jupyter.widget-view+json": {
       "model_id": "b6ec4ad65fa44c5c9355fd5365cd4ba7",
       "version_major": 2,
       "version_minor": 0
      },
      "text/plain": [
       "Output()"
      ]
     },
     "metadata": {},
     "output_type": "display_data"
    },
    {
     "name": "stdout",
     "output_type": "stream",
     "text": [
      "Trial 184 finished. Final Reconstruction Loss: 0.0035\n",
      "\n",
      "============================== Running Trial 185/288 ==============================\n",
      "Current Parameter Combination: lat_dim: 7, hidden_size: 250, lr: 0.0005, num_layers: 2, emb_dim: 64, weight_decay: 1e-06, batch_size: 32\n"
     ]
    },
    {
     "data": {
      "text/html": [
       "<pre style=\"white-space:pre;overflow-x:auto;line-height:normal;font-family:Menlo,'DejaVu Sans Mono',consolas,'Courier New',monospace\"></pre>\n"
      ],
      "text/plain": []
     },
     "metadata": {},
     "output_type": "display_data"
    },
    {
     "data": {
      "application/vnd.jupyter.widget-view+json": {
       "model_id": "0b75ff2bdaf54de19416f58522356696",
       "version_major": 2,
       "version_minor": 0
      },
      "text/plain": [
       "Output()"
      ]
     },
     "metadata": {},
     "output_type": "display_data"
    },
    {
     "name": "stdout",
     "output_type": "stream",
     "text": [
      "Trial 185 finished. Final Reconstruction Loss: 0.0113\n",
      "\n",
      "============================== Running Trial 186/288 ==============================\n",
      "Current Parameter Combination: lat_dim: 7, hidden_size: 250, lr: 0.0005, num_layers: 2, emb_dim: 64, weight_decay: 1e-06, batch_size: 50\n"
     ]
    },
    {
     "data": {
      "text/html": [
       "<pre style=\"white-space:pre;overflow-x:auto;line-height:normal;font-family:Menlo,'DejaVu Sans Mono',consolas,'Courier New',monospace\"></pre>\n"
      ],
      "text/plain": []
     },
     "metadata": {},
     "output_type": "display_data"
    },
    {
     "data": {
      "application/vnd.jupyter.widget-view+json": {
       "model_id": "e00c0716ce844cf3beda16c9ffaa269c",
       "version_major": 2,
       "version_minor": 0
      },
      "text/plain": [
       "Output()"
      ]
     },
     "metadata": {},
     "output_type": "display_data"
    },
    {
     "name": "stdout",
     "output_type": "stream",
     "text": [
      "Trial 186 finished. Final Reconstruction Loss: 0.0109\n",
      "\n",
      "============================== Running Trial 187/288 ==============================\n",
      "Current Parameter Combination: lat_dim: 7, hidden_size: 250, lr: 0.0005, num_layers: 2, emb_dim: 64, weight_decay: 1e-05, batch_size: 32\n"
     ]
    },
    {
     "data": {
      "text/html": [
       "<pre style=\"white-space:pre;overflow-x:auto;line-height:normal;font-family:Menlo,'DejaVu Sans Mono',consolas,'Courier New',monospace\"></pre>\n"
      ],
      "text/plain": []
     },
     "metadata": {},
     "output_type": "display_data"
    },
    {
     "data": {
      "application/vnd.jupyter.widget-view+json": {
       "model_id": "af892e3abdf44e489b209810f1852677",
       "version_major": 2,
       "version_minor": 0
      },
      "text/plain": [
       "Output()"
      ]
     },
     "metadata": {},
     "output_type": "display_data"
    },
    {
     "name": "stdout",
     "output_type": "stream",
     "text": [
      "Trial 187 finished. Final Reconstruction Loss: 0.0093\n",
      "\n",
      "============================== Running Trial 188/288 ==============================\n",
      "Current Parameter Combination: lat_dim: 7, hidden_size: 250, lr: 0.0005, num_layers: 2, emb_dim: 64, weight_decay: 1e-05, batch_size: 50\n"
     ]
    },
    {
     "data": {
      "text/html": [
       "<pre style=\"white-space:pre;overflow-x:auto;line-height:normal;font-family:Menlo,'DejaVu Sans Mono',consolas,'Courier New',monospace\"></pre>\n"
      ],
      "text/plain": []
     },
     "metadata": {},
     "output_type": "display_data"
    },
    {
     "data": {
      "application/vnd.jupyter.widget-view+json": {
       "model_id": "8b580aab98744a84a04a109a775dfeae",
       "version_major": 2,
       "version_minor": 0
      },
      "text/plain": [
       "Output()"
      ]
     },
     "metadata": {},
     "output_type": "display_data"
    },
    {
     "name": "stdout",
     "output_type": "stream",
     "text": [
      "Trial 188 finished. Final Reconstruction Loss: 0.0104\n",
      "\n",
      "============================== Running Trial 189/288 ==============================\n",
      "Current Parameter Combination: lat_dim: 7, hidden_size: 250, lr: 0.0005, num_layers: 2, emb_dim: 128, weight_decay: 1e-06, batch_size: 32\n"
     ]
    },
    {
     "data": {
      "text/html": [
       "<pre style=\"white-space:pre;overflow-x:auto;line-height:normal;font-family:Menlo,'DejaVu Sans Mono',consolas,'Courier New',monospace\"></pre>\n"
      ],
      "text/plain": []
     },
     "metadata": {},
     "output_type": "display_data"
    },
    {
     "data": {
      "application/vnd.jupyter.widget-view+json": {
       "model_id": "6614870466af46988a743706fb20cf7e",
       "version_major": 2,
       "version_minor": 0
      },
      "text/plain": [
       "Output()"
      ]
     },
     "metadata": {},
     "output_type": "display_data"
    },
    {
     "name": "stdout",
     "output_type": "stream",
     "text": [
      "Trial 189 finished. Final Reconstruction Loss: 0.0109\n",
      "\n",
      "============================== Running Trial 190/288 ==============================\n",
      "Current Parameter Combination: lat_dim: 7, hidden_size: 250, lr: 0.0005, num_layers: 2, emb_dim: 128, weight_decay: 1e-06, batch_size: 50\n"
     ]
    },
    {
     "data": {
      "text/html": [
       "<pre style=\"white-space:pre;overflow-x:auto;line-height:normal;font-family:Menlo,'DejaVu Sans Mono',consolas,'Courier New',monospace\"></pre>\n"
      ],
      "text/plain": []
     },
     "metadata": {},
     "output_type": "display_data"
    },
    {
     "data": {
      "application/vnd.jupyter.widget-view+json": {
       "model_id": "4f604c4eb37a41cba078653e1a9e7cd9",
       "version_major": 2,
       "version_minor": 0
      },
      "text/plain": [
       "Output()"
      ]
     },
     "metadata": {},
     "output_type": "display_data"
    },
    {
     "name": "stdout",
     "output_type": "stream",
     "text": [
      "Trial 190 finished. Final Reconstruction Loss: 0.0129\n",
      "\n",
      "============================== Running Trial 191/288 ==============================\n",
      "Current Parameter Combination: lat_dim: 7, hidden_size: 250, lr: 0.0005, num_layers: 2, emb_dim: 128, weight_decay: 1e-05, batch_size: 32\n"
     ]
    },
    {
     "data": {
      "text/html": [
       "<pre style=\"white-space:pre;overflow-x:auto;line-height:normal;font-family:Menlo,'DejaVu Sans Mono',consolas,'Courier New',monospace\"></pre>\n"
      ],
      "text/plain": []
     },
     "metadata": {},
     "output_type": "display_data"
    },
    {
     "data": {
      "application/vnd.jupyter.widget-view+json": {
       "model_id": "ff42431a50594179894c145622d05054",
       "version_major": 2,
       "version_minor": 0
      },
      "text/plain": [
       "Output()"
      ]
     },
     "metadata": {},
     "output_type": "display_data"
    },
    {
     "name": "stdout",
     "output_type": "stream",
     "text": [
      "Trial 191 finished. Final Reconstruction Loss: 0.0108\n",
      "\n",
      "============================== Running Trial 192/288 ==============================\n",
      "Current Parameter Combination: lat_dim: 7, hidden_size: 250, lr: 0.0005, num_layers: 2, emb_dim: 128, weight_decay: 1e-05, batch_size: 50\n"
     ]
    },
    {
     "data": {
      "text/html": [
       "<pre style=\"white-space:pre;overflow-x:auto;line-height:normal;font-family:Menlo,'DejaVu Sans Mono',consolas,'Courier New',monospace\"></pre>\n"
      ],
      "text/plain": []
     },
     "metadata": {},
     "output_type": "display_data"
    },
    {
     "data": {
      "application/vnd.jupyter.widget-view+json": {
       "model_id": "5cc79ca8bbcd417e8d891e4013697579",
       "version_major": 2,
       "version_minor": 0
      },
      "text/plain": [
       "Output()"
      ]
     },
     "metadata": {},
     "output_type": "display_data"
    },
    {
     "name": "stdout",
     "output_type": "stream",
     "text": [
      "Trial 192 finished. Final Reconstruction Loss: 0.0095\n",
      "\n",
      "============================== Running Trial 193/288 ==============================\n",
      "Current Parameter Combination: lat_dim: 10, hidden_size: 150, lr: 0.0001, num_layers: 1, emb_dim: 64, weight_decay: 1e-06, batch_size: 32\n"
     ]
    },
    {
     "data": {
      "text/html": [
       "<pre style=\"white-space:pre;overflow-x:auto;line-height:normal;font-family:Menlo,'DejaVu Sans Mono',consolas,'Courier New',monospace\"></pre>\n"
      ],
      "text/plain": []
     },
     "metadata": {},
     "output_type": "display_data"
    },
    {
     "data": {
      "application/vnd.jupyter.widget-view+json": {
       "model_id": "5a1359ee98ef46b7b6ee45d1563dc116",
       "version_major": 2,
       "version_minor": 0
      },
      "text/plain": [
       "Output()"
      ]
     },
     "metadata": {},
     "output_type": "display_data"
    },
    {
     "name": "stdout",
     "output_type": "stream",
     "text": [
      "Trial 193 finished. Final Reconstruction Loss: 0.9491\n",
      "\n",
      "============================== Running Trial 194/288 ==============================\n",
      "Current Parameter Combination: lat_dim: 10, hidden_size: 150, lr: 0.0001, num_layers: 1, emb_dim: 64, weight_decay: 1e-06, batch_size: 50\n"
     ]
    },
    {
     "data": {
      "text/html": [
       "<pre style=\"white-space:pre;overflow-x:auto;line-height:normal;font-family:Menlo,'DejaVu Sans Mono',consolas,'Courier New',monospace\"></pre>\n"
      ],
      "text/plain": []
     },
     "metadata": {},
     "output_type": "display_data"
    },
    {
     "data": {
      "application/vnd.jupyter.widget-view+json": {
       "model_id": "47a8a18393504f8e8bb30a9d7be07f90",
       "version_major": 2,
       "version_minor": 0
      },
      "text/plain": [
       "Output()"
      ]
     },
     "metadata": {},
     "output_type": "display_data"
    },
    {
     "name": "stdout",
     "output_type": "stream",
     "text": [
      "Trial 194 finished. Final Reconstruction Loss: 0.6171\n",
      "\n",
      "============================== Running Trial 195/288 ==============================\n",
      "Current Parameter Combination: lat_dim: 10, hidden_size: 150, lr: 0.0001, num_layers: 1, emb_dim: 64, weight_decay: 1e-05, batch_size: 32\n"
     ]
    },
    {
     "data": {
      "text/html": [
       "<pre style=\"white-space:pre;overflow-x:auto;line-height:normal;font-family:Menlo,'DejaVu Sans Mono',consolas,'Courier New',monospace\"></pre>\n"
      ],
      "text/plain": []
     },
     "metadata": {},
     "output_type": "display_data"
    },
    {
     "data": {
      "application/vnd.jupyter.widget-view+json": {
       "model_id": "12fc0bbf4ae240bdbb27b8b9cb8ec5f7",
       "version_major": 2,
       "version_minor": 0
      },
      "text/plain": [
       "Output()"
      ]
     },
     "metadata": {},
     "output_type": "display_data"
    },
    {
     "name": "stdout",
     "output_type": "stream",
     "text": [
      "Trial 195 finished. Final Reconstruction Loss: 0.6538\n",
      "\n",
      "============================== Running Trial 196/288 ==============================\n",
      "Current Parameter Combination: lat_dim: 10, hidden_size: 150, lr: 0.0001, num_layers: 1, emb_dim: 64, weight_decay: 1e-05, batch_size: 50\n"
     ]
    },
    {
     "data": {
      "text/html": [
       "<pre style=\"white-space:pre;overflow-x:auto;line-height:normal;font-family:Menlo,'DejaVu Sans Mono',consolas,'Courier New',monospace\"></pre>\n"
      ],
      "text/plain": []
     },
     "metadata": {},
     "output_type": "display_data"
    },
    {
     "data": {
      "application/vnd.jupyter.widget-view+json": {
       "model_id": "4a306645413a4f498a6d4997d447aee5",
       "version_major": 2,
       "version_minor": 0
      },
      "text/plain": [
       "Output()"
      ]
     },
     "metadata": {},
     "output_type": "display_data"
    },
    {
     "name": "stdout",
     "output_type": "stream",
     "text": [
      "Trial 196 finished. Final Reconstruction Loss: 0.7423\n",
      "\n",
      "============================== Running Trial 197/288 ==============================\n",
      "Current Parameter Combination: lat_dim: 10, hidden_size: 150, lr: 0.0001, num_layers: 1, emb_dim: 128, weight_decay: 1e-06, batch_size: 32\n"
     ]
    },
    {
     "data": {
      "text/html": [
       "<pre style=\"white-space:pre;overflow-x:auto;line-height:normal;font-family:Menlo,'DejaVu Sans Mono',consolas,'Courier New',monospace\"></pre>\n"
      ],
      "text/plain": []
     },
     "metadata": {},
     "output_type": "display_data"
    },
    {
     "data": {
      "application/vnd.jupyter.widget-view+json": {
       "model_id": "ef02e069691f466fac25f909bd690394",
       "version_major": 2,
       "version_minor": 0
      },
      "text/plain": [
       "Output()"
      ]
     },
     "metadata": {},
     "output_type": "display_data"
    },
    {
     "name": "stdout",
     "output_type": "stream",
     "text": [
      "Trial 197 finished. Final Reconstruction Loss: 0.2434\n",
      "\n",
      "============================== Running Trial 198/288 ==============================\n",
      "Current Parameter Combination: lat_dim: 10, hidden_size: 150, lr: 0.0001, num_layers: 1, emb_dim: 128, weight_decay: 1e-06, batch_size: 50\n"
     ]
    },
    {
     "data": {
      "text/html": [
       "<pre style=\"white-space:pre;overflow-x:auto;line-height:normal;font-family:Menlo,'DejaVu Sans Mono',consolas,'Courier New',monospace\"></pre>\n"
      ],
      "text/plain": []
     },
     "metadata": {},
     "output_type": "display_data"
    },
    {
     "data": {
      "application/vnd.jupyter.widget-view+json": {
       "model_id": "71987fa1ac5f4e7cbeba7bc6a61d7774",
       "version_major": 2,
       "version_minor": 0
      },
      "text/plain": [
       "Output()"
      ]
     },
     "metadata": {},
     "output_type": "display_data"
    },
    {
     "name": "stdout",
     "output_type": "stream",
     "text": [
      "Trial 198 finished. Final Reconstruction Loss: 0.3323\n",
      "\n",
      "============================== Running Trial 199/288 ==============================\n",
      "Current Parameter Combination: lat_dim: 10, hidden_size: 150, lr: 0.0001, num_layers: 1, emb_dim: 128, weight_decay: 1e-05, batch_size: 32\n"
     ]
    },
    {
     "data": {
      "text/html": [
       "<pre style=\"white-space:pre;overflow-x:auto;line-height:normal;font-family:Menlo,'DejaVu Sans Mono',consolas,'Courier New',monospace\"></pre>\n"
      ],
      "text/plain": []
     },
     "metadata": {},
     "output_type": "display_data"
    },
    {
     "data": {
      "application/vnd.jupyter.widget-view+json": {
       "model_id": "908101a7711f4ddda434b289572d1320",
       "version_major": 2,
       "version_minor": 0
      },
      "text/plain": [
       "Output()"
      ]
     },
     "metadata": {},
     "output_type": "display_data"
    },
    {
     "name": "stdout",
     "output_type": "stream",
     "text": [
      "Trial 199 finished. Final Reconstruction Loss: 0.3903\n",
      "\n",
      "============================== Running Trial 200/288 ==============================\n",
      "Current Parameter Combination: lat_dim: 10, hidden_size: 150, lr: 0.0001, num_layers: 1, emb_dim: 128, weight_decay: 1e-05, batch_size: 50\n"
     ]
    },
    {
     "data": {
      "text/html": [
       "<pre style=\"white-space:pre;overflow-x:auto;line-height:normal;font-family:Menlo,'DejaVu Sans Mono',consolas,'Courier New',monospace\"></pre>\n"
      ],
      "text/plain": []
     },
     "metadata": {},
     "output_type": "display_data"
    },
    {
     "data": {
      "application/vnd.jupyter.widget-view+json": {
       "model_id": "877405ed217c4770ab79336edb8c4b2e",
       "version_major": 2,
       "version_minor": 0
      },
      "text/plain": [
       "Output()"
      ]
     },
     "metadata": {},
     "output_type": "display_data"
    },
    {
     "name": "stdout",
     "output_type": "stream",
     "text": [
      "Trial 200 finished. Final Reconstruction Loss: 0.8156\n",
      "\n",
      "============================== Running Trial 201/288 ==============================\n",
      "Current Parameter Combination: lat_dim: 10, hidden_size: 150, lr: 0.0001, num_layers: 2, emb_dim: 64, weight_decay: 1e-06, batch_size: 32\n"
     ]
    },
    {
     "data": {
      "text/html": [
       "<pre style=\"white-space:pre;overflow-x:auto;line-height:normal;font-family:Menlo,'DejaVu Sans Mono',consolas,'Courier New',monospace\"></pre>\n"
      ],
      "text/plain": []
     },
     "metadata": {},
     "output_type": "display_data"
    },
    {
     "data": {
      "application/vnd.jupyter.widget-view+json": {
       "model_id": "e4c8fbb8078647a1b7781a0f9daa4541",
       "version_major": 2,
       "version_minor": 0
      },
      "text/plain": [
       "Output()"
      ]
     },
     "metadata": {},
     "output_type": "display_data"
    },
    {
     "name": "stdout",
     "output_type": "stream",
     "text": [
      "Trial 201 finished. Final Reconstruction Loss: 1.0370\n",
      "\n",
      "============================== Running Trial 202/288 ==============================\n",
      "Current Parameter Combination: lat_dim: 10, hidden_size: 150, lr: 0.0001, num_layers: 2, emb_dim: 64, weight_decay: 1e-06, batch_size: 50\n"
     ]
    },
    {
     "data": {
      "text/html": [
       "<pre style=\"white-space:pre;overflow-x:auto;line-height:normal;font-family:Menlo,'DejaVu Sans Mono',consolas,'Courier New',monospace\"></pre>\n"
      ],
      "text/plain": []
     },
     "metadata": {},
     "output_type": "display_data"
    },
    {
     "data": {
      "application/vnd.jupyter.widget-view+json": {
       "model_id": "7fcc2024528b4fffa70a914dc9a9431f",
       "version_major": 2,
       "version_minor": 0
      },
      "text/plain": [
       "Output()"
      ]
     },
     "metadata": {},
     "output_type": "display_data"
    },
    {
     "name": "stdout",
     "output_type": "stream",
     "text": [
      "Trial 202 finished. Final Reconstruction Loss: 0.5204\n",
      "\n",
      "============================== Running Trial 203/288 ==============================\n",
      "Current Parameter Combination: lat_dim: 10, hidden_size: 150, lr: 0.0001, num_layers: 2, emb_dim: 64, weight_decay: 1e-05, batch_size: 32\n"
     ]
    },
    {
     "data": {
      "text/html": [
       "<pre style=\"white-space:pre;overflow-x:auto;line-height:normal;font-family:Menlo,'DejaVu Sans Mono',consolas,'Courier New',monospace\"></pre>\n"
      ],
      "text/plain": []
     },
     "metadata": {},
     "output_type": "display_data"
    },
    {
     "data": {
      "application/vnd.jupyter.widget-view+json": {
       "model_id": "dc4441d6c52442c19cbc74e056efaf63",
       "version_major": 2,
       "version_minor": 0
      },
      "text/plain": [
       "Output()"
      ]
     },
     "metadata": {},
     "output_type": "display_data"
    },
    {
     "name": "stdout",
     "output_type": "stream",
     "text": [
      "Trial 203 finished. Final Reconstruction Loss: 0.9897\n",
      "\n",
      "============================== Running Trial 204/288 ==============================\n",
      "Current Parameter Combination: lat_dim: 10, hidden_size: 150, lr: 0.0001, num_layers: 2, emb_dim: 64, weight_decay: 1e-05, batch_size: 50\n"
     ]
    },
    {
     "data": {
      "text/html": [
       "<pre style=\"white-space:pre;overflow-x:auto;line-height:normal;font-family:Menlo,'DejaVu Sans Mono',consolas,'Courier New',monospace\"></pre>\n"
      ],
      "text/plain": []
     },
     "metadata": {},
     "output_type": "display_data"
    },
    {
     "data": {
      "application/vnd.jupyter.widget-view+json": {
       "model_id": "ddcb339705824b42be0b96860d126b43",
       "version_major": 2,
       "version_minor": 0
      },
      "text/plain": [
       "Output()"
      ]
     },
     "metadata": {},
     "output_type": "display_data"
    },
    {
     "name": "stdout",
     "output_type": "stream",
     "text": [
      "Trial 204 finished. Final Reconstruction Loss: 0.7961\n",
      "\n",
      "============================== Running Trial 205/288 ==============================\n",
      "Current Parameter Combination: lat_dim: 10, hidden_size: 150, lr: 0.0001, num_layers: 2, emb_dim: 128, weight_decay: 1e-06, batch_size: 32\n"
     ]
    },
    {
     "data": {
      "text/html": [
       "<pre style=\"white-space:pre;overflow-x:auto;line-height:normal;font-family:Menlo,'DejaVu Sans Mono',consolas,'Courier New',monospace\"></pre>\n"
      ],
      "text/plain": []
     },
     "metadata": {},
     "output_type": "display_data"
    },
    {
     "data": {
      "application/vnd.jupyter.widget-view+json": {
       "model_id": "4ad777341aae43fc9604e67ca9534b23",
       "version_major": 2,
       "version_minor": 0
      },
      "text/plain": [
       "Output()"
      ]
     },
     "metadata": {},
     "output_type": "display_data"
    },
    {
     "name": "stdout",
     "output_type": "stream",
     "text": [
      "Trial 205 finished. Final Reconstruction Loss: 1.0231\n",
      "\n",
      "============================== Running Trial 206/288 ==============================\n",
      "Current Parameter Combination: lat_dim: 10, hidden_size: 150, lr: 0.0001, num_layers: 2, emb_dim: 128, weight_decay: 1e-06, batch_size: 50\n"
     ]
    },
    {
     "data": {
      "text/html": [
       "<pre style=\"white-space:pre;overflow-x:auto;line-height:normal;font-family:Menlo,'DejaVu Sans Mono',consolas,'Courier New',monospace\"></pre>\n"
      ],
      "text/plain": []
     },
     "metadata": {},
     "output_type": "display_data"
    },
    {
     "data": {
      "application/vnd.jupyter.widget-view+json": {
       "model_id": "401d7f84dc3e4dd7b6f38f5206bd5821",
       "version_major": 2,
       "version_minor": 0
      },
      "text/plain": [
       "Output()"
      ]
     },
     "metadata": {},
     "output_type": "display_data"
    },
    {
     "name": "stdout",
     "output_type": "stream",
     "text": [
      "Trial 206 finished. Final Reconstruction Loss: 0.8273\n",
      "\n",
      "============================== Running Trial 207/288 ==============================\n",
      "Current Parameter Combination: lat_dim: 10, hidden_size: 150, lr: 0.0001, num_layers: 2, emb_dim: 128, weight_decay: 1e-05, batch_size: 32\n"
     ]
    },
    {
     "data": {
      "text/html": [
       "<pre style=\"white-space:pre;overflow-x:auto;line-height:normal;font-family:Menlo,'DejaVu Sans Mono',consolas,'Courier New',monospace\"></pre>\n"
      ],
      "text/plain": []
     },
     "metadata": {},
     "output_type": "display_data"
    },
    {
     "data": {
      "application/vnd.jupyter.widget-view+json": {
       "model_id": "8f48e0d6a875476786d24e070da95b1b",
       "version_major": 2,
       "version_minor": 0
      },
      "text/plain": [
       "Output()"
      ]
     },
     "metadata": {},
     "output_type": "display_data"
    },
    {
     "name": "stdout",
     "output_type": "stream",
     "text": [
      "Trial 207 finished. Final Reconstruction Loss: 0.7351\n",
      "\n",
      "============================== Running Trial 208/288 ==============================\n",
      "Current Parameter Combination: lat_dim: 10, hidden_size: 150, lr: 0.0001, num_layers: 2, emb_dim: 128, weight_decay: 1e-05, batch_size: 50\n"
     ]
    },
    {
     "data": {
      "text/html": [
       "<pre style=\"white-space:pre;overflow-x:auto;line-height:normal;font-family:Menlo,'DejaVu Sans Mono',consolas,'Courier New',monospace\"></pre>\n"
      ],
      "text/plain": []
     },
     "metadata": {},
     "output_type": "display_data"
    },
    {
     "data": {
      "application/vnd.jupyter.widget-view+json": {
       "model_id": "926edba7263b45528ff0fc154eb94093",
       "version_major": 2,
       "version_minor": 0
      },
      "text/plain": [
       "Output()"
      ]
     },
     "metadata": {},
     "output_type": "display_data"
    },
    {
     "name": "stdout",
     "output_type": "stream",
     "text": [
      "Trial 208 finished. Final Reconstruction Loss: 0.6754\n",
      "\n",
      "============================== Running Trial 209/288 ==============================\n",
      "Current Parameter Combination: lat_dim: 10, hidden_size: 150, lr: 0.0005, num_layers: 1, emb_dim: 64, weight_decay: 1e-06, batch_size: 32\n"
     ]
    },
    {
     "data": {
      "text/html": [
       "<pre style=\"white-space:pre;overflow-x:auto;line-height:normal;font-family:Menlo,'DejaVu Sans Mono',consolas,'Courier New',monospace\"></pre>\n"
      ],
      "text/plain": []
     },
     "metadata": {},
     "output_type": "display_data"
    },
    {
     "data": {
      "application/vnd.jupyter.widget-view+json": {
       "model_id": "eeaac17e517f461984d140824cc11c4b",
       "version_major": 2,
       "version_minor": 0
      },
      "text/plain": [
       "Output()"
      ]
     },
     "metadata": {},
     "output_type": "display_data"
    },
    {
     "name": "stdout",
     "output_type": "stream",
     "text": [
      "Trial 209 finished. Final Reconstruction Loss: 0.0119\n",
      "\n",
      "============================== Running Trial 210/288 ==============================\n",
      "Current Parameter Combination: lat_dim: 10, hidden_size: 150, lr: 0.0005, num_layers: 1, emb_dim: 64, weight_decay: 1e-06, batch_size: 50\n"
     ]
    },
    {
     "data": {
      "text/html": [
       "<pre style=\"white-space:pre;overflow-x:auto;line-height:normal;font-family:Menlo,'DejaVu Sans Mono',consolas,'Courier New',monospace\"></pre>\n"
      ],
      "text/plain": []
     },
     "metadata": {},
     "output_type": "display_data"
    },
    {
     "data": {
      "application/vnd.jupyter.widget-view+json": {
       "model_id": "bd2671c4406b4c5e87133ab03a6fd221",
       "version_major": 2,
       "version_minor": 0
      },
      "text/plain": [
       "Output()"
      ]
     },
     "metadata": {},
     "output_type": "display_data"
    },
    {
     "name": "stdout",
     "output_type": "stream",
     "text": [
      "Trial 210 finished. Final Reconstruction Loss: 0.0113\n",
      "\n",
      "============================== Running Trial 211/288 ==============================\n",
      "Current Parameter Combination: lat_dim: 10, hidden_size: 150, lr: 0.0005, num_layers: 1, emb_dim: 64, weight_decay: 1e-05, batch_size: 32\n"
     ]
    },
    {
     "data": {
      "text/html": [
       "<pre style=\"white-space:pre;overflow-x:auto;line-height:normal;font-family:Menlo,'DejaVu Sans Mono',consolas,'Courier New',monospace\"></pre>\n"
      ],
      "text/plain": []
     },
     "metadata": {},
     "output_type": "display_data"
    },
    {
     "data": {
      "application/vnd.jupyter.widget-view+json": {
       "model_id": "abb6335084f34f6694cc53acc492bf14",
       "version_major": 2,
       "version_minor": 0
      },
      "text/plain": [
       "Output()"
      ]
     },
     "metadata": {},
     "output_type": "display_data"
    },
    {
     "name": "stdout",
     "output_type": "stream",
     "text": [
      "Trial 211 finished. Final Reconstruction Loss: 0.0164\n",
      "\n",
      "============================== Running Trial 212/288 ==============================\n",
      "Current Parameter Combination: lat_dim: 10, hidden_size: 150, lr: 0.0005, num_layers: 1, emb_dim: 64, weight_decay: 1e-05, batch_size: 50\n"
     ]
    },
    {
     "data": {
      "text/html": [
       "<pre style=\"white-space:pre;overflow-x:auto;line-height:normal;font-family:Menlo,'DejaVu Sans Mono',consolas,'Courier New',monospace\"></pre>\n"
      ],
      "text/plain": []
     },
     "metadata": {},
     "output_type": "display_data"
    },
    {
     "data": {
      "application/vnd.jupyter.widget-view+json": {
       "model_id": "5b2fecd0d88f48049c27faf72d9d7126",
       "version_major": 2,
       "version_minor": 0
      },
      "text/plain": [
       "Output()"
      ]
     },
     "metadata": {},
     "output_type": "display_data"
    },
    {
     "name": "stdout",
     "output_type": "stream",
     "text": [
      "Trial 212 finished. Final Reconstruction Loss: 0.0115\n",
      "\n",
      "============================== Running Trial 213/288 ==============================\n",
      "Current Parameter Combination: lat_dim: 10, hidden_size: 150, lr: 0.0005, num_layers: 1, emb_dim: 128, weight_decay: 1e-06, batch_size: 32\n"
     ]
    },
    {
     "data": {
      "text/html": [
       "<pre style=\"white-space:pre;overflow-x:auto;line-height:normal;font-family:Menlo,'DejaVu Sans Mono',consolas,'Courier New',monospace\"></pre>\n"
      ],
      "text/plain": []
     },
     "metadata": {},
     "output_type": "display_data"
    },
    {
     "data": {
      "application/vnd.jupyter.widget-view+json": {
       "model_id": "92dc6ce068c2491aa3c9e5fa19176a7a",
       "version_major": 2,
       "version_minor": 0
      },
      "text/plain": [
       "Output()"
      ]
     },
     "metadata": {},
     "output_type": "display_data"
    },
    {
     "name": "stdout",
     "output_type": "stream",
     "text": [
      "Trial 213 finished. Final Reconstruction Loss: 0.0108\n",
      "\n",
      "============================== Running Trial 214/288 ==============================\n",
      "Current Parameter Combination: lat_dim: 10, hidden_size: 150, lr: 0.0005, num_layers: 1, emb_dim: 128, weight_decay: 1e-06, batch_size: 50\n"
     ]
    },
    {
     "data": {
      "text/html": [
       "<pre style=\"white-space:pre;overflow-x:auto;line-height:normal;font-family:Menlo,'DejaVu Sans Mono',consolas,'Courier New',monospace\"></pre>\n"
      ],
      "text/plain": []
     },
     "metadata": {},
     "output_type": "display_data"
    },
    {
     "data": {
      "application/vnd.jupyter.widget-view+json": {
       "model_id": "daf834d0535f45a0a849e12950032493",
       "version_major": 2,
       "version_minor": 0
      },
      "text/plain": [
       "Output()"
      ]
     },
     "metadata": {},
     "output_type": "display_data"
    },
    {
     "name": "stdout",
     "output_type": "stream",
     "text": [
      "Trial 214 finished. Final Reconstruction Loss: 0.0102\n",
      "\n",
      "============================== Running Trial 215/288 ==============================\n",
      "Current Parameter Combination: lat_dim: 10, hidden_size: 150, lr: 0.0005, num_layers: 1, emb_dim: 128, weight_decay: 1e-05, batch_size: 32\n"
     ]
    },
    {
     "data": {
      "text/html": [
       "<pre style=\"white-space:pre;overflow-x:auto;line-height:normal;font-family:Menlo,'DejaVu Sans Mono',consolas,'Courier New',monospace\"></pre>\n"
      ],
      "text/plain": []
     },
     "metadata": {},
     "output_type": "display_data"
    },
    {
     "data": {
      "application/vnd.jupyter.widget-view+json": {
       "model_id": "09559160006c4a77b56f7d951c3a2007",
       "version_major": 2,
       "version_minor": 0
      },
      "text/plain": [
       "Output()"
      ]
     },
     "metadata": {},
     "output_type": "display_data"
    },
    {
     "name": "stdout",
     "output_type": "stream",
     "text": [
      "Trial 215 finished. Final Reconstruction Loss: 0.0115\n",
      "\n",
      "============================== Running Trial 216/288 ==============================\n",
      "Current Parameter Combination: lat_dim: 10, hidden_size: 150, lr: 0.0005, num_layers: 1, emb_dim: 128, weight_decay: 1e-05, batch_size: 50\n"
     ]
    },
    {
     "data": {
      "text/html": [
       "<pre style=\"white-space:pre;overflow-x:auto;line-height:normal;font-family:Menlo,'DejaVu Sans Mono',consolas,'Courier New',monospace\"></pre>\n"
      ],
      "text/plain": []
     },
     "metadata": {},
     "output_type": "display_data"
    },
    {
     "data": {
      "application/vnd.jupyter.widget-view+json": {
       "model_id": "549c89600c504a468a986570168758ea",
       "version_major": 2,
       "version_minor": 0
      },
      "text/plain": [
       "Output()"
      ]
     },
     "metadata": {},
     "output_type": "display_data"
    },
    {
     "name": "stdout",
     "output_type": "stream",
     "text": [
      "Trial 216 finished. Final Reconstruction Loss: 0.0087\n",
      "\n",
      "============================== Running Trial 217/288 ==============================\n",
      "Current Parameter Combination: lat_dim: 10, hidden_size: 150, lr: 0.0005, num_layers: 2, emb_dim: 64, weight_decay: 1e-06, batch_size: 32\n"
     ]
    },
    {
     "data": {
      "text/html": [
       "<pre style=\"white-space:pre;overflow-x:auto;line-height:normal;font-family:Menlo,'DejaVu Sans Mono',consolas,'Courier New',monospace\"></pre>\n"
      ],
      "text/plain": []
     },
     "metadata": {},
     "output_type": "display_data"
    },
    {
     "data": {
      "application/vnd.jupyter.widget-view+json": {
       "model_id": "505459f0017040b9b15170adc82ef142",
       "version_major": 2,
       "version_minor": 0
      },
      "text/plain": [
       "Output()"
      ]
     },
     "metadata": {},
     "output_type": "display_data"
    },
    {
     "name": "stdout",
     "output_type": "stream",
     "text": [
      "Trial 217 finished. Final Reconstruction Loss: 0.0324\n",
      "\n",
      "============================== Running Trial 218/288 ==============================\n",
      "Current Parameter Combination: lat_dim: 10, hidden_size: 150, lr: 0.0005, num_layers: 2, emb_dim: 64, weight_decay: 1e-06, batch_size: 50\n"
     ]
    },
    {
     "data": {
      "text/html": [
       "<pre style=\"white-space:pre;overflow-x:auto;line-height:normal;font-family:Menlo,'DejaVu Sans Mono',consolas,'Courier New',monospace\"></pre>\n"
      ],
      "text/plain": []
     },
     "metadata": {},
     "output_type": "display_data"
    },
    {
     "data": {
      "application/vnd.jupyter.widget-view+json": {
       "model_id": "38e74fa04eae4e298258a83006981327",
       "version_major": 2,
       "version_minor": 0
      },
      "text/plain": [
       "Output()"
      ]
     },
     "metadata": {},
     "output_type": "display_data"
    },
    {
     "name": "stdout",
     "output_type": "stream",
     "text": [
      "Trial 218 finished. Final Reconstruction Loss: 0.0251\n",
      "\n",
      "============================== Running Trial 219/288 ==============================\n",
      "Current Parameter Combination: lat_dim: 10, hidden_size: 150, lr: 0.0005, num_layers: 2, emb_dim: 64, weight_decay: 1e-05, batch_size: 32\n"
     ]
    },
    {
     "data": {
      "text/html": [
       "<pre style=\"white-space:pre;overflow-x:auto;line-height:normal;font-family:Menlo,'DejaVu Sans Mono',consolas,'Courier New',monospace\"></pre>\n"
      ],
      "text/plain": []
     },
     "metadata": {},
     "output_type": "display_data"
    },
    {
     "data": {
      "application/vnd.jupyter.widget-view+json": {
       "model_id": "6b2b545f8a7a4aa98e20dff334eb6771",
       "version_major": 2,
       "version_minor": 0
      },
      "text/plain": [
       "Output()"
      ]
     },
     "metadata": {},
     "output_type": "display_data"
    },
    {
     "name": "stdout",
     "output_type": "stream",
     "text": [
      "Trial 219 finished. Final Reconstruction Loss: 0.0192\n",
      "\n",
      "============================== Running Trial 220/288 ==============================\n",
      "Current Parameter Combination: lat_dim: 10, hidden_size: 150, lr: 0.0005, num_layers: 2, emb_dim: 64, weight_decay: 1e-05, batch_size: 50\n"
     ]
    },
    {
     "data": {
      "text/html": [
       "<pre style=\"white-space:pre;overflow-x:auto;line-height:normal;font-family:Menlo,'DejaVu Sans Mono',consolas,'Courier New',monospace\"></pre>\n"
      ],
      "text/plain": []
     },
     "metadata": {},
     "output_type": "display_data"
    },
    {
     "data": {
      "application/vnd.jupyter.widget-view+json": {
       "model_id": "ccbc3624ed6542b0bd3d4f36d92ec8b1",
       "version_major": 2,
       "version_minor": 0
      },
      "text/plain": [
       "Output()"
      ]
     },
     "metadata": {},
     "output_type": "display_data"
    },
    {
     "name": "stdout",
     "output_type": "stream",
     "text": [
      "Trial 220 finished. Final Reconstruction Loss: 0.0125\n",
      "\n",
      "============================== Running Trial 221/288 ==============================\n",
      "Current Parameter Combination: lat_dim: 10, hidden_size: 150, lr: 0.0005, num_layers: 2, emb_dim: 128, weight_decay: 1e-06, batch_size: 32\n"
     ]
    },
    {
     "data": {
      "text/html": [
       "<pre style=\"white-space:pre;overflow-x:auto;line-height:normal;font-family:Menlo,'DejaVu Sans Mono',consolas,'Courier New',monospace\"></pre>\n"
      ],
      "text/plain": []
     },
     "metadata": {},
     "output_type": "display_data"
    },
    {
     "data": {
      "application/vnd.jupyter.widget-view+json": {
       "model_id": "9f119b51f51243a492c6ea0ae7937b0b",
       "version_major": 2,
       "version_minor": 0
      },
      "text/plain": [
       "Output()"
      ]
     },
     "metadata": {},
     "output_type": "display_data"
    },
    {
     "name": "stdout",
     "output_type": "stream",
     "text": [
      "Trial 221 finished. Final Reconstruction Loss: 0.0176\n",
      "\n",
      "============================== Running Trial 222/288 ==============================\n",
      "Current Parameter Combination: lat_dim: 10, hidden_size: 150, lr: 0.0005, num_layers: 2, emb_dim: 128, weight_decay: 1e-06, batch_size: 50\n"
     ]
    },
    {
     "data": {
      "text/html": [
       "<pre style=\"white-space:pre;overflow-x:auto;line-height:normal;font-family:Menlo,'DejaVu Sans Mono',consolas,'Courier New',monospace\"></pre>\n"
      ],
      "text/plain": []
     },
     "metadata": {},
     "output_type": "display_data"
    },
    {
     "data": {
      "application/vnd.jupyter.widget-view+json": {
       "model_id": "18424167193741a3af33c1a803c2c339",
       "version_major": 2,
       "version_minor": 0
      },
      "text/plain": [
       "Output()"
      ]
     },
     "metadata": {},
     "output_type": "display_data"
    },
    {
     "name": "stdout",
     "output_type": "stream",
     "text": [
      "Trial 222 finished. Final Reconstruction Loss: 0.0102\n",
      "\n",
      "============================== Running Trial 223/288 ==============================\n",
      "Current Parameter Combination: lat_dim: 10, hidden_size: 150, lr: 0.0005, num_layers: 2, emb_dim: 128, weight_decay: 1e-05, batch_size: 32\n"
     ]
    },
    {
     "data": {
      "text/html": [
       "<pre style=\"white-space:pre;overflow-x:auto;line-height:normal;font-family:Menlo,'DejaVu Sans Mono',consolas,'Courier New',monospace\"></pre>\n"
      ],
      "text/plain": []
     },
     "metadata": {},
     "output_type": "display_data"
    },
    {
     "data": {
      "application/vnd.jupyter.widget-view+json": {
       "model_id": "a7afddc765324b9a9172b91d2122b433",
       "version_major": 2,
       "version_minor": 0
      },
      "text/plain": [
       "Output()"
      ]
     },
     "metadata": {},
     "output_type": "display_data"
    },
    {
     "name": "stdout",
     "output_type": "stream",
     "text": [
      "Trial 223 finished. Final Reconstruction Loss: 0.0143\n",
      "\n",
      "============================== Running Trial 224/288 ==============================\n",
      "Current Parameter Combination: lat_dim: 10, hidden_size: 150, lr: 0.0005, num_layers: 2, emb_dim: 128, weight_decay: 1e-05, batch_size: 50\n"
     ]
    },
    {
     "data": {
      "text/html": [
       "<pre style=\"white-space:pre;overflow-x:auto;line-height:normal;font-family:Menlo,'DejaVu Sans Mono',consolas,'Courier New',monospace\"></pre>\n"
      ],
      "text/plain": []
     },
     "metadata": {},
     "output_type": "display_data"
    },
    {
     "data": {
      "application/vnd.jupyter.widget-view+json": {
       "model_id": "2a97e1ee127c431b9b05a8a08f1f216d",
       "version_major": 2,
       "version_minor": 0
      },
      "text/plain": [
       "Output()"
      ]
     },
     "metadata": {},
     "output_type": "display_data"
    },
    {
     "name": "stdout",
     "output_type": "stream",
     "text": [
      "Trial 224 finished. Final Reconstruction Loss: 0.1439\n",
      "\n",
      "============================== Running Trial 225/288 ==============================\n",
      "Current Parameter Combination: lat_dim: 10, hidden_size: 200, lr: 0.0001, num_layers: 1, emb_dim: 64, weight_decay: 1e-06, batch_size: 32\n"
     ]
    },
    {
     "data": {
      "text/html": [
       "<pre style=\"white-space:pre;overflow-x:auto;line-height:normal;font-family:Menlo,'DejaVu Sans Mono',consolas,'Courier New',monospace\"></pre>\n"
      ],
      "text/plain": []
     },
     "metadata": {},
     "output_type": "display_data"
    },
    {
     "data": {
      "application/vnd.jupyter.widget-view+json": {
       "model_id": "95cd9371900d4d128ee4420120085620",
       "version_major": 2,
       "version_minor": 0
      },
      "text/plain": [
       "Output()"
      ]
     },
     "metadata": {},
     "output_type": "display_data"
    },
    {
     "name": "stdout",
     "output_type": "stream",
     "text": [
      "Trial 225 finished. Final Reconstruction Loss: 0.6048\n",
      "\n",
      "============================== Running Trial 226/288 ==============================\n",
      "Current Parameter Combination: lat_dim: 10, hidden_size: 200, lr: 0.0001, num_layers: 1, emb_dim: 64, weight_decay: 1e-06, batch_size: 50\n"
     ]
    },
    {
     "data": {
      "text/html": [
       "<pre style=\"white-space:pre;overflow-x:auto;line-height:normal;font-family:Menlo,'DejaVu Sans Mono',consolas,'Courier New',monospace\"></pre>\n"
      ],
      "text/plain": []
     },
     "metadata": {},
     "output_type": "display_data"
    },
    {
     "data": {
      "application/vnd.jupyter.widget-view+json": {
       "model_id": "64d518be7e7942f0906826d020170e79",
       "version_major": 2,
       "version_minor": 0
      },
      "text/plain": [
       "Output()"
      ]
     },
     "metadata": {},
     "output_type": "display_data"
    },
    {
     "name": "stdout",
     "output_type": "stream",
     "text": [
      "Trial 226 finished. Final Reconstruction Loss: 0.7419\n",
      "\n",
      "============================== Running Trial 227/288 ==============================\n",
      "Current Parameter Combination: lat_dim: 10, hidden_size: 200, lr: 0.0001, num_layers: 1, emb_dim: 64, weight_decay: 1e-05, batch_size: 32\n"
     ]
    },
    {
     "data": {
      "text/html": [
       "<pre style=\"white-space:pre;overflow-x:auto;line-height:normal;font-family:Menlo,'DejaVu Sans Mono',consolas,'Courier New',monospace\"></pre>\n"
      ],
      "text/plain": []
     },
     "metadata": {},
     "output_type": "display_data"
    },
    {
     "data": {
      "application/vnd.jupyter.widget-view+json": {
       "model_id": "87c8e2c475b44bd9b2ccd8e2b9ba46e1",
       "version_major": 2,
       "version_minor": 0
      },
      "text/plain": [
       "Output()"
      ]
     },
     "metadata": {},
     "output_type": "display_data"
    },
    {
     "name": "stdout",
     "output_type": "stream",
     "text": [
      "Trial 227 finished. Final Reconstruction Loss: 0.5934\n",
      "\n",
      "============================== Running Trial 228/288 ==============================\n",
      "Current Parameter Combination: lat_dim: 10, hidden_size: 200, lr: 0.0001, num_layers: 1, emb_dim: 64, weight_decay: 1e-05, batch_size: 50\n"
     ]
    },
    {
     "data": {
      "text/html": [
       "<pre style=\"white-space:pre;overflow-x:auto;line-height:normal;font-family:Menlo,'DejaVu Sans Mono',consolas,'Courier New',monospace\"></pre>\n"
      ],
      "text/plain": []
     },
     "metadata": {},
     "output_type": "display_data"
    },
    {
     "data": {
      "application/vnd.jupyter.widget-view+json": {
       "model_id": "f54001e9c7144c80b7e4aa8ce3a614b5",
       "version_major": 2,
       "version_minor": 0
      },
      "text/plain": [
       "Output()"
      ]
     },
     "metadata": {},
     "output_type": "display_data"
    },
    {
     "name": "stdout",
     "output_type": "stream",
     "text": [
      "Trial 228 finished. Final Reconstruction Loss: 0.6007\n",
      "\n",
      "============================== Running Trial 229/288 ==============================\n",
      "Current Parameter Combination: lat_dim: 10, hidden_size: 200, lr: 0.0001, num_layers: 1, emb_dim: 128, weight_decay: 1e-06, batch_size: 32\n"
     ]
    },
    {
     "data": {
      "text/html": [
       "<pre style=\"white-space:pre;overflow-x:auto;line-height:normal;font-family:Menlo,'DejaVu Sans Mono',consolas,'Courier New',monospace\"></pre>\n"
      ],
      "text/plain": []
     },
     "metadata": {},
     "output_type": "display_data"
    },
    {
     "data": {
      "application/vnd.jupyter.widget-view+json": {
       "model_id": "437521f3bf65461ab6bd5f1e7846781d",
       "version_major": 2,
       "version_minor": 0
      },
      "text/plain": [
       "Output()"
      ]
     },
     "metadata": {},
     "output_type": "display_data"
    },
    {
     "name": "stdout",
     "output_type": "stream",
     "text": [
      "Trial 229 finished. Final Reconstruction Loss: 0.3924\n",
      "\n",
      "============================== Running Trial 230/288 ==============================\n",
      "Current Parameter Combination: lat_dim: 10, hidden_size: 200, lr: 0.0001, num_layers: 1, emb_dim: 128, weight_decay: 1e-06, batch_size: 50\n"
     ]
    },
    {
     "data": {
      "text/html": [
       "<pre style=\"white-space:pre;overflow-x:auto;line-height:normal;font-family:Menlo,'DejaVu Sans Mono',consolas,'Courier New',monospace\"></pre>\n"
      ],
      "text/plain": []
     },
     "metadata": {},
     "output_type": "display_data"
    },
    {
     "data": {
      "application/vnd.jupyter.widget-view+json": {
       "model_id": "6b56d77d36c44ce69147d37bfaf6a29b",
       "version_major": 2,
       "version_minor": 0
      },
      "text/plain": [
       "Output()"
      ]
     },
     "metadata": {},
     "output_type": "display_data"
    },
    {
     "name": "stdout",
     "output_type": "stream",
     "text": [
      "Trial 230 finished. Final Reconstruction Loss: 0.0510\n",
      "\n",
      "============================== Running Trial 231/288 ==============================\n",
      "Current Parameter Combination: lat_dim: 10, hidden_size: 200, lr: 0.0001, num_layers: 1, emb_dim: 128, weight_decay: 1e-05, batch_size: 32\n"
     ]
    },
    {
     "data": {
      "text/html": [
       "<pre style=\"white-space:pre;overflow-x:auto;line-height:normal;font-family:Menlo,'DejaVu Sans Mono',consolas,'Courier New',monospace\"></pre>\n"
      ],
      "text/plain": []
     },
     "metadata": {},
     "output_type": "display_data"
    },
    {
     "data": {
      "application/vnd.jupyter.widget-view+json": {
       "model_id": "4597b1a63ecb4d629b7c898ce130c02d",
       "version_major": 2,
       "version_minor": 0
      },
      "text/plain": [
       "Output()"
      ]
     },
     "metadata": {},
     "output_type": "display_data"
    },
    {
     "name": "stdout",
     "output_type": "stream",
     "text": [
      "Trial 231 finished. Final Reconstruction Loss: 0.5334\n",
      "\n",
      "============================== Running Trial 232/288 ==============================\n",
      "Current Parameter Combination: lat_dim: 10, hidden_size: 200, lr: 0.0001, num_layers: 1, emb_dim: 128, weight_decay: 1e-05, batch_size: 50\n"
     ]
    },
    {
     "data": {
      "text/html": [
       "<pre style=\"white-space:pre;overflow-x:auto;line-height:normal;font-family:Menlo,'DejaVu Sans Mono',consolas,'Courier New',monospace\"></pre>\n"
      ],
      "text/plain": []
     },
     "metadata": {},
     "output_type": "display_data"
    },
    {
     "data": {
      "application/vnd.jupyter.widget-view+json": {
       "model_id": "fa30a7a09da548a580b91a1a8be5847d",
       "version_major": 2,
       "version_minor": 0
      },
      "text/plain": [
       "Output()"
      ]
     },
     "metadata": {},
     "output_type": "display_data"
    },
    {
     "name": "stdout",
     "output_type": "stream",
     "text": [
      "Trial 232 finished. Final Reconstruction Loss: 0.1784\n",
      "\n",
      "============================== Running Trial 233/288 ==============================\n",
      "Current Parameter Combination: lat_dim: 10, hidden_size: 200, lr: 0.0001, num_layers: 2, emb_dim: 64, weight_decay: 1e-06, batch_size: 32\n"
     ]
    },
    {
     "data": {
      "text/html": [
       "<pre style=\"white-space:pre;overflow-x:auto;line-height:normal;font-family:Menlo,'DejaVu Sans Mono',consolas,'Courier New',monospace\"></pre>\n"
      ],
      "text/plain": []
     },
     "metadata": {},
     "output_type": "display_data"
    },
    {
     "data": {
      "application/vnd.jupyter.widget-view+json": {
       "model_id": "6a6af0ed468e4a02b0024b5e74904fda",
       "version_major": 2,
       "version_minor": 0
      },
      "text/plain": [
       "Output()"
      ]
     },
     "metadata": {},
     "output_type": "display_data"
    },
    {
     "name": "stdout",
     "output_type": "stream",
     "text": [
      "Trial 233 finished. Final Reconstruction Loss: 0.7480\n",
      "\n",
      "============================== Running Trial 234/288 ==============================\n",
      "Current Parameter Combination: lat_dim: 10, hidden_size: 200, lr: 0.0001, num_layers: 2, emb_dim: 64, weight_decay: 1e-06, batch_size: 50\n"
     ]
    },
    {
     "data": {
      "text/html": [
       "<pre style=\"white-space:pre;overflow-x:auto;line-height:normal;font-family:Menlo,'DejaVu Sans Mono',consolas,'Courier New',monospace\"></pre>\n"
      ],
      "text/plain": []
     },
     "metadata": {},
     "output_type": "display_data"
    },
    {
     "data": {
      "application/vnd.jupyter.widget-view+json": {
       "model_id": "09e72061e6ad4160a83a434fe2045f6f",
       "version_major": 2,
       "version_minor": 0
      },
      "text/plain": [
       "Output()"
      ]
     },
     "metadata": {},
     "output_type": "display_data"
    },
    {
     "name": "stdout",
     "output_type": "stream",
     "text": [
      "Trial 234 finished. Final Reconstruction Loss: 0.4632\n",
      "\n",
      "============================== Running Trial 235/288 ==============================\n",
      "Current Parameter Combination: lat_dim: 10, hidden_size: 200, lr: 0.0001, num_layers: 2, emb_dim: 64, weight_decay: 1e-05, batch_size: 32\n"
     ]
    },
    {
     "data": {
      "text/html": [
       "<pre style=\"white-space:pre;overflow-x:auto;line-height:normal;font-family:Menlo,'DejaVu Sans Mono',consolas,'Courier New',monospace\"></pre>\n"
      ],
      "text/plain": []
     },
     "metadata": {},
     "output_type": "display_data"
    },
    {
     "data": {
      "application/vnd.jupyter.widget-view+json": {
       "model_id": "a1b69be38f084f10a3f9de6f1f196bd6",
       "version_major": 2,
       "version_minor": 0
      },
      "text/plain": [
       "Output()"
      ]
     },
     "metadata": {},
     "output_type": "display_data"
    },
    {
     "name": "stdout",
     "output_type": "stream",
     "text": [
      "Trial 235 finished. Final Reconstruction Loss: 0.6585\n",
      "\n",
      "============================== Running Trial 236/288 ==============================\n",
      "Current Parameter Combination: lat_dim: 10, hidden_size: 200, lr: 0.0001, num_layers: 2, emb_dim: 64, weight_decay: 1e-05, batch_size: 50\n"
     ]
    },
    {
     "data": {
      "text/html": [
       "<pre style=\"white-space:pre;overflow-x:auto;line-height:normal;font-family:Menlo,'DejaVu Sans Mono',consolas,'Courier New',monospace\"></pre>\n"
      ],
      "text/plain": []
     },
     "metadata": {},
     "output_type": "display_data"
    },
    {
     "data": {
      "application/vnd.jupyter.widget-view+json": {
       "model_id": "e12fe7971d304edcbdb76f677aa3e136",
       "version_major": 2,
       "version_minor": 0
      },
      "text/plain": [
       "Output()"
      ]
     },
     "metadata": {},
     "output_type": "display_data"
    },
    {
     "name": "stdout",
     "output_type": "stream",
     "text": [
      "Trial 236 finished. Final Reconstruction Loss: 0.6251\n",
      "\n",
      "============================== Running Trial 237/288 ==============================\n",
      "Current Parameter Combination: lat_dim: 10, hidden_size: 200, lr: 0.0001, num_layers: 2, emb_dim: 128, weight_decay: 1e-06, batch_size: 32\n"
     ]
    },
    {
     "data": {
      "text/html": [
       "<pre style=\"white-space:pre;overflow-x:auto;line-height:normal;font-family:Menlo,'DejaVu Sans Mono',consolas,'Courier New',monospace\"></pre>\n"
      ],
      "text/plain": []
     },
     "metadata": {},
     "output_type": "display_data"
    },
    {
     "data": {
      "application/vnd.jupyter.widget-view+json": {
       "model_id": "3ff610066ecf4b37b926cd99a2b07e20",
       "version_major": 2,
       "version_minor": 0
      },
      "text/plain": [
       "Output()"
      ]
     },
     "metadata": {},
     "output_type": "display_data"
    },
    {
     "name": "stdout",
     "output_type": "stream",
     "text": [
      "Trial 237 finished. Final Reconstruction Loss: 0.5455\n",
      "\n",
      "============================== Running Trial 238/288 ==============================\n",
      "Current Parameter Combination: lat_dim: 10, hidden_size: 200, lr: 0.0001, num_layers: 2, emb_dim: 128, weight_decay: 1e-06, batch_size: 50\n"
     ]
    },
    {
     "data": {
      "text/html": [
       "<pre style=\"white-space:pre;overflow-x:auto;line-height:normal;font-family:Menlo,'DejaVu Sans Mono',consolas,'Courier New',monospace\"></pre>\n"
      ],
      "text/plain": []
     },
     "metadata": {},
     "output_type": "display_data"
    },
    {
     "data": {
      "application/vnd.jupyter.widget-view+json": {
       "model_id": "ff16fe09641a4b8db9c169db1f0a99f5",
       "version_major": 2,
       "version_minor": 0
      },
      "text/plain": [
       "Output()"
      ]
     },
     "metadata": {},
     "output_type": "display_data"
    },
    {
     "name": "stdout",
     "output_type": "stream",
     "text": [
      "Trial 238 finished. Final Reconstruction Loss: 0.1788\n",
      "\n",
      "============================== Running Trial 239/288 ==============================\n",
      "Current Parameter Combination: lat_dim: 10, hidden_size: 200, lr: 0.0001, num_layers: 2, emb_dim: 128, weight_decay: 1e-05, batch_size: 32\n"
     ]
    },
    {
     "data": {
      "text/html": [
       "<pre style=\"white-space:pre;overflow-x:auto;line-height:normal;font-family:Menlo,'DejaVu Sans Mono',consolas,'Courier New',monospace\"></pre>\n"
      ],
      "text/plain": []
     },
     "metadata": {},
     "output_type": "display_data"
    },
    {
     "data": {
      "application/vnd.jupyter.widget-view+json": {
       "model_id": "8845036ba306434d864cc49c91142f47",
       "version_major": 2,
       "version_minor": 0
      },
      "text/plain": [
       "Output()"
      ]
     },
     "metadata": {},
     "output_type": "display_data"
    },
    {
     "name": "stdout",
     "output_type": "stream",
     "text": [
      "Trial 239 finished. Final Reconstruction Loss: 0.6098\n",
      "\n",
      "============================== Running Trial 240/288 ==============================\n",
      "Current Parameter Combination: lat_dim: 10, hidden_size: 200, lr: 0.0001, num_layers: 2, emb_dim: 128, weight_decay: 1e-05, batch_size: 50\n"
     ]
    },
    {
     "data": {
      "text/html": [
       "<pre style=\"white-space:pre;overflow-x:auto;line-height:normal;font-family:Menlo,'DejaVu Sans Mono',consolas,'Courier New',monospace\"></pre>\n"
      ],
      "text/plain": []
     },
     "metadata": {},
     "output_type": "display_data"
    },
    {
     "data": {
      "application/vnd.jupyter.widget-view+json": {
       "model_id": "7794a25f4b514398811e3b9b3c9f5ee6",
       "version_major": 2,
       "version_minor": 0
      },
      "text/plain": [
       "Output()"
      ]
     },
     "metadata": {},
     "output_type": "display_data"
    },
    {
     "name": "stdout",
     "output_type": "stream",
     "text": [
      "Trial 240 finished. Final Reconstruction Loss: 0.6460\n",
      "\n",
      "============================== Running Trial 241/288 ==============================\n",
      "Current Parameter Combination: lat_dim: 10, hidden_size: 200, lr: 0.0005, num_layers: 1, emb_dim: 64, weight_decay: 1e-06, batch_size: 32\n"
     ]
    },
    {
     "data": {
      "text/html": [
       "<pre style=\"white-space:pre;overflow-x:auto;line-height:normal;font-family:Menlo,'DejaVu Sans Mono',consolas,'Courier New',monospace\"></pre>\n"
      ],
      "text/plain": []
     },
     "metadata": {},
     "output_type": "display_data"
    },
    {
     "data": {
      "application/vnd.jupyter.widget-view+json": {
       "model_id": "cb367c6807384061b7f91357684f2e8a",
       "version_major": 2,
       "version_minor": 0
      },
      "text/plain": [
       "Output()"
      ]
     },
     "metadata": {},
     "output_type": "display_data"
    },
    {
     "name": "stdout",
     "output_type": "stream",
     "text": [
      "Trial 241 finished. Final Reconstruction Loss: 0.0113\n",
      "\n",
      "============================== Running Trial 242/288 ==============================\n",
      "Current Parameter Combination: lat_dim: 10, hidden_size: 200, lr: 0.0005, num_layers: 1, emb_dim: 64, weight_decay: 1e-06, batch_size: 50\n"
     ]
    },
    {
     "data": {
      "text/html": [
       "<pre style=\"white-space:pre;overflow-x:auto;line-height:normal;font-family:Menlo,'DejaVu Sans Mono',consolas,'Courier New',monospace\"></pre>\n"
      ],
      "text/plain": []
     },
     "metadata": {},
     "output_type": "display_data"
    },
    {
     "data": {
      "application/vnd.jupyter.widget-view+json": {
       "model_id": "e1de294bf0864555a24ea09f530f0b8b",
       "version_major": 2,
       "version_minor": 0
      },
      "text/plain": [
       "Output()"
      ]
     },
     "metadata": {},
     "output_type": "display_data"
    },
    {
     "name": "stdout",
     "output_type": "stream",
     "text": [
      "Trial 242 finished. Final Reconstruction Loss: 0.0110\n",
      "\n",
      "============================== Running Trial 243/288 ==============================\n",
      "Current Parameter Combination: lat_dim: 10, hidden_size: 200, lr: 0.0005, num_layers: 1, emb_dim: 64, weight_decay: 1e-05, batch_size: 32\n"
     ]
    },
    {
     "data": {
      "text/html": [
       "<pre style=\"white-space:pre;overflow-x:auto;line-height:normal;font-family:Menlo,'DejaVu Sans Mono',consolas,'Courier New',monospace\"></pre>\n"
      ],
      "text/plain": []
     },
     "metadata": {},
     "output_type": "display_data"
    },
    {
     "data": {
      "application/vnd.jupyter.widget-view+json": {
       "model_id": "e099e96620f549fab0d93c134046ae7a",
       "version_major": 2,
       "version_minor": 0
      },
      "text/plain": [
       "Output()"
      ]
     },
     "metadata": {},
     "output_type": "display_data"
    },
    {
     "name": "stdout",
     "output_type": "stream",
     "text": [
      "Trial 243 finished. Final Reconstruction Loss: 0.0125\n",
      "\n",
      "============================== Running Trial 244/288 ==============================\n",
      "Current Parameter Combination: lat_dim: 10, hidden_size: 200, lr: 0.0005, num_layers: 1, emb_dim: 64, weight_decay: 1e-05, batch_size: 50\n"
     ]
    },
    {
     "data": {
      "text/html": [
       "<pre style=\"white-space:pre;overflow-x:auto;line-height:normal;font-family:Menlo,'DejaVu Sans Mono',consolas,'Courier New',monospace\"></pre>\n"
      ],
      "text/plain": []
     },
     "metadata": {},
     "output_type": "display_data"
    },
    {
     "data": {
      "application/vnd.jupyter.widget-view+json": {
       "model_id": "ae6c3c88d2a44aa39d71dbf21e249276",
       "version_major": 2,
       "version_minor": 0
      },
      "text/plain": [
       "Output()"
      ]
     },
     "metadata": {},
     "output_type": "display_data"
    },
    {
     "name": "stdout",
     "output_type": "stream",
     "text": [
      "Trial 244 finished. Final Reconstruction Loss: 0.0155\n",
      "\n",
      "============================== Running Trial 245/288 ==============================\n",
      "Current Parameter Combination: lat_dim: 10, hidden_size: 200, lr: 0.0005, num_layers: 1, emb_dim: 128, weight_decay: 1e-06, batch_size: 32\n"
     ]
    },
    {
     "data": {
      "text/html": [
       "<pre style=\"white-space:pre;overflow-x:auto;line-height:normal;font-family:Menlo,'DejaVu Sans Mono',consolas,'Courier New',monospace\"></pre>\n"
      ],
      "text/plain": []
     },
     "metadata": {},
     "output_type": "display_data"
    },
    {
     "data": {
      "application/vnd.jupyter.widget-view+json": {
       "model_id": "3f11e9ecc2f24e3ab1ddd2755dc343a6",
       "version_major": 2,
       "version_minor": 0
      },
      "text/plain": [
       "Output()"
      ]
     },
     "metadata": {},
     "output_type": "display_data"
    },
    {
     "name": "stdout",
     "output_type": "stream",
     "text": [
      "Trial 245 finished. Final Reconstruction Loss: 0.0083\n",
      "\n",
      "============================== Running Trial 246/288 ==============================\n",
      "Current Parameter Combination: lat_dim: 10, hidden_size: 200, lr: 0.0005, num_layers: 1, emb_dim: 128, weight_decay: 1e-06, batch_size: 50\n"
     ]
    },
    {
     "data": {
      "text/html": [
       "<pre style=\"white-space:pre;overflow-x:auto;line-height:normal;font-family:Menlo,'DejaVu Sans Mono',consolas,'Courier New',monospace\"></pre>\n"
      ],
      "text/plain": []
     },
     "metadata": {},
     "output_type": "display_data"
    },
    {
     "data": {
      "application/vnd.jupyter.widget-view+json": {
       "model_id": "ddd52c0f4cec41e3a6806aaf246b6dee",
       "version_major": 2,
       "version_minor": 0
      },
      "text/plain": [
       "Output()"
      ]
     },
     "metadata": {},
     "output_type": "display_data"
    },
    {
     "name": "stdout",
     "output_type": "stream",
     "text": [
      "Trial 246 finished. Final Reconstruction Loss: 0.0075\n",
      "\n",
      "============================== Running Trial 247/288 ==============================\n",
      "Current Parameter Combination: lat_dim: 10, hidden_size: 200, lr: 0.0005, num_layers: 1, emb_dim: 128, weight_decay: 1e-05, batch_size: 32\n"
     ]
    },
    {
     "data": {
      "text/html": [
       "<pre style=\"white-space:pre;overflow-x:auto;line-height:normal;font-family:Menlo,'DejaVu Sans Mono',consolas,'Courier New',monospace\"></pre>\n"
      ],
      "text/plain": []
     },
     "metadata": {},
     "output_type": "display_data"
    },
    {
     "data": {
      "application/vnd.jupyter.widget-view+json": {
       "model_id": "d2b90e9bd91644769d0175f492e7f0ab",
       "version_major": 2,
       "version_minor": 0
      },
      "text/plain": [
       "Output()"
      ]
     },
     "metadata": {},
     "output_type": "display_data"
    },
    {
     "name": "stdout",
     "output_type": "stream",
     "text": [
      "Trial 247 finished. Final Reconstruction Loss: 0.0082\n",
      "\n",
      "============================== Running Trial 248/288 ==============================\n",
      "Current Parameter Combination: lat_dim: 10, hidden_size: 200, lr: 0.0005, num_layers: 1, emb_dim: 128, weight_decay: 1e-05, batch_size: 50\n"
     ]
    },
    {
     "data": {
      "text/html": [
       "<pre style=\"white-space:pre;overflow-x:auto;line-height:normal;font-family:Menlo,'DejaVu Sans Mono',consolas,'Courier New',monospace\"></pre>\n"
      ],
      "text/plain": []
     },
     "metadata": {},
     "output_type": "display_data"
    },
    {
     "data": {
      "application/vnd.jupyter.widget-view+json": {
       "model_id": "ee36e19ab0b54070b0093724077eeaa4",
       "version_major": 2,
       "version_minor": 0
      },
      "text/plain": [
       "Output()"
      ]
     },
     "metadata": {},
     "output_type": "display_data"
    },
    {
     "name": "stdout",
     "output_type": "stream",
     "text": [
      "Trial 248 finished. Final Reconstruction Loss: 0.0088\n",
      "\n",
      "============================== Running Trial 249/288 ==============================\n",
      "Current Parameter Combination: lat_dim: 10, hidden_size: 200, lr: 0.0005, num_layers: 2, emb_dim: 64, weight_decay: 1e-06, batch_size: 32\n"
     ]
    },
    {
     "data": {
      "text/html": [
       "<pre style=\"white-space:pre;overflow-x:auto;line-height:normal;font-family:Menlo,'DejaVu Sans Mono',consolas,'Courier New',monospace\"></pre>\n"
      ],
      "text/plain": []
     },
     "metadata": {},
     "output_type": "display_data"
    },
    {
     "data": {
      "application/vnd.jupyter.widget-view+json": {
       "model_id": "6bcab9323fcc411c8fd7ea2cbd5d73fb",
       "version_major": 2,
       "version_minor": 0
      },
      "text/plain": [
       "Output()"
      ]
     },
     "metadata": {},
     "output_type": "display_data"
    },
    {
     "name": "stdout",
     "output_type": "stream",
     "text": [
      "Trial 249 finished. Final Reconstruction Loss: 0.0153\n",
      "\n",
      "============================== Running Trial 250/288 ==============================\n",
      "Current Parameter Combination: lat_dim: 10, hidden_size: 200, lr: 0.0005, num_layers: 2, emb_dim: 64, weight_decay: 1e-06, batch_size: 50\n"
     ]
    },
    {
     "data": {
      "text/html": [
       "<pre style=\"white-space:pre;overflow-x:auto;line-height:normal;font-family:Menlo,'DejaVu Sans Mono',consolas,'Courier New',monospace\"></pre>\n"
      ],
      "text/plain": []
     },
     "metadata": {},
     "output_type": "display_data"
    },
    {
     "data": {
      "application/vnd.jupyter.widget-view+json": {
       "model_id": "8863a06dd7214bdda5a3bf8848d6e13c",
       "version_major": 2,
       "version_minor": 0
      },
      "text/plain": [
       "Output()"
      ]
     },
     "metadata": {},
     "output_type": "display_data"
    },
    {
     "name": "stdout",
     "output_type": "stream",
     "text": [
      "Trial 250 finished. Final Reconstruction Loss: 0.0106\n",
      "\n",
      "============================== Running Trial 251/288 ==============================\n",
      "Current Parameter Combination: lat_dim: 10, hidden_size: 200, lr: 0.0005, num_layers: 2, emb_dim: 64, weight_decay: 1e-05, batch_size: 32\n"
     ]
    },
    {
     "data": {
      "text/html": [
       "<pre style=\"white-space:pre;overflow-x:auto;line-height:normal;font-family:Menlo,'DejaVu Sans Mono',consolas,'Courier New',monospace\"></pre>\n"
      ],
      "text/plain": []
     },
     "metadata": {},
     "output_type": "display_data"
    },
    {
     "data": {
      "application/vnd.jupyter.widget-view+json": {
       "model_id": "8e8b08fd9f44429fa534fbd51946a700",
       "version_major": 2,
       "version_minor": 0
      },
      "text/plain": [
       "Output()"
      ]
     },
     "metadata": {},
     "output_type": "display_data"
    },
    {
     "name": "stdout",
     "output_type": "stream",
     "text": [
      "Trial 251 finished. Final Reconstruction Loss: 0.0211\n",
      "\n",
      "============================== Running Trial 252/288 ==============================\n",
      "Current Parameter Combination: lat_dim: 10, hidden_size: 200, lr: 0.0005, num_layers: 2, emb_dim: 64, weight_decay: 1e-05, batch_size: 50\n"
     ]
    },
    {
     "data": {
      "text/html": [
       "<pre style=\"white-space:pre;overflow-x:auto;line-height:normal;font-family:Menlo,'DejaVu Sans Mono',consolas,'Courier New',monospace\"></pre>\n"
      ],
      "text/plain": []
     },
     "metadata": {},
     "output_type": "display_data"
    },
    {
     "data": {
      "application/vnd.jupyter.widget-view+json": {
       "model_id": "7e2cabf70f0a497abd4803bd1d9b9a35",
       "version_major": 2,
       "version_minor": 0
      },
      "text/plain": [
       "Output()"
      ]
     },
     "metadata": {},
     "output_type": "display_data"
    },
    {
     "name": "stdout",
     "output_type": "stream",
     "text": [
      "Trial 252 finished. Final Reconstruction Loss: 0.0159\n",
      "\n",
      "============================== Running Trial 253/288 ==============================\n",
      "Current Parameter Combination: lat_dim: 10, hidden_size: 200, lr: 0.0005, num_layers: 2, emb_dim: 128, weight_decay: 1e-06, batch_size: 32\n"
     ]
    },
    {
     "data": {
      "text/html": [
       "<pre style=\"white-space:pre;overflow-x:auto;line-height:normal;font-family:Menlo,'DejaVu Sans Mono',consolas,'Courier New',monospace\"></pre>\n"
      ],
      "text/plain": []
     },
     "metadata": {},
     "output_type": "display_data"
    },
    {
     "data": {
      "application/vnd.jupyter.widget-view+json": {
       "model_id": "6ba0bf9f7a8e45e2b4107312e3da4bd3",
       "version_major": 2,
       "version_minor": 0
      },
      "text/plain": [
       "Output()"
      ]
     },
     "metadata": {},
     "output_type": "display_data"
    },
    {
     "name": "stdout",
     "output_type": "stream",
     "text": [
      "Trial 253 finished. Final Reconstruction Loss: 0.0095\n",
      "\n",
      "============================== Running Trial 254/288 ==============================\n",
      "Current Parameter Combination: lat_dim: 10, hidden_size: 200, lr: 0.0005, num_layers: 2, emb_dim: 128, weight_decay: 1e-06, batch_size: 50\n"
     ]
    },
    {
     "data": {
      "text/html": [
       "<pre style=\"white-space:pre;overflow-x:auto;line-height:normal;font-family:Menlo,'DejaVu Sans Mono',consolas,'Courier New',monospace\"></pre>\n"
      ],
      "text/plain": []
     },
     "metadata": {},
     "output_type": "display_data"
    },
    {
     "data": {
      "application/vnd.jupyter.widget-view+json": {
       "model_id": "7efcc764c4074540bf44fa7a76589427",
       "version_major": 2,
       "version_minor": 0
      },
      "text/plain": [
       "Output()"
      ]
     },
     "metadata": {},
     "output_type": "display_data"
    },
    {
     "name": "stdout",
     "output_type": "stream",
     "text": [
      "Trial 254 finished. Final Reconstruction Loss: 0.0106\n",
      "\n",
      "============================== Running Trial 255/288 ==============================\n",
      "Current Parameter Combination: lat_dim: 10, hidden_size: 200, lr: 0.0005, num_layers: 2, emb_dim: 128, weight_decay: 1e-05, batch_size: 32\n"
     ]
    },
    {
     "data": {
      "text/html": [
       "<pre style=\"white-space:pre;overflow-x:auto;line-height:normal;font-family:Menlo,'DejaVu Sans Mono',consolas,'Courier New',monospace\"></pre>\n"
      ],
      "text/plain": []
     },
     "metadata": {},
     "output_type": "display_data"
    },
    {
     "data": {
      "application/vnd.jupyter.widget-view+json": {
       "model_id": "a2c0dc69da704eda8c84e8e1b37fb3df",
       "version_major": 2,
       "version_minor": 0
      },
      "text/plain": [
       "Output()"
      ]
     },
     "metadata": {},
     "output_type": "display_data"
    },
    {
     "name": "stdout",
     "output_type": "stream",
     "text": [
      "Trial 255 finished. Final Reconstruction Loss: 0.0096\n",
      "\n",
      "============================== Running Trial 256/288 ==============================\n",
      "Current Parameter Combination: lat_dim: 10, hidden_size: 200, lr: 0.0005, num_layers: 2, emb_dim: 128, weight_decay: 1e-05, batch_size: 50\n"
     ]
    },
    {
     "data": {
      "text/html": [
       "<pre style=\"white-space:pre;overflow-x:auto;line-height:normal;font-family:Menlo,'DejaVu Sans Mono',consolas,'Courier New',monospace\"></pre>\n"
      ],
      "text/plain": []
     },
     "metadata": {},
     "output_type": "display_data"
    },
    {
     "data": {
      "application/vnd.jupyter.widget-view+json": {
       "model_id": "6f5af4e5d93c4088b3297a26bc2adaca",
       "version_major": 2,
       "version_minor": 0
      },
      "text/plain": [
       "Output()"
      ]
     },
     "metadata": {},
     "output_type": "display_data"
    },
    {
     "name": "stdout",
     "output_type": "stream",
     "text": [
      "Trial 256 finished. Final Reconstruction Loss: 0.0120\n",
      "\n",
      "============================== Running Trial 257/288 ==============================\n",
      "Current Parameter Combination: lat_dim: 10, hidden_size: 250, lr: 0.0001, num_layers: 1, emb_dim: 64, weight_decay: 1e-06, batch_size: 32\n"
     ]
    },
    {
     "data": {
      "text/html": [
       "<pre style=\"white-space:pre;overflow-x:auto;line-height:normal;font-family:Menlo,'DejaVu Sans Mono',consolas,'Courier New',monospace\"></pre>\n"
      ],
      "text/plain": []
     },
     "metadata": {},
     "output_type": "display_data"
    },
    {
     "data": {
      "application/vnd.jupyter.widget-view+json": {
       "model_id": "4857e2ad4db8480abf25be04d39f16da",
       "version_major": 2,
       "version_minor": 0
      },
      "text/plain": [
       "Output()"
      ]
     },
     "metadata": {},
     "output_type": "display_data"
    },
    {
     "name": "stdout",
     "output_type": "stream",
     "text": [
      "Trial 257 finished. Final Reconstruction Loss: 0.5764\n",
      "\n",
      "============================== Running Trial 258/288 ==============================\n",
      "Current Parameter Combination: lat_dim: 10, hidden_size: 250, lr: 0.0001, num_layers: 1, emb_dim: 64, weight_decay: 1e-06, batch_size: 50\n"
     ]
    },
    {
     "data": {
      "text/html": [
       "<pre style=\"white-space:pre;overflow-x:auto;line-height:normal;font-family:Menlo,'DejaVu Sans Mono',consolas,'Courier New',monospace\"></pre>\n"
      ],
      "text/plain": []
     },
     "metadata": {},
     "output_type": "display_data"
    },
    {
     "data": {
      "application/vnd.jupyter.widget-view+json": {
       "model_id": "bba0fa7bb1064545a81b164421d4c259",
       "version_major": 2,
       "version_minor": 0
      },
      "text/plain": [
       "Output()"
      ]
     },
     "metadata": {},
     "output_type": "display_data"
    },
    {
     "name": "stdout",
     "output_type": "stream",
     "text": [
      "Trial 258 finished. Final Reconstruction Loss: 0.4191\n",
      "\n",
      "============================== Running Trial 259/288 ==============================\n",
      "Current Parameter Combination: lat_dim: 10, hidden_size: 250, lr: 0.0001, num_layers: 1, emb_dim: 64, weight_decay: 1e-05, batch_size: 32\n"
     ]
    },
    {
     "data": {
      "text/html": [
       "<pre style=\"white-space:pre;overflow-x:auto;line-height:normal;font-family:Menlo,'DejaVu Sans Mono',consolas,'Courier New',monospace\"></pre>\n"
      ],
      "text/plain": []
     },
     "metadata": {},
     "output_type": "display_data"
    },
    {
     "data": {
      "application/vnd.jupyter.widget-view+json": {
       "model_id": "25b6fad72b8645988c9b2ac287c7968d",
       "version_major": 2,
       "version_minor": 0
      },
      "text/plain": [
       "Output()"
      ]
     },
     "metadata": {},
     "output_type": "display_data"
    },
    {
     "name": "stdout",
     "output_type": "stream",
     "text": [
      "Trial 259 finished. Final Reconstruction Loss: 0.4484\n",
      "\n",
      "============================== Running Trial 260/288 ==============================\n",
      "Current Parameter Combination: lat_dim: 10, hidden_size: 250, lr: 0.0001, num_layers: 1, emb_dim: 64, weight_decay: 1e-05, batch_size: 50\n"
     ]
    },
    {
     "data": {
      "text/html": [
       "<pre style=\"white-space:pre;overflow-x:auto;line-height:normal;font-family:Menlo,'DejaVu Sans Mono',consolas,'Courier New',monospace\"></pre>\n"
      ],
      "text/plain": []
     },
     "metadata": {},
     "output_type": "display_data"
    },
    {
     "data": {
      "application/vnd.jupyter.widget-view+json": {
       "model_id": "ea11b5839d7344b69b8cbaaa5fc7efc9",
       "version_major": 2,
       "version_minor": 0
      },
      "text/plain": [
       "Output()"
      ]
     },
     "metadata": {},
     "output_type": "display_data"
    },
    {
     "name": "stdout",
     "output_type": "stream",
     "text": [
      "Trial 260 finished. Final Reconstruction Loss: 0.5219\n",
      "\n",
      "============================== Running Trial 261/288 ==============================\n",
      "Current Parameter Combination: lat_dim: 10, hidden_size: 250, lr: 0.0001, num_layers: 1, emb_dim: 128, weight_decay: 1e-06, batch_size: 32\n"
     ]
    },
    {
     "data": {
      "text/html": [
       "<pre style=\"white-space:pre;overflow-x:auto;line-height:normal;font-family:Menlo,'DejaVu Sans Mono',consolas,'Courier New',monospace\"></pre>\n"
      ],
      "text/plain": []
     },
     "metadata": {},
     "output_type": "display_data"
    },
    {
     "data": {
      "application/vnd.jupyter.widget-view+json": {
       "model_id": "b0dc248f4f4a4df190730149f14a17cf",
       "version_major": 2,
       "version_minor": 0
      },
      "text/plain": [
       "Output()"
      ]
     },
     "metadata": {},
     "output_type": "display_data"
    },
    {
     "name": "stdout",
     "output_type": "stream",
     "text": [
      "Trial 261 finished. Final Reconstruction Loss: 0.0592\n",
      "\n",
      "============================== Running Trial 262/288 ==============================\n",
      "Current Parameter Combination: lat_dim: 10, hidden_size: 250, lr: 0.0001, num_layers: 1, emb_dim: 128, weight_decay: 1e-06, batch_size: 50\n"
     ]
    },
    {
     "data": {
      "text/html": [
       "<pre style=\"white-space:pre;overflow-x:auto;line-height:normal;font-family:Menlo,'DejaVu Sans Mono',consolas,'Courier New',monospace\"></pre>\n"
      ],
      "text/plain": []
     },
     "metadata": {},
     "output_type": "display_data"
    },
    {
     "data": {
      "application/vnd.jupyter.widget-view+json": {
       "model_id": "694c8f9535de44b79704cdf6e2d13432",
       "version_major": 2,
       "version_minor": 0
      },
      "text/plain": [
       "Output()"
      ]
     },
     "metadata": {},
     "output_type": "display_data"
    },
    {
     "name": "stdout",
     "output_type": "stream",
     "text": [
      "Trial 262 finished. Final Reconstruction Loss: 0.0638\n",
      "\n",
      "============================== Running Trial 263/288 ==============================\n",
      "Current Parameter Combination: lat_dim: 10, hidden_size: 250, lr: 0.0001, num_layers: 1, emb_dim: 128, weight_decay: 1e-05, batch_size: 32\n"
     ]
    },
    {
     "data": {
      "text/html": [
       "<pre style=\"white-space:pre;overflow-x:auto;line-height:normal;font-family:Menlo,'DejaVu Sans Mono',consolas,'Courier New',monospace\"></pre>\n"
      ],
      "text/plain": []
     },
     "metadata": {},
     "output_type": "display_data"
    },
    {
     "data": {
      "application/vnd.jupyter.widget-view+json": {
       "model_id": "5026276bbcd1436a8ee8c2d5be4c1ffa",
       "version_major": 2,
       "version_minor": 0
      },
      "text/plain": [
       "Output()"
      ]
     },
     "metadata": {},
     "output_type": "display_data"
    },
    {
     "name": "stdout",
     "output_type": "stream",
     "text": [
      "Trial 263 finished. Final Reconstruction Loss: 0.1189\n",
      "\n",
      "============================== Running Trial 264/288 ==============================\n",
      "Current Parameter Combination: lat_dim: 10, hidden_size: 250, lr: 0.0001, num_layers: 1, emb_dim: 128, weight_decay: 1e-05, batch_size: 50\n"
     ]
    },
    {
     "data": {
      "text/html": [
       "<pre style=\"white-space:pre;overflow-x:auto;line-height:normal;font-family:Menlo,'DejaVu Sans Mono',consolas,'Courier New',monospace\"></pre>\n"
      ],
      "text/plain": []
     },
     "metadata": {},
     "output_type": "display_data"
    },
    {
     "data": {
      "application/vnd.jupyter.widget-view+json": {
       "model_id": "01df4d465726430abf599328824a5d83",
       "version_major": 2,
       "version_minor": 0
      },
      "text/plain": [
       "Output()"
      ]
     },
     "metadata": {},
     "output_type": "display_data"
    },
    {
     "name": "stdout",
     "output_type": "stream",
     "text": [
      "Trial 264 finished. Final Reconstruction Loss: 0.0882\n",
      "\n",
      "============================== Running Trial 265/288 ==============================\n",
      "Current Parameter Combination: lat_dim: 10, hidden_size: 250, lr: 0.0001, num_layers: 2, emb_dim: 64, weight_decay: 1e-06, batch_size: 32\n"
     ]
    },
    {
     "data": {
      "text/html": [
       "<pre style=\"white-space:pre;overflow-x:auto;line-height:normal;font-family:Menlo,'DejaVu Sans Mono',consolas,'Courier New',monospace\"></pre>\n"
      ],
      "text/plain": []
     },
     "metadata": {},
     "output_type": "display_data"
    },
    {
     "data": {
      "application/vnd.jupyter.widget-view+json": {
       "model_id": "109ac92383bf455bb34fb02775170a60",
       "version_major": 2,
       "version_minor": 0
      },
      "text/plain": [
       "Output()"
      ]
     },
     "metadata": {},
     "output_type": "display_data"
    },
    {
     "name": "stdout",
     "output_type": "stream",
     "text": [
      "Trial 265 finished. Final Reconstruction Loss: 0.2243\n",
      "\n",
      "============================== Running Trial 266/288 ==============================\n",
      "Current Parameter Combination: lat_dim: 10, hidden_size: 250, lr: 0.0001, num_layers: 2, emb_dim: 64, weight_decay: 1e-06, batch_size: 50\n"
     ]
    },
    {
     "data": {
      "text/html": [
       "<pre style=\"white-space:pre;overflow-x:auto;line-height:normal;font-family:Menlo,'DejaVu Sans Mono',consolas,'Courier New',monospace\"></pre>\n"
      ],
      "text/plain": []
     },
     "metadata": {},
     "output_type": "display_data"
    },
    {
     "data": {
      "application/vnd.jupyter.widget-view+json": {
       "model_id": "7679e47b18af4722bce010dc18c413a8",
       "version_major": 2,
       "version_minor": 0
      },
      "text/plain": [
       "Output()"
      ]
     },
     "metadata": {},
     "output_type": "display_data"
    },
    {
     "name": "stdout",
     "output_type": "stream",
     "text": [
      "Trial 266 finished. Final Reconstruction Loss: 0.2007\n",
      "\n",
      "============================== Running Trial 267/288 ==============================\n",
      "Current Parameter Combination: lat_dim: 10, hidden_size: 250, lr: 0.0001, num_layers: 2, emb_dim: 64, weight_decay: 1e-05, batch_size: 32\n"
     ]
    },
    {
     "data": {
      "text/html": [
       "<pre style=\"white-space:pre;overflow-x:auto;line-height:normal;font-family:Menlo,'DejaVu Sans Mono',consolas,'Courier New',monospace\"></pre>\n"
      ],
      "text/plain": []
     },
     "metadata": {},
     "output_type": "display_data"
    },
    {
     "data": {
      "application/vnd.jupyter.widget-view+json": {
       "model_id": "6b76075bcd2a474791406095047c9096",
       "version_major": 2,
       "version_minor": 0
      },
      "text/plain": [
       "Output()"
      ]
     },
     "metadata": {},
     "output_type": "display_data"
    },
    {
     "name": "stdout",
     "output_type": "stream",
     "text": [
      "Trial 267 finished. Final Reconstruction Loss: 0.5280\n",
      "\n",
      "============================== Running Trial 268/288 ==============================\n",
      "Current Parameter Combination: lat_dim: 10, hidden_size: 250, lr: 0.0001, num_layers: 2, emb_dim: 64, weight_decay: 1e-05, batch_size: 50\n"
     ]
    },
    {
     "data": {
      "text/html": [
       "<pre style=\"white-space:pre;overflow-x:auto;line-height:normal;font-family:Menlo,'DejaVu Sans Mono',consolas,'Courier New',monospace\"></pre>\n"
      ],
      "text/plain": []
     },
     "metadata": {},
     "output_type": "display_data"
    },
    {
     "data": {
      "application/vnd.jupyter.widget-view+json": {
       "model_id": "4dbed6ff0bdc42e5995703f76e0fd481",
       "version_major": 2,
       "version_minor": 0
      },
      "text/plain": [
       "Output()"
      ]
     },
     "metadata": {},
     "output_type": "display_data"
    },
    {
     "name": "stdout",
     "output_type": "stream",
     "text": [
      "Trial 268 finished. Final Reconstruction Loss: 0.4553\n",
      "\n",
      "============================== Running Trial 269/288 ==============================\n",
      "Current Parameter Combination: lat_dim: 10, hidden_size: 250, lr: 0.0001, num_layers: 2, emb_dim: 128, weight_decay: 1e-06, batch_size: 32\n"
     ]
    },
    {
     "data": {
      "text/html": [
       "<pre style=\"white-space:pre;overflow-x:auto;line-height:normal;font-family:Menlo,'DejaVu Sans Mono',consolas,'Courier New',monospace\"></pre>\n"
      ],
      "text/plain": []
     },
     "metadata": {},
     "output_type": "display_data"
    },
    {
     "data": {
      "application/vnd.jupyter.widget-view+json": {
       "model_id": "a9fbe335c47c43ffa4ce9a84d8578ff8",
       "version_major": 2,
       "version_minor": 0
      },
      "text/plain": [
       "Output()"
      ]
     },
     "metadata": {},
     "output_type": "display_data"
    },
    {
     "name": "stdout",
     "output_type": "stream",
     "text": [
      "Trial 269 finished. Final Reconstruction Loss: 0.3517\n",
      "\n",
      "============================== Running Trial 270/288 ==============================\n",
      "Current Parameter Combination: lat_dim: 10, hidden_size: 250, lr: 0.0001, num_layers: 2, emb_dim: 128, weight_decay: 1e-06, batch_size: 50\n"
     ]
    },
    {
     "data": {
      "text/html": [
       "<pre style=\"white-space:pre;overflow-x:auto;line-height:normal;font-family:Menlo,'DejaVu Sans Mono',consolas,'Courier New',monospace\"></pre>\n"
      ],
      "text/plain": []
     },
     "metadata": {},
     "output_type": "display_data"
    },
    {
     "data": {
      "application/vnd.jupyter.widget-view+json": {
       "model_id": "83e96d41b08b43a38480167383a8ed8e",
       "version_major": 2,
       "version_minor": 0
      },
      "text/plain": [
       "Output()"
      ]
     },
     "metadata": {},
     "output_type": "display_data"
    },
    {
     "name": "stdout",
     "output_type": "stream",
     "text": [
      "Trial 270 finished. Final Reconstruction Loss: 0.3011\n",
      "\n",
      "============================== Running Trial 271/288 ==============================\n",
      "Current Parameter Combination: lat_dim: 10, hidden_size: 250, lr: 0.0001, num_layers: 2, emb_dim: 128, weight_decay: 1e-05, batch_size: 32\n"
     ]
    },
    {
     "data": {
      "text/html": [
       "<pre style=\"white-space:pre;overflow-x:auto;line-height:normal;font-family:Menlo,'DejaVu Sans Mono',consolas,'Courier New',monospace\"></pre>\n"
      ],
      "text/plain": []
     },
     "metadata": {},
     "output_type": "display_data"
    },
    {
     "data": {
      "application/vnd.jupyter.widget-view+json": {
       "model_id": "31a3ed71778c44f786b7e8c839b3baae",
       "version_major": 2,
       "version_minor": 0
      },
      "text/plain": [
       "Output()"
      ]
     },
     "metadata": {},
     "output_type": "display_data"
    },
    {
     "name": "stdout",
     "output_type": "stream",
     "text": [
      "Trial 271 finished. Final Reconstruction Loss: 0.3758\n",
      "\n",
      "============================== Running Trial 272/288 ==============================\n",
      "Current Parameter Combination: lat_dim: 10, hidden_size: 250, lr: 0.0001, num_layers: 2, emb_dim: 128, weight_decay: 1e-05, batch_size: 50\n"
     ]
    },
    {
     "data": {
      "text/html": [
       "<pre style=\"white-space:pre;overflow-x:auto;line-height:normal;font-family:Menlo,'DejaVu Sans Mono',consolas,'Courier New',monospace\"></pre>\n"
      ],
      "text/plain": []
     },
     "metadata": {},
     "output_type": "display_data"
    },
    {
     "data": {
      "application/vnd.jupyter.widget-view+json": {
       "model_id": "f09aa802134c47df9650cc1224afa292",
       "version_major": 2,
       "version_minor": 0
      },
      "text/plain": [
       "Output()"
      ]
     },
     "metadata": {},
     "output_type": "display_data"
    },
    {
     "name": "stdout",
     "output_type": "stream",
     "text": [
      "Trial 272 finished. Final Reconstruction Loss: 0.2150\n",
      "\n",
      "============================== Running Trial 273/288 ==============================\n",
      "Current Parameter Combination: lat_dim: 10, hidden_size: 250, lr: 0.0005, num_layers: 1, emb_dim: 64, weight_decay: 1e-06, batch_size: 32\n"
     ]
    },
    {
     "data": {
      "text/html": [
       "<pre style=\"white-space:pre;overflow-x:auto;line-height:normal;font-family:Menlo,'DejaVu Sans Mono',consolas,'Courier New',monospace\"></pre>\n"
      ],
      "text/plain": []
     },
     "metadata": {},
     "output_type": "display_data"
    },
    {
     "data": {
      "application/vnd.jupyter.widget-view+json": {
       "model_id": "84c728620db340c09168d2f343c32662",
       "version_major": 2,
       "version_minor": 0
      },
      "text/plain": [
       "Output()"
      ]
     },
     "metadata": {},
     "output_type": "display_data"
    },
    {
     "name": "stdout",
     "output_type": "stream",
     "text": [
      "Trial 273 finished. Final Reconstruction Loss: 0.0114\n",
      "\n",
      "============================== Running Trial 274/288 ==============================\n",
      "Current Parameter Combination: lat_dim: 10, hidden_size: 250, lr: 0.0005, num_layers: 1, emb_dim: 64, weight_decay: 1e-06, batch_size: 50\n"
     ]
    },
    {
     "data": {
      "text/html": [
       "<pre style=\"white-space:pre;overflow-x:auto;line-height:normal;font-family:Menlo,'DejaVu Sans Mono',consolas,'Courier New',monospace\"></pre>\n"
      ],
      "text/plain": []
     },
     "metadata": {},
     "output_type": "display_data"
    },
    {
     "data": {
      "application/vnd.jupyter.widget-view+json": {
       "model_id": "99ab51872f1b45b0a24e12eb78612516",
       "version_major": 2,
       "version_minor": 0
      },
      "text/plain": [
       "Output()"
      ]
     },
     "metadata": {},
     "output_type": "display_data"
    },
    {
     "name": "stdout",
     "output_type": "stream",
     "text": [
      "Trial 274 finished. Final Reconstruction Loss: 0.0078\n",
      "\n",
      "============================== Running Trial 275/288 ==============================\n",
      "Current Parameter Combination: lat_dim: 10, hidden_size: 250, lr: 0.0005, num_layers: 1, emb_dim: 64, weight_decay: 1e-05, batch_size: 32\n"
     ]
    },
    {
     "data": {
      "text/html": [
       "<pre style=\"white-space:pre;overflow-x:auto;line-height:normal;font-family:Menlo,'DejaVu Sans Mono',consolas,'Courier New',monospace\"></pre>\n"
      ],
      "text/plain": []
     },
     "metadata": {},
     "output_type": "display_data"
    },
    {
     "data": {
      "application/vnd.jupyter.widget-view+json": {
       "model_id": "aacfc4801b4d415a806a34076ce595bc",
       "version_major": 2,
       "version_minor": 0
      },
      "text/plain": [
       "Output()"
      ]
     },
     "metadata": {},
     "output_type": "display_data"
    },
    {
     "name": "stdout",
     "output_type": "stream",
     "text": [
      "Trial 275 finished. Final Reconstruction Loss: 0.0118\n",
      "\n",
      "============================== Running Trial 276/288 ==============================\n",
      "Current Parameter Combination: lat_dim: 10, hidden_size: 250, lr: 0.0005, num_layers: 1, emb_dim: 64, weight_decay: 1e-05, batch_size: 50\n"
     ]
    },
    {
     "data": {
      "text/html": [
       "<pre style=\"white-space:pre;overflow-x:auto;line-height:normal;font-family:Menlo,'DejaVu Sans Mono',consolas,'Courier New',monospace\"></pre>\n"
      ],
      "text/plain": []
     },
     "metadata": {},
     "output_type": "display_data"
    },
    {
     "data": {
      "application/vnd.jupyter.widget-view+json": {
       "model_id": "9d27ea9c5ef144c4b09f9c854c30b6aa",
       "version_major": 2,
       "version_minor": 0
      },
      "text/plain": [
       "Output()"
      ]
     },
     "metadata": {},
     "output_type": "display_data"
    },
    {
     "name": "stdout",
     "output_type": "stream",
     "text": [
      "Trial 276 finished. Final Reconstruction Loss: 0.0116\n",
      "\n",
      "============================== Running Trial 277/288 ==============================\n",
      "Current Parameter Combination: lat_dim: 10, hidden_size: 250, lr: 0.0005, num_layers: 1, emb_dim: 128, weight_decay: 1e-06, batch_size: 32\n"
     ]
    },
    {
     "data": {
      "text/html": [
       "<pre style=\"white-space:pre;overflow-x:auto;line-height:normal;font-family:Menlo,'DejaVu Sans Mono',consolas,'Courier New',monospace\"></pre>\n"
      ],
      "text/plain": []
     },
     "metadata": {},
     "output_type": "display_data"
    },
    {
     "data": {
      "application/vnd.jupyter.widget-view+json": {
       "model_id": "746a4acfabb04f6483290767f6b922e3",
       "version_major": 2,
       "version_minor": 0
      },
      "text/plain": [
       "Output()"
      ]
     },
     "metadata": {},
     "output_type": "display_data"
    },
    {
     "name": "stdout",
     "output_type": "stream",
     "text": [
      "Trial 277 finished. Final Reconstruction Loss: 0.0085\n",
      "\n",
      "============================== Running Trial 278/288 ==============================\n",
      "Current Parameter Combination: lat_dim: 10, hidden_size: 250, lr: 0.0005, num_layers: 1, emb_dim: 128, weight_decay: 1e-06, batch_size: 50\n"
     ]
    },
    {
     "data": {
      "text/html": [
       "<pre style=\"white-space:pre;overflow-x:auto;line-height:normal;font-family:Menlo,'DejaVu Sans Mono',consolas,'Courier New',monospace\"></pre>\n"
      ],
      "text/plain": []
     },
     "metadata": {},
     "output_type": "display_data"
    },
    {
     "data": {
      "application/vnd.jupyter.widget-view+json": {
       "model_id": "72369a9780cf4aa0977975766a7413f8",
       "version_major": 2,
       "version_minor": 0
      },
      "text/plain": [
       "Output()"
      ]
     },
     "metadata": {},
     "output_type": "display_data"
    },
    {
     "name": "stdout",
     "output_type": "stream",
     "text": [
      "Trial 278 finished. Final Reconstruction Loss: 0.0042\n",
      "\n",
      "============================== Running Trial 279/288 ==============================\n",
      "Current Parameter Combination: lat_dim: 10, hidden_size: 250, lr: 0.0005, num_layers: 1, emb_dim: 128, weight_decay: 1e-05, batch_size: 32\n"
     ]
    },
    {
     "data": {
      "text/html": [
       "<pre style=\"white-space:pre;overflow-x:auto;line-height:normal;font-family:Menlo,'DejaVu Sans Mono',consolas,'Courier New',monospace\"></pre>\n"
      ],
      "text/plain": []
     },
     "metadata": {},
     "output_type": "display_data"
    },
    {
     "data": {
      "application/vnd.jupyter.widget-view+json": {
       "model_id": "6dfa3a7060274fb38a4441be19303e78",
       "version_major": 2,
       "version_minor": 0
      },
      "text/plain": [
       "Output()"
      ]
     },
     "metadata": {},
     "output_type": "display_data"
    },
    {
     "name": "stdout",
     "output_type": "stream",
     "text": [
      "Trial 279 finished. Final Reconstruction Loss: 0.0118\n",
      "\n",
      "============================== Running Trial 280/288 ==============================\n",
      "Current Parameter Combination: lat_dim: 10, hidden_size: 250, lr: 0.0005, num_layers: 1, emb_dim: 128, weight_decay: 1e-05, batch_size: 50\n"
     ]
    },
    {
     "data": {
      "text/html": [
       "<pre style=\"white-space:pre;overflow-x:auto;line-height:normal;font-family:Menlo,'DejaVu Sans Mono',consolas,'Courier New',monospace\"></pre>\n"
      ],
      "text/plain": []
     },
     "metadata": {},
     "output_type": "display_data"
    },
    {
     "data": {
      "application/vnd.jupyter.widget-view+json": {
       "model_id": "230008b52650490f8c1d19a2798cbe13",
       "version_major": 2,
       "version_minor": 0
      },
      "text/plain": [
       "Output()"
      ]
     },
     "metadata": {},
     "output_type": "display_data"
    },
    {
     "name": "stdout",
     "output_type": "stream",
     "text": [
      "Trial 280 finished. Final Reconstruction Loss: 0.0083\n",
      "\n",
      "============================== Running Trial 281/288 ==============================\n",
      "Current Parameter Combination: lat_dim: 10, hidden_size: 250, lr: 0.0005, num_layers: 2, emb_dim: 64, weight_decay: 1e-06, batch_size: 32\n"
     ]
    },
    {
     "data": {
      "text/html": [
       "<pre style=\"white-space:pre;overflow-x:auto;line-height:normal;font-family:Menlo,'DejaVu Sans Mono',consolas,'Courier New',monospace\"></pre>\n"
      ],
      "text/plain": []
     },
     "metadata": {},
     "output_type": "display_data"
    },
    {
     "data": {
      "application/vnd.jupyter.widget-view+json": {
       "model_id": "beac1a533dc54f77aa4e47806b3ab6fd",
       "version_major": 2,
       "version_minor": 0
      },
      "text/plain": [
       "Output()"
      ]
     },
     "metadata": {},
     "output_type": "display_data"
    },
    {
     "name": "stdout",
     "output_type": "stream",
     "text": [
      "Trial 281 finished. Final Reconstruction Loss: 0.0117\n",
      "\n",
      "============================== Running Trial 282/288 ==============================\n",
      "Current Parameter Combination: lat_dim: 10, hidden_size: 250, lr: 0.0005, num_layers: 2, emb_dim: 64, weight_decay: 1e-06, batch_size: 50\n"
     ]
    },
    {
     "data": {
      "text/html": [
       "<pre style=\"white-space:pre;overflow-x:auto;line-height:normal;font-family:Menlo,'DejaVu Sans Mono',consolas,'Courier New',monospace\"></pre>\n"
      ],
      "text/plain": []
     },
     "metadata": {},
     "output_type": "display_data"
    },
    {
     "data": {
      "application/vnd.jupyter.widget-view+json": {
       "model_id": "417f8fd867504814809739d60fe43f17",
       "version_major": 2,
       "version_minor": 0
      },
      "text/plain": [
       "Output()"
      ]
     },
     "metadata": {},
     "output_type": "display_data"
    },
    {
     "name": "stdout",
     "output_type": "stream",
     "text": [
      "Trial 282 finished. Final Reconstruction Loss: 0.0094\n",
      "\n",
      "============================== Running Trial 283/288 ==============================\n",
      "Current Parameter Combination: lat_dim: 10, hidden_size: 250, lr: 0.0005, num_layers: 2, emb_dim: 64, weight_decay: 1e-05, batch_size: 32\n"
     ]
    },
    {
     "data": {
      "text/html": [
       "<pre style=\"white-space:pre;overflow-x:auto;line-height:normal;font-family:Menlo,'DejaVu Sans Mono',consolas,'Courier New',monospace\"></pre>\n"
      ],
      "text/plain": []
     },
     "metadata": {},
     "output_type": "display_data"
    },
    {
     "data": {
      "application/vnd.jupyter.widget-view+json": {
       "model_id": "5bc4953b608f4242b237f38170364c7e",
       "version_major": 2,
       "version_minor": 0
      },
      "text/plain": [
       "Output()"
      ]
     },
     "metadata": {},
     "output_type": "display_data"
    },
    {
     "name": "stdout",
     "output_type": "stream",
     "text": [
      "Trial 283 finished. Final Reconstruction Loss: 0.0132\n",
      "\n",
      "============================== Running Trial 284/288 ==============================\n",
      "Current Parameter Combination: lat_dim: 10, hidden_size: 250, lr: 0.0005, num_layers: 2, emb_dim: 64, weight_decay: 1e-05, batch_size: 50\n"
     ]
    },
    {
     "data": {
      "text/html": [
       "<pre style=\"white-space:pre;overflow-x:auto;line-height:normal;font-family:Menlo,'DejaVu Sans Mono',consolas,'Courier New',monospace\"></pre>\n"
      ],
      "text/plain": []
     },
     "metadata": {},
     "output_type": "display_data"
    },
    {
     "data": {
      "application/vnd.jupyter.widget-view+json": {
       "model_id": "73ff5b49560b46238ebb703aa6e1fb15",
       "version_major": 2,
       "version_minor": 0
      },
      "text/plain": [
       "Output()"
      ]
     },
     "metadata": {},
     "output_type": "display_data"
    },
    {
     "name": "stdout",
     "output_type": "stream",
     "text": [
      "Trial 284 finished. Final Reconstruction Loss: 0.0118\n",
      "\n",
      "============================== Running Trial 285/288 ==============================\n",
      "Current Parameter Combination: lat_dim: 10, hidden_size: 250, lr: 0.0005, num_layers: 2, emb_dim: 128, weight_decay: 1e-06, batch_size: 32\n"
     ]
    },
    {
     "data": {
      "text/html": [
       "<pre style=\"white-space:pre;overflow-x:auto;line-height:normal;font-family:Menlo,'DejaVu Sans Mono',consolas,'Courier New',monospace\"></pre>\n"
      ],
      "text/plain": []
     },
     "metadata": {},
     "output_type": "display_data"
    },
    {
     "data": {
      "application/vnd.jupyter.widget-view+json": {
       "model_id": "eca62b62579041c49c69849e82cca4ee",
       "version_major": 2,
       "version_minor": 0
      },
      "text/plain": [
       "Output()"
      ]
     },
     "metadata": {},
     "output_type": "display_data"
    },
    {
     "name": "stdout",
     "output_type": "stream",
     "text": [
      "Trial 285 finished. Final Reconstruction Loss: 0.0124\n",
      "\n",
      "============================== Running Trial 286/288 ==============================\n",
      "Current Parameter Combination: lat_dim: 10, hidden_size: 250, lr: 0.0005, num_layers: 2, emb_dim: 128, weight_decay: 1e-06, batch_size: 50\n"
     ]
    },
    {
     "data": {
      "text/html": [
       "<pre style=\"white-space:pre;overflow-x:auto;line-height:normal;font-family:Menlo,'DejaVu Sans Mono',consolas,'Courier New',monospace\"></pre>\n"
      ],
      "text/plain": []
     },
     "metadata": {},
     "output_type": "display_data"
    },
    {
     "data": {
      "application/vnd.jupyter.widget-view+json": {
       "model_id": "9a4e136723b54823ab014157eb6fdf86",
       "version_major": 2,
       "version_minor": 0
      },
      "text/plain": [
       "Output()"
      ]
     },
     "metadata": {},
     "output_type": "display_data"
    },
    {
     "name": "stdout",
     "output_type": "stream",
     "text": [
      "Trial 286 finished. Final Reconstruction Loss: 0.0101\n",
      "\n",
      "============================== Running Trial 287/288 ==============================\n",
      "Current Parameter Combination: lat_dim: 10, hidden_size: 250, lr: 0.0005, num_layers: 2, emb_dim: 128, weight_decay: 1e-05, batch_size: 32\n"
     ]
    },
    {
     "data": {
      "text/html": [
       "<pre style=\"white-space:pre;overflow-x:auto;line-height:normal;font-family:Menlo,'DejaVu Sans Mono',consolas,'Courier New',monospace\"></pre>\n"
      ],
      "text/plain": []
     },
     "metadata": {},
     "output_type": "display_data"
    },
    {
     "data": {
      "application/vnd.jupyter.widget-view+json": {
       "model_id": "5285b92f2553400085abf21a7a9a5e52",
       "version_major": 2,
       "version_minor": 0
      },
      "text/plain": [
       "Output()"
      ]
     },
     "metadata": {},
     "output_type": "display_data"
    },
    {
     "name": "stdout",
     "output_type": "stream",
     "text": [
      "Trial 287 finished. Final Reconstruction Loss: 0.0115\n",
      "\n",
      "============================== Running Trial 288/288 ==============================\n",
      "Current Parameter Combination: lat_dim: 10, hidden_size: 250, lr: 0.0005, num_layers: 2, emb_dim: 128, weight_decay: 1e-05, batch_size: 50\n"
     ]
    },
    {
     "data": {
      "text/html": [
       "<pre style=\"white-space:pre;overflow-x:auto;line-height:normal;font-family:Menlo,'DejaVu Sans Mono',consolas,'Courier New',monospace\"></pre>\n"
      ],
      "text/plain": []
     },
     "metadata": {},
     "output_type": "display_data"
    },
    {
     "name": "stdout",
     "output_type": "stream",
     "text": [
      "Trial 288 finished. Final Reconstruction Loss: 0.0122\n",
      "\n",
      "{'='*50} Parameter tuning finished {'='*50}\n",
      "\n",
      "{'='*50} Best Parameter Combination {'='*50}\n",
      "Best Parameters: {'lat_dim': 7, 'hidden_size': 250, 'lr': 0.0005, 'num_layers': 1, 'emb_dim': 128, 'weight_decay': 1e-05, 'batch_size': 50}\n",
      "Best Final Reconstruction Loss: 0.0035\n",
      "\n",
      "{'='*50} All Trial Results {'='*50}\n",
      "Parameters: {'lat_dim': 5, 'hidden_size': 150, 'lr': 0.0001, 'num_layers': 1, 'emb_dim': 64, 'weight_decay': 1e-06, 'batch_size': 32}, Final Reconstruction Loss: 0.8827\n",
      "Parameters: {'lat_dim': 5, 'hidden_size': 150, 'lr': 0.0001, 'num_layers': 1, 'emb_dim': 64, 'weight_decay': 1e-06, 'batch_size': 50}, Final Reconstruction Loss: 0.5619\n",
      "Parameters: {'lat_dim': 5, 'hidden_size': 150, 'lr': 0.0001, 'num_layers': 1, 'emb_dim': 64, 'weight_decay': 1e-05, 'batch_size': 32}, Final Reconstruction Loss: 1.0074\n",
      "Parameters: {'lat_dim': 5, 'hidden_size': 150, 'lr': 0.0001, 'num_layers': 1, 'emb_dim': 64, 'weight_decay': 1e-05, 'batch_size': 50}, Final Reconstruction Loss: 1.0033\n",
      "Parameters: {'lat_dim': 5, 'hidden_size': 150, 'lr': 0.0001, 'num_layers': 1, 'emb_dim': 128, 'weight_decay': 1e-06, 'batch_size': 32}, Final Reconstruction Loss: 0.7371\n",
      "Parameters: {'lat_dim': 5, 'hidden_size': 150, 'lr': 0.0001, 'num_layers': 1, 'emb_dim': 128, 'weight_decay': 1e-06, 'batch_size': 50}, Final Reconstruction Loss: 0.6432\n",
      "Parameters: {'lat_dim': 5, 'hidden_size': 150, 'lr': 0.0001, 'num_layers': 1, 'emb_dim': 128, 'weight_decay': 1e-05, 'batch_size': 32}, Final Reconstruction Loss: 0.6576\n",
      "Parameters: {'lat_dim': 5, 'hidden_size': 150, 'lr': 0.0001, 'num_layers': 1, 'emb_dim': 128, 'weight_decay': 1e-05, 'batch_size': 50}, Final Reconstruction Loss: 0.9042\n",
      "Parameters: {'lat_dim': 5, 'hidden_size': 150, 'lr': 0.0001, 'num_layers': 2, 'emb_dim': 64, 'weight_decay': 1e-06, 'batch_size': 32}, Final Reconstruction Loss: 0.9689\n",
      "Parameters: {'lat_dim': 5, 'hidden_size': 150, 'lr': 0.0001, 'num_layers': 2, 'emb_dim': 64, 'weight_decay': 1e-06, 'batch_size': 50}, Final Reconstruction Loss: 0.9898\n",
      "Parameters: {'lat_dim': 5, 'hidden_size': 150, 'lr': 0.0001, 'num_layers': 2, 'emb_dim': 64, 'weight_decay': 1e-05, 'batch_size': 32}, Final Reconstruction Loss: 0.8059\n",
      "Parameters: {'lat_dim': 5, 'hidden_size': 150, 'lr': 0.0001, 'num_layers': 2, 'emb_dim': 64, 'weight_decay': 1e-05, 'batch_size': 50}, Final Reconstruction Loss: 0.8553\n",
      "Parameters: {'lat_dim': 5, 'hidden_size': 150, 'lr': 0.0001, 'num_layers': 2, 'emb_dim': 128, 'weight_decay': 1e-06, 'batch_size': 32}, Final Reconstruction Loss: 0.6792\n",
      "Parameters: {'lat_dim': 5, 'hidden_size': 150, 'lr': 0.0001, 'num_layers': 2, 'emb_dim': 128, 'weight_decay': 1e-06, 'batch_size': 50}, Final Reconstruction Loss: 0.9340\n",
      "Parameters: {'lat_dim': 5, 'hidden_size': 150, 'lr': 0.0001, 'num_layers': 2, 'emb_dim': 128, 'weight_decay': 1e-05, 'batch_size': 32}, Final Reconstruction Loss: 0.7630\n",
      "Parameters: {'lat_dim': 5, 'hidden_size': 150, 'lr': 0.0001, 'num_layers': 2, 'emb_dim': 128, 'weight_decay': 1e-05, 'batch_size': 50}, Final Reconstruction Loss: 0.9912\n",
      "Parameters: {'lat_dim': 5, 'hidden_size': 150, 'lr': 0.0005, 'num_layers': 1, 'emb_dim': 64, 'weight_decay': 1e-06, 'batch_size': 32}, Final Reconstruction Loss: 0.0141\n",
      "Parameters: {'lat_dim': 5, 'hidden_size': 150, 'lr': 0.0005, 'num_layers': 1, 'emb_dim': 64, 'weight_decay': 1e-06, 'batch_size': 50}, Final Reconstruction Loss: 0.0262\n",
      "Parameters: {'lat_dim': 5, 'hidden_size': 150, 'lr': 0.0005, 'num_layers': 1, 'emb_dim': 64, 'weight_decay': 1e-05, 'batch_size': 32}, Final Reconstruction Loss: 0.0301\n",
      "Parameters: {'lat_dim': 5, 'hidden_size': 150, 'lr': 0.0005, 'num_layers': 1, 'emb_dim': 64, 'weight_decay': 1e-05, 'batch_size': 50}, Final Reconstruction Loss: 0.0132\n",
      "Parameters: {'lat_dim': 5, 'hidden_size': 150, 'lr': 0.0005, 'num_layers': 1, 'emb_dim': 128, 'weight_decay': 1e-06, 'batch_size': 32}, Final Reconstruction Loss: 0.0136\n",
      "Parameters: {'lat_dim': 5, 'hidden_size': 150, 'lr': 0.0005, 'num_layers': 1, 'emb_dim': 128, 'weight_decay': 1e-06, 'batch_size': 50}, Final Reconstruction Loss: 0.0105\n",
      "Parameters: {'lat_dim': 5, 'hidden_size': 150, 'lr': 0.0005, 'num_layers': 1, 'emb_dim': 128, 'weight_decay': 1e-05, 'batch_size': 32}, Final Reconstruction Loss: 0.0102\n",
      "Parameters: {'lat_dim': 5, 'hidden_size': 150, 'lr': 0.0005, 'num_layers': 1, 'emb_dim': 128, 'weight_decay': 1e-05, 'batch_size': 50}, Final Reconstruction Loss: 0.0174\n",
      "Parameters: {'lat_dim': 5, 'hidden_size': 150, 'lr': 0.0005, 'num_layers': 2, 'emb_dim': 64, 'weight_decay': 1e-06, 'batch_size': 32}, Final Reconstruction Loss: 0.0752\n",
      "Parameters: {'lat_dim': 5, 'hidden_size': 150, 'lr': 0.0005, 'num_layers': 2, 'emb_dim': 64, 'weight_decay': 1e-06, 'batch_size': 50}, Final Reconstruction Loss: 0.0130\n",
      "Parameters: {'lat_dim': 5, 'hidden_size': 150, 'lr': 0.0005, 'num_layers': 2, 'emb_dim': 64, 'weight_decay': 1e-05, 'batch_size': 32}, Final Reconstruction Loss: 0.0457\n",
      "Parameters: {'lat_dim': 5, 'hidden_size': 150, 'lr': 0.0005, 'num_layers': 2, 'emb_dim': 64, 'weight_decay': 1e-05, 'batch_size': 50}, Final Reconstruction Loss: 0.0100\n",
      "Parameters: {'lat_dim': 5, 'hidden_size': 150, 'lr': 0.0005, 'num_layers': 2, 'emb_dim': 128, 'weight_decay': 1e-06, 'batch_size': 32}, Final Reconstruction Loss: 0.0137\n",
      "Parameters: {'lat_dim': 5, 'hidden_size': 150, 'lr': 0.0005, 'num_layers': 2, 'emb_dim': 128, 'weight_decay': 1e-06, 'batch_size': 50}, Final Reconstruction Loss: 0.0235\n",
      "Parameters: {'lat_dim': 5, 'hidden_size': 150, 'lr': 0.0005, 'num_layers': 2, 'emb_dim': 128, 'weight_decay': 1e-05, 'batch_size': 32}, Final Reconstruction Loss: 0.1596\n",
      "Parameters: {'lat_dim': 5, 'hidden_size': 150, 'lr': 0.0005, 'num_layers': 2, 'emb_dim': 128, 'weight_decay': 1e-05, 'batch_size': 50}, Final Reconstruction Loss: 0.0145\n",
      "Parameters: {'lat_dim': 5, 'hidden_size': 200, 'lr': 0.0001, 'num_layers': 1, 'emb_dim': 64, 'weight_decay': 1e-06, 'batch_size': 32}, Final Reconstruction Loss: 0.7377\n",
      "Parameters: {'lat_dim': 5, 'hidden_size': 200, 'lr': 0.0001, 'num_layers': 1, 'emb_dim': 64, 'weight_decay': 1e-06, 'batch_size': 50}, Final Reconstruction Loss: 0.7232\n",
      "Parameters: {'lat_dim': 5, 'hidden_size': 200, 'lr': 0.0001, 'num_layers': 1, 'emb_dim': 64, 'weight_decay': 1e-05, 'batch_size': 32}, Final Reconstruction Loss: 0.6118\n",
      "Parameters: {'lat_dim': 5, 'hidden_size': 200, 'lr': 0.0001, 'num_layers': 1, 'emb_dim': 64, 'weight_decay': 1e-05, 'batch_size': 50}, Final Reconstruction Loss: 0.5944\n",
      "Parameters: {'lat_dim': 5, 'hidden_size': 200, 'lr': 0.0001, 'num_layers': 1, 'emb_dim': 128, 'weight_decay': 1e-06, 'batch_size': 32}, Final Reconstruction Loss: 0.4641\n",
      "Parameters: {'lat_dim': 5, 'hidden_size': 200, 'lr': 0.0001, 'num_layers': 1, 'emb_dim': 128, 'weight_decay': 1e-06, 'batch_size': 50}, Final Reconstruction Loss: 0.4390\n",
      "Parameters: {'lat_dim': 5, 'hidden_size': 200, 'lr': 0.0001, 'num_layers': 1, 'emb_dim': 128, 'weight_decay': 1e-05, 'batch_size': 32}, Final Reconstruction Loss: 0.4460\n",
      "Parameters: {'lat_dim': 5, 'hidden_size': 200, 'lr': 0.0001, 'num_layers': 1, 'emb_dim': 128, 'weight_decay': 1e-05, 'batch_size': 50}, Final Reconstruction Loss: 0.3662\n",
      "Parameters: {'lat_dim': 5, 'hidden_size': 200, 'lr': 0.0001, 'num_layers': 2, 'emb_dim': 64, 'weight_decay': 1e-06, 'batch_size': 32}, Final Reconstruction Loss: 0.8142\n",
      "Parameters: {'lat_dim': 5, 'hidden_size': 200, 'lr': 0.0001, 'num_layers': 2, 'emb_dim': 64, 'weight_decay': 1e-06, 'batch_size': 50}, Final Reconstruction Loss: 0.6092\n",
      "Parameters: {'lat_dim': 5, 'hidden_size': 200, 'lr': 0.0001, 'num_layers': 2, 'emb_dim': 64, 'weight_decay': 1e-05, 'batch_size': 32}, Final Reconstruction Loss: 0.7107\n",
      "Parameters: {'lat_dim': 5, 'hidden_size': 200, 'lr': 0.0001, 'num_layers': 2, 'emb_dim': 64, 'weight_decay': 1e-05, 'batch_size': 50}, Final Reconstruction Loss: 0.5657\n",
      "Parameters: {'lat_dim': 5, 'hidden_size': 200, 'lr': 0.0001, 'num_layers': 2, 'emb_dim': 128, 'weight_decay': 1e-06, 'batch_size': 32}, Final Reconstruction Loss: 0.5475\n",
      "Parameters: {'lat_dim': 5, 'hidden_size': 200, 'lr': 0.0001, 'num_layers': 2, 'emb_dim': 128, 'weight_decay': 1e-06, 'batch_size': 50}, Final Reconstruction Loss: 0.4332\n",
      "Parameters: {'lat_dim': 5, 'hidden_size': 200, 'lr': 0.0001, 'num_layers': 2, 'emb_dim': 128, 'weight_decay': 1e-05, 'batch_size': 32}, Final Reconstruction Loss: 0.5774\n",
      "Parameters: {'lat_dim': 5, 'hidden_size': 200, 'lr': 0.0001, 'num_layers': 2, 'emb_dim': 128, 'weight_decay': 1e-05, 'batch_size': 50}, Final Reconstruction Loss: 0.5813\n",
      "Parameters: {'lat_dim': 5, 'hidden_size': 200, 'lr': 0.0005, 'num_layers': 1, 'emb_dim': 64, 'weight_decay': 1e-06, 'batch_size': 32}, Final Reconstruction Loss: 0.0120\n",
      "Parameters: {'lat_dim': 5, 'hidden_size': 200, 'lr': 0.0005, 'num_layers': 1, 'emb_dim': 64, 'weight_decay': 1e-06, 'batch_size': 50}, Final Reconstruction Loss: 0.0118\n",
      "Parameters: {'lat_dim': 5, 'hidden_size': 200, 'lr': 0.0005, 'num_layers': 1, 'emb_dim': 64, 'weight_decay': 1e-05, 'batch_size': 32}, Final Reconstruction Loss: 0.0098\n",
      "Parameters: {'lat_dim': 5, 'hidden_size': 200, 'lr': 0.0005, 'num_layers': 1, 'emb_dim': 64, 'weight_decay': 1e-05, 'batch_size': 50}, Final Reconstruction Loss: 0.0123\n",
      "Parameters: {'lat_dim': 5, 'hidden_size': 200, 'lr': 0.0005, 'num_layers': 1, 'emb_dim': 128, 'weight_decay': 1e-06, 'batch_size': 32}, Final Reconstruction Loss: 0.0118\n",
      "Parameters: {'lat_dim': 5, 'hidden_size': 200, 'lr': 0.0005, 'num_layers': 1, 'emb_dim': 128, 'weight_decay': 1e-06, 'batch_size': 50}, Final Reconstruction Loss: 0.0084\n",
      "Parameters: {'lat_dim': 5, 'hidden_size': 200, 'lr': 0.0005, 'num_layers': 1, 'emb_dim': 128, 'weight_decay': 1e-05, 'batch_size': 32}, Final Reconstruction Loss: 0.0124\n",
      "Parameters: {'lat_dim': 5, 'hidden_size': 200, 'lr': 0.0005, 'num_layers': 1, 'emb_dim': 128, 'weight_decay': 1e-05, 'batch_size': 50}, Final Reconstruction Loss: 0.0046\n",
      "Parameters: {'lat_dim': 5, 'hidden_size': 200, 'lr': 0.0005, 'num_layers': 2, 'emb_dim': 64, 'weight_decay': 1e-06, 'batch_size': 32}, Final Reconstruction Loss: 0.0153\n",
      "Parameters: {'lat_dim': 5, 'hidden_size': 200, 'lr': 0.0005, 'num_layers': 2, 'emb_dim': 64, 'weight_decay': 1e-06, 'batch_size': 50}, Final Reconstruction Loss: 0.0106\n",
      "Parameters: {'lat_dim': 5, 'hidden_size': 200, 'lr': 0.0005, 'num_layers': 2, 'emb_dim': 64, 'weight_decay': 1e-05, 'batch_size': 32}, Final Reconstruction Loss: 0.0118\n",
      "Parameters: {'lat_dim': 5, 'hidden_size': 200, 'lr': 0.0005, 'num_layers': 2, 'emb_dim': 64, 'weight_decay': 1e-05, 'batch_size': 50}, Final Reconstruction Loss: 0.0132\n",
      "Parameters: {'lat_dim': 5, 'hidden_size': 200, 'lr': 0.0005, 'num_layers': 2, 'emb_dim': 128, 'weight_decay': 1e-06, 'batch_size': 32}, Final Reconstruction Loss: 0.0117\n",
      "Parameters: {'lat_dim': 5, 'hidden_size': 200, 'lr': 0.0005, 'num_layers': 2, 'emb_dim': 128, 'weight_decay': 1e-06, 'batch_size': 50}, Final Reconstruction Loss: 0.0141\n",
      "Parameters: {'lat_dim': 5, 'hidden_size': 200, 'lr': 0.0005, 'num_layers': 2, 'emb_dim': 128, 'weight_decay': 1e-05, 'batch_size': 32}, Final Reconstruction Loss: 0.0108\n",
      "Parameters: {'lat_dim': 5, 'hidden_size': 200, 'lr': 0.0005, 'num_layers': 2, 'emb_dim': 128, 'weight_decay': 1e-05, 'batch_size': 50}, Final Reconstruction Loss: 0.0126\n",
      "Parameters: {'lat_dim': 5, 'hidden_size': 250, 'lr': 0.0001, 'num_layers': 1, 'emb_dim': 64, 'weight_decay': 1e-06, 'batch_size': 32}, Final Reconstruction Loss: 0.5631\n",
      "Parameters: {'lat_dim': 5, 'hidden_size': 250, 'lr': 0.0001, 'num_layers': 1, 'emb_dim': 64, 'weight_decay': 1e-06, 'batch_size': 50}, Final Reconstruction Loss: 0.4672\n",
      "Parameters: {'lat_dim': 5, 'hidden_size': 250, 'lr': 0.0001, 'num_layers': 1, 'emb_dim': 64, 'weight_decay': 1e-05, 'batch_size': 32}, Final Reconstruction Loss: 0.7808\n",
      "Parameters: {'lat_dim': 5, 'hidden_size': 250, 'lr': 0.0001, 'num_layers': 1, 'emb_dim': 64, 'weight_decay': 1e-05, 'batch_size': 50}, Final Reconstruction Loss: 0.5912\n",
      "Parameters: {'lat_dim': 5, 'hidden_size': 250, 'lr': 0.0001, 'num_layers': 1, 'emb_dim': 128, 'weight_decay': 1e-06, 'batch_size': 32}, Final Reconstruction Loss: 0.4200\n",
      "Parameters: {'lat_dim': 5, 'hidden_size': 250, 'lr': 0.0001, 'num_layers': 1, 'emb_dim': 128, 'weight_decay': 1e-06, 'batch_size': 50}, Final Reconstruction Loss: 0.3005\n",
      "Parameters: {'lat_dim': 5, 'hidden_size': 250, 'lr': 0.0001, 'num_layers': 1, 'emb_dim': 128, 'weight_decay': 1e-05, 'batch_size': 32}, Final Reconstruction Loss: 0.6045\n",
      "Parameters: {'lat_dim': 5, 'hidden_size': 250, 'lr': 0.0001, 'num_layers': 1, 'emb_dim': 128, 'weight_decay': 1e-05, 'batch_size': 50}, Final Reconstruction Loss: 0.1513\n",
      "Parameters: {'lat_dim': 5, 'hidden_size': 250, 'lr': 0.0001, 'num_layers': 2, 'emb_dim': 64, 'weight_decay': 1e-06, 'batch_size': 32}, Final Reconstruction Loss: 0.4094\n",
      "Parameters: {'lat_dim': 5, 'hidden_size': 250, 'lr': 0.0001, 'num_layers': 2, 'emb_dim': 64, 'weight_decay': 1e-06, 'batch_size': 50}, Final Reconstruction Loss: 0.4472\n",
      "Parameters: {'lat_dim': 5, 'hidden_size': 250, 'lr': 0.0001, 'num_layers': 2, 'emb_dim': 64, 'weight_decay': 1e-05, 'batch_size': 32}, Final Reconstruction Loss: 0.5579\n",
      "Parameters: {'lat_dim': 5, 'hidden_size': 250, 'lr': 0.0001, 'num_layers': 2, 'emb_dim': 64, 'weight_decay': 1e-05, 'batch_size': 50}, Final Reconstruction Loss: 0.4612\n",
      "Parameters: {'lat_dim': 5, 'hidden_size': 250, 'lr': 0.0001, 'num_layers': 2, 'emb_dim': 128, 'weight_decay': 1e-06, 'batch_size': 32}, Final Reconstruction Loss: 0.1789\n",
      "Parameters: {'lat_dim': 5, 'hidden_size': 250, 'lr': 0.0001, 'num_layers': 2, 'emb_dim': 128, 'weight_decay': 1e-06, 'batch_size': 50}, Final Reconstruction Loss: 0.1864\n",
      "Parameters: {'lat_dim': 5, 'hidden_size': 250, 'lr': 0.0001, 'num_layers': 2, 'emb_dim': 128, 'weight_decay': 1e-05, 'batch_size': 32}, Final Reconstruction Loss: 0.2576\n",
      "Parameters: {'lat_dim': 5, 'hidden_size': 250, 'lr': 0.0001, 'num_layers': 2, 'emb_dim': 128, 'weight_decay': 1e-05, 'batch_size': 50}, Final Reconstruction Loss: 0.4255\n",
      "Parameters: {'lat_dim': 5, 'hidden_size': 250, 'lr': 0.0005, 'num_layers': 1, 'emb_dim': 64, 'weight_decay': 1e-06, 'batch_size': 32}, Final Reconstruction Loss: 0.0122\n",
      "Parameters: {'lat_dim': 5, 'hidden_size': 250, 'lr': 0.0005, 'num_layers': 1, 'emb_dim': 64, 'weight_decay': 1e-06, 'batch_size': 50}, Final Reconstruction Loss: 0.0119\n",
      "Parameters: {'lat_dim': 5, 'hidden_size': 250, 'lr': 0.0005, 'num_layers': 1, 'emb_dim': 64, 'weight_decay': 1e-05, 'batch_size': 32}, Final Reconstruction Loss: 0.0130\n",
      "Parameters: {'lat_dim': 5, 'hidden_size': 250, 'lr': 0.0005, 'num_layers': 1, 'emb_dim': 64, 'weight_decay': 1e-05, 'batch_size': 50}, Final Reconstruction Loss: 0.0096\n",
      "Parameters: {'lat_dim': 5, 'hidden_size': 250, 'lr': 0.0005, 'num_layers': 1, 'emb_dim': 128, 'weight_decay': 1e-06, 'batch_size': 32}, Final Reconstruction Loss: 0.0164\n",
      "Parameters: {'lat_dim': 5, 'hidden_size': 250, 'lr': 0.0005, 'num_layers': 1, 'emb_dim': 128, 'weight_decay': 1e-06, 'batch_size': 50}, Final Reconstruction Loss: 0.0083\n",
      "Parameters: {'lat_dim': 5, 'hidden_size': 250, 'lr': 0.0005, 'num_layers': 1, 'emb_dim': 128, 'weight_decay': 1e-05, 'batch_size': 32}, Final Reconstruction Loss: 0.0072\n",
      "Parameters: {'lat_dim': 5, 'hidden_size': 250, 'lr': 0.0005, 'num_layers': 1, 'emb_dim': 128, 'weight_decay': 1e-05, 'batch_size': 50}, Final Reconstruction Loss: 0.0136\n",
      "Parameters: {'lat_dim': 5, 'hidden_size': 250, 'lr': 0.0005, 'num_layers': 2, 'emb_dim': 64, 'weight_decay': 1e-06, 'batch_size': 32}, Final Reconstruction Loss: 0.0146\n",
      "Parameters: {'lat_dim': 5, 'hidden_size': 250, 'lr': 0.0005, 'num_layers': 2, 'emb_dim': 64, 'weight_decay': 1e-06, 'batch_size': 50}, Final Reconstruction Loss: 0.0180\n",
      "Parameters: {'lat_dim': 5, 'hidden_size': 250, 'lr': 0.0005, 'num_layers': 2, 'emb_dim': 64, 'weight_decay': 1e-05, 'batch_size': 32}, Final Reconstruction Loss: 0.0076\n",
      "Parameters: {'lat_dim': 5, 'hidden_size': 250, 'lr': 0.0005, 'num_layers': 2, 'emb_dim': 64, 'weight_decay': 1e-05, 'batch_size': 50}, Final Reconstruction Loss: 0.0099\n",
      "Parameters: {'lat_dim': 5, 'hidden_size': 250, 'lr': 0.0005, 'num_layers': 2, 'emb_dim': 128, 'weight_decay': 1e-06, 'batch_size': 32}, Final Reconstruction Loss: 0.0124\n",
      "Parameters: {'lat_dim': 5, 'hidden_size': 250, 'lr': 0.0005, 'num_layers': 2, 'emb_dim': 128, 'weight_decay': 1e-06, 'batch_size': 50}, Final Reconstruction Loss: 0.0093\n",
      "Parameters: {'lat_dim': 5, 'hidden_size': 250, 'lr': 0.0005, 'num_layers': 2, 'emb_dim': 128, 'weight_decay': 1e-05, 'batch_size': 32}, Final Reconstruction Loss: 0.0149\n",
      "Parameters: {'lat_dim': 5, 'hidden_size': 250, 'lr': 0.0005, 'num_layers': 2, 'emb_dim': 128, 'weight_decay': 1e-05, 'batch_size': 50}, Final Reconstruction Loss: 0.0115\n",
      "Parameters: {'lat_dim': 7, 'hidden_size': 150, 'lr': 0.0001, 'num_layers': 1, 'emb_dim': 64, 'weight_decay': 1e-06, 'batch_size': 32}, Final Reconstruction Loss: 0.9141\n",
      "Parameters: {'lat_dim': 7, 'hidden_size': 150, 'lr': 0.0001, 'num_layers': 1, 'emb_dim': 64, 'weight_decay': 1e-06, 'batch_size': 50}, Final Reconstruction Loss: 0.8228\n",
      "Parameters: {'lat_dim': 7, 'hidden_size': 150, 'lr': 0.0001, 'num_layers': 1, 'emb_dim': 64, 'weight_decay': 1e-05, 'batch_size': 32}, Final Reconstruction Loss: 0.9305\n",
      "Parameters: {'lat_dim': 7, 'hidden_size': 150, 'lr': 0.0001, 'num_layers': 1, 'emb_dim': 64, 'weight_decay': 1e-05, 'batch_size': 50}, Final Reconstruction Loss: 0.9414\n",
      "Parameters: {'lat_dim': 7, 'hidden_size': 150, 'lr': 0.0001, 'num_layers': 1, 'emb_dim': 128, 'weight_decay': 1e-06, 'batch_size': 32}, Final Reconstruction Loss: 0.8933\n",
      "Parameters: {'lat_dim': 7, 'hidden_size': 150, 'lr': 0.0001, 'num_layers': 1, 'emb_dim': 128, 'weight_decay': 1e-06, 'batch_size': 50}, Final Reconstruction Loss: 0.5429\n",
      "Parameters: {'lat_dim': 7, 'hidden_size': 150, 'lr': 0.0001, 'num_layers': 1, 'emb_dim': 128, 'weight_decay': 1e-05, 'batch_size': 32}, Final Reconstruction Loss: 0.3320\n",
      "Parameters: {'lat_dim': 7, 'hidden_size': 150, 'lr': 0.0001, 'num_layers': 1, 'emb_dim': 128, 'weight_decay': 1e-05, 'batch_size': 50}, Final Reconstruction Loss: 0.7035\n",
      "Parameters: {'lat_dim': 7, 'hidden_size': 150, 'lr': 0.0001, 'num_layers': 2, 'emb_dim': 64, 'weight_decay': 1e-06, 'batch_size': 32}, Final Reconstruction Loss: 1.0188\n",
      "Parameters: {'lat_dim': 7, 'hidden_size': 150, 'lr': 0.0001, 'num_layers': 2, 'emb_dim': 64, 'weight_decay': 1e-06, 'batch_size': 50}, Final Reconstruction Loss: 0.9719\n",
      "Parameters: {'lat_dim': 7, 'hidden_size': 150, 'lr': 0.0001, 'num_layers': 2, 'emb_dim': 64, 'weight_decay': 1e-05, 'batch_size': 32}, Final Reconstruction Loss: 1.0939\n",
      "Parameters: {'lat_dim': 7, 'hidden_size': 150, 'lr': 0.0001, 'num_layers': 2, 'emb_dim': 64, 'weight_decay': 1e-05, 'batch_size': 50}, Final Reconstruction Loss: 0.7282\n",
      "Parameters: {'lat_dim': 7, 'hidden_size': 150, 'lr': 0.0001, 'num_layers': 2, 'emb_dim': 128, 'weight_decay': 1e-06, 'batch_size': 32}, Final Reconstruction Loss: 0.6997\n",
      "Parameters: {'lat_dim': 7, 'hidden_size': 150, 'lr': 0.0001, 'num_layers': 2, 'emb_dim': 128, 'weight_decay': 1e-06, 'batch_size': 50}, Final Reconstruction Loss: 0.6077\n",
      "Parameters: {'lat_dim': 7, 'hidden_size': 150, 'lr': 0.0001, 'num_layers': 2, 'emb_dim': 128, 'weight_decay': 1e-05, 'batch_size': 32}, Final Reconstruction Loss: 0.9162\n",
      "Parameters: {'lat_dim': 7, 'hidden_size': 150, 'lr': 0.0001, 'num_layers': 2, 'emb_dim': 128, 'weight_decay': 1e-05, 'batch_size': 50}, Final Reconstruction Loss: 0.8534\n",
      "Parameters: {'lat_dim': 7, 'hidden_size': 150, 'lr': 0.0005, 'num_layers': 1, 'emb_dim': 64, 'weight_decay': 1e-06, 'batch_size': 32}, Final Reconstruction Loss: 0.0159\n",
      "Parameters: {'lat_dim': 7, 'hidden_size': 150, 'lr': 0.0005, 'num_layers': 1, 'emb_dim': 64, 'weight_decay': 1e-06, 'batch_size': 50}, Final Reconstruction Loss: 0.0127\n",
      "Parameters: {'lat_dim': 7, 'hidden_size': 150, 'lr': 0.0005, 'num_layers': 1, 'emb_dim': 64, 'weight_decay': 1e-05, 'batch_size': 32}, Final Reconstruction Loss: 0.0162\n",
      "Parameters: {'lat_dim': 7, 'hidden_size': 150, 'lr': 0.0005, 'num_layers': 1, 'emb_dim': 64, 'weight_decay': 1e-05, 'batch_size': 50}, Final Reconstruction Loss: 0.0119\n",
      "Parameters: {'lat_dim': 7, 'hidden_size': 150, 'lr': 0.0005, 'num_layers': 1, 'emb_dim': 128, 'weight_decay': 1e-06, 'batch_size': 32}, Final Reconstruction Loss: 0.0117\n",
      "Parameters: {'lat_dim': 7, 'hidden_size': 150, 'lr': 0.0005, 'num_layers': 1, 'emb_dim': 128, 'weight_decay': 1e-06, 'batch_size': 50}, Final Reconstruction Loss: 0.0098\n",
      "Parameters: {'lat_dim': 7, 'hidden_size': 150, 'lr': 0.0005, 'num_layers': 1, 'emb_dim': 128, 'weight_decay': 1e-05, 'batch_size': 32}, Final Reconstruction Loss: 0.0122\n",
      "Parameters: {'lat_dim': 7, 'hidden_size': 150, 'lr': 0.0005, 'num_layers': 1, 'emb_dim': 128, 'weight_decay': 1e-05, 'batch_size': 50}, Final Reconstruction Loss: 0.0068\n",
      "Parameters: {'lat_dim': 7, 'hidden_size': 150, 'lr': 0.0005, 'num_layers': 2, 'emb_dim': 64, 'weight_decay': 1e-06, 'batch_size': 32}, Final Reconstruction Loss: 0.0131\n",
      "Parameters: {'lat_dim': 7, 'hidden_size': 150, 'lr': 0.0005, 'num_layers': 2, 'emb_dim': 64, 'weight_decay': 1e-06, 'batch_size': 50}, Final Reconstruction Loss: 0.0135\n",
      "Parameters: {'lat_dim': 7, 'hidden_size': 150, 'lr': 0.0005, 'num_layers': 2, 'emb_dim': 64, 'weight_decay': 1e-05, 'batch_size': 32}, Final Reconstruction Loss: 0.0344\n",
      "Parameters: {'lat_dim': 7, 'hidden_size': 150, 'lr': 0.0005, 'num_layers': 2, 'emb_dim': 64, 'weight_decay': 1e-05, 'batch_size': 50}, Final Reconstruction Loss: 0.0175\n",
      "Parameters: {'lat_dim': 7, 'hidden_size': 150, 'lr': 0.0005, 'num_layers': 2, 'emb_dim': 128, 'weight_decay': 1e-06, 'batch_size': 32}, Final Reconstruction Loss: 0.0141\n",
      "Parameters: {'lat_dim': 7, 'hidden_size': 150, 'lr': 0.0005, 'num_layers': 2, 'emb_dim': 128, 'weight_decay': 1e-06, 'batch_size': 50}, Final Reconstruction Loss: 0.0145\n",
      "Parameters: {'lat_dim': 7, 'hidden_size': 150, 'lr': 0.0005, 'num_layers': 2, 'emb_dim': 128, 'weight_decay': 1e-05, 'batch_size': 32}, Final Reconstruction Loss: 0.0149\n",
      "Parameters: {'lat_dim': 7, 'hidden_size': 150, 'lr': 0.0005, 'num_layers': 2, 'emb_dim': 128, 'weight_decay': 1e-05, 'batch_size': 50}, Final Reconstruction Loss: 0.0111\n",
      "Parameters: {'lat_dim': 7, 'hidden_size': 200, 'lr': 0.0001, 'num_layers': 1, 'emb_dim': 64, 'weight_decay': 1e-06, 'batch_size': 32}, Final Reconstruction Loss: 0.6040\n",
      "Parameters: {'lat_dim': 7, 'hidden_size': 200, 'lr': 0.0001, 'num_layers': 1, 'emb_dim': 64, 'weight_decay': 1e-06, 'batch_size': 50}, Final Reconstruction Loss: 0.6106\n",
      "Parameters: {'lat_dim': 7, 'hidden_size': 200, 'lr': 0.0001, 'num_layers': 1, 'emb_dim': 64, 'weight_decay': 1e-05, 'batch_size': 32}, Final Reconstruction Loss: 0.6589\n",
      "Parameters: {'lat_dim': 7, 'hidden_size': 200, 'lr': 0.0001, 'num_layers': 1, 'emb_dim': 64, 'weight_decay': 1e-05, 'batch_size': 50}, Final Reconstruction Loss: 0.3188\n",
      "Parameters: {'lat_dim': 7, 'hidden_size': 200, 'lr': 0.0001, 'num_layers': 1, 'emb_dim': 128, 'weight_decay': 1e-06, 'batch_size': 32}, Final Reconstruction Loss: 0.3816\n",
      "Parameters: {'lat_dim': 7, 'hidden_size': 200, 'lr': 0.0001, 'num_layers': 1, 'emb_dim': 128, 'weight_decay': 1e-06, 'batch_size': 50}, Final Reconstruction Loss: 0.0748\n",
      "Parameters: {'lat_dim': 7, 'hidden_size': 200, 'lr': 0.0001, 'num_layers': 1, 'emb_dim': 128, 'weight_decay': 1e-05, 'batch_size': 32}, Final Reconstruction Loss: 0.3866\n",
      "Parameters: {'lat_dim': 7, 'hidden_size': 200, 'lr': 0.0001, 'num_layers': 1, 'emb_dim': 128, 'weight_decay': 1e-05, 'batch_size': 50}, Final Reconstruction Loss: 0.2424\n",
      "Parameters: {'lat_dim': 7, 'hidden_size': 200, 'lr': 0.0001, 'num_layers': 2, 'emb_dim': 64, 'weight_decay': 1e-06, 'batch_size': 32}, Final Reconstruction Loss: 0.5607\n",
      "Parameters: {'lat_dim': 7, 'hidden_size': 200, 'lr': 0.0001, 'num_layers': 2, 'emb_dim': 64, 'weight_decay': 1e-06, 'batch_size': 50}, Final Reconstruction Loss: 0.5894\n",
      "Parameters: {'lat_dim': 7, 'hidden_size': 200, 'lr': 0.0001, 'num_layers': 2, 'emb_dim': 64, 'weight_decay': 1e-05, 'batch_size': 32}, Final Reconstruction Loss: 0.7290\n",
      "Parameters: {'lat_dim': 7, 'hidden_size': 200, 'lr': 0.0001, 'num_layers': 2, 'emb_dim': 64, 'weight_decay': 1e-05, 'batch_size': 50}, Final Reconstruction Loss: 0.8860\n",
      "Parameters: {'lat_dim': 7, 'hidden_size': 200, 'lr': 0.0001, 'num_layers': 2, 'emb_dim': 128, 'weight_decay': 1e-06, 'batch_size': 32}, Final Reconstruction Loss: 0.4825\n",
      "Parameters: {'lat_dim': 7, 'hidden_size': 200, 'lr': 0.0001, 'num_layers': 2, 'emb_dim': 128, 'weight_decay': 1e-06, 'batch_size': 50}, Final Reconstruction Loss: 0.4048\n",
      "Parameters: {'lat_dim': 7, 'hidden_size': 200, 'lr': 0.0001, 'num_layers': 2, 'emb_dim': 128, 'weight_decay': 1e-05, 'batch_size': 32}, Final Reconstruction Loss: 0.1245\n",
      "Parameters: {'lat_dim': 7, 'hidden_size': 200, 'lr': 0.0001, 'num_layers': 2, 'emb_dim': 128, 'weight_decay': 1e-05, 'batch_size': 50}, Final Reconstruction Loss: 0.4206\n",
      "Parameters: {'lat_dim': 7, 'hidden_size': 200, 'lr': 0.0005, 'num_layers': 1, 'emb_dim': 64, 'weight_decay': 1e-06, 'batch_size': 32}, Final Reconstruction Loss: 0.0149\n",
      "Parameters: {'lat_dim': 7, 'hidden_size': 200, 'lr': 0.0005, 'num_layers': 1, 'emb_dim': 64, 'weight_decay': 1e-06, 'batch_size': 50}, Final Reconstruction Loss: 0.0101\n",
      "Parameters: {'lat_dim': 7, 'hidden_size': 200, 'lr': 0.0005, 'num_layers': 1, 'emb_dim': 64, 'weight_decay': 1e-05, 'batch_size': 32}, Final Reconstruction Loss: 0.0147\n",
      "Parameters: {'lat_dim': 7, 'hidden_size': 200, 'lr': 0.0005, 'num_layers': 1, 'emb_dim': 64, 'weight_decay': 1e-05, 'batch_size': 50}, Final Reconstruction Loss: 0.0104\n",
      "Parameters: {'lat_dim': 7, 'hidden_size': 200, 'lr': 0.0005, 'num_layers': 1, 'emb_dim': 128, 'weight_decay': 1e-06, 'batch_size': 32}, Final Reconstruction Loss: 0.0170\n",
      "Parameters: {'lat_dim': 7, 'hidden_size': 200, 'lr': 0.0005, 'num_layers': 1, 'emb_dim': 128, 'weight_decay': 1e-06, 'batch_size': 50}, Final Reconstruction Loss: 0.0113\n",
      "Parameters: {'lat_dim': 7, 'hidden_size': 200, 'lr': 0.0005, 'num_layers': 1, 'emb_dim': 128, 'weight_decay': 1e-05, 'batch_size': 32}, Final Reconstruction Loss: 0.0111\n",
      "Parameters: {'lat_dim': 7, 'hidden_size': 200, 'lr': 0.0005, 'num_layers': 1, 'emb_dim': 128, 'weight_decay': 1e-05, 'batch_size': 50}, Final Reconstruction Loss: 0.0070\n",
      "Parameters: {'lat_dim': 7, 'hidden_size': 200, 'lr': 0.0005, 'num_layers': 2, 'emb_dim': 64, 'weight_decay': 1e-06, 'batch_size': 32}, Final Reconstruction Loss: 0.0119\n",
      "Parameters: {'lat_dim': 7, 'hidden_size': 200, 'lr': 0.0005, 'num_layers': 2, 'emb_dim': 64, 'weight_decay': 1e-06, 'batch_size': 50}, Final Reconstruction Loss: 0.0128\n",
      "Parameters: {'lat_dim': 7, 'hidden_size': 200, 'lr': 0.0005, 'num_layers': 2, 'emb_dim': 64, 'weight_decay': 1e-05, 'batch_size': 32}, Final Reconstruction Loss: 0.0149\n",
      "Parameters: {'lat_dim': 7, 'hidden_size': 200, 'lr': 0.0005, 'num_layers': 2, 'emb_dim': 64, 'weight_decay': 1e-05, 'batch_size': 50}, Final Reconstruction Loss: 0.0146\n",
      "Parameters: {'lat_dim': 7, 'hidden_size': 200, 'lr': 0.0005, 'num_layers': 2, 'emb_dim': 128, 'weight_decay': 1e-06, 'batch_size': 32}, Final Reconstruction Loss: 0.0109\n",
      "Parameters: {'lat_dim': 7, 'hidden_size': 200, 'lr': 0.0005, 'num_layers': 2, 'emb_dim': 128, 'weight_decay': 1e-06, 'batch_size': 50}, Final Reconstruction Loss: 0.0097\n",
      "Parameters: {'lat_dim': 7, 'hidden_size': 200, 'lr': 0.0005, 'num_layers': 2, 'emb_dim': 128, 'weight_decay': 1e-05, 'batch_size': 32}, Final Reconstruction Loss: 0.0092\n",
      "Parameters: {'lat_dim': 7, 'hidden_size': 200, 'lr': 0.0005, 'num_layers': 2, 'emb_dim': 128, 'weight_decay': 1e-05, 'batch_size': 50}, Final Reconstruction Loss: 0.0124\n",
      "Parameters: {'lat_dim': 7, 'hidden_size': 250, 'lr': 0.0001, 'num_layers': 1, 'emb_dim': 64, 'weight_decay': 1e-06, 'batch_size': 32}, Final Reconstruction Loss: 0.6221\n",
      "Parameters: {'lat_dim': 7, 'hidden_size': 250, 'lr': 0.0001, 'num_layers': 1, 'emb_dim': 64, 'weight_decay': 1e-06, 'batch_size': 50}, Final Reconstruction Loss: 0.5121\n",
      "Parameters: {'lat_dim': 7, 'hidden_size': 250, 'lr': 0.0001, 'num_layers': 1, 'emb_dim': 64, 'weight_decay': 1e-05, 'batch_size': 32}, Final Reconstruction Loss: 0.6275\n",
      "Parameters: {'lat_dim': 7, 'hidden_size': 250, 'lr': 0.0001, 'num_layers': 1, 'emb_dim': 64, 'weight_decay': 1e-05, 'batch_size': 50}, Final Reconstruction Loss: 0.4253\n",
      "Parameters: {'lat_dim': 7, 'hidden_size': 250, 'lr': 0.0001, 'num_layers': 1, 'emb_dim': 128, 'weight_decay': 1e-06, 'batch_size': 32}, Final Reconstruction Loss: 0.1412\n",
      "Parameters: {'lat_dim': 7, 'hidden_size': 250, 'lr': 0.0001, 'num_layers': 1, 'emb_dim': 128, 'weight_decay': 1e-06, 'batch_size': 50}, Final Reconstruction Loss: 0.2991\n",
      "Parameters: {'lat_dim': 7, 'hidden_size': 250, 'lr': 0.0001, 'num_layers': 1, 'emb_dim': 128, 'weight_decay': 1e-05, 'batch_size': 32}, Final Reconstruction Loss: 0.1763\n",
      "Parameters: {'lat_dim': 7, 'hidden_size': 250, 'lr': 0.0001, 'num_layers': 1, 'emb_dim': 128, 'weight_decay': 1e-05, 'batch_size': 50}, Final Reconstruction Loss: 0.2545\n",
      "Parameters: {'lat_dim': 7, 'hidden_size': 250, 'lr': 0.0001, 'num_layers': 2, 'emb_dim': 64, 'weight_decay': 1e-06, 'batch_size': 32}, Final Reconstruction Loss: 0.4821\n",
      "Parameters: {'lat_dim': 7, 'hidden_size': 250, 'lr': 0.0001, 'num_layers': 2, 'emb_dim': 64, 'weight_decay': 1e-06, 'batch_size': 50}, Final Reconstruction Loss: 0.3751\n",
      "Parameters: {'lat_dim': 7, 'hidden_size': 250, 'lr': 0.0001, 'num_layers': 2, 'emb_dim': 64, 'weight_decay': 1e-05, 'batch_size': 32}, Final Reconstruction Loss: 0.4863\n",
      "Parameters: {'lat_dim': 7, 'hidden_size': 250, 'lr': 0.0001, 'num_layers': 2, 'emb_dim': 64, 'weight_decay': 1e-05, 'batch_size': 50}, Final Reconstruction Loss: 0.3563\n",
      "Parameters: {'lat_dim': 7, 'hidden_size': 250, 'lr': 0.0001, 'num_layers': 2, 'emb_dim': 128, 'weight_decay': 1e-06, 'batch_size': 32}, Final Reconstruction Loss: 0.3631\n",
      "Parameters: {'lat_dim': 7, 'hidden_size': 250, 'lr': 0.0001, 'num_layers': 2, 'emb_dim': 128, 'weight_decay': 1e-06, 'batch_size': 50}, Final Reconstruction Loss: 0.3191\n",
      "Parameters: {'lat_dim': 7, 'hidden_size': 250, 'lr': 0.0001, 'num_layers': 2, 'emb_dim': 128, 'weight_decay': 1e-05, 'batch_size': 32}, Final Reconstruction Loss: 0.4467\n",
      "Parameters: {'lat_dim': 7, 'hidden_size': 250, 'lr': 0.0001, 'num_layers': 2, 'emb_dim': 128, 'weight_decay': 1e-05, 'batch_size': 50}, Final Reconstruction Loss: 0.1632\n",
      "Parameters: {'lat_dim': 7, 'hidden_size': 250, 'lr': 0.0005, 'num_layers': 1, 'emb_dim': 64, 'weight_decay': 1e-06, 'batch_size': 32}, Final Reconstruction Loss: 0.0133\n",
      "Parameters: {'lat_dim': 7, 'hidden_size': 250, 'lr': 0.0005, 'num_layers': 1, 'emb_dim': 64, 'weight_decay': 1e-06, 'batch_size': 50}, Final Reconstruction Loss: 0.0116\n",
      "Parameters: {'lat_dim': 7, 'hidden_size': 250, 'lr': 0.0005, 'num_layers': 1, 'emb_dim': 64, 'weight_decay': 1e-05, 'batch_size': 32}, Final Reconstruction Loss: 0.0094\n",
      "Parameters: {'lat_dim': 7, 'hidden_size': 250, 'lr': 0.0005, 'num_layers': 1, 'emb_dim': 64, 'weight_decay': 1e-05, 'batch_size': 50}, Final Reconstruction Loss: 0.0102\n",
      "Parameters: {'lat_dim': 7, 'hidden_size': 250, 'lr': 0.0005, 'num_layers': 1, 'emb_dim': 128, 'weight_decay': 1e-06, 'batch_size': 32}, Final Reconstruction Loss: 0.0066\n",
      "Parameters: {'lat_dim': 7, 'hidden_size': 250, 'lr': 0.0005, 'num_layers': 1, 'emb_dim': 128, 'weight_decay': 1e-06, 'batch_size': 50}, Final Reconstruction Loss: 0.0049\n",
      "Parameters: {'lat_dim': 7, 'hidden_size': 250, 'lr': 0.0005, 'num_layers': 1, 'emb_dim': 128, 'weight_decay': 1e-05, 'batch_size': 32}, Final Reconstruction Loss: 0.0110\n",
      "Parameters: {'lat_dim': 7, 'hidden_size': 250, 'lr': 0.0005, 'num_layers': 1, 'emb_dim': 128, 'weight_decay': 1e-05, 'batch_size': 50}, Final Reconstruction Loss: 0.0035\n",
      "Parameters: {'lat_dim': 7, 'hidden_size': 250, 'lr': 0.0005, 'num_layers': 2, 'emb_dim': 64, 'weight_decay': 1e-06, 'batch_size': 32}, Final Reconstruction Loss: 0.0113\n",
      "Parameters: {'lat_dim': 7, 'hidden_size': 250, 'lr': 0.0005, 'num_layers': 2, 'emb_dim': 64, 'weight_decay': 1e-06, 'batch_size': 50}, Final Reconstruction Loss: 0.0109\n",
      "Parameters: {'lat_dim': 7, 'hidden_size': 250, 'lr': 0.0005, 'num_layers': 2, 'emb_dim': 64, 'weight_decay': 1e-05, 'batch_size': 32}, Final Reconstruction Loss: 0.0093\n",
      "Parameters: {'lat_dim': 7, 'hidden_size': 250, 'lr': 0.0005, 'num_layers': 2, 'emb_dim': 64, 'weight_decay': 1e-05, 'batch_size': 50}, Final Reconstruction Loss: 0.0104\n",
      "Parameters: {'lat_dim': 7, 'hidden_size': 250, 'lr': 0.0005, 'num_layers': 2, 'emb_dim': 128, 'weight_decay': 1e-06, 'batch_size': 32}, Final Reconstruction Loss: 0.0109\n",
      "Parameters: {'lat_dim': 7, 'hidden_size': 250, 'lr': 0.0005, 'num_layers': 2, 'emb_dim': 128, 'weight_decay': 1e-06, 'batch_size': 50}, Final Reconstruction Loss: 0.0129\n",
      "Parameters: {'lat_dim': 7, 'hidden_size': 250, 'lr': 0.0005, 'num_layers': 2, 'emb_dim': 128, 'weight_decay': 1e-05, 'batch_size': 32}, Final Reconstruction Loss: 0.0108\n",
      "Parameters: {'lat_dim': 7, 'hidden_size': 250, 'lr': 0.0005, 'num_layers': 2, 'emb_dim': 128, 'weight_decay': 1e-05, 'batch_size': 50}, Final Reconstruction Loss: 0.0095\n",
      "Parameters: {'lat_dim': 10, 'hidden_size': 150, 'lr': 0.0001, 'num_layers': 1, 'emb_dim': 64, 'weight_decay': 1e-06, 'batch_size': 32}, Final Reconstruction Loss: 0.9491\n",
      "Parameters: {'lat_dim': 10, 'hidden_size': 150, 'lr': 0.0001, 'num_layers': 1, 'emb_dim': 64, 'weight_decay': 1e-06, 'batch_size': 50}, Final Reconstruction Loss: 0.6171\n",
      "Parameters: {'lat_dim': 10, 'hidden_size': 150, 'lr': 0.0001, 'num_layers': 1, 'emb_dim': 64, 'weight_decay': 1e-05, 'batch_size': 32}, Final Reconstruction Loss: 0.6538\n",
      "Parameters: {'lat_dim': 10, 'hidden_size': 150, 'lr': 0.0001, 'num_layers': 1, 'emb_dim': 64, 'weight_decay': 1e-05, 'batch_size': 50}, Final Reconstruction Loss: 0.7423\n",
      "Parameters: {'lat_dim': 10, 'hidden_size': 150, 'lr': 0.0001, 'num_layers': 1, 'emb_dim': 128, 'weight_decay': 1e-06, 'batch_size': 32}, Final Reconstruction Loss: 0.2434\n",
      "Parameters: {'lat_dim': 10, 'hidden_size': 150, 'lr': 0.0001, 'num_layers': 1, 'emb_dim': 128, 'weight_decay': 1e-06, 'batch_size': 50}, Final Reconstruction Loss: 0.3323\n",
      "Parameters: {'lat_dim': 10, 'hidden_size': 150, 'lr': 0.0001, 'num_layers': 1, 'emb_dim': 128, 'weight_decay': 1e-05, 'batch_size': 32}, Final Reconstruction Loss: 0.3903\n",
      "Parameters: {'lat_dim': 10, 'hidden_size': 150, 'lr': 0.0001, 'num_layers': 1, 'emb_dim': 128, 'weight_decay': 1e-05, 'batch_size': 50}, Final Reconstruction Loss: 0.8156\n",
      "Parameters: {'lat_dim': 10, 'hidden_size': 150, 'lr': 0.0001, 'num_layers': 2, 'emb_dim': 64, 'weight_decay': 1e-06, 'batch_size': 32}, Final Reconstruction Loss: 1.0370\n",
      "Parameters: {'lat_dim': 10, 'hidden_size': 150, 'lr': 0.0001, 'num_layers': 2, 'emb_dim': 64, 'weight_decay': 1e-06, 'batch_size': 50}, Final Reconstruction Loss: 0.5204\n",
      "Parameters: {'lat_dim': 10, 'hidden_size': 150, 'lr': 0.0001, 'num_layers': 2, 'emb_dim': 64, 'weight_decay': 1e-05, 'batch_size': 32}, Final Reconstruction Loss: 0.9897\n",
      "Parameters: {'lat_dim': 10, 'hidden_size': 150, 'lr': 0.0001, 'num_layers': 2, 'emb_dim': 64, 'weight_decay': 1e-05, 'batch_size': 50}, Final Reconstruction Loss: 0.7961\n",
      "Parameters: {'lat_dim': 10, 'hidden_size': 150, 'lr': 0.0001, 'num_layers': 2, 'emb_dim': 128, 'weight_decay': 1e-06, 'batch_size': 32}, Final Reconstruction Loss: 1.0231\n",
      "Parameters: {'lat_dim': 10, 'hidden_size': 150, 'lr': 0.0001, 'num_layers': 2, 'emb_dim': 128, 'weight_decay': 1e-06, 'batch_size': 50}, Final Reconstruction Loss: 0.8273\n",
      "Parameters: {'lat_dim': 10, 'hidden_size': 150, 'lr': 0.0001, 'num_layers': 2, 'emb_dim': 128, 'weight_decay': 1e-05, 'batch_size': 32}, Final Reconstruction Loss: 0.7351\n",
      "Parameters: {'lat_dim': 10, 'hidden_size': 150, 'lr': 0.0001, 'num_layers': 2, 'emb_dim': 128, 'weight_decay': 1e-05, 'batch_size': 50}, Final Reconstruction Loss: 0.6754\n",
      "Parameters: {'lat_dim': 10, 'hidden_size': 150, 'lr': 0.0005, 'num_layers': 1, 'emb_dim': 64, 'weight_decay': 1e-06, 'batch_size': 32}, Final Reconstruction Loss: 0.0119\n",
      "Parameters: {'lat_dim': 10, 'hidden_size': 150, 'lr': 0.0005, 'num_layers': 1, 'emb_dim': 64, 'weight_decay': 1e-06, 'batch_size': 50}, Final Reconstruction Loss: 0.0113\n",
      "Parameters: {'lat_dim': 10, 'hidden_size': 150, 'lr': 0.0005, 'num_layers': 1, 'emb_dim': 64, 'weight_decay': 1e-05, 'batch_size': 32}, Final Reconstruction Loss: 0.0164\n",
      "Parameters: {'lat_dim': 10, 'hidden_size': 150, 'lr': 0.0005, 'num_layers': 1, 'emb_dim': 64, 'weight_decay': 1e-05, 'batch_size': 50}, Final Reconstruction Loss: 0.0115\n",
      "Parameters: {'lat_dim': 10, 'hidden_size': 150, 'lr': 0.0005, 'num_layers': 1, 'emb_dim': 128, 'weight_decay': 1e-06, 'batch_size': 32}, Final Reconstruction Loss: 0.0108\n",
      "Parameters: {'lat_dim': 10, 'hidden_size': 150, 'lr': 0.0005, 'num_layers': 1, 'emb_dim': 128, 'weight_decay': 1e-06, 'batch_size': 50}, Final Reconstruction Loss: 0.0102\n",
      "Parameters: {'lat_dim': 10, 'hidden_size': 150, 'lr': 0.0005, 'num_layers': 1, 'emb_dim': 128, 'weight_decay': 1e-05, 'batch_size': 32}, Final Reconstruction Loss: 0.0115\n",
      "Parameters: {'lat_dim': 10, 'hidden_size': 150, 'lr': 0.0005, 'num_layers': 1, 'emb_dim': 128, 'weight_decay': 1e-05, 'batch_size': 50}, Final Reconstruction Loss: 0.0087\n",
      "Parameters: {'lat_dim': 10, 'hidden_size': 150, 'lr': 0.0005, 'num_layers': 2, 'emb_dim': 64, 'weight_decay': 1e-06, 'batch_size': 32}, Final Reconstruction Loss: 0.0324\n",
      "Parameters: {'lat_dim': 10, 'hidden_size': 150, 'lr': 0.0005, 'num_layers': 2, 'emb_dim': 64, 'weight_decay': 1e-06, 'batch_size': 50}, Final Reconstruction Loss: 0.0251\n",
      "Parameters: {'lat_dim': 10, 'hidden_size': 150, 'lr': 0.0005, 'num_layers': 2, 'emb_dim': 64, 'weight_decay': 1e-05, 'batch_size': 32}, Final Reconstruction Loss: 0.0192\n",
      "Parameters: {'lat_dim': 10, 'hidden_size': 150, 'lr': 0.0005, 'num_layers': 2, 'emb_dim': 64, 'weight_decay': 1e-05, 'batch_size': 50}, Final Reconstruction Loss: 0.0125\n",
      "Parameters: {'lat_dim': 10, 'hidden_size': 150, 'lr': 0.0005, 'num_layers': 2, 'emb_dim': 128, 'weight_decay': 1e-06, 'batch_size': 32}, Final Reconstruction Loss: 0.0176\n",
      "Parameters: {'lat_dim': 10, 'hidden_size': 150, 'lr': 0.0005, 'num_layers': 2, 'emb_dim': 128, 'weight_decay': 1e-06, 'batch_size': 50}, Final Reconstruction Loss: 0.0102\n",
      "Parameters: {'lat_dim': 10, 'hidden_size': 150, 'lr': 0.0005, 'num_layers': 2, 'emb_dim': 128, 'weight_decay': 1e-05, 'batch_size': 32}, Final Reconstruction Loss: 0.0143\n",
      "Parameters: {'lat_dim': 10, 'hidden_size': 150, 'lr': 0.0005, 'num_layers': 2, 'emb_dim': 128, 'weight_decay': 1e-05, 'batch_size': 50}, Final Reconstruction Loss: 0.1439\n",
      "Parameters: {'lat_dim': 10, 'hidden_size': 200, 'lr': 0.0001, 'num_layers': 1, 'emb_dim': 64, 'weight_decay': 1e-06, 'batch_size': 32}, Final Reconstruction Loss: 0.6048\n",
      "Parameters: {'lat_dim': 10, 'hidden_size': 200, 'lr': 0.0001, 'num_layers': 1, 'emb_dim': 64, 'weight_decay': 1e-06, 'batch_size': 50}, Final Reconstruction Loss: 0.7419\n",
      "Parameters: {'lat_dim': 10, 'hidden_size': 200, 'lr': 0.0001, 'num_layers': 1, 'emb_dim': 64, 'weight_decay': 1e-05, 'batch_size': 32}, Final Reconstruction Loss: 0.5934\n",
      "Parameters: {'lat_dim': 10, 'hidden_size': 200, 'lr': 0.0001, 'num_layers': 1, 'emb_dim': 64, 'weight_decay': 1e-05, 'batch_size': 50}, Final Reconstruction Loss: 0.6007\n",
      "Parameters: {'lat_dim': 10, 'hidden_size': 200, 'lr': 0.0001, 'num_layers': 1, 'emb_dim': 128, 'weight_decay': 1e-06, 'batch_size': 32}, Final Reconstruction Loss: 0.3924\n",
      "Parameters: {'lat_dim': 10, 'hidden_size': 200, 'lr': 0.0001, 'num_layers': 1, 'emb_dim': 128, 'weight_decay': 1e-06, 'batch_size': 50}, Final Reconstruction Loss: 0.0510\n",
      "Parameters: {'lat_dim': 10, 'hidden_size': 200, 'lr': 0.0001, 'num_layers': 1, 'emb_dim': 128, 'weight_decay': 1e-05, 'batch_size': 32}, Final Reconstruction Loss: 0.5334\n",
      "Parameters: {'lat_dim': 10, 'hidden_size': 200, 'lr': 0.0001, 'num_layers': 1, 'emb_dim': 128, 'weight_decay': 1e-05, 'batch_size': 50}, Final Reconstruction Loss: 0.1784\n",
      "Parameters: {'lat_dim': 10, 'hidden_size': 200, 'lr': 0.0001, 'num_layers': 2, 'emb_dim': 64, 'weight_decay': 1e-06, 'batch_size': 32}, Final Reconstruction Loss: 0.7480\n",
      "Parameters: {'lat_dim': 10, 'hidden_size': 200, 'lr': 0.0001, 'num_layers': 2, 'emb_dim': 64, 'weight_decay': 1e-06, 'batch_size': 50}, Final Reconstruction Loss: 0.4632\n",
      "Parameters: {'lat_dim': 10, 'hidden_size': 200, 'lr': 0.0001, 'num_layers': 2, 'emb_dim': 64, 'weight_decay': 1e-05, 'batch_size': 32}, Final Reconstruction Loss: 0.6585\n",
      "Parameters: {'lat_dim': 10, 'hidden_size': 200, 'lr': 0.0001, 'num_layers': 2, 'emb_dim': 64, 'weight_decay': 1e-05, 'batch_size': 50}, Final Reconstruction Loss: 0.6251\n",
      "Parameters: {'lat_dim': 10, 'hidden_size': 200, 'lr': 0.0001, 'num_layers': 2, 'emb_dim': 128, 'weight_decay': 1e-06, 'batch_size': 32}, Final Reconstruction Loss: 0.5455\n",
      "Parameters: {'lat_dim': 10, 'hidden_size': 200, 'lr': 0.0001, 'num_layers': 2, 'emb_dim': 128, 'weight_decay': 1e-06, 'batch_size': 50}, Final Reconstruction Loss: 0.1788\n",
      "Parameters: {'lat_dim': 10, 'hidden_size': 200, 'lr': 0.0001, 'num_layers': 2, 'emb_dim': 128, 'weight_decay': 1e-05, 'batch_size': 32}, Final Reconstruction Loss: 0.6098\n",
      "Parameters: {'lat_dim': 10, 'hidden_size': 200, 'lr': 0.0001, 'num_layers': 2, 'emb_dim': 128, 'weight_decay': 1e-05, 'batch_size': 50}, Final Reconstruction Loss: 0.6460\n",
      "Parameters: {'lat_dim': 10, 'hidden_size': 200, 'lr': 0.0005, 'num_layers': 1, 'emb_dim': 64, 'weight_decay': 1e-06, 'batch_size': 32}, Final Reconstruction Loss: 0.0113\n",
      "Parameters: {'lat_dim': 10, 'hidden_size': 200, 'lr': 0.0005, 'num_layers': 1, 'emb_dim': 64, 'weight_decay': 1e-06, 'batch_size': 50}, Final Reconstruction Loss: 0.0110\n",
      "Parameters: {'lat_dim': 10, 'hidden_size': 200, 'lr': 0.0005, 'num_layers': 1, 'emb_dim': 64, 'weight_decay': 1e-05, 'batch_size': 32}, Final Reconstruction Loss: 0.0125\n",
      "Parameters: {'lat_dim': 10, 'hidden_size': 200, 'lr': 0.0005, 'num_layers': 1, 'emb_dim': 64, 'weight_decay': 1e-05, 'batch_size': 50}, Final Reconstruction Loss: 0.0155\n",
      "Parameters: {'lat_dim': 10, 'hidden_size': 200, 'lr': 0.0005, 'num_layers': 1, 'emb_dim': 128, 'weight_decay': 1e-06, 'batch_size': 32}, Final Reconstruction Loss: 0.0083\n",
      "Parameters: {'lat_dim': 10, 'hidden_size': 200, 'lr': 0.0005, 'num_layers': 1, 'emb_dim': 128, 'weight_decay': 1e-06, 'batch_size': 50}, Final Reconstruction Loss: 0.0075\n",
      "Parameters: {'lat_dim': 10, 'hidden_size': 200, 'lr': 0.0005, 'num_layers': 1, 'emb_dim': 128, 'weight_decay': 1e-05, 'batch_size': 32}, Final Reconstruction Loss: 0.0082\n",
      "Parameters: {'lat_dim': 10, 'hidden_size': 200, 'lr': 0.0005, 'num_layers': 1, 'emb_dim': 128, 'weight_decay': 1e-05, 'batch_size': 50}, Final Reconstruction Loss: 0.0088\n",
      "Parameters: {'lat_dim': 10, 'hidden_size': 200, 'lr': 0.0005, 'num_layers': 2, 'emb_dim': 64, 'weight_decay': 1e-06, 'batch_size': 32}, Final Reconstruction Loss: 0.0153\n",
      "Parameters: {'lat_dim': 10, 'hidden_size': 200, 'lr': 0.0005, 'num_layers': 2, 'emb_dim': 64, 'weight_decay': 1e-06, 'batch_size': 50}, Final Reconstruction Loss: 0.0106\n",
      "Parameters: {'lat_dim': 10, 'hidden_size': 200, 'lr': 0.0005, 'num_layers': 2, 'emb_dim': 64, 'weight_decay': 1e-05, 'batch_size': 32}, Final Reconstruction Loss: 0.0211\n",
      "Parameters: {'lat_dim': 10, 'hidden_size': 200, 'lr': 0.0005, 'num_layers': 2, 'emb_dim': 64, 'weight_decay': 1e-05, 'batch_size': 50}, Final Reconstruction Loss: 0.0159\n",
      "Parameters: {'lat_dim': 10, 'hidden_size': 200, 'lr': 0.0005, 'num_layers': 2, 'emb_dim': 128, 'weight_decay': 1e-06, 'batch_size': 32}, Final Reconstruction Loss: 0.0095\n",
      "Parameters: {'lat_dim': 10, 'hidden_size': 200, 'lr': 0.0005, 'num_layers': 2, 'emb_dim': 128, 'weight_decay': 1e-06, 'batch_size': 50}, Final Reconstruction Loss: 0.0106\n",
      "Parameters: {'lat_dim': 10, 'hidden_size': 200, 'lr': 0.0005, 'num_layers': 2, 'emb_dim': 128, 'weight_decay': 1e-05, 'batch_size': 32}, Final Reconstruction Loss: 0.0096\n",
      "Parameters: {'lat_dim': 10, 'hidden_size': 200, 'lr': 0.0005, 'num_layers': 2, 'emb_dim': 128, 'weight_decay': 1e-05, 'batch_size': 50}, Final Reconstruction Loss: 0.0120\n",
      "Parameters: {'lat_dim': 10, 'hidden_size': 250, 'lr': 0.0001, 'num_layers': 1, 'emb_dim': 64, 'weight_decay': 1e-06, 'batch_size': 32}, Final Reconstruction Loss: 0.5764\n",
      "Parameters: {'lat_dim': 10, 'hidden_size': 250, 'lr': 0.0001, 'num_layers': 1, 'emb_dim': 64, 'weight_decay': 1e-06, 'batch_size': 50}, Final Reconstruction Loss: 0.4191\n",
      "Parameters: {'lat_dim': 10, 'hidden_size': 250, 'lr': 0.0001, 'num_layers': 1, 'emb_dim': 64, 'weight_decay': 1e-05, 'batch_size': 32}, Final Reconstruction Loss: 0.4484\n",
      "Parameters: {'lat_dim': 10, 'hidden_size': 250, 'lr': 0.0001, 'num_layers': 1, 'emb_dim': 64, 'weight_decay': 1e-05, 'batch_size': 50}, Final Reconstruction Loss: 0.5219\n",
      "Parameters: {'lat_dim': 10, 'hidden_size': 250, 'lr': 0.0001, 'num_layers': 1, 'emb_dim': 128, 'weight_decay': 1e-06, 'batch_size': 32}, Final Reconstruction Loss: 0.0592\n",
      "Parameters: {'lat_dim': 10, 'hidden_size': 250, 'lr': 0.0001, 'num_layers': 1, 'emb_dim': 128, 'weight_decay': 1e-06, 'batch_size': 50}, Final Reconstruction Loss: 0.0638\n",
      "Parameters: {'lat_dim': 10, 'hidden_size': 250, 'lr': 0.0001, 'num_layers': 1, 'emb_dim': 128, 'weight_decay': 1e-05, 'batch_size': 32}, Final Reconstruction Loss: 0.1189\n",
      "Parameters: {'lat_dim': 10, 'hidden_size': 250, 'lr': 0.0001, 'num_layers': 1, 'emb_dim': 128, 'weight_decay': 1e-05, 'batch_size': 50}, Final Reconstruction Loss: 0.0882\n",
      "Parameters: {'lat_dim': 10, 'hidden_size': 250, 'lr': 0.0001, 'num_layers': 2, 'emb_dim': 64, 'weight_decay': 1e-06, 'batch_size': 32}, Final Reconstruction Loss: 0.2243\n",
      "Parameters: {'lat_dim': 10, 'hidden_size': 250, 'lr': 0.0001, 'num_layers': 2, 'emb_dim': 64, 'weight_decay': 1e-06, 'batch_size': 50}, Final Reconstruction Loss: 0.2007\n",
      "Parameters: {'lat_dim': 10, 'hidden_size': 250, 'lr': 0.0001, 'num_layers': 2, 'emb_dim': 64, 'weight_decay': 1e-05, 'batch_size': 32}, Final Reconstruction Loss: 0.5280\n",
      "Parameters: {'lat_dim': 10, 'hidden_size': 250, 'lr': 0.0001, 'num_layers': 2, 'emb_dim': 64, 'weight_decay': 1e-05, 'batch_size': 50}, Final Reconstruction Loss: 0.4553\n",
      "Parameters: {'lat_dim': 10, 'hidden_size': 250, 'lr': 0.0001, 'num_layers': 2, 'emb_dim': 128, 'weight_decay': 1e-06, 'batch_size': 32}, Final Reconstruction Loss: 0.3517\n",
      "Parameters: {'lat_dim': 10, 'hidden_size': 250, 'lr': 0.0001, 'num_layers': 2, 'emb_dim': 128, 'weight_decay': 1e-06, 'batch_size': 50}, Final Reconstruction Loss: 0.3011\n",
      "Parameters: {'lat_dim': 10, 'hidden_size': 250, 'lr': 0.0001, 'num_layers': 2, 'emb_dim': 128, 'weight_decay': 1e-05, 'batch_size': 32}, Final Reconstruction Loss: 0.3758\n",
      "Parameters: {'lat_dim': 10, 'hidden_size': 250, 'lr': 0.0001, 'num_layers': 2, 'emb_dim': 128, 'weight_decay': 1e-05, 'batch_size': 50}, Final Reconstruction Loss: 0.2150\n",
      "Parameters: {'lat_dim': 10, 'hidden_size': 250, 'lr': 0.0005, 'num_layers': 1, 'emb_dim': 64, 'weight_decay': 1e-06, 'batch_size': 32}, Final Reconstruction Loss: 0.0114\n",
      "Parameters: {'lat_dim': 10, 'hidden_size': 250, 'lr': 0.0005, 'num_layers': 1, 'emb_dim': 64, 'weight_decay': 1e-06, 'batch_size': 50}, Final Reconstruction Loss: 0.0078\n",
      "Parameters: {'lat_dim': 10, 'hidden_size': 250, 'lr': 0.0005, 'num_layers': 1, 'emb_dim': 64, 'weight_decay': 1e-05, 'batch_size': 32}, Final Reconstruction Loss: 0.0118\n",
      "Parameters: {'lat_dim': 10, 'hidden_size': 250, 'lr': 0.0005, 'num_layers': 1, 'emb_dim': 64, 'weight_decay': 1e-05, 'batch_size': 50}, Final Reconstruction Loss: 0.0116\n",
      "Parameters: {'lat_dim': 10, 'hidden_size': 250, 'lr': 0.0005, 'num_layers': 1, 'emb_dim': 128, 'weight_decay': 1e-06, 'batch_size': 32}, Final Reconstruction Loss: 0.0085\n",
      "Parameters: {'lat_dim': 10, 'hidden_size': 250, 'lr': 0.0005, 'num_layers': 1, 'emb_dim': 128, 'weight_decay': 1e-06, 'batch_size': 50}, Final Reconstruction Loss: 0.0042\n",
      "Parameters: {'lat_dim': 10, 'hidden_size': 250, 'lr': 0.0005, 'num_layers': 1, 'emb_dim': 128, 'weight_decay': 1e-05, 'batch_size': 32}, Final Reconstruction Loss: 0.0118\n",
      "Parameters: {'lat_dim': 10, 'hidden_size': 250, 'lr': 0.0005, 'num_layers': 1, 'emb_dim': 128, 'weight_decay': 1e-05, 'batch_size': 50}, Final Reconstruction Loss: 0.0083\n",
      "Parameters: {'lat_dim': 10, 'hidden_size': 250, 'lr': 0.0005, 'num_layers': 2, 'emb_dim': 64, 'weight_decay': 1e-06, 'batch_size': 32}, Final Reconstruction Loss: 0.0117\n",
      "Parameters: {'lat_dim': 10, 'hidden_size': 250, 'lr': 0.0005, 'num_layers': 2, 'emb_dim': 64, 'weight_decay': 1e-06, 'batch_size': 50}, Final Reconstruction Loss: 0.0094\n",
      "Parameters: {'lat_dim': 10, 'hidden_size': 250, 'lr': 0.0005, 'num_layers': 2, 'emb_dim': 64, 'weight_decay': 1e-05, 'batch_size': 32}, Final Reconstruction Loss: 0.0132\n",
      "Parameters: {'lat_dim': 10, 'hidden_size': 250, 'lr': 0.0005, 'num_layers': 2, 'emb_dim': 64, 'weight_decay': 1e-05, 'batch_size': 50}, Final Reconstruction Loss: 0.0118\n",
      "Parameters: {'lat_dim': 10, 'hidden_size': 250, 'lr': 0.0005, 'num_layers': 2, 'emb_dim': 128, 'weight_decay': 1e-06, 'batch_size': 32}, Final Reconstruction Loss: 0.0124\n",
      "Parameters: {'lat_dim': 10, 'hidden_size': 250, 'lr': 0.0005, 'num_layers': 2, 'emb_dim': 128, 'weight_decay': 1e-06, 'batch_size': 50}, Final Reconstruction Loss: 0.0101\n",
      "Parameters: {'lat_dim': 10, 'hidden_size': 250, 'lr': 0.0005, 'num_layers': 2, 'emb_dim': 128, 'weight_decay': 1e-05, 'batch_size': 32}, Final Reconstruction Loss: 0.0115\n",
      "Parameters: {'lat_dim': 10, 'hidden_size': 250, 'lr': 0.0005, 'num_layers': 2, 'emb_dim': 128, 'weight_decay': 1e-05, 'batch_size': 50}, Final Reconstruction Loss: 0.0122\n"
     ]
    }
   ],
   "source": [
    "# Hyperparameter search\n",
    "\n",
    "param_grid = {\n",
    "    'lat_dim': [5, 7, 10],\n",
    "    'hidden_size': [150, 200, 250],\n",
    "    'lr': [1e-4, 5e-4],\n",
    "    'num_layers': [1, 2],\n",
    "    'emb_dim': [64, 128],\n",
    "    'weight_decay': [1e-6, 1e-5],\n",
    "    'batch_size': [32, 50]}\n",
    "\n",
    "# Get all combinations of the parameter grid\n",
    "param_combinations = list(itertools.product(*param_grid.values()))\n",
    "param_names        = list(param_grid.keys())\n",
    "\n",
    "best_loss   = float('inf')\n",
    "best_params = None\n",
    "all_results = []\n",
    "\n",
    "# Loop through each parameter combination and run the training\n",
    "for i, combo in enumerate(param_combinations):\n",
    "    print(f\"\\n{'='*30} Running Trial {i+1}/{len(param_combinations)} {'='*30}\")\n",
    "\n",
    "    # Create a dictionary of the current parameter settings\n",
    "    current_params = dict(zip(param_names, combo))\n",
    "    params_str     = \", \".join([f\"{key}: {value}\" for key, value in current_params.items()])\n",
    "    print(f\"Current Parameter Combination: {params_str}\")\n",
    "\n",
    "    # Set the parameters for this run\n",
    "    n_epochs    = param.n_epochs\n",
    "    eps         = param.eps\n",
    "    channels    = param.channels # Assuming this is fixed\n",
    "    min_beta    = param.min_beta   # Assuming this is fixed\n",
    "    max_beta    = param.max_beta   # Assuming this is fixed\n",
    "    time_dim    = param.time_dim   # Assuming this is fixed\n",
    "    seq_col     = param.seq_col   # Assuming this is fixed\n",
    "\n",
    "    lat_dim     = current_params['lat_dim']\n",
    "    hidden_size = current_params['hidden_size']\n",
    "    lr          = current_params['lr']\n",
    "    num_layers  = current_params['num_layers']\n",
    "    emb_dim     = current_params['emb_dim']\n",
    "    weight_decay= current_params['weight_decay']\n",
    "    batch_size  = current_params['batch_size']\n",
    "\n",
    "    try:\n",
    "        ds = tae.train_autoencoder(real_df1, processed_data, channels, hidden_size, num_layers, lr, weight_decay, n_epochs,\n",
    "                                   batch_size, threshold, min_beta, max_beta, emb_dim, time_dim, lat_dim, device)\n",
    "        reconstruction_loss_history = ds[4]\n",
    "        final_reconstruction_loss = reconstruction_loss_history[-1] # Get the final loss\n",
    "\n",
    "        all_results.append({'params': current_params, 'final_reconstruction_loss': final_reconstruction_loss, 'all_losses': reconstruction_loss_history})\n",
    "        print(f\"Trial {i+1} finished. Final Reconstruction Loss: {final_reconstruction_loss:.4f}\")\n",
    "\n",
    "        if final_reconstruction_loss < best_loss:\n",
    "            best_loss = final_reconstruction_loss\n",
    "            best_params = current_params\n",
    "\n",
    "    except Exception as e:\n",
    "        print(f\"Error occurred during Trial {i+1}: {e}\")\n",
    "\n",
    "print(\"\\n{'='*50} Parameter tuning finished {'='*50}\")\n",
    "print(\"\\n{'='*50} Best Parameter Combination {'='*50}\")\n",
    "if best_params:\n",
    "    print(f\"Best Parameters: {best_params}\")\n",
    "    print(f\"Best Final Reconstruction Loss: {best_loss:.4f}\")\n",
    "else:\n",
    "    print(\"No successful trials to determine the best parameters.\")\n",
    "\n",
    "# Optional: Print the final loss for all trials\n",
    "print(\"\\n{'='*50} All Trial Results {'='*50}\")\n",
    "for result in all_results:\n",
    "    print(f\"Parameters: {result['params']}, Final Reconstruction Loss: {result['final_reconstruction_loss']:.4f}\")"
   ]
  },
  {
   "cell_type": "code",
   "execution_count": null,
   "id": "8bfe8567",
   "metadata": {},
   "outputs": [
    {
     "ename": "NameError",
     "evalue": "name 'all_results' is not defined",
     "output_type": "error",
     "traceback": [
      "\u001b[0;31m---------------------------------------------------------------------------\u001b[0m",
      "\u001b[0;31mNameError\u001b[0m                                 Traceback (most recent call last)",
      "Cell \u001b[0;32mIn[7], line 5\u001b[0m\n\u001b[1;32m      1\u001b[0m \u001b[38;5;66;03m# all_results\u001b[39;00m\n\u001b[1;32m      3\u001b[0m plt\u001b[38;5;241m.\u001b[39mfigure(figsize\u001b[38;5;241m=\u001b[39m(\u001b[38;5;241m12\u001b[39m, \u001b[38;5;241m8\u001b[39m))  \u001b[38;5;66;03m# Adjust figure size as needed\u001b[39;00m\n\u001b[0;32m----> 5\u001b[0m \u001b[38;5;28;01mfor\u001b[39;00m i, result \u001b[38;5;129;01min\u001b[39;00m \u001b[38;5;28menumerate\u001b[39m(\u001b[43mall_results\u001b[49m):\n\u001b[1;32m      6\u001b[0m     params_str \u001b[38;5;241m=\u001b[39m \u001b[38;5;124m\"\u001b[39m\u001b[38;5;124m, \u001b[39m\u001b[38;5;124m\"\u001b[39m\u001b[38;5;241m.\u001b[39mjoin([\u001b[38;5;124mf\u001b[39m\u001b[38;5;124m\"\u001b[39m\u001b[38;5;132;01m{\u001b[39;00mkey\u001b[38;5;132;01m}\u001b[39;00m\u001b[38;5;124m: \u001b[39m\u001b[38;5;132;01m{\u001b[39;00mvalue\u001b[38;5;132;01m:\u001b[39;00m\u001b[38;5;124m.1e\u001b[39m\u001b[38;5;132;01m}\u001b[39;00m\u001b[38;5;124m\"\u001b[39m \u001b[38;5;28;01mfor\u001b[39;00m key, value \u001b[38;5;129;01min\u001b[39;00m result[\u001b[38;5;124m'\u001b[39m\u001b[38;5;124mparams\u001b[39m\u001b[38;5;124m'\u001b[39m]\u001b[38;5;241m.\u001b[39mitems()])\n\u001b[1;32m      7\u001b[0m     plt\u001b[38;5;241m.\u001b[39mplot(result[\u001b[38;5;124m'\u001b[39m\u001b[38;5;124mall_losses\u001b[39m\u001b[38;5;124m'\u001b[39m], label\u001b[38;5;241m=\u001b[39m\u001b[38;5;124mf\u001b[39m\u001b[38;5;124m\"\u001b[39m\u001b[38;5;124mTrial \u001b[39m\u001b[38;5;132;01m{\u001b[39;00mi\u001b[38;5;241m+\u001b[39m\u001b[38;5;241m1\u001b[39m\u001b[38;5;132;01m}\u001b[39;00m\u001b[38;5;124m (\u001b[39m\u001b[38;5;132;01m{\u001b[39;00mparams_str\u001b[38;5;132;01m}\u001b[39;00m\u001b[38;5;124m)\u001b[39m\u001b[38;5;124m\"\u001b[39m, alpha\u001b[38;5;241m=\u001b[39m\u001b[38;5;241m0.6\u001b[39m)\n",
      "\u001b[0;31mNameError\u001b[0m: name 'all_results' is not defined"
     ]
    },
    {
     "data": {
      "text/plain": [
       "<Figure size 1200x800 with 0 Axes>"
      ]
     },
     "metadata": {},
     "output_type": "display_data"
    }
   ],
   "source": [
    "# all_results\n",
    "\n",
    "plt.figure(figsize=(12, 8))  # Adjust figure size as needed\n",
    "\n",
    "for i, result in enumerate(all_results):\n",
    "    params_str = \", \".join([f\"{key}: {value:.1e}\" for key, value in result['params'].items()])\n",
    "    plt.plot(result['all_losses'], label=f\"Trial {i+1} ({params_str})\", alpha=0.6)\n",
    "\n",
    "plt.title(\"Reconstruction loss for hyperparameter combinations\")\n",
    "plt.xlabel(\"Epoch\")\n",
    "plt.ylabel(\"Reconstruction Loss\")\n",
    "# plt.legend(fontsize='small')  # Adjust legend font size if needed\n",
    "plt.grid(True)\n",
    "plt.tight_layout()\n",
    "plt.show()"
   ]
  },
  {
   "cell_type": "code",
   "execution_count": 3,
   "id": "7f6b2b1c",
   "metadata": {},
   "outputs": [
    {
     "data": {
      "text/plain": [
       "(0.01204447471536696, 0.016086850315332413)"
      ]
     },
     "execution_count": 3,
     "metadata": {},
     "output_type": "execute_result"
    },
    {
     "data": {
      "image/png": "[encoded data removed]",
      "text/plain": [
       "<Figure size 640x480 with 1 Axes>"
      ]
     },
     "metadata": {},
     "output_type": "display_data"
    }
   ],
   "source": [
    "loss = ds[3]\n",
    "reconstruction_loss = ds[4]\n",
    "\n",
    "plt.plot(reconstruction_loss,  color='green')\n",
    "plt.xlabel('Epoch')\n",
    "plt.ylabel('Reconstruction loss')\n",
    "# plt.legend(['total', 'reconstruction', 'recon-disc'])\n",
    "plt.title('Autoencoder loss')\n",
    "\n",
    "np.min(reconstruction_loss), reconstruction_loss[-1]\n"
   ]
  },
  {
   "cell_type": "code",
   "execution_count": null,
   "id": "b0b0dc36",
   "metadata": {},
   "outputs": [
    {
     "data": {
      "application/vnd.jupyter.widget-view+json": {
       "model_id": "fa9c8d301f134511a33860dc3f23690a",
       "version_major": 2,
       "version_minor": 0
      },
      "text/plain": [
       "  0%|          | 0/600 [00:00<?, ?it/s]"
      ]
     },
     "metadata": {},
     "output_type": "display_data"
    }
   ],
   "source": [
    "# Diffusion Training\n",
    "\n",
    "latent_features= ds[1]\n",
    "time           = time_info.to(device).float()\n",
    "\n",
    "hidden_dim     = param.hidden_dim\n",
    "num_layers     = param.num_layers_diff\n",
    "diffusion_steps= param.diffusion_steps\n",
    "n_epochs       = param.n_epochs_diff\n",
    "\n",
    "num_classes    = len(latent_features)\n",
    "diff, losses   = tdf.train_diffusion(latent_features, time, hidden_dim, num_layers, diffusion_steps, n_epochs)\n",
    "\n",
    "\n",
    "# Sampling new data\n",
    "latent_features= ds[1]\n",
    "T              = latent_features.shape[1]\n",
    "time_duration  = []\n",
    "N, _, _        = latent_features.shape\n",
    "t_grid         = torch.linspace(0, 1, T).view(1, -1, 1).to(device) # Note that we can use different sequence length here without any issues\n",
    "samples        = tdf.sample(t_grid.repeat(N, 1, 1), latent_features.detach().to(device), diff, time)  \n",
    "\n",
    "\n",
    "# Post-process the generated data \n",
    "gen_output  = ds[0].decoder(samples.to(device))  # Apply decoder to generated latent vector\n",
    "\n",
    "data_size, seq_len, _ = latent_features.shape\n",
    "synth_data  = pce.convert_to_tensor(real_df1, gen_output, threshold, data_size, seq_len)\n",
    "_synth_data = pce.convert_to_table(real_df1, synth_data, threshold)\n",
    "\n",
    "\n",
    "# Draw the plots for marginal of features : Real v.s. Synthetic\n",
    "_real_data  = pce.convert_to_table(real_df1, processed_data, threshold)\n",
    "\n",
    "# To see if you want to check latent vectors recovered well.\n",
    "# B, L, K = latent_features.shape\n",
    "\n",
    "# pd_reshaped = latent_features.reshape(B * L, K)\n",
    "# sd_reshaped = samples.reshape(B * L, K)\n",
    "\n",
    "# To see if you want to check real-data are recovered well.\n",
    "B, L, K     = _synth_data.shape\n",
    "\n",
    "sd_reshaped = _synth_data.reshape(B * L, K)\n",
    "pd_reshaped = _real_data.reshape(B * L, K)\n",
    "\n",
    "real_df     = pd.DataFrame(pd_reshaped.numpy())\n",
    "synth_df    = pd.DataFrame(sd_reshaped.numpy())"
   ]
  },
  {
   "cell_type": "code",
   "execution_count": 49,
   "id": "48fb89ce",
   "metadata": {},
   "outputs": [
    {
     "data": {
      "image/png": "[encoded data removed]",
      "text/plain": [
       "<Figure size 1000x2000 with 8 Axes>"
      ]
     },
     "metadata": {},
     "output_type": "display_data"
    }
   ],
   "source": [
    "# np.mean(synth_df - real_df)\n",
    "\n",
    "short_df       = real_df.copy().iloc[:300]\n",
    "short_synth_df = synth_df.copy().iloc[:300]\n",
    "\n",
    "fig, axes = plt.subplots(8, 1, figsize=(10, 20))\n",
    "\n",
    "for i in range(8):\n",
    "    axes[i].plot(short_df.index, short_df.iloc[:, i], label='Real')\n",
    "    axes[i].plot(short_df.index, short_synth_df.iloc[:, i], label='Synth')\n",
    "    axes[i].set_title(f\"Col {i+1} plot\")\n",
    "    axes[i].legend()\n",
    "\n",
    "plt.tight_layout()\n",
    "plt.show()\n"
   ]
  },
  {
   "cell_type": "code",
   "execution_count": 5,
   "id": "5b0df771",
   "metadata": {},
   "outputs": [
    {
     "data": {
      "text/plain": [
       "array([[1.        , 0.        , 6.        , ..., 0.36178342, 0.3484531 ,\n",
       "        0.04214609],\n",
       "       [1.        , 0.        , 6.        , ..., 0.28659764, 0.24705194,\n",
       "        0.04142576],\n",
       "       [1.        , 0.        , 6.        , ..., 0.26242727, 0.321319  ,\n",
       "        0.04070542],\n",
       "       ...,\n",
       "       [1.        , 0.        , 3.        , ..., 0.28851825, 0.34672305,\n",
       "        0.16111593],\n",
       "       [1.        , 0.        , 3.        , ..., 0.27295035, 0.39071777,\n",
       "        0.16180271],\n",
       "       [1.        , 0.        , 3.        , ..., 0.3134074 , 0.35545287,\n",
       "        0.16338123]], dtype=float32)"
      ]
     },
     "execution_count": 5,
     "metadata": {},
     "output_type": "execute_result"
    }
   ],
   "source": [
    "parser = pce.DataFrameParser().fit(real_df1, threshold)\n",
    "data   = parser.transform()\n",
    "torch.tensor(data.astype('float32')).numpy()"
   ]
  },
  {
   "cell_type": "code",
   "execution_count": 6,
   "id": "e7455695",
   "metadata": {},
   "outputs": [
    {
     "data": {
      "text/plain": [
       "(2000, 8)"
      ]
     },
     "execution_count": 6,
     "metadata": {},
     "output_type": "execute_result"
    }
   ],
   "source": [
    "data.shape"
   ]
  },
  {
   "cell_type": "code",
   "execution_count": null,
   "id": "cf62366c",
   "metadata": {},
   "outputs": [
    {
     "name": "stdout",
     "output_type": "stream",
     "text": [
      "Data/AirQuality.csv\n"
     ]
    }
   ],
   "source": [
    "data     = 'AirQuality'\n",
    "filename = f'Data/{data}.csv'\n",
    "\n",
    "# Read dataframe\n",
    "print(filename)\n",
    "real_df  = pd.read_csv(filename)\n",
    "real_df1 = real_df.drop('date', axis=1).iloc[0:2000,:]\n",
    "\n",
    "_synth_data = torch.load(f'Data/AirQuality_synth.pt')\n",
    "_real_data  = torch.load(f'Data/AirQuality_real.pt')\n",
    "\n",
    "B, L, K = _real_data.shape\n",
    "\n",
    "sd_reshaped = _synth_data.reshape(B * L, K)\n",
    "pd_reshaped = _real_data.reshape(B * L, K)\n"
   ]
  },
  {
   "cell_type": "code",
   "execution_count": null,
   "id": "c953c465",
   "metadata": {},
   "outputs": [
    {
     "ename": "IndexError",
     "evalue": "index 8 is out of bounds for dimension 1 with size 8",
     "output_type": "error",
     "traceback": [
      "\u001b[0;31m---------------------------------------------------------------------------\u001b[0m",
      "\u001b[0;31mIndexError\u001b[0m                                Traceback (most recent call last)",
      "Cell \u001b[0;32mIn[7], line 9\u001b[0m\n\u001b[1;32m      6\u001b[0m fig, axes \u001b[38;5;241m=\u001b[39m plt\u001b[38;5;241m.\u001b[39msubplots(nrows\u001b[38;5;241m=\u001b[39m\u001b[38;5;241m1\u001b[39m, ncols\u001b[38;5;241m=\u001b[39m\u001b[38;5;241m13\u001b[39m, figsize\u001b[38;5;241m=\u001b[39m(\u001b[38;5;241m33.1\u001b[39m, \u001b[38;5;241m23.4\u001b[39m\u001b[38;5;241m/\u001b[39m\u001b[38;5;241m5\u001b[39m))\n\u001b[1;32m      8\u001b[0m \u001b[38;5;28;01mfor\u001b[39;00m k \u001b[38;5;129;01min\u001b[39;00m \u001b[38;5;28mrange\u001b[39m(\u001b[38;5;241m13\u001b[39m):\n\u001b[0;32m----> 9\u001b[0m     axes[k]\u001b[38;5;241m.\u001b[39mhist(\u001b[43mpd_reshaped\u001b[49m\u001b[43m[\u001b[49m\u001b[43m:\u001b[49m\u001b[43m,\u001b[49m\u001b[43m \u001b[49m\u001b[43mk\u001b[49m\u001b[43m]\u001b[49m\u001b[38;5;241m.\u001b[39mcpu()\u001b[38;5;241m.\u001b[39mdetach(), bins\u001b[38;5;241m=\u001b[39m\u001b[38;5;241m50\u001b[39m, color\u001b[38;5;241m=\u001b[39m\u001b[38;5;124m'\u001b[39m\u001b[38;5;124mblue\u001b[39m\u001b[38;5;124m'\u001b[39m, alpha\u001b[38;5;241m=\u001b[39m\u001b[38;5;241m0.5\u001b[39m, label\u001b[38;5;241m=\u001b[39m\u001b[38;5;124m'\u001b[39m\u001b[38;5;124mReal\u001b[39m\u001b[38;5;124m'\u001b[39m)\n\u001b[1;32m     10\u001b[0m     axes[k]\u001b[38;5;241m.\u001b[39mhist(sd_reshaped[:, k]\u001b[38;5;241m.\u001b[39mcpu()\u001b[38;5;241m.\u001b[39mdetach(), bins\u001b[38;5;241m=\u001b[39m\u001b[38;5;241m50\u001b[39m, color\u001b[38;5;241m=\u001b[39m\u001b[38;5;124m'\u001b[39m\u001b[38;5;124mred\u001b[39m\u001b[38;5;124m'\u001b[39m, alpha\u001b[38;5;241m=\u001b[39m\u001b[38;5;241m0.5\u001b[39m, label\u001b[38;5;241m=\u001b[39m\u001b[38;5;124m'\u001b[39m\u001b[38;5;124mSynthetic\u001b[39m\u001b[38;5;124m'\u001b[39m)\n\u001b[1;32m     12\u001b[0m     \u001b[38;5;66;03m# Adding legends\u001b[39;00m\n",
      "\u001b[0;31mIndexError\u001b[0m: index 8 is out of bounds for dimension 1 with size 8"
     ]
    },
    {
     "data": {
      "image/png": "[encoded data removed]",
      "text/plain": [
       "<Figure size 3310x468 with 13 Axes>"
      ]
     },
     "metadata": {},
     "output_type": "display_data"
    }
   ],
   "source": [
    "parser   = pce.DataFrameParser().fit(real_df1, threshold)\n",
    "col_name = parser.column_name()\n",
    "\n",
    "# Create subplots\n",
    "fig, axes = plt.subplots(nrows=1, ncols=13, figsize=(33.1, 23.4/5))\n",
    "\n",
    "for k in range(13):\n",
    "    axes[k].hist(pd_reshaped[:, k].cpu().detach(), bins=50, color='blue', alpha=0.5, label='Real')\n",
    "    axes[k].hist(sd_reshaped[:, k].cpu().detach(), bins=50, color='red', alpha=0.5, label='Synthetic')\n",
    "\n",
    "    # Adding legends\n",
    "    axes[k].legend()\n",
    "    axes[k].set_title(col_name[k], fontsize=15)\n",
    "    \n",
    "# Adjust layout to prevent overlapping\n",
    "plt.tight_layout()\n",
    "plt.subplots_adjust(wspace=0.4, hspace=0.4)  # Add space between histograms\n",
    "plt.savefig('hurricane.png', dpi=500)  # Adjust dpi as needed for quality\n",
    "plt.show()"
   ]
  },
  {
   "cell_type": "code",
   "execution_count": 22,
   "id": "966e9350",
   "metadata": {},
   "outputs": [
    {
     "data": {
      "text/plain": [
       "<Figure size 640x480 with 0 Axes>"
      ]
     },
     "metadata": {},
     "output_type": "display_data"
    }
   ],
   "source": [
    "plt.savefig('hurricane.png', dpi=500)  # Adjust dpi as needed for quality"
   ]
  }
 ],
 "metadata": {
  "kernelspec": {
   "display_name": "venv",
   "language": "python",
   "name": "python3"
  },
  "language_info": {
   "codemirror_mode": {
    "name": "ipython",
    "version": 3
   },
   "file_extension": ".py",
   "mimetype": "text/x-python",
   "name": "python",
   "nbconvert_exporter": "python",
   "pygments_lexer": "ipython3",
   "version": "3.10.11"
  }
 },
 "nbformat": 4,
 "nbformat_minor": 5
}
